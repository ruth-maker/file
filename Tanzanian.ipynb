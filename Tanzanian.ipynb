{
 "cells": [
  {
   "cell_type": "markdown",
   "metadata": {},
   "source": [
    "<p style='font-weight:bold'>This <span style='color:#fbec5d'>libary 'Pandas'</span> is uesd to read the data from CSV files and compute it into a dataframe.</p>"
   ]
  },
  {
   "cell_type": "code",
   "execution_count": 20,
   "metadata": {},
   "outputs": [],
   "source": [
    "import pandas as pd"
   ]
  },
  {
   "cell_type": "markdown",
   "metadata": {},
   "source": [
    "<p style='font-weight:bold'>The <span style='color:#fbec5d'>Train_Test_Split</span> is used to split the data in whatever porportion into testing and training when applying classifcation or predictive analysis from sklearn to predict the price of houses in this analysis.</p>"
   ]
  },
  {
   "cell_type": "code",
   "execution_count": 3,
   "metadata": {},
   "outputs": [],
   "source": [
    "from sklearn.model_selection import train_test_split"
   ]
  },
  {
   "cell_type": "markdown",
   "metadata": {},
   "source": [
    "<p style='font-weight:bold'>The <span style='color:#fbec5d'>Collections</span> is a built in <span style='color:#fbec5d'>Python module</span>, in this analysis it will be used to detect repatiton in a list.</p>"
   ]
  },
  {
   "cell_type": "code",
   "execution_count": 11,
   "metadata": {},
   "outputs": [],
   "source": [
    "from collections import Counter"
   ]
  },
  {
   "cell_type": "markdown",
   "metadata": {},
   "source": [
    "<p style='font-weight:bold'>This library <span style='color:#fbec5d'>'Numpy'</span> is a <span style='color:#fbec5d'>Python libary</span> that will be used in this analysis to create arrays.</p>"
   ]
  },
  {
   "cell_type": "code",
   "execution_count": 5,
   "metadata": {},
   "outputs": [],
   "source": [
    "import numpy as np"
   ]
  },
  {
   "cell_type": "markdown",
   "metadata": {},
   "source": [
    "<p style='font-weight:bold'><span style='color:#fbec5d'>Seaborn</span> is a <span style='color:#fbec5d'>library based on matplotblib</span> that will used for data visualization in this analysis.</p>"
   ]
  },
  {
   "cell_type": "code",
   "execution_count": 24,
   "metadata": {},
   "outputs": [],
   "source": [
    "import seaborn as sns"
   ]
  },
  {
   "cell_type": "markdown",
   "metadata": {},
   "source": [
    "<p style='font-weight:bold'><span style='color:#fbec5d'>Matplotlib</span> is a libary that will be used in this analysis for creating <span style='color:#fbec5d'>visualizations</span>.</p>"
   ]
  },
  {
   "cell_type": "code",
   "execution_count": 25,
   "metadata": {},
   "outputs": [],
   "source": [
    "import matplotlib.pyplot as plt"
   ]
  },
  {
   "cell_type": "markdown",
   "metadata": {},
   "source": [
    "<p style='font-weight:bold'>The <span style='color:#fbec5d'>'Math'</span> libary is a built-in <span style='color:#fbec5d'>python module</span> that does mathematical calculations.</p>"
   ]
  },
  {
   "cell_type": "code",
   "execution_count": 8,
   "metadata": {},
   "outputs": [],
   "source": [
    "import math"
   ]
  },
  {
   "cell_type": "markdown",
   "metadata": {},
   "source": [
    "<p style='font-weight:bold'><span style='color:#fbec5d'>Geopy</span> will be used to <span style='color:#fbec5d'>locate</span> the coordinates of <span style='color:#fbec5d'>addresses, cities, countries, and landmarks</span> based on the <span style='color:#fbec5d'>Longitude and Latitude</span> of each <span style='color:#fbec5d'>well's location</span> from the dataframe.</p>"
   ]
  },
  {
   "cell_type": "code",
   "execution_count": 13,
   "metadata": {},
   "outputs": [],
   "source": [
    "from geopy import Nominatim"
   ]
  },
  {
   "cell_type": "markdown",
   "metadata": {},
   "source": [
    "<p style='font-weight:bold'>The <span style='color:#fbec5d'>'%store'</span> helps <span style='color:#fbec5d'>store dataframes, list and any instance</span> so it dose not have to be complied or created again. It can easily be restored back.</p>"
   ]
  },
  {
   "cell_type": "code",
   "execution_count": 29,
   "metadata": {},
   "outputs": [
    {
     "name": "stdout",
     "output_type": "stream",
     "text": [
      "Stored 'tz_info' (DataFrame)\n",
      "Stored 'raw_info1' (DataFrame)\n",
      "Stored 'tz_z' (list)\n"
     ]
    }
   ],
   "source": [
    "%store  tz_info \n",
    "%store  raw_info1\n",
    "%store  tz_z"
   ]
  },
  {
   "cell_type": "markdown",
   "metadata": {},
   "source": [
    "<p style='font-weight:bold'>The <span style='color:#fbec5d'>'%store -r'</span> retrives the dataframes or any instance that was stored by the <span style='color:#fbec5d'>%store</span> method.</p>"
   ]
  },
  {
   "cell_type": "code",
   "execution_count": 2,
   "metadata": {},
   "outputs": [],
   "source": [
    "%store -r tz_info \n",
    "%store -r raw_info1\n",
    "%store -r tz_z"
   ]
  },
  {
   "cell_type": "markdown",
   "metadata": {},
   "source": [
    "<p style='font-weight:bold'>Reading the data from the <span style='color:#fbec5d'>'welldata1.csv'</span> csv file carries <span style='color:#fbec5d'>all the information about the wells in Tanzania</span> and made into a dataframe. This dataframe will be  called <span style='color:#fbec5d'>raw_info</span>.</p>"
   ]
  },
  {
   "cell_type": "code",
   "execution_count": 19,
   "metadata": {},
   "outputs": [],
   "source": [
    "### The data frame is called house_info\n",
    "raw_info1 = pd.read_csv(\"welldata1.csv\")#,error_bad_lines=False)\n",
    "pd.set_option('display.max_columns', None)"
   ]
  },
  {
   "cell_type": "markdown",
   "metadata": {},
   "source": [
    "<p style='font-weight:bold'>The <span style='color:#fbec5d'>'raw_info1'</span> dataframe.</p>"
   ]
  },
  {
   "cell_type": "code",
   "execution_count": 3,
   "metadata": {},
   "outputs": [
    {
     "data": {
      "text/html": [
       "<div>\n",
       "<style scoped>\n",
       "    .dataframe tbody tr th:only-of-type {\n",
       "        vertical-align: middle;\n",
       "    }\n",
       "\n",
       "    .dataframe tbody tr th {\n",
       "        vertical-align: top;\n",
       "    }\n",
       "\n",
       "    .dataframe thead th {\n",
       "        text-align: right;\n",
       "    }\n",
       "</style>\n",
       "<table border=\"1\" class=\"dataframe\">\n",
       "  <thead>\n",
       "    <tr style=\"text-align: right;\">\n",
       "      <th></th>\n",
       "      <th>id</th>\n",
       "      <th>amount_tsh</th>\n",
       "      <th>date_recorded</th>\n",
       "      <th>funder</th>\n",
       "      <th>gps_height</th>\n",
       "      <th>installer</th>\n",
       "      <th>longitude</th>\n",
       "      <th>latitude</th>\n",
       "      <th>wpt_name</th>\n",
       "      <th>num_private</th>\n",
       "      <th>...</th>\n",
       "      <th>payment_type</th>\n",
       "      <th>water_quality</th>\n",
       "      <th>quality_group</th>\n",
       "      <th>quantity</th>\n",
       "      <th>quantity_group</th>\n",
       "      <th>source</th>\n",
       "      <th>source_type</th>\n",
       "      <th>source_class</th>\n",
       "      <th>waterpoint_type</th>\n",
       "      <th>waterpoint_type_group</th>\n",
       "    </tr>\n",
       "  </thead>\n",
       "  <tbody>\n",
       "    <tr>\n",
       "      <th>0</th>\n",
       "      <td>50785</td>\n",
       "      <td>0.0</td>\n",
       "      <td>2013-02-04</td>\n",
       "      <td>Dmdd</td>\n",
       "      <td>1996</td>\n",
       "      <td>DMDD</td>\n",
       "      <td>35.290799</td>\n",
       "      <td>-4.059696</td>\n",
       "      <td>Dinamu Secondary School</td>\n",
       "      <td>0</td>\n",
       "      <td>...</td>\n",
       "      <td>never pay</td>\n",
       "      <td>soft</td>\n",
       "      <td>good</td>\n",
       "      <td>seasonal</td>\n",
       "      <td>seasonal</td>\n",
       "      <td>rainwater harvesting</td>\n",
       "      <td>rainwater harvesting</td>\n",
       "      <td>surface</td>\n",
       "      <td>other</td>\n",
       "      <td>other</td>\n",
       "    </tr>\n",
       "    <tr>\n",
       "      <th>1</th>\n",
       "      <td>51630</td>\n",
       "      <td>0.0</td>\n",
       "      <td>2013-02-04</td>\n",
       "      <td>Government Of Tanzania</td>\n",
       "      <td>1569</td>\n",
       "      <td>DWE</td>\n",
       "      <td>36.656709</td>\n",
       "      <td>-3.309214</td>\n",
       "      <td>Kimnyak</td>\n",
       "      <td>0</td>\n",
       "      <td>...</td>\n",
       "      <td>never pay</td>\n",
       "      <td>soft</td>\n",
       "      <td>good</td>\n",
       "      <td>insufficient</td>\n",
       "      <td>insufficient</td>\n",
       "      <td>spring</td>\n",
       "      <td>spring</td>\n",
       "      <td>groundwater</td>\n",
       "      <td>communal standpipe</td>\n",
       "      <td>communal standpipe</td>\n",
       "    </tr>\n",
       "    <tr>\n",
       "      <th>2</th>\n",
       "      <td>17168</td>\n",
       "      <td>0.0</td>\n",
       "      <td>2013-02-01</td>\n",
       "      <td>NaN</td>\n",
       "      <td>1567</td>\n",
       "      <td>NaN</td>\n",
       "      <td>34.767863</td>\n",
       "      <td>-5.004344</td>\n",
       "      <td>Puma Secondary</td>\n",
       "      <td>0</td>\n",
       "      <td>...</td>\n",
       "      <td>never pay</td>\n",
       "      <td>soft</td>\n",
       "      <td>good</td>\n",
       "      <td>insufficient</td>\n",
       "      <td>insufficient</td>\n",
       "      <td>rainwater harvesting</td>\n",
       "      <td>rainwater harvesting</td>\n",
       "      <td>surface</td>\n",
       "      <td>other</td>\n",
       "      <td>other</td>\n",
       "    </tr>\n",
       "    <tr>\n",
       "      <th>3</th>\n",
       "      <td>45559</td>\n",
       "      <td>0.0</td>\n",
       "      <td>2013-01-22</td>\n",
       "      <td>Finn Water</td>\n",
       "      <td>267</td>\n",
       "      <td>FINN WATER</td>\n",
       "      <td>38.058046</td>\n",
       "      <td>-9.418672</td>\n",
       "      <td>Kwa Mzee Pange</td>\n",
       "      <td>0</td>\n",
       "      <td>...</td>\n",
       "      <td>unknown</td>\n",
       "      <td>soft</td>\n",
       "      <td>good</td>\n",
       "      <td>dry</td>\n",
       "      <td>dry</td>\n",
       "      <td>shallow well</td>\n",
       "      <td>shallow well</td>\n",
       "      <td>groundwater</td>\n",
       "      <td>other</td>\n",
       "      <td>other</td>\n",
       "    </tr>\n",
       "    <tr>\n",
       "      <th>4</th>\n",
       "      <td>49871</td>\n",
       "      <td>500.0</td>\n",
       "      <td>2013-03-27</td>\n",
       "      <td>Bruder</td>\n",
       "      <td>1260</td>\n",
       "      <td>BRUDER</td>\n",
       "      <td>35.006123</td>\n",
       "      <td>-10.950412</td>\n",
       "      <td>Kwa Mzee Turuka</td>\n",
       "      <td>0</td>\n",
       "      <td>...</td>\n",
       "      <td>monthly</td>\n",
       "      <td>soft</td>\n",
       "      <td>good</td>\n",
       "      <td>enough</td>\n",
       "      <td>enough</td>\n",
       "      <td>spring</td>\n",
       "      <td>spring</td>\n",
       "      <td>groundwater</td>\n",
       "      <td>communal standpipe</td>\n",
       "      <td>communal standpipe</td>\n",
       "    </tr>\n",
       "    <tr>\n",
       "      <th>...</th>\n",
       "      <td>...</td>\n",
       "      <td>...</td>\n",
       "      <td>...</td>\n",
       "      <td>...</td>\n",
       "      <td>...</td>\n",
       "      <td>...</td>\n",
       "      <td>...</td>\n",
       "      <td>...</td>\n",
       "      <td>...</td>\n",
       "      <td>...</td>\n",
       "      <td>...</td>\n",
       "      <td>...</td>\n",
       "      <td>...</td>\n",
       "      <td>...</td>\n",
       "      <td>...</td>\n",
       "      <td>...</td>\n",
       "      <td>...</td>\n",
       "      <td>...</td>\n",
       "      <td>...</td>\n",
       "      <td>...</td>\n",
       "      <td>...</td>\n",
       "    </tr>\n",
       "    <tr>\n",
       "      <th>14845</th>\n",
       "      <td>39307</td>\n",
       "      <td>0.0</td>\n",
       "      <td>2011-02-24</td>\n",
       "      <td>Danida</td>\n",
       "      <td>34</td>\n",
       "      <td>Da</td>\n",
       "      <td>38.852669</td>\n",
       "      <td>-6.582841</td>\n",
       "      <td>Kwambwezi</td>\n",
       "      <td>0</td>\n",
       "      <td>...</td>\n",
       "      <td>never pay</td>\n",
       "      <td>soft</td>\n",
       "      <td>good</td>\n",
       "      <td>enough</td>\n",
       "      <td>enough</td>\n",
       "      <td>river</td>\n",
       "      <td>river/lake</td>\n",
       "      <td>surface</td>\n",
       "      <td>communal standpipe</td>\n",
       "      <td>communal standpipe</td>\n",
       "    </tr>\n",
       "    <tr>\n",
       "      <th>14846</th>\n",
       "      <td>18990</td>\n",
       "      <td>1000.0</td>\n",
       "      <td>2011-03-21</td>\n",
       "      <td>Hiap</td>\n",
       "      <td>0</td>\n",
       "      <td>HIAP</td>\n",
       "      <td>37.451633</td>\n",
       "      <td>-5.350428</td>\n",
       "      <td>Bonde La Mkondoa</td>\n",
       "      <td>0</td>\n",
       "      <td>...</td>\n",
       "      <td>annually</td>\n",
       "      <td>salty</td>\n",
       "      <td>salty</td>\n",
       "      <td>insufficient</td>\n",
       "      <td>insufficient</td>\n",
       "      <td>shallow well</td>\n",
       "      <td>shallow well</td>\n",
       "      <td>groundwater</td>\n",
       "      <td>hand pump</td>\n",
       "      <td>hand pump</td>\n",
       "    </tr>\n",
       "    <tr>\n",
       "      <th>14847</th>\n",
       "      <td>28749</td>\n",
       "      <td>0.0</td>\n",
       "      <td>2013-03-04</td>\n",
       "      <td>NaN</td>\n",
       "      <td>1476</td>\n",
       "      <td>NaN</td>\n",
       "      <td>34.739804</td>\n",
       "      <td>-4.585587</td>\n",
       "      <td>Bwawani</td>\n",
       "      <td>0</td>\n",
       "      <td>...</td>\n",
       "      <td>never pay</td>\n",
       "      <td>soft</td>\n",
       "      <td>good</td>\n",
       "      <td>insufficient</td>\n",
       "      <td>insufficient</td>\n",
       "      <td>dam</td>\n",
       "      <td>dam</td>\n",
       "      <td>surface</td>\n",
       "      <td>communal standpipe</td>\n",
       "      <td>communal standpipe</td>\n",
       "    </tr>\n",
       "    <tr>\n",
       "      <th>14848</th>\n",
       "      <td>33492</td>\n",
       "      <td>0.0</td>\n",
       "      <td>2013-02-18</td>\n",
       "      <td>Germany</td>\n",
       "      <td>998</td>\n",
       "      <td>DWE</td>\n",
       "      <td>35.432732</td>\n",
       "      <td>-10.584159</td>\n",
       "      <td>Kwa John</td>\n",
       "      <td>0</td>\n",
       "      <td>...</td>\n",
       "      <td>never pay</td>\n",
       "      <td>soft</td>\n",
       "      <td>good</td>\n",
       "      <td>insufficient</td>\n",
       "      <td>insufficient</td>\n",
       "      <td>river</td>\n",
       "      <td>river/lake</td>\n",
       "      <td>surface</td>\n",
       "      <td>communal standpipe</td>\n",
       "      <td>communal standpipe</td>\n",
       "    </tr>\n",
       "    <tr>\n",
       "      <th>14849</th>\n",
       "      <td>68707</td>\n",
       "      <td>0.0</td>\n",
       "      <td>2013-02-13</td>\n",
       "      <td>Government Of Tanzania</td>\n",
       "      <td>481</td>\n",
       "      <td>Government</td>\n",
       "      <td>34.765054</td>\n",
       "      <td>-11.226012</td>\n",
       "      <td>Kwa Mzee Chagala</td>\n",
       "      <td>0</td>\n",
       "      <td>...</td>\n",
       "      <td>never pay</td>\n",
       "      <td>soft</td>\n",
       "      <td>good</td>\n",
       "      <td>dry</td>\n",
       "      <td>dry</td>\n",
       "      <td>spring</td>\n",
       "      <td>spring</td>\n",
       "      <td>groundwater</td>\n",
       "      <td>communal standpipe</td>\n",
       "      <td>communal standpipe</td>\n",
       "    </tr>\n",
       "  </tbody>\n",
       "</table>\n",
       "<p>14850 rows × 40 columns</p>\n",
       "</div>"
      ],
      "text/plain": [
       "          id  amount_tsh date_recorded                  funder  gps_height  \\\n",
       "0      50785         0.0    2013-02-04                    Dmdd        1996   \n",
       "1      51630         0.0    2013-02-04  Government Of Tanzania        1569   \n",
       "2      17168         0.0    2013-02-01                     NaN        1567   \n",
       "3      45559         0.0    2013-01-22              Finn Water         267   \n",
       "4      49871       500.0    2013-03-27                  Bruder        1260   \n",
       "...      ...         ...           ...                     ...         ...   \n",
       "14845  39307         0.0    2011-02-24                  Danida          34   \n",
       "14846  18990      1000.0    2011-03-21                    Hiap           0   \n",
       "14847  28749         0.0    2013-03-04                     NaN        1476   \n",
       "14848  33492         0.0    2013-02-18                 Germany         998   \n",
       "14849  68707         0.0    2013-02-13  Government Of Tanzania         481   \n",
       "\n",
       "        installer  longitude   latitude                 wpt_name  num_private  \\\n",
       "0            DMDD  35.290799  -4.059696  Dinamu Secondary School            0   \n",
       "1             DWE  36.656709  -3.309214                  Kimnyak            0   \n",
       "2             NaN  34.767863  -5.004344           Puma Secondary            0   \n",
       "3      FINN WATER  38.058046  -9.418672           Kwa Mzee Pange            0   \n",
       "4          BRUDER  35.006123 -10.950412          Kwa Mzee Turuka            0   \n",
       "...           ...        ...        ...                      ...          ...   \n",
       "14845          Da  38.852669  -6.582841                Kwambwezi            0   \n",
       "14846        HIAP  37.451633  -5.350428         Bonde La Mkondoa            0   \n",
       "14847         NaN  34.739804  -4.585587                  Bwawani            0   \n",
       "14848         DWE  35.432732 -10.584159                 Kwa John            0   \n",
       "14849  Government  34.765054 -11.226012         Kwa Mzee Chagala            0   \n",
       "\n",
       "       ... payment_type water_quality quality_group      quantity  \\\n",
       "0      ...    never pay          soft          good      seasonal   \n",
       "1      ...    never pay          soft          good  insufficient   \n",
       "2      ...    never pay          soft          good  insufficient   \n",
       "3      ...      unknown          soft          good           dry   \n",
       "4      ...      monthly          soft          good        enough   \n",
       "...    ...          ...           ...           ...           ...   \n",
       "14845  ...    never pay          soft          good        enough   \n",
       "14846  ...     annually         salty         salty  insufficient   \n",
       "14847  ...    never pay          soft          good  insufficient   \n",
       "14848  ...    never pay          soft          good  insufficient   \n",
       "14849  ...    never pay          soft          good           dry   \n",
       "\n",
       "       quantity_group                source           source_type  \\\n",
       "0            seasonal  rainwater harvesting  rainwater harvesting   \n",
       "1        insufficient                spring                spring   \n",
       "2        insufficient  rainwater harvesting  rainwater harvesting   \n",
       "3                 dry          shallow well          shallow well   \n",
       "4              enough                spring                spring   \n",
       "...               ...                   ...                   ...   \n",
       "14845          enough                 river            river/lake   \n",
       "14846    insufficient          shallow well          shallow well   \n",
       "14847    insufficient                   dam                   dam   \n",
       "14848    insufficient                 river            river/lake   \n",
       "14849             dry                spring                spring   \n",
       "\n",
       "       source_class     waterpoint_type waterpoint_type_group  \n",
       "0           surface               other                 other  \n",
       "1       groundwater  communal standpipe    communal standpipe  \n",
       "2           surface               other                 other  \n",
       "3       groundwater               other                 other  \n",
       "4       groundwater  communal standpipe    communal standpipe  \n",
       "...             ...                 ...                   ...  \n",
       "14845       surface  communal standpipe    communal standpipe  \n",
       "14846   groundwater           hand pump             hand pump  \n",
       "14847       surface  communal standpipe    communal standpipe  \n",
       "14848       surface  communal standpipe    communal standpipe  \n",
       "14849   groundwater  communal standpipe    communal standpipe  \n",
       "\n",
       "[14850 rows x 40 columns]"
      ]
     },
     "execution_count": 3,
     "metadata": {},
     "output_type": "execute_result"
    }
   ],
   "source": [
    "raw_info1"
   ]
  },
  {
   "cell_type": "markdown",
   "metadata": {},
   "source": [
    "<p style='color:#00FFFF;font-weight:bold'>These are all the <span style=\"color:white\">critical informaton</span> and coulunms that will be needed from the <span style=\"color:white\">'raw_info'</span> dataframe to  train <span style=\"color:white\">classification models</span> that will  define how <span style=\"color:white\">functional each well</span> is. The dataframe consist of <span style=\"color:white\">40 columns</span> out of the 40 coulnms below will be <span style=\"color:white\">25 variables</span> that wll be used for this <span style=\"color:white\">classification analysis</span>.</p> \n",
    "\n",
    "\n",
    "<table style=\"display: inline-block;width:49%\" > \n",
    "       <tr><td>\n",
    "           <ul><li><i style=\"color:yellow\"><font size=3>The columns consist of the following information;</font></i></li>\n",
    "           <ul> <li><i ><font size=3>the <span style=\"color:#00FFFF\">amount_tsh</span> is the total <span style=\"color:yellow\">static head</span> available in each well</font></i></li>\n",
    "              <li><i ><font size=3>the  <span style=\"color:#00FFFF\">longitude</span> is the <span style=\"color:yellow\">GPS longitude</span> coordinate of each well </font></i></li>\n",
    "              <li><i ><font size=3> the  <span style=\"color:#00FFFF\">latitude</span> is the <span style=\"color:yellow\">GPS latitude</span> coordinate of each well  </font></i></li>\n",
    "              <li><i ><font size=3>the  <span style=\"color:#00FFFF\">gps_height</span> is the <span style=\"color:yellow\">altitude</span> of each well </font></i></li>\n",
    "              <li><i ><font size=3>the  <span style=\"color:#00FFFF\">water_quality</span> is the <span style=\"color:yellow\">quality of the water</span> at the waterpoint</font></i></li>\n",
    "              <li><i ><font size=3>the  <span style=\"color:#00FFFF\">quality_group</span> is the <span style=\"color:yellow\">group of the quality of the water</span> at the waterpoint</font></i></li>\n",
    "               <li><i ><font size=3>the <span style=\"color:#00FFFF\">quantity</span> is the <span style=\"color:yellow\">quantity type of water</span> at the waterpoint</font></i></li>\n",
    "              <li><i ><font size=3>the  <span style=\"color:#00FFFF\">quantity_group</span> is the <span style=\"color:yellow\">group of the quantity type</span> of water at the waterpoint </font></i></li>\n",
    "              <li><i ><font size=3> the  <span style=\"color:#00FFFF\">source</span> is the <span style=\"color:yellow\">source of the water</span> in the waterwell </font></i></li>\n",
    "              <li><i ><font size=3>the  <span style=\"color:#00FFFF\">source_type</span> is the <span style=\"color:yellow\">source of the water</span> in the waterwell </font></i></li>\n",
    "              <li><i ><font size=3>the  <span style=\"color:#00FFFF\">source_class</span> is the <span style=\"color:yellow\">source of the water</span> in the waterwell </font></i></li>\n",
    "              <li><i ><font size=3>the  <span style=\"color:#00FFFF\">waterpoint_type</span> is the <span style=\"color:yellow\">type of well</span> </font></i></li></ul></ul></tr></table>\n",
    "             \n",
    "             \n",
    " <table style=\"display: inline-block;width:49%\" > \n",
    "       <tr><td>\n",
    "           <ul> \n",
    "               <li><i ><font size=3>the  <span style=\"color:#00FFFF\">waterpoint_type_group</span> is the group of the <span style=\"color:yellow\">type of the well's waterpoint</span>  </font></i></li> \n",
    "              <li><i ><font size=3>the  <span style=\"color:#00FFFF\">basin</span> is the geographic water basin which is the <span style=\"color:yellow\">source of water</span> for the well </font></i></li>\n",
    "             <li><i ><font size=3>the  <span style=\"color:#00FFFF\">subvillage</span> is the <span style=\"color:yellow\">geographic location</span> of the well at <span style=\"color:yellow\">subvillage level</span> </font></i></li>\n",
    "              <li><i ><font size=3> the  <span style=\"color:#00FFFF\">region_code</span> is the <span style=\"color:yellow\">geographic location</span> of the well at <span style=\"color:yellow\">region level</span> </font></i></li>\n",
    "              <li><i ><font size=3>the  <span style=\"color:#00FFFF\">district_code</span> is the <span style=\"color:yellow\">geographic location</span> of the well at <span style=\"color:yellow\">district level</span>  </font></i></li>\n",
    "              <li><i ><font size=3>the  <span style=\"color:#00FFFF\">region</span> is the <span style=\"color:yellow\">geographic location</span> of the well at <span style=\"color:yellow\">region level</span> </font></i></li>\n",
    "               <li><i ><font size=3>the  <span style=\"color:#00FFFF\">payment</span> is how <span style=\"color:yellow\">users pay</span> for use of the well </font></i></li>\n",
    "               <li><i ><font size=3>the  <span style=\"color:#00FFFF\">extraction_type_class</span> is the <span style=\"color:yellow\">class of extraction</span> the waterpoint uses </font></i></li>\n",
    "               <li><i ><font size=3>the  <span style=\"color:#00FFFF\">management_group</span> is how the <span style=\"color:yellow\">waterpoint is managed</span> </font></i></li>\n",
    "               <li><i ><font size=3>the  <span style=\"color:#00FFFF\">construction_year</span> is the <span style=\"color:yellow\">year</span> the well was <span style=\"color:yellow\">constructed</span> </font></i></li>\n",
    "               <li><i ><font size=3>the  <span style=\"color:#00FFFF\">permit</span> is a <span style=\"color:yellow\">boolean</span> if the well <span style=\"color:yellow\">is permitted</span> </font></i></li>\n",
    "               <li><i ><font size=3>the  <span style=\"color:#00FFFF\">population</span> is the <span style=\"color:yellow\">population</span> around the <span style=\"color:yellow\">well</span> </font></i></li>\n",
    "               <li><i ><font size=3>the  <span style=\"color:#00FFFF\">public_meeting</span> is a <span style=\"color:yellow\">boolean</span> if a <span style=\"color:yellow\">meeting</span> was held </font></i></li>\n",
    "           </ul></tr></table>"
   ]
  },
  {
   "cell_type": "markdown",
   "metadata": {},
   "source": [
    "<p style='font-weight:bold'>Getting the <span style='color:#fbec5d'>GPS Longitude</span> from the <span style='color:#fbec5d'>'raw_info1'</span> dataframe to help get the <span style='color:#fbec5d'>location of each well</span>.</p>"
   ]
  },
  {
   "cell_type": "code",
   "execution_count": 26,
   "metadata": {},
   "outputs": [],
   "source": [
    "long = raw_info1[\"longitude\"]"
   ]
  },
  {
   "cell_type": "markdown",
   "metadata": {},
   "source": [
    "<p style='font-weight:bold'>Turning the <span style='color:#fbec5d'>'long'</span> series into a <span style='color:#fbec5d'>list</span>.</p>"
   ]
  },
  {
   "cell_type": "code",
   "execution_count": 27,
   "metadata": {},
   "outputs": [],
   "source": [
    "long = list(long)"
   ]
  },
  {
   "cell_type": "markdown",
   "metadata": {},
   "source": [
    "<p style='font-weight:bold'>Getting the <span style='color:#fbec5d'>GPS Latitude</span> from the <span style='color:#fbec5d'>'raw_info1'</span> dataframe to help get the <span style='color:#fbec5d'>location of each well</span>.</p>"
   ]
  },
  {
   "cell_type": "code",
   "execution_count": 24,
   "metadata": {},
   "outputs": [],
   "source": [
    "lat = raw_info1[\"latitude\"]"
   ]
  },
  {
   "cell_type": "markdown",
   "metadata": {},
   "source": [
    "<p style='font-weight:bold'>Turning the <span style='color:#fbec5d'>'lat'</span> series into a <span style='color:#fbec5d'>list</span>.</p>"
   ]
  },
  {
   "cell_type": "code",
   "execution_count": 25,
   "metadata": {},
   "outputs": [],
   "source": [
    "lat = list(lat)"
   ]
  },
  {
   "cell_type": "markdown",
   "metadata": {},
   "source": [
    "<p style='font-weight:bold'><span style='color:#fbec5d'>Initialize Nominatim API</span>, to use it to get the <span style='color:#fbec5d'>location of each well</span>.</p>"
   ]
  },
  {
   "cell_type": "code",
   "execution_count": 23,
   "metadata": {},
   "outputs": [],
   "source": [
    "geolocator = Nominatim(user_agent=\"geoapiExercises\")"
   ]
  },
  {
   "cell_type": "markdown",
   "metadata": {},
   "source": [
    "<p style='font-weight:bold'>The code below takes the <span style='color:#fbec5d'>GPS Longitude</span> and the <span style='color:#fbec5d'>GPS Latitude</span> of each well from the lists <span style='color:#fbec5d'>'lat'</span> and <span style='color:#fbec5d'>'long'</span> to get the <span style='color:#fbec5d'>zone, town, village, neighbourhood, state and region of each well</span> using a for loop . By  storing the <span style='color:#fbec5d'>'geolocator.reverse'</span> in a variable called <span style='color:#fbec5d'>'location'</span> and then calling the <span style='color:#fbec5d'>'location.raw'</span> instance to get all the <span style='color:#fbec5d'>infromation</span> needed.</p>"
   ]
  },
  {
   "cell_type": "code",
   "execution_count": 8,
   "metadata": {
    "tags": []
   },
   "outputs": [],
   "source": [
    "tz_z = []\n",
    "for i in range(14850):\n",
    "    location = geolocator.reverse(str(lat[i])+\",\"+str(long[i]))# Latitude & Longitude input\n",
    "    if location is None :\n",
    "        tz_z.append('Unkown, Tanzania')\n",
    "        continue \n",
    "    address = location.raw['address']\n",
    "    if 'town' in address:\n",
    "        tz_z.append(address.get('town', '')+\", \"+'twon'+\", \"+address.get('region', '')\n",
    "                               +\", \"+address.get('country', ''))\n",
    "    elif 'village' in address:\n",
    "        tz_z.append(address.get('village', '')+\", \"+'village'+\", \"+address.get('region', '')\n",
    "                               +\", \"+address.get('country', ''))\n",
    "    elif 'neighbourhood' in address:\n",
    "        tz_z.append(address.get('neighbourhood', '')+\", \"+'neighbourhood'+\", \"+address.get('region', '')\n",
    "                               +\", \"+address.get('country', ''))                      \n",
    "    elif 'state' in address:\n",
    "        tz_z.append(address.get('state', '')+\", \"+'state'+\", \"+address.get('region', '')\n",
    "                               +\", \"+address.get('country', ''))\n",
    "    elif 'region' in address:\n",
    "        tz_z.append(address.get('region', '')+\", \"+'region'+\", \"+address.get('region', '')\n",
    "                               +\", \"+address.get('country', '')) \n",
    "    else:tz_z.append(i)"
   ]
  },
  {
   "cell_type": "markdown",
   "metadata": {},
   "source": [
    "<p style='font-weight:bold'>All the <span style='color:#fbec5d'>information</span> was <span style='color:#fbec5d'>appended to a list</span> called <span style='color:#fbec5d'>'tz_z'</span>. Below shows the <span style='color:#fbec5d'>lenght</span> of the <span style='color:#fbec5d'>list having 14850</span>, which shows that all of the <span style='color:#fbec5d'>wells location</span> was founded and <span style='color:#fbec5d'>stored</span> accordingly.</p>"
   ]
  },
  {
   "cell_type": "code",
   "execution_count": 197,
   "metadata": {
    "tags": []
   },
   "outputs": [
    {
     "data": {
      "text/plain": [
       "14850"
      ]
     },
     "execution_count": 197,
     "metadata": {},
     "output_type": "execute_result"
    }
   ],
   "source": [
    "len(tz_z)"
   ]
  },
  {
   "cell_type": "markdown",
   "metadata": {},
   "source": [
    "<p style='font-weight:bold'>One of the wells <span style='color:#fbec5d'>GPS coordinates</span> was <span style='color:#fbec5d'>not valid</span> so the <span style='color:#fbec5d'>right location was added</span> to the <span style='color:#fbec5d'>'tz_z'</span> list.</p>"
   ]
  },
  {
   "cell_type": "code",
   "execution_count": 5,
   "metadata": {},
   "outputs": [],
   "source": [
    "tz_z[9824] = 'Mafia Island Marine Park, park, Southern Highlands Zone, Tanzania'"
   ]
  },
  {
   "cell_type": "markdown",
   "metadata": {},
   "source": [
    "<p style='font-weight:bold'>This shows that the <span style='color:#fbec5d'>location was added</span> accordingly to the <span style='color:#fbec5d'>'tz_z'</span> list with an index of <span style='color:#fbec5d'>9824</span>.</p>"
   ]
  },
  {
   "cell_type": "code",
   "execution_count": 6,
   "metadata": {
    "tags": []
   },
   "outputs": [
    {
     "data": {
      "text/plain": [
       "'Mafia Island Marine Park, park, Southern Highlands Zone, Tanzania'"
      ]
     },
     "execution_count": 6,
     "metadata": {},
     "output_type": "execute_result"
    }
   ],
   "source": [
    "tz_z[9824]"
   ]
  },
  {
   "cell_type": "markdown",
   "metadata": {},
   "source": [
    "<p style='font-weight:bold'>Below the information on the <span style='color:#fbec5d'>location of each well</span> will be seperated from the <span style='color:#fbec5d'>'tz_z'</span> list and be appended to <span style='color:#fbec5d'>three list</span> called <span style='color:#fbec5d'>'place1', 'place2' and 'place3'</span>. The first list <span style='color:#fbec5d'>'place1'</span> has all the <span style='color:#fbec5d'>names of the specfic location</span> each well is located in. The second list <span style='color:#fbec5d'>'place2'</span> has all the <span style='color:#fbec5d'>specific type of location</span> each well is located. The third list <span style='color:#fbec5d'>'place3'</span> has all the <span style='color:#fbec5d'>zones each well</span> is located in.</p>"
   ]
  },
  {
   "cell_type": "code",
   "execution_count": 31,
   "metadata": {
    "tags": []
   },
   "outputs": [],
   "source": [
    "place1 = []\n",
    "place2 = []\n",
    "place3 = []\n",
    "for i in tz_z:\n",
    "    no = i.count(',')\n",
    "    x = i.split(',')\n",
    "    if no == 3:\n",
    "        place1.append(x[0])\n",
    "        place2.append(x[1])\n",
    "        place3.append(x[2]) \n",
    "    elif no == 4:\n",
    "        place1.append(x[0]+\", \"+x[1])\n",
    "        place2.append(x[2])\n",
    "        place3.append(x[3])\n",
    "    else:\n",
    "        place1.append('unkown')\n",
    "        place2.append('unkown')\n",
    "        place3.append('unkown') "
   ]
  },
  {
   "cell_type": "markdown",
   "metadata": {},
   "source": [
    "<p style='font-weight:bold'>The <span style='color:#fbec5d'>three list</span> are then taken and made into a <span style='color:#fbec5d'>dataframe</span> called <span style='color:#fbec5d'>'tz_info'</span>.</p>"
   ]
  },
  {
   "cell_type": "code",
   "execution_count": 32,
   "metadata": {},
   "outputs": [],
   "source": [
    "tz_info = pd.DataFrame({'Name':place1,'Type':place2,'Zone':place3})"
   ]
  },
  {
   "cell_type": "markdown",
   "metadata": {},
   "source": [
    "<p style='font-weight:bold'>This is the <span style='color:#fbec5d'>'tz_info'</span> dataframe with a colunm called <span style='color:#fbec5d'>'Name'</span> which is the <span style='color:#fbec5d'>name of the location</span> of each well, a colunm named <span style='color:#fbec5d'>'Type'</span> which is the the <span style='color:#fbec5d'>specfic type of the location</span> of each wells lcoation and the colunm called <span style='color:#fbec5d'>'Zone'</span> is the <span style='color:#fbec5d'>zone where each well</span> is located in.</p>"
   ]
  },
  {
   "cell_type": "code",
   "execution_count": 33,
   "metadata": {},
   "outputs": [
    {
     "data": {
      "text/html": [
       "<div>\n",
       "<style scoped>\n",
       "    .dataframe tbody tr th:only-of-type {\n",
       "        vertical-align: middle;\n",
       "    }\n",
       "\n",
       "    .dataframe tbody tr th {\n",
       "        vertical-align: top;\n",
       "    }\n",
       "\n",
       "    .dataframe thead th {\n",
       "        text-align: right;\n",
       "    }\n",
       "</style>\n",
       "<table border=\"1\" class=\"dataframe\">\n",
       "  <thead>\n",
       "    <tr style=\"text-align: right;\">\n",
       "      <th></th>\n",
       "      <th>Name</th>\n",
       "      <th>Type</th>\n",
       "      <th>Zone</th>\n",
       "    </tr>\n",
       "  </thead>\n",
       "  <tbody>\n",
       "    <tr>\n",
       "      <th>0</th>\n",
       "      <td>Manyara</td>\n",
       "      <td>state</td>\n",
       "      <td>Northern Zone</td>\n",
       "    </tr>\n",
       "    <tr>\n",
       "      <th>1</th>\n",
       "      <td>Olmotonyi Ward</td>\n",
       "      <td>village</td>\n",
       "      <td>Northern Zone</td>\n",
       "    </tr>\n",
       "    <tr>\n",
       "      <th>2</th>\n",
       "      <td>Puma</td>\n",
       "      <td>twon</td>\n",
       "      <td>Central Zone</td>\n",
       "    </tr>\n",
       "    <tr>\n",
       "      <th>3</th>\n",
       "      <td>Mkutano</td>\n",
       "      <td>village</td>\n",
       "      <td>Coastal Zone</td>\n",
       "    </tr>\n",
       "    <tr>\n",
       "      <th>4</th>\n",
       "      <td>Lusonga</td>\n",
       "      <td>village</td>\n",
       "      <td>Southern Highlands Zone</td>\n",
       "    </tr>\n",
       "    <tr>\n",
       "      <th>...</th>\n",
       "      <td>...</td>\n",
       "      <td>...</td>\n",
       "      <td>...</td>\n",
       "    </tr>\n",
       "    <tr>\n",
       "      <th>14845</th>\n",
       "      <td>Yombo</td>\n",
       "      <td>village</td>\n",
       "      <td>Coastal Zone</td>\n",
       "    </tr>\n",
       "    <tr>\n",
       "      <th>14846</th>\n",
       "      <td>Elerai</td>\n",
       "      <td>village</td>\n",
       "      <td>Northern Zone</td>\n",
       "    </tr>\n",
       "    <tr>\n",
       "      <th>14847</th>\n",
       "      <td>Ughandi B</td>\n",
       "      <td>village</td>\n",
       "      <td>Central Zone</td>\n",
       "    </tr>\n",
       "    <tr>\n",
       "      <th>14848</th>\n",
       "      <td>Magazini</td>\n",
       "      <td>village</td>\n",
       "      <td>Southern Highlands Zone</td>\n",
       "    </tr>\n",
       "    <tr>\n",
       "      <th>14849</th>\n",
       "      <td>Mbuyula</td>\n",
       "      <td>village</td>\n",
       "      <td>Southern Highlands Zone</td>\n",
       "    </tr>\n",
       "  </tbody>\n",
       "</table>\n",
       "<p>14850 rows × 3 columns</p>\n",
       "</div>"
      ],
      "text/plain": [
       "                 Name      Type                      Zone\n",
       "0             Manyara     state             Northern Zone\n",
       "1      Olmotonyi Ward   village             Northern Zone\n",
       "2                Puma      twon              Central Zone\n",
       "3             Mkutano   village              Coastal Zone\n",
       "4             Lusonga   village   Southern Highlands Zone\n",
       "...               ...       ...                       ...\n",
       "14845           Yombo   village              Coastal Zone\n",
       "14846          Elerai   village             Northern Zone\n",
       "14847       Ughandi B   village              Central Zone\n",
       "14848        Magazini   village   Southern Highlands Zone\n",
       "14849         Mbuyula   village   Southern Highlands Zone\n",
       "\n",
       "[14850 rows x 3 columns]"
      ]
     },
     "execution_count": 33,
     "metadata": {},
     "output_type": "execute_result"
    }
   ],
   "source": [
    "tz_info"
   ]
  },
  {
   "cell_type": "markdown",
   "metadata": {},
   "source": [
    "<p style='font-weight:bold'>The <span style='color:#fbec5d'>.value_counts()</span> instance shows how many times an <span style='color:#fbec5d'>element shows up repeatly</span>. Below <span style='color:#fbec5d'>3,352 wells</span> in this dataset are <span style='color:#fbec5d'>located in the Southern Highlands zone</span> in Tanzania, <span style='color:#fbec5d'>2,984 wells</span> in this dataset are located in the <span style='color:#fbec5d'>Lake Zone</span> zone in Tanzania, <span style='color:#fbec5d'>2,892 wells</span> in this dataset are located in the <span style='color:#fbec5d'>Northern Zone</span> zone in Tanzania, <span style='color:#fbec5d'>2,726 wells</span> in this dataset are located in the <span style='color:#fbec5d'>Coastal Zone</span> zone in Tanzania, <span style='color:#fbec5d'>1,533 wells</span> in this dataset are located in the <span style='color:#fbec5d'>Central Zone</span> zone in Tanzania, <span style='color:#fbec5d'>890 wells</span> in this dataset are located in the <span style='color:#fbec5d'>Western Zone</span> zone in Tanzania, <span style='color:#fbec5d'>458 of the wells</span> in this dataset <span style='color:#fbec5d'>zones are unkown</span> and <span style='color:#fbec5d'>15 of the wells</span> in this dataset zones <span style='color:#fbec5d'>did not show anything</span>.</p>"
   ]
  },
  {
   "cell_type": "code",
   "execution_count": 674,
   "metadata": {},
   "outputs": [
    {
     "data": {
      "text/plain": [
       " Southern Highlands Zone    3352\n",
       " Lake Zone                  2984\n",
       " Northern Zone              2892\n",
       " Coastal Zone               2726\n",
       " Central Zone               1533\n",
       " Western Zone                890\n",
       "unkown                       458\n",
       "                              15\n",
       "Name: Zone, dtype: int64"
      ]
     },
     "execution_count": 674,
     "metadata": {},
     "output_type": "execute_result"
    }
   ],
   "source": [
    "tz_info['Zone'].value_counts()"
   ]
  },
  {
   "cell_type": "markdown",
   "metadata": {},
   "source": [
    "<h2 style=\"color:#00FFFF\" >1. Static Head</h2>"
   ]
  },
  {
   "cell_type": "markdown",
   "metadata": {},
   "source": [
    "There will be 18 variables that will be used to classy how functional or if the wells in Tanzania are functional at all. Static head will be the first and one of the variables among 40 of the variables from the dataset that will be used to classfy if the wells in Tanzania are functional. \n",
    "\n",
    "<p><span style='font-weight:bold;color:#fbec5d'>What is Static Head?:</span><br>\n",
    "Static head is equivalent to the vertical distance from a given streamtube to the piezometric head line or hydraulic gradient line. Static head also known as vertical lift, is the height water has to travel as it moves through your discharge pipe. To estimate this, measuring the vertical distance from where water enters the sump pump to where the discharge pipe turns vertical to horizontal. Static head has two components, Static Lift and Static Discharge. Static Lift is the measurements of  the elevation difference between the water source to the pump, while Static Discharge is the measurement of the elevation difference between the discharge point to the pump.</p>\n",
    "\n",
    "<p><span style='font-weight:bold;color:#fbec5d'>How does Static Head effect the functionality of a well?:</span><br> A wells functionality is influenced by serval components, from the nature of the ground level from which the water is being pumped out from the altitude of the well, the diameter of the waterpiont, the pumping rate, etc. sometimes wells are seen as somthing that can have unlimited high performance levels, in some cases that can be accompliched if the components of the well is up to pare and meets the requirements to have a healthy functional well. The first components that will be looked at is Static Head. Like previously explained Satic Head is the height that water has to travel as it moves through the discharge pipe and a discharge pipe is the amount of fluid passing a section of a stream in a unit. \n",
    "    \n",
    "<span style='font-weight:bold;color:#00FFFF'>How does Static Head effect the functionality of a well?</span> One way that Static Head can effect the functioanlity of the well is that, as the height of the Static Head increases the more the pump as to work harder to push the water out through the discharge piping. If the distance of the Static Head decreases the less work the the discharge piping has to do to push the water out the streaming unit, however this may cause the person who is trying to pump the water out to apply too much pressure to the well. This is all measured by something called Static Head Pressure or Head Pressure.  \n",
    "    \n",
    "<span style='font-weight:bold;color:#00FFFF'>What is Static Head Pressure or Head Pressure?</span> Static Head Pressure is the water pressure measured at the bottom of a column (static head) of the water when the well is at rest and fully recovered. \n",
    "    \n",
    "<span style='font-weight:bold;color:#00FFFF'>What's the Water Pressure at the bottom of a well?</span> The water pressure at the bottom of the well is measured in PSI or or pounds per square inch, and represents the force at which water leaves through the Static Discharge.\n",
    "    \n",
    "Ultimately Static Head Pressure is the PSI of water pressure at the base of a column (static head) of water of height in feet = H x 0.433 psi. This means that pressure at the bottom of the well increases by 0.433 psi per foot of the height of the water or per foot of the height of the Static Head. For Example: If the well's has a Static Head of 100 feet, the water pressure or Static Head Pressure of the Static Head = static head pressure would be 100 x 0.433 = 43.3 psi. \n",
    "    \n",
    "<span style='font-weight:bold;color:#00FFFF'>How does Water Pressure effect the functionality of a well?</span> Water pressure is measured in PSI or Pounds Per Square Inch and represents the force at whcih water leaves the well. Too much water pressure could demage the well's pipping which can cause leaks or very little water pressure can cause the well to over work itslef to pump the water out. Having adequate water pressure is essential as people at the water well do not have to apply to muc pressure to the pump or the well does is have to apply as much presure in pushing out the water which could demange the well. Too much water pressure is dangerious as it increases the risk of damaging the pipes, joints, seals, fixtures in the Tazinna wells which could also lead to water waste. While too much pressure could potentially cause a leak it can also weaken the pipes increasing the chances of leaks or failure. Checking the water pressure is a simple way to avoid the dysfunctionality of a well. \n",
    "    \n",
    "Normal PSI for a piping system is between 30 and 80 PSI. The aim is to have a PSI between 40-60 for a well.\n",
    "</p>\n",
    "    \n",
    "<p><span style='font-weight:bold;color:#fbec5d'>How do you classify what a good Static Head is and what a bad Static Head is?:</span><br> Now that we know that multiplying the Static Head by 0.433 will give you the PSI which is the Water Pressure of the well. In order to have a healthy functional well having the PSI between 40 and 60 is ideal. So in order to classify if the Satic Head is good, intermidate or bad, mulitplying is by 0.433 will give you the Water pressure which has to be beyween 40-60 to be classified as a good Static Head.\n",
    "    \n",
    "If multiply the Satic Head by 0.433 gives you a PSI of 43-52 means the water pressure is Good. Meaning the water pressure is great, it will not cause any damages or leaks to the pipes.\n",
    "If multiply the Satic Head by 0.433 gives you a PSI of 26- 42 or a PSI of 53-82 means the water pressure is intermediate. Meaning the water pressure is okay, it may not cause any damages or leaks to the pipes but if the water pressure is not adjusted to it could cause leaking eventually. If multiply the Satic Head by 0.433 gives you a PSI of 25 or below means the water pressure is too low causing stress to the pump to pump the water out  or if the Static Head gives you a PSI of 82 or above means the water pressure is too high potentially causing leaks in the pipes. Ergo having a Static Head that give you a PSI of of 25 or below or a PSI above 82 will be classified as a Bad Staic Head.</p>\n",
    "    \n",
    "This is a more detailed discription of how the Static Head will be Calssified:\n",
    "<li>In order to have a Good PSI (water pressure) of 45psi - 52psi the Static Head needs to be 100ft-120ft, ergo having a Stctic Head of 100ft-120ft is considered a Good Static Head.</li>\n",
    "<li>In order to have an Intermidate PSI (water pressure) of 26psi - 42psi or a PSI of 53psi - 82psi the Static Head needs to be 60ft-99ft or a Static Head of 130ft-190ft, ergo having a Stctic Head of 60ft-99ft or 130ft-190ft  is considered a Intermidate Static Head.</li>\n",
    "<li>In order to have a Bad PSI (water pressure) of 0.433psi - 25psi or a PSI that is above 82psi the Static Head needs to be 0ft-59ft or a Static Head that is above 190ft, ergo having a Stctic Head of 0ft-59ft and a Static Head that is above 190ft is considered a Bad Static Head.</li><br>\n",
    "\n",
    "<p><span style='font-weight:bold;color:#fbec5d'>Conclusion:</span><br>\n",
    "As stated earlier a Good Static Head is between 100ft-120ft, an Intermediate Static Head is between 60ft-99ft or between 130ft-190ft and a Bad Static Head is between 0ft-59ft. Now that we havw classified what a Good, Intermeidate and Bad Static Head is, below a dataframe will be created with all the wells Static Head and their classification through looping over each well's Static Head  checking what category they fall on based on their Static Head through a for loop and a if statement. \n",
    "</p>"
   ]
  },
  {
   "cell_type": "markdown",
   "metadata": {},
   "source": [
    "<p style='font-weight:bold'>Storing all the <span style='color:#fbec5d'>Static Head of each well</span> located in Tanzania to the <span style='color:#fbec5d'>'amount_tsh3'</span> list.</p>"
   ]
  },
  {
   "cell_type": "code",
   "execution_count": 39,
   "metadata": {},
   "outputs": [],
   "source": [
    "amount_tsh3 = raw_info[\"amount_tsh\"]"
   ]
  },
  {
   "cell_type": "markdown",
   "metadata": {},
   "source": [
    "<p style='font-weight:bold'>Using a <span style='color:#fbec5d'>for loop</span> to loop <span style='color:#fbec5d'>through all the Static Head</span> of each well to <span style='color:#fbec5d'>classify</span> with an <span style='color:#fbec5d'>if statement</span> if the Static Head is a <span style='color:#fbec5d'>Good Static Head, Intermediate Static Head or a Bad Static Head</span>. This will be stored in a list called <span style='color:#fbec5d'>'qualification'</span>.</p>"
   ]
  },
  {
   "cell_type": "code",
   "execution_count": 40,
   "metadata": {
    "scrolled": true
   },
   "outputs": [
    {
     "data": {
      "text/plain": [
       "14850"
      ]
     },
     "execution_count": 40,
     "metadata": {},
     "output_type": "execute_result"
    }
   ],
   "source": [
    "qualification = []\n",
    "for number in amount_tsh3:\n",
    "    if  0 <= number <= 59 or  189 <= number :\n",
    "        qualification.append('Bad Static Head: 0-59 or over 189')\n",
    "    if  100 <= number <= 120:\n",
    "        qualification.append('Good Static Head: 100-120')\n",
    "    if 60 <= number <= 99 or 130 <= number <= 190:\n",
    "        qualification.append('Intermediate Static Head: 60-100 or 130-190')\n",
    "len(qualification)"
   ]
  },
  {
   "cell_type": "markdown",
   "metadata": {},
   "source": [
    "<p style='font-weight:bold'>Careating a <span style='color:#fbec5d'>dataframe</span> called <span style='color:#fbec5d'>'df'</span> that consist of a <span style='color:#fbec5d'> column</span> called <span style='color:#fbec5d'>'Amount_tsh'</span> which shows the <span style='color:#fbec5d'>hieght</span> of the <span style='color:#fbec5d'>Static Head</span> and a <span style='color:#fbec5d'> column</span> called <span style='color:#fbec5d'>'Static Head'</span> which <span style='color:#fbec5d'>classifies</span> whether the Static Head is <span style='color:#fbec5d'>Good, Intermediate or Bad</span>.</p>"
   ]
  },
  {
   "cell_type": "code",
   "execution_count": 203,
   "metadata": {},
   "outputs": [],
   "source": [
    "df = pd.DataFrame({'Amount_tsh':amount_tsh3,'Static Head':qualification})"
   ]
  },
  {
   "cell_type": "markdown",
   "metadata": {},
   "source": [
    "<p style='font-weight:bold'>This is the <span style='color:#fbec5d'>'df'</span> dataframe.</p>"
   ]
  },
  {
   "cell_type": "code",
   "execution_count": 204,
   "metadata": {},
   "outputs": [
    {
     "data": {
      "text/html": [
       "<div>\n",
       "<style scoped>\n",
       "    .dataframe tbody tr th:only-of-type {\n",
       "        vertical-align: middle;\n",
       "    }\n",
       "\n",
       "    .dataframe tbody tr th {\n",
       "        vertical-align: top;\n",
       "    }\n",
       "\n",
       "    .dataframe thead th {\n",
       "        text-align: right;\n",
       "    }\n",
       "</style>\n",
       "<table border=\"1\" class=\"dataframe\">\n",
       "  <thead>\n",
       "    <tr style=\"text-align: right;\">\n",
       "      <th></th>\n",
       "      <th>Amount_tsh</th>\n",
       "      <th>Static Head</th>\n",
       "    </tr>\n",
       "  </thead>\n",
       "  <tbody>\n",
       "    <tr>\n",
       "      <th>0</th>\n",
       "      <td>0.0</td>\n",
       "      <td>Bad Static Head: 0-59 or over 189</td>\n",
       "    </tr>\n",
       "    <tr>\n",
       "      <th>1</th>\n",
       "      <td>0.0</td>\n",
       "      <td>Bad Static Head: 0-59 or over 189</td>\n",
       "    </tr>\n",
       "    <tr>\n",
       "      <th>2</th>\n",
       "      <td>0.0</td>\n",
       "      <td>Bad Static Head: 0-59 or over 189</td>\n",
       "    </tr>\n",
       "    <tr>\n",
       "      <th>3</th>\n",
       "      <td>0.0</td>\n",
       "      <td>Bad Static Head: 0-59 or over 189</td>\n",
       "    </tr>\n",
       "    <tr>\n",
       "      <th>4</th>\n",
       "      <td>500.0</td>\n",
       "      <td>Bad Static Head: 0-59 or over 189</td>\n",
       "    </tr>\n",
       "    <tr>\n",
       "      <th>...</th>\n",
       "      <td>...</td>\n",
       "      <td>...</td>\n",
       "    </tr>\n",
       "    <tr>\n",
       "      <th>14845</th>\n",
       "      <td>0.0</td>\n",
       "      <td>Bad Static Head: 0-59 or over 189</td>\n",
       "    </tr>\n",
       "    <tr>\n",
       "      <th>14846</th>\n",
       "      <td>1000.0</td>\n",
       "      <td>Bad Static Head: 0-59 or over 189</td>\n",
       "    </tr>\n",
       "    <tr>\n",
       "      <th>14847</th>\n",
       "      <td>0.0</td>\n",
       "      <td>Bad Static Head: 0-59 or over 189</td>\n",
       "    </tr>\n",
       "    <tr>\n",
       "      <th>14848</th>\n",
       "      <td>0.0</td>\n",
       "      <td>Bad Static Head: 0-59 or over 189</td>\n",
       "    </tr>\n",
       "    <tr>\n",
       "      <th>14849</th>\n",
       "      <td>0.0</td>\n",
       "      <td>Bad Static Head: 0-59 or over 189</td>\n",
       "    </tr>\n",
       "  </tbody>\n",
       "</table>\n",
       "<p>14850 rows × 2 columns</p>\n",
       "</div>"
      ],
      "text/plain": [
       "       Amount_tsh                        Static Head\n",
       "0             0.0  Bad Static Head: 0-59 or over 189\n",
       "1             0.0  Bad Static Head: 0-59 or over 189\n",
       "2             0.0  Bad Static Head: 0-59 or over 189\n",
       "3             0.0  Bad Static Head: 0-59 or over 189\n",
       "4           500.0  Bad Static Head: 0-59 or over 189\n",
       "...           ...                                ...\n",
       "14845         0.0  Bad Static Head: 0-59 or over 189\n",
       "14846      1000.0  Bad Static Head: 0-59 or over 189\n",
       "14847         0.0  Bad Static Head: 0-59 or over 189\n",
       "14848         0.0  Bad Static Head: 0-59 or over 189\n",
       "14849         0.0  Bad Static Head: 0-59 or over 189\n",
       "\n",
       "[14850 rows x 2 columns]"
      ]
     },
     "execution_count": 204,
     "metadata": {},
     "output_type": "execute_result"
    }
   ],
   "source": [
    "df"
   ]
  },
  {
   "cell_type": "markdown",
   "metadata": {},
   "source": [
    "<p style='font-weight:bold'>Adding a <span style='color:#fbec5d'>column</span> called <span style='color:#fbec5d'>'Category'</span> that <span style='color:#fbec5d'>labels the classification of each Static Head in mubers</span> to help when applying <span style='color:#fbec5d'>classification analysis</span>. A <span style='color:#fbec5d'>Good</span> Static Head is labeld as <span style='color:#fbec5d'>1</span>, a <span style='color:#fbec5d'>Intermediate</span> Static Head is labeled as <span style='color:#fbec5d'>2</span> and a <span style='color:#fbec5d'>Bad</span> Static Head is labeled as <span style='color:#fbec5d'>3</span>.</p>"
   ]
  },
  {
   "cell_type": "code",
   "execution_count": 205,
   "metadata": {},
   "outputs": [],
   "source": [
    "category = []\n",
    "for i in qualification:\n",
    "    if i == 'Bad Static Head: 0-59 or over 189':category.append(3)\n",
    "    if i == 'Good Static Head: 100-120':category.append(1)\n",
    "    if i == 'Intermediate Static Head: 60-100 or 130-190':category.append(2)\n",
    "df['Category'] = category"
   ]
  },
  {
   "cell_type": "markdown",
   "metadata": {},
   "source": [
    "<p style='font-weight:bold'>This is the result of <span style='color:#fbec5d'>adding</span> the <span style='color:#fbec5d'>'Category'</span> colunm to the <span style='color:#fbec5d'>'df'</span> dataframe.</p>"
   ]
  },
  {
   "cell_type": "code",
   "execution_count": 206,
   "metadata": {},
   "outputs": [
    {
     "data": {
      "text/html": [
       "<div>\n",
       "<style scoped>\n",
       "    .dataframe tbody tr th:only-of-type {\n",
       "        vertical-align: middle;\n",
       "    }\n",
       "\n",
       "    .dataframe tbody tr th {\n",
       "        vertical-align: top;\n",
       "    }\n",
       "\n",
       "    .dataframe thead th {\n",
       "        text-align: right;\n",
       "    }\n",
       "</style>\n",
       "<table border=\"1\" class=\"dataframe\">\n",
       "  <thead>\n",
       "    <tr style=\"text-align: right;\">\n",
       "      <th></th>\n",
       "      <th>Amount_tsh</th>\n",
       "      <th>Static Head</th>\n",
       "      <th>Category</th>\n",
       "    </tr>\n",
       "  </thead>\n",
       "  <tbody>\n",
       "    <tr>\n",
       "      <th>0</th>\n",
       "      <td>0.0</td>\n",
       "      <td>Bad Static Head: 0-59 or over 189</td>\n",
       "      <td>3</td>\n",
       "    </tr>\n",
       "    <tr>\n",
       "      <th>1</th>\n",
       "      <td>0.0</td>\n",
       "      <td>Bad Static Head: 0-59 or over 189</td>\n",
       "      <td>3</td>\n",
       "    </tr>\n",
       "    <tr>\n",
       "      <th>2</th>\n",
       "      <td>0.0</td>\n",
       "      <td>Bad Static Head: 0-59 or over 189</td>\n",
       "      <td>3</td>\n",
       "    </tr>\n",
       "    <tr>\n",
       "      <th>3</th>\n",
       "      <td>0.0</td>\n",
       "      <td>Bad Static Head: 0-59 or over 189</td>\n",
       "      <td>3</td>\n",
       "    </tr>\n",
       "    <tr>\n",
       "      <th>4</th>\n",
       "      <td>500.0</td>\n",
       "      <td>Bad Static Head: 0-59 or over 189</td>\n",
       "      <td>3</td>\n",
       "    </tr>\n",
       "    <tr>\n",
       "      <th>...</th>\n",
       "      <td>...</td>\n",
       "      <td>...</td>\n",
       "      <td>...</td>\n",
       "    </tr>\n",
       "    <tr>\n",
       "      <th>14845</th>\n",
       "      <td>0.0</td>\n",
       "      <td>Bad Static Head: 0-59 or over 189</td>\n",
       "      <td>3</td>\n",
       "    </tr>\n",
       "    <tr>\n",
       "      <th>14846</th>\n",
       "      <td>1000.0</td>\n",
       "      <td>Bad Static Head: 0-59 or over 189</td>\n",
       "      <td>3</td>\n",
       "    </tr>\n",
       "    <tr>\n",
       "      <th>14847</th>\n",
       "      <td>0.0</td>\n",
       "      <td>Bad Static Head: 0-59 or over 189</td>\n",
       "      <td>3</td>\n",
       "    </tr>\n",
       "    <tr>\n",
       "      <th>14848</th>\n",
       "      <td>0.0</td>\n",
       "      <td>Bad Static Head: 0-59 or over 189</td>\n",
       "      <td>3</td>\n",
       "    </tr>\n",
       "    <tr>\n",
       "      <th>14849</th>\n",
       "      <td>0.0</td>\n",
       "      <td>Bad Static Head: 0-59 or over 189</td>\n",
       "      <td>3</td>\n",
       "    </tr>\n",
       "  </tbody>\n",
       "</table>\n",
       "<p>14850 rows × 3 columns</p>\n",
       "</div>"
      ],
      "text/plain": [
       "       Amount_tsh                        Static Head  Category\n",
       "0             0.0  Bad Static Head: 0-59 or over 189         3\n",
       "1             0.0  Bad Static Head: 0-59 or over 189         3\n",
       "2             0.0  Bad Static Head: 0-59 or over 189         3\n",
       "3             0.0  Bad Static Head: 0-59 or over 189         3\n",
       "4           500.0  Bad Static Head: 0-59 or over 189         3\n",
       "...           ...                                ...       ...\n",
       "14845         0.0  Bad Static Head: 0-59 or over 189         3\n",
       "14846      1000.0  Bad Static Head: 0-59 or over 189         3\n",
       "14847         0.0  Bad Static Head: 0-59 or over 189         3\n",
       "14848         0.0  Bad Static Head: 0-59 or over 189         3\n",
       "14849         0.0  Bad Static Head: 0-59 or over 189         3\n",
       "\n",
       "[14850 rows x 3 columns]"
      ]
     },
     "execution_count": 206,
     "metadata": {},
     "output_type": "execute_result"
    }
   ],
   "source": [
    "df"
   ]
  },
  {
   "cell_type": "markdown",
   "metadata": {},
   "source": [
    "<p style='font-weight:bold'>Using the <span style='color:#fbec5d'>Counter()</span> method to get <span style='color:#fbec5d'>how many wells</span> have <span style='color:#fbec5d'>Good</span> static head, <span style='color:#fbec5d'>Intermediate</span> static head and <span style='color:#fbec5d'>Bad</span> static head."
   ]
  },
  {
   "cell_type": "code",
   "execution_count": 70,
   "metadata": {},
   "outputs": [
    {
     "data": {
      "text/plain": [
       "Counter({'Bad Static Head: 0-59 or over 189': 14617,\n",
       "         'Good Static Head: 100-120': 218,\n",
       "         'Intermediate Static Head: 60-100 or 130-190': 15})"
      ]
     },
     "execution_count": 70,
     "metadata": {},
     "output_type": "execute_result"
    }
   ],
   "source": [
    "Counter(df['Static Head'])"
   ]
  },
  {
   "cell_type": "markdown",
   "metadata": {},
   "source": [
    "<p style='font-weight:bold'>This is the <span style='color:#fbec5d'>HTML Script from Highcharts Libaray</span> to visualize the data of <span style='color:#fbec5d'>how many wells</span> have <span style='color:#fbec5d'>Good</span> static head, <span style='color:#fbec5d'>Intermediate</span> static head and <span style='color:#fbec5d'>Bad</span> static head, using an <span style='color:#fbec5d'>Item chart</span>. This will be done using <span style='color:#fbec5d'>Javascript</span> below and will be saved in an <span style='color:#fbec5d'>.jpeg file</span>.</p>"
   ]
  },
  {
   "cell_type": "code",
   "execution_count": 201,
   "metadata": {
    "tags": []
   },
   "outputs": [
    {
     "data": {
      "text/html": [
       "<script src=\"https://code.highcharts.com/highcharts.js\"></script>\n",
       "<script src=\"https://code.highcharts.com/modules/item-series.js\"></script>\n",
       "<script src=\"https://code.highcharts.com/modules/exporting.js\"></script>\n",
       "<script src=\"https://code.highcharts.com/modules/export-data.js\"></script>\n",
       "<script src=\"https://code.highcharts.com/modules/accessibility.js\"></script>\n",
       "\n",
       "<figure class=\"highcharts-figure\">\n",
       "    <div id=\"rose\"></div>\n",
       "</figure>\n"
      ],
      "text/plain": [
       "<IPython.core.display.HTML object>"
      ]
     },
     "metadata": {},
     "output_type": "display_data"
    }
   ],
   "source": [
    "%%html\n",
    "<script src=\"https://code.highcharts.com/highcharts.js\"></script>\n",
    "<script src=\"https://code.highcharts.com/modules/item-series.js\"></script>\n",
    "<script src=\"https://code.highcharts.com/modules/exporting.js\"></script>\n",
    "<script src=\"https://code.highcharts.com/modules/export-data.js\"></script>\n",
    "<script src=\"https://code.highcharts.com/modules/accessibility.js\"></script>\n",
    "\n",
    "<figure class=\"highcharts-figure\">\n",
    "    <div id=\"rose\"></div>\n",
    "</figure>"
   ]
  },
  {
   "cell_type": "markdown",
   "metadata": {},
   "source": [
    "<p style='font-weight:bold'>This is the <span style='color:#fbec5d'>Javascript Script from Highcharts Libaray</span> to visualize the data of <span style='color:#fbec5d'>how many wells</span> have <span style='color:#fbec5d'>Good</span> static head, <span style='color:#fbec5d'>Intermediate</span> static head and <span style='color:#fbec5d'>Bad</span> static head, using an <span style='color:#fbec5d'>Item chart</span>. Item charts create a <span style='color:#fbec5d'>number of items corresponding to the value of each data point</span>. This will be saved in a <span style='color:#fbec5d'>.jpeg file</span> called <span style='color:#fbec5d'>'classification-of-the-ta (2).jpeg'</span>.</p>"
   ]
  },
  {
   "cell_type": "code",
   "execution_count": 167,
   "metadata": {},
   "outputs": [
    {
     "data": {
      "application/javascript": [
       "Highcharts.chart('rose', {\n",
       "    chart: {\n",
       "        width:880,\n",
       "        height:450,\n",
       "        type: 'item'\n",
       "    },\n",
       "\n",
       "    title: {\n",
       "        text: 'Classification of the Tanzania\\'s Wells Static Head'\n",
       "    },\n",
       "\n",
       "    subtitle: {\n",
       "        text: 'Showung the ratio of each classification: Good, Intermediate and Bad '\n",
       "    },\n",
       "\n",
       "    legend: {\n",
       "        labelFormat: '{name} <span style=\"opacity: 0.4\"></span>'\n",
       "    },\n",
       "\n",
       "    series: [{\n",
       "        name: 'Number of Wells',\n",
       "        keys: ['name', 'y', 'color','label'],\n",
       "        data: [\n",
       "            ['Bad Static Head: 0ft-59ft or over 189ft', 617, '#CCCCFF', 'Bad'],\n",
       "            ['Good Static Head: 100ft-120ft', 48, '#6495ED', 'Good'],\n",
       "            ['Intermediate Static Head: 60ft-100ft or 130ft-190ft', 15, '#00008B', 'Intermediate']\n",
       "        ],\n",
       "         dataLabels: {\n",
       "            enabled: true,\n",
       "            format: '{point.label}',\n",
       "            style: {\n",
       "                textOutline: '3px contrast'\n",
       "            }\n",
       "        },\n",
       "\n",
       "        // Circular options\n",
       "        center: ['50%', '88%'],\n",
       "        size: '170%',\n",
       "        startAngle: -100,\n",
       "        endAngle: 100\n",
       "    }]\n",
       "});\n"
      ],
      "text/plain": [
       "<IPython.core.display.Javascript object>"
      ]
     },
     "metadata": {},
     "output_type": "display_data"
    }
   ],
   "source": [
    "%%js\n",
    "Highcharts.chart('rose', {\n",
    "    chart: {\n",
    "        width:880,\n",
    "        height:450,\n",
    "        type: 'item'\n",
    "    },\n",
    "\n",
    "    title: {\n",
    "        text: 'Classification of the Tanzania\\'s Wells Static Head'\n",
    "    },\n",
    "\n",
    "    subtitle: {\n",
    "        text: 'Showung the ratio of each classification: Good, Intermediate and Bad '\n",
    "    },\n",
    "\n",
    "    legend: {\n",
    "        labelFormat: '{name} <span style=\"opacity: 0.4\"></span>'\n",
    "    },\n",
    "\n",
    "    series: [{\n",
    "        name: 'Number of Wells',\n",
    "        keys: ['name', 'y', 'color','label'],\n",
    "        data: [\n",
    "            ['Bad Static Head: 0ft-59ft or over 189ft', 617, '#CCCCFF', 'Bad'],\n",
    "            ['Good Static Head: 100ft-120ft', 48, '#6495ED', 'Good'],\n",
    "            ['Intermediate Static Head: 60ft-100ft or 130ft-190ft', 15, '#00008B', 'Intermediate']\n",
    "        ],\n",
    "         dataLabels: {\n",
    "            enabled: true,\n",
    "            format: '{point.label}',\n",
    "            style: {\n",
    "                textOutline: '3px contrast'\n",
    "            }\n",
    "        },\n",
    "\n",
    "        // Circular options\n",
    "        center: ['50%', '88%'],\n",
    "        size: '170%',\n",
    "        startAngle: -100,\n",
    "        endAngle: 100\n",
    "    }]\n",
    "});"
   ]
  },
  {
   "cell_type": "markdown",
   "metadata": {},
   "source": [
    "<p style='font-weight:bold'>Adding a <span style='color:#fbec5d'>colunm</span> called <span style='color:#fbec5d'>'Zone'</span> to the <span style='color:#fbec5d'>'df'</span> dataframe which is the <span style='color:#fbec5d'>zone where each well is located</span> in Tanzania.</p>"
   ]
  },
  {
   "cell_type": "code",
   "execution_count": 207,
   "metadata": {},
   "outputs": [],
   "source": [
    "df['Zone'] = tz_info.Zone"
   ]
  },
  {
   "cell_type": "markdown",
   "metadata": {},
   "source": [
    "<p style='font-weight:bold'>This is the result of <span style='color:#fbec5d'>adding</span> the <span style='color:#fbec5d'>'Zone'</span> colunm to the <span style='color:#fbec5d'>'df'</span> dataframe.</p>"
   ]
  },
  {
   "cell_type": "code",
   "execution_count": 208,
   "metadata": {},
   "outputs": [
    {
     "data": {
      "text/html": [
       "<div>\n",
       "<style scoped>\n",
       "    .dataframe tbody tr th:only-of-type {\n",
       "        vertical-align: middle;\n",
       "    }\n",
       "\n",
       "    .dataframe tbody tr th {\n",
       "        vertical-align: top;\n",
       "    }\n",
       "\n",
       "    .dataframe thead th {\n",
       "        text-align: right;\n",
       "    }\n",
       "</style>\n",
       "<table border=\"1\" class=\"dataframe\">\n",
       "  <thead>\n",
       "    <tr style=\"text-align: right;\">\n",
       "      <th></th>\n",
       "      <th>Amount_tsh</th>\n",
       "      <th>Static Head</th>\n",
       "      <th>Category</th>\n",
       "      <th>Zone</th>\n",
       "    </tr>\n",
       "  </thead>\n",
       "  <tbody>\n",
       "    <tr>\n",
       "      <th>0</th>\n",
       "      <td>0.0</td>\n",
       "      <td>Bad Static Head: 0-59 or over 189</td>\n",
       "      <td>3</td>\n",
       "      <td>Northern Zone</td>\n",
       "    </tr>\n",
       "    <tr>\n",
       "      <th>1</th>\n",
       "      <td>0.0</td>\n",
       "      <td>Bad Static Head: 0-59 or over 189</td>\n",
       "      <td>3</td>\n",
       "      <td>Northern Zone</td>\n",
       "    </tr>\n",
       "    <tr>\n",
       "      <th>2</th>\n",
       "      <td>0.0</td>\n",
       "      <td>Bad Static Head: 0-59 or over 189</td>\n",
       "      <td>3</td>\n",
       "      <td>Central Zone</td>\n",
       "    </tr>\n",
       "    <tr>\n",
       "      <th>3</th>\n",
       "      <td>0.0</td>\n",
       "      <td>Bad Static Head: 0-59 or over 189</td>\n",
       "      <td>3</td>\n",
       "      <td>Coastal Zone</td>\n",
       "    </tr>\n",
       "    <tr>\n",
       "      <th>4</th>\n",
       "      <td>500.0</td>\n",
       "      <td>Bad Static Head: 0-59 or over 189</td>\n",
       "      <td>3</td>\n",
       "      <td>Southern Highlands Zone</td>\n",
       "    </tr>\n",
       "    <tr>\n",
       "      <th>...</th>\n",
       "      <td>...</td>\n",
       "      <td>...</td>\n",
       "      <td>...</td>\n",
       "      <td>...</td>\n",
       "    </tr>\n",
       "    <tr>\n",
       "      <th>14845</th>\n",
       "      <td>0.0</td>\n",
       "      <td>Bad Static Head: 0-59 or over 189</td>\n",
       "      <td>3</td>\n",
       "      <td>Coastal Zone</td>\n",
       "    </tr>\n",
       "    <tr>\n",
       "      <th>14846</th>\n",
       "      <td>1000.0</td>\n",
       "      <td>Bad Static Head: 0-59 or over 189</td>\n",
       "      <td>3</td>\n",
       "      <td>Northern Zone</td>\n",
       "    </tr>\n",
       "    <tr>\n",
       "      <th>14847</th>\n",
       "      <td>0.0</td>\n",
       "      <td>Bad Static Head: 0-59 or over 189</td>\n",
       "      <td>3</td>\n",
       "      <td>Central Zone</td>\n",
       "    </tr>\n",
       "    <tr>\n",
       "      <th>14848</th>\n",
       "      <td>0.0</td>\n",
       "      <td>Bad Static Head: 0-59 or over 189</td>\n",
       "      <td>3</td>\n",
       "      <td>Southern Highlands Zone</td>\n",
       "    </tr>\n",
       "    <tr>\n",
       "      <th>14849</th>\n",
       "      <td>0.0</td>\n",
       "      <td>Bad Static Head: 0-59 or over 189</td>\n",
       "      <td>3</td>\n",
       "      <td>Southern Highlands Zone</td>\n",
       "    </tr>\n",
       "  </tbody>\n",
       "</table>\n",
       "<p>14850 rows × 4 columns</p>\n",
       "</div>"
      ],
      "text/plain": [
       "       Amount_tsh                        Static Head  Category  \\\n",
       "0             0.0  Bad Static Head: 0-59 or over 189         3   \n",
       "1             0.0  Bad Static Head: 0-59 or over 189         3   \n",
       "2             0.0  Bad Static Head: 0-59 or over 189         3   \n",
       "3             0.0  Bad Static Head: 0-59 or over 189         3   \n",
       "4           500.0  Bad Static Head: 0-59 or over 189         3   \n",
       "...           ...                                ...       ...   \n",
       "14845         0.0  Bad Static Head: 0-59 or over 189         3   \n",
       "14846      1000.0  Bad Static Head: 0-59 or over 189         3   \n",
       "14847         0.0  Bad Static Head: 0-59 or over 189         3   \n",
       "14848         0.0  Bad Static Head: 0-59 or over 189         3   \n",
       "14849         0.0  Bad Static Head: 0-59 or over 189         3   \n",
       "\n",
       "                           Zone  \n",
       "0                 Northern Zone  \n",
       "1                 Northern Zone  \n",
       "2                  Central Zone  \n",
       "3                  Coastal Zone  \n",
       "4       Southern Highlands Zone  \n",
       "...                         ...  \n",
       "14845              Coastal Zone  \n",
       "14846             Northern Zone  \n",
       "14847              Central Zone  \n",
       "14848   Southern Highlands Zone  \n",
       "14849   Southern Highlands Zone  \n",
       "\n",
       "[14850 rows x 4 columns]"
      ]
     },
     "execution_count": 208,
     "metadata": {},
     "output_type": "execute_result"
    }
   ],
   "source": [
    "df"
   ]
  },
  {
   "cell_type": "markdown",
   "metadata": {},
   "source": [
    "<p style='font-weight:bold'>Getting how <span style='color:#fbec5d'>the amount of wells in each Zone</span> who has a <span style='color:#fbec5d'>Bad Static Head</span> using the <span style='color:#fbec5d'>Counter()</span> method and <span style='color:#fbec5d'>for loop</span>.</p>"
   ]
  },
  {
   "cell_type": "code",
   "execution_count": 119,
   "metadata": {},
   "outputs": [],
   "source": [
    "zone_bad = []\n",
    "for i,x in enumerate(df.Category):\n",
    "    if x ==3: zone_bad.append(df.Zone[i])"
   ]
  },
  {
   "cell_type": "markdown",
   "metadata": {},
   "source": [
    "<p style='font-weight:bold'>The <span style='color:#fbec5d'>Counter()</span> method shows us the <span style='color:#fbec5d'>amount of Bad Static Head</span> in each <span style='color:#fbec5d'>Zone</span> in the <span style='color:#fbec5d'>Bad Static Head Category</span>.</p>"
   ]
  },
  {
   "cell_type": "code",
   "execution_count": 120,
   "metadata": {},
   "outputs": [
    {
     "data": {
      "text/plain": [
       "Counter({' Northern Zone': 2862,\n",
       "         ' Central Zone': 1520,\n",
       "         ' Coastal Zone': 2619,\n",
       "         ' Southern Highlands Zone': 3301,\n",
       "         ' Lake Zone': 2969,\n",
       "         ' Western Zone': 873,\n",
       "         'unkown': 458,\n",
       "         ' ': 15})"
      ]
     },
     "execution_count": 120,
     "metadata": {},
     "output_type": "execute_result"
    }
   ],
   "source": [
    "Counter(zone_bad)"
   ]
  },
  {
   "cell_type": "markdown",
   "metadata": {},
   "source": [
    "<p style='font-weight:bold'>Getting how <span style='color:#fbec5d'>the amount of wells in each Zone</span> who has a <span style='color:#fbec5d'>Intermediate Static Head</span> using the <span style='color:#fbec5d'>Counter()</span> method and <span style='color:#fbec5d'>for loop</span>.</p>"
   ]
  },
  {
   "cell_type": "code",
   "execution_count": 121,
   "metadata": {},
   "outputs": [],
   "source": [
    "zone_inter = []\n",
    "for i,x in enumerate(df.Category):\n",
    "    if x ==2: zone_inter.append(df.Zone[i])"
   ]
  },
  {
   "cell_type": "markdown",
   "metadata": {},
   "source": [
    "<p style='font-weight:bold'>The <span style='color:#fbec5d'>Counter()</span> method shows us the <span style='color:#fbec5d'>amount of Intermediate Static Head</span> in each <span style='color:#fbec5d'>Zone</span> in the <span style='color:#fbec5d'>Intermediate Static Head Category</span>.</p>"
   ]
  },
  {
   "cell_type": "code",
   "execution_count": 122,
   "metadata": {},
   "outputs": [
    {
     "data": {
      "text/plain": [
       "Counter({' Coastal Zone': 14, ' Western Zone': 1})"
      ]
     },
     "execution_count": 122,
     "metadata": {},
     "output_type": "execute_result"
    }
   ],
   "source": [
    "Counter(zone_inter)"
   ]
  },
  {
   "cell_type": "markdown",
   "metadata": {},
   "source": [
    "<p style='font-weight:bold'>Getting how <span style='color:#fbec5d'>the amount of wells in each Zone</span> who has a <span style='color:#fbec5d'>Good Static Head</span> using the <span style='color:#fbec5d'>Counter()</span> method and <span style='color:#fbec5d'>for loop</span>.</p>"
   ]
  },
  {
   "cell_type": "code",
   "execution_count": 123,
   "metadata": {},
   "outputs": [],
   "source": [
    "zone_good = []\n",
    "for i,x in enumerate(df.Category):\n",
    "    if x ==1: zone_good.append(df.Zone[i])"
   ]
  },
  {
   "cell_type": "markdown",
   "metadata": {},
   "source": [
    "<p style='font-weight:bold'>The <span style='color:#fbec5d'>Counter()</span> method shows us the <span style='color:#fbec5d'>amount of Good Static Head</span> in each <span style='color:#fbec5d'>Zone</span> in the <span style='color:#fbec5d'>Good Static Head Category</span>.</p>"
   ]
  },
  {
   "cell_type": "code",
   "execution_count": 124,
   "metadata": {},
   "outputs": [
    {
     "data": {
      "text/plain": [
       "Counter({' Southern Highlands Zone': 51,\n",
       "         ' Coastal Zone': 93,\n",
       "         ' Northern Zone': 30,\n",
       "         ' Lake Zone': 15,\n",
       "         ' Central Zone': 13,\n",
       "         ' Western Zone': 16})"
      ]
     },
     "execution_count": 124,
     "metadata": {},
     "output_type": "execute_result"
    }
   ],
   "source": [
    "Counter(zone_good)"
   ]
  },
  {
   "cell_type": "markdown",
   "metadata": {},
   "source": [
    "<p style='font-weight:bold'>This is the <span style='color:#fbec5d'>HTML Script from Highcharts Libaray</span> to visualize the data of <span style='color:#fbec5d'>the percentage of wells</span> within <span style='color:#fbec5d'>each Zone that have Bad Static Head</span> in the <span style='color:#fbec5d'>Bad Static Head Category</span>, using a <span style='color:#fbec5d'>Colunm chart</span>. This will be done using <span style='color:#fbec5d'>Javascript</span> below and will be saved in an <span style='color:#fbec5d'>.png file</span>.</p>"
   ]
  },
  {
   "cell_type": "code",
   "execution_count": 188,
   "metadata": {},
   "outputs": [
    {
     "data": {
      "text/html": [
       "<script src=\"https://code.highcharts.com/highcharts.js\"></script>\n",
       "<script src=\"https://code.highcharts.com/modules/exporting.js\"></script>\n",
       "<script src=\"https://code.highcharts.com/modules/export-data.js\"></script>\n",
       "<script src=\"https://code.highcharts.com/modules/accessibility.js\"></script>\n",
       "\n",
       "<figure class=\"highcharts-figure\">\n",
       "    <div id='rose1'></div>\n",
       "</figure>\n"
      ],
      "text/plain": [
       "<IPython.core.display.HTML object>"
      ]
     },
     "metadata": {},
     "output_type": "display_data"
    }
   ],
   "source": [
    "%%html\n",
    "<script src=\"https://code.highcharts.com/highcharts.js\"></script>\n",
    "<script src=\"https://code.highcharts.com/modules/exporting.js\"></script>\n",
    "<script src=\"https://code.highcharts.com/modules/export-data.js\"></script>\n",
    "<script src=\"https://code.highcharts.com/modules/accessibility.js\"></script>\n",
    "\n",
    "<figure class=\"highcharts-figure\">\n",
    "    <div id='rose1'></div>\n",
    "</figure>"
   ]
  },
  {
   "cell_type": "markdown",
   "metadata": {},
   "source": [
    "<p style='font-weight:bold'>This is the <span style='color:#fbec5d'>Javascript Script from Highcharts Libaray</span> to visualize the data of <span style='color:#fbec5d'>the percentage of wells</span> within <span style='color:#fbec5d'>each Zone that have Bad Static Head</span> in the <span style='color:#fbec5d'>Bad Static Head Category</span>, using a <span style='color:#fbec5d'>Colunm chart</span>. Individual <span style='color:#fbec5d'>Columns chart</span> brings up more <span style='color:#fbec5d'>detailed data</span>. This will be saved in a <span style='color:#fbec5d'>.png file</span> called <span style='color:#fbec5d'>'this-is-the-bad-static-h (2).png'</span>.</p>"
   ]
  },
  {
   "cell_type": "code",
   "execution_count": 186,
   "metadata": {},
   "outputs": [
    {
     "data": {
      "application/javascript": [
       "Highcharts.chart('rose1', {\n",
       "    chart: {\n",
       "        type: 'column',\n",
       "        width:880,\n",
       "        height:450,\n",
       "    },\n",
       "    title: {\n",
       "        text: '<span style=\"color:#00008b\">This is the Bad Static Head Category and the Percentage of each Tazania\\'s Zone within this Category</span>'\n",
       "    },\n",
       "    subtitle: {\n",
       "        text: '<span style=\"color:#00008b\">There are Six Zones:</span> <span style=\"color:#7F00FF \">Northern|Central|Coastel|Southern Highlands|Lake|Western</span>'\n",
       "    },\n",
       "    xAxis: {\n",
       "        type: 'category',\n",
       "        labels: {\n",
       "            style: {\n",
       "                fontSize: '13px',\n",
       "                fontFamily: 'Verdana, sans-serif'\n",
       "            }\n",
       "        }\n",
       "    },\n",
       "    yAxis: {\n",
       "        min: 0,\n",
       "        title: {\n",
       "            text: 'Percentage (%)'\n",
       "        }\n",
       "    },\n",
       "    legend: {\n",
       "        enabled: false\n",
       "    },\n",
       "    plotOptions: {\n",
       "        column: {\n",
       "            colorByPoint: true\n",
       "        },\n",
       "        series: {\n",
       "            borderWidth: 0,\n",
       "            dataLabels: {\n",
       "                enabled: true,\n",
       "                format: '{point.y:.0f}%'\n",
       "            }\n",
       "        }\n",
       "    },\n",
       "    tooltip: {\n",
       "        pointFormat: 'Percentage: <b>{point.y:.0f} %</b>'\n",
       "    },\n",
       "    series: [{\n",
       "        colors: ['#87CEEB','#40E0D0','#00bfff','#0096FF','#6f00ff ','#1434A4','#5D3FD3'],\n",
       "        name: 'Bad Static Head',\n",
       "        data: [\n",
       "            [' Northern Zone', 21],\n",
       "            [' Central Zone', 11],\n",
       "            [' Coastal Zone', 21],\n",
       "            [' Southern Highlands Zone', 24],\n",
       "            [' Lake Zone', 21],\n",
       "            [' Western Zone', 1],\n",
       "            ['unkown', 1]\n",
       "        ]\n",
       "    }]\n",
       "});\n"
      ],
      "text/plain": [
       "<IPython.core.display.Javascript object>"
      ]
     },
     "metadata": {},
     "output_type": "display_data"
    }
   ],
   "source": [
    "%%js\n",
    "Highcharts.chart('rose1', {\n",
    "    chart: {\n",
    "        type: 'column',\n",
    "        width:880,\n",
    "        height:450,\n",
    "    },\n",
    "    title: {\n",
    "        text: '<span style=\"color:#00008b\">This is the Bad Static Head Category and the Percentage of each Tazania\\'s Zone within this Category</span>'\n",
    "    },\n",
    "    subtitle: {\n",
    "        text: '<span style=\"color:#00008b\">There are Six Zones:</span> <span style=\"color:#7F00FF \">Northern|Central|Coastel|Southern Highlands|Lake|Western</span>'\n",
    "    },\n",
    "    xAxis: {\n",
    "        type: 'category',\n",
    "        labels: {\n",
    "            style: {\n",
    "                fontSize: '13px',\n",
    "                fontFamily: 'Verdana, sans-serif'\n",
    "            }\n",
    "        }\n",
    "    },\n",
    "    yAxis: {\n",
    "        min: 0,\n",
    "        title: {\n",
    "            text: 'Percentage (%)'\n",
    "        }\n",
    "    },\n",
    "    legend: {\n",
    "        enabled: false\n",
    "    },\n",
    "    plotOptions: {\n",
    "        column: {\n",
    "            colorByPoint: true\n",
    "        },\n",
    "        series: {\n",
    "            borderWidth: 0,\n",
    "            dataLabels: {\n",
    "                enabled: true,\n",
    "                format: '{point.y:.0f}%'\n",
    "            }\n",
    "        }\n",
    "    },\n",
    "    tooltip: {\n",
    "        pointFormat: 'Percentage: <b>{point.y:.0f} %</b>'\n",
    "    },\n",
    "    series: [{\n",
    "        colors: ['#87CEEB','#40E0D0','#00bfff','#0096FF','#6f00ff ','#1434A4','#5D3FD3'],\n",
    "        name: 'Bad Static Head',\n",
    "        data: [\n",
    "            [' Northern Zone', 21],\n",
    "            [' Central Zone', 11],\n",
    "            [' Coastal Zone', 21],\n",
    "            [' Southern Highlands Zone', 24],\n",
    "            [' Lake Zone', 21],\n",
    "            [' Western Zone', 1],\n",
    "            ['unkown', 1]\n",
    "        ]\n",
    "    }]\n",
    "});"
   ]
  },
  {
   "cell_type": "markdown",
   "metadata": {},
   "source": [
    "<p style='font-weight:bold'>This is the <span style='color:#fbec5d'>HTML Script from Highcharts Libaray</span> to visualize the data of <span style='color:#fbec5d'>the percentage of wells</span> within <span style='color:#fbec5d'>each Zone that have Good Static Head</span> in the <span style='color:#fbec5d'>Good Static Head Category</span>, using a <span style='color:#fbec5d'>Colunm chart</span>. This will be done using <span style='color:#fbec5d'>Javascript</span> below and will be saved in an <span style='color:#fbec5d'>.png file</span>.</p>"
   ]
  },
  {
   "cell_type": "code",
   "execution_count": 191,
   "metadata": {},
   "outputs": [
    {
     "data": {
      "text/html": [
       "<script src=\"https://code.highcharts.com/highcharts.js\"></script>\n",
       "<script src=\"https://code.highcharts.com/modules/exporting.js\"></script>\n",
       "<script src=\"https://code.highcharts.com/modules/export-data.js\"></script>\n",
       "<script src=\"https://code.highcharts.com/modules/accessibility.js\"></script>\n",
       "\n",
       "<figure class=\"highcharts-figure\">\n",
       "    <div id='rose2'></div>\n",
       "</figure>\n"
      ],
      "text/plain": [
       "<IPython.core.display.HTML object>"
      ]
     },
     "metadata": {},
     "output_type": "display_data"
    }
   ],
   "source": [
    "%%html\n",
    "<script src=\"https://code.highcharts.com/highcharts.js\"></script>\n",
    "<script src=\"https://code.highcharts.com/modules/exporting.js\"></script>\n",
    "<script src=\"https://code.highcharts.com/modules/export-data.js\"></script>\n",
    "<script src=\"https://code.highcharts.com/modules/accessibility.js\"></script>\n",
    "\n",
    "<figure class=\"highcharts-figure\">\n",
    "    <div id='rose2'></div>\n",
    "</figure>"
   ]
  },
  {
   "cell_type": "markdown",
   "metadata": {},
   "source": [
    "<p style='font-weight:bold'>This is the <span style='color:#fbec5d'>Javascript Script from Highcharts Libaray</span> to visualize the data of <span style='color:#fbec5d'>the percentage of wells</span> within <span style='color:#fbec5d'>each Zone that have Good Static Head</span> in the <span style='color:#fbec5d'>Good Static Head Category</span>, using a <span style='color:#fbec5d'>Colunm chart</span>. Individual <span style='color:#fbec5d'>Columns chart</span> brings up more <span style='color:#fbec5d'>detailed data</span>. This will be saved in a <span style='color:#fbec5d'>.png file</span> called <span style='color:#fbec5d'>'this-is-the-good-static.png'</span>.</p>"
   ]
  },
  {
   "cell_type": "code",
   "execution_count": 187,
   "metadata": {},
   "outputs": [
    {
     "data": {
      "application/javascript": [
       "Highcharts.chart('rose2', {\n",
       "    chart: {\n",
       "        type: 'column',\n",
       "        width:880,\n",
       "        height:450,\n",
       "    },\n",
       "    title: {\n",
       "        text: '<span style=\"color:#00008b\">This is the Good Static Head Category and the Percentage of each Tazania\\'s Zone within this Category</span>'\n",
       "    },\n",
       "    subtitle: {\n",
       "        text: '<span style=\"color:#00008b\">There are Six Zones:</span> <span style=\"color:#7F00FF \">Northern|Central|Coastel|Southern Highlands|Lake|Western</span>'\n",
       "    },\n",
       "    xAxis: {\n",
       "        type: 'category',\n",
       "        labels: {\n",
       "            style: {\n",
       "                fontSize: '13px',\n",
       "                fontFamily: 'Verdana, sans-serif'\n",
       "            }\n",
       "        }\n",
       "    },\n",
       "    yAxis: {\n",
       "        min: 0,\n",
       "        title: {\n",
       "            text: 'Percentage (%)'\n",
       "        }\n",
       "    },\n",
       "    legend: {\n",
       "        enabled: false\n",
       "    },\n",
       "    plotOptions: {\n",
       "        column: {\n",
       "            colorByPoint: true\n",
       "        },\n",
       "        series: {\n",
       "            borderWidth: 0,\n",
       "            dataLabels: {\n",
       "                enabled: true,\n",
       "                format: '{point.y:.0f}%'\n",
       "            }\n",
       "        }\n",
       "    },\n",
       "    tooltip: {\n",
       "        pointFormat: 'Percentage: <b>{point.y:.0f} %</b>'\n",
       "    },\n",
       "    series: [{\n",
       "        colors: ['#87CEEB','#40E0D0','#00bfff','#0096FF','#6f00ff ','#1434A4'],\n",
       "        name: 'Good Static Head',\n",
       "        data: [\n",
       "            ['Southern Highlands Zone', 23],\n",
       "         ['Coastal Zone', 43],\n",
       "         ['Northern Zone', 14],\n",
       "         ['Lake Zone', 7],\n",
       "         ['Central Zone', 6],\n",
       "         ['Western Zone', 7]\n",
       "        ]\n",
       "    }]\n",
       "});\n"
      ],
      "text/plain": [
       "<IPython.core.display.Javascript object>"
      ]
     },
     "metadata": {},
     "output_type": "display_data"
    }
   ],
   "source": [
    "%%js\n",
    "Highcharts.chart('rose2', {\n",
    "    chart: {\n",
    "        type: 'column',\n",
    "        width:880,\n",
    "        height:450,\n",
    "    },\n",
    "    title: {\n",
    "        text: '<span style=\"color:#00008b\">This is the Good Static Head Category and the Percentage of each Tazania\\'s Zone within this Category</span>'\n",
    "    },\n",
    "    subtitle: {\n",
    "        text: '<span style=\"color:#00008b\">There are Six Zones:</span> <span style=\"color:#7F00FF \">Northern|Central|Coastel|Southern Highlands|Lake|Western</span>'\n",
    "    },\n",
    "    xAxis: {\n",
    "        type: 'category',\n",
    "        labels: {\n",
    "            style: {\n",
    "                fontSize: '13px',\n",
    "                fontFamily: 'Verdana, sans-serif'\n",
    "            }\n",
    "        }\n",
    "    },\n",
    "    yAxis: {\n",
    "        min: 0,\n",
    "        title: {\n",
    "            text: 'Percentage (%)'\n",
    "        }\n",
    "    },\n",
    "    legend: {\n",
    "        enabled: false\n",
    "    },\n",
    "    plotOptions: {\n",
    "        column: {\n",
    "            colorByPoint: true\n",
    "        },\n",
    "        series: {\n",
    "            borderWidth: 0,\n",
    "            dataLabels: {\n",
    "                enabled: true,\n",
    "                format: '{point.y:.0f}%'\n",
    "            }\n",
    "        }\n",
    "    },\n",
    "    tooltip: {\n",
    "        pointFormat: 'Percentage: <b>{point.y:.0f} %</b>'\n",
    "    },\n",
    "    series: [{\n",
    "        colors: ['#87CEEB','#40E0D0','#00bfff','#0096FF','#6f00ff ','#1434A4'],\n",
    "        name: 'Good Static Head',\n",
    "        data: [\n",
    "            ['Southern Highlands Zone', 23],\n",
    "         ['Coastal Zone', 43],\n",
    "         ['Northern Zone', 14],\n",
    "         ['Lake Zone', 7],\n",
    "         ['Central Zone', 6],\n",
    "         ['Western Zone', 7]\n",
    "        ]\n",
    "    }]\n",
    "});"
   ]
  },
  {
   "cell_type": "markdown",
   "metadata": {},
   "source": [
    "<p style='font-weight:bold'>This is the <span style='color:#fbec5d'>HTML Script from Highcharts Libaray</span> to visualize the data of <span style='color:#fbec5d'>the percentage of wells</span> within <span style='color:#fbec5d'>each Zone that have Intermediate Static Head</span> in the <span style='color:#fbec5d'>Intermediate Static Head Category</span>, using a <span style='color:#fbec5d'>Colunm chart</span>. This will be done using <span style='color:#fbec5d'>Javascript</span> below and will be saved in an <span style='color:#fbec5d'>.jpeg file</span>.</p>"
   ]
  },
  {
   "cell_type": "code",
   "execution_count": 200,
   "metadata": {},
   "outputs": [
    {
     "data": {
      "text/html": [
       "<script src=\"https://code.highcharts.com/highcharts.js\"></script>\n",
       "<script src=\"https://code.highcharts.com/modules/exporting.js\"></script>\n",
       "<script src=\"https://code.highcharts.com/modules/export-data.js\"></script>\n",
       "<script src=\"https://code.highcharts.com/modules/accessibility.js\"></script>\n",
       "\n",
       "<figure class=\"highcharts-figure\">\n",
       "    <div id='rose3'></div>\n",
       "</figure>\n"
      ],
      "text/plain": [
       "<IPython.core.display.HTML object>"
      ]
     },
     "metadata": {},
     "output_type": "display_data"
    }
   ],
   "source": [
    "%%html\n",
    "<script src=\"https://code.highcharts.com/highcharts.js\"></script>\n",
    "<script src=\"https://code.highcharts.com/modules/exporting.js\"></script>\n",
    "<script src=\"https://code.highcharts.com/modules/export-data.js\"></script>\n",
    "<script src=\"https://code.highcharts.com/modules/accessibility.js\"></script>\n",
    "\n",
    "<figure class=\"highcharts-figure\">\n",
    "    <div id='rose3'></div>\n",
    "</figure>"
   ]
  },
  {
   "cell_type": "markdown",
   "metadata": {},
   "source": [
    "<p style='font-weight:bold'>This is the <span style='color:#fbec5d'>Javascript Script from Highcharts Libaray</span> to visualize the data of <span style='color:#fbec5d'>the percentage of wells</span> within <span style='color:#fbec5d'>each Zone that have Intermediate Static Head</span> in the <span style='color:#fbec5d'>Intermediate Static Head Category</span>, using a <span style='color:#fbec5d'>Colunm chart</span>. Individual <span style='color:#fbec5d'>Columns chart</span> brings up more <span style='color:#fbec5d'>detailed data</span>. This will be saved in a <span style='color:#fbec5d'>.png file</span> called <span style='color:#fbec5d'>'this-is-the-intermediate (1).png'</span>.</p>"
   ]
  },
  {
   "cell_type": "code",
   "execution_count": 199,
   "metadata": {},
   "outputs": [
    {
     "data": {
      "application/javascript": [
       "Highcharts.chart('rose3', {\n",
       "    chart: {\n",
       "        type: 'column',\n",
       "        width:600,\n",
       "        height:250,\n",
       "    },\n",
       "    title: {\n",
       "        text: '<span style=\"color:#00008b\">This is the Intermediate Static Head Category and the Percentage of each Tazania\\'s Zone within this Category</span>'\n",
       "    },\n",
       "    subtitle: {\n",
       "        text: '<span style=\"color:#00008b\">There are Six Zones:</span> <span style=\"color:#7F00FF \">Northern|Central|Coastel|Southern Highlands|Lake|Western</span>'\n",
       "    },\n",
       "    xAxis: {\n",
       "        type: 'category',\n",
       "        labels: {\n",
       "            style: {\n",
       "                fontSize: '13px',\n",
       "                fontFamily: 'Verdana, sans-serif'\n",
       "            }\n",
       "        }\n",
       "    },\n",
       "    yAxis: {\n",
       "        min: 0,\n",
       "        title: {\n",
       "            text: 'Percentage (%)'\n",
       "        }\n",
       "    },\n",
       "    legend: {\n",
       "        enabled: false\n",
       "    },\n",
       "    plotOptions: {\n",
       "        column: {\n",
       "            colorByPoint: true\n",
       "        },\n",
       "        series: {\n",
       "            borderWidth: 0,\n",
       "            dataLabels: {\n",
       "                enabled: true,\n",
       "                format: '{point.y:.0f}%'\n",
       "            }\n",
       "        }\n",
       "    },\n",
       "    tooltip: {\n",
       "        pointFormat: 'Percentage: <b>{point.y:.0f} %</b>'\n",
       "    },\n",
       "    series: [{\n",
       "        colors: ['#40E0D0','#1434A4'],\n",
       "        name: 'Intermediate Static Head',\n",
       "        data: [\n",
       "         ['Coastal Zone', 93],\n",
       "         ['Western Zone', 7]\n",
       "        ]\n",
       "    }]\n",
       "});\n"
      ],
      "text/plain": [
       "<IPython.core.display.Javascript object>"
      ]
     },
     "metadata": {},
     "output_type": "display_data"
    }
   ],
   "source": [
    "%%js\n",
    "Highcharts.chart('rose3', {\n",
    "    chart: {\n",
    "        type: 'column',\n",
    "        width:600,\n",
    "        height:250,\n",
    "    },\n",
    "    title: {\n",
    "        text: '<span style=\"color:#00008b\">This is the Intermediate Static Head Category and the Percentage of each Tazania\\'s Zone within this Category</span>'\n",
    "    },\n",
    "    subtitle: {\n",
    "        text: '<span style=\"color:#00008b\">There are Six Zones:</span> <span style=\"color:#7F00FF \">Northern|Central|Coastel|Southern Highlands|Lake|Western</span>'\n",
    "    },\n",
    "    xAxis: {\n",
    "        type: 'category',\n",
    "        labels: {\n",
    "            style: {\n",
    "                fontSize: '13px',\n",
    "                fontFamily: 'Verdana, sans-serif'\n",
    "            }\n",
    "        }\n",
    "    },\n",
    "    yAxis: {\n",
    "        min: 0,\n",
    "        title: {\n",
    "            text: 'Percentage (%)'\n",
    "        }\n",
    "    },\n",
    "    legend: {\n",
    "        enabled: false\n",
    "    },\n",
    "    plotOptions: {\n",
    "        column: {\n",
    "            colorByPoint: true\n",
    "        },\n",
    "        series: {\n",
    "            borderWidth: 0,\n",
    "            dataLabels: {\n",
    "                enabled: true,\n",
    "                format: '{point.y:.0f}%'\n",
    "            }\n",
    "        }\n",
    "    },\n",
    "    tooltip: {\n",
    "        pointFormat: 'Percentage: <b>{point.y:.0f} %</b>'\n",
    "    },\n",
    "    series: [{\n",
    "        colors: ['#40E0D0','#1434A4'],\n",
    "        name: 'Intermediate Static Head',\n",
    "        data: [\n",
    "         ['Coastal Zone', 93],\n",
    "         ['Western Zone', 7]\n",
    "        ]\n",
    "    }]\n",
    "});"
   ]
  },
  {
   "cell_type": "markdown",
   "metadata": {},
   "source": [
    "<center><h3 style=\"color:#87CEEB\" >The Evaluation of the Classification of the Static Heads in the Tanzania Wells</h3></center>"
   ]
  },
  {
   "cell_type": "markdown",
   "metadata": {},
   "source": [
    "<center><h4 style='color:white;'>The Items Chart of the Classification of the Static Heads of the Tanzania Wells.</h4></center><center><img  src=\"classification-of-the-ta (2).jpeg\" style=\"width:50%\"></center>"
   ]
  },
  {
   "cell_type": "markdown",
   "metadata": {},
   "source": [
    "<p><span style='font-weight:bold;color:#87CEEB'>What is a Static Head?:</span> Above is an Items Chart of the three Static Head Category, Bad, Good and Intermediate Static Head. Like previously explained Static Head is the vertical elevation of the water from the basin of a well to the discharge unit, the discharge unit is the section of the well where water passes through. The Static Head is what enhances the water pressure from the bottom of the basin to be discharges from the discharge unit. The water pressure is naturally at 0.433psi when it is at rest meaning the water pressure of a well is 0.433psi when it is at rest at the bottom of the basin. PSI stands for Pound per Sqaured Inches, this is used to measure water pressure and the force at which wtaer dicharges from the dicharge pipe from the water basin, this is what we call Water Pressure. The longer the Static Head the more pressure there will be for the water to be discharged from the well, this is called Static Head Pressure. Water Pressure and Static Head Preasure are interchangeble to each other. Static Head Pressure and the Water Pressure increases when the Static Head height increases. The Higher the the Static Head height the higher the Static Head Pressure and Water Pressure. In order to calculate the pressure in which the water flows from the well then the Static Head has to be multiplied by 0.433psi. \n",
    "</p>\n",
    "\n",
    "<p><span style='font-weight:bold;color:#87CEEB'>Why does Static Head matter and why is it being used as a Variable to Classify the Functionality of a Well?:</span> Static Head is a very significant component of a well, as it is the element of the well that extracts the water from the ground or a basin. If the extraction of water in a well is not in good standard then the overall functioality of the well will be useless as the wells function is to be able to extract water from the ground. The normal PSI for a well system is between 30 and 80 psi.\n",
    "    \n",
    "If the PSI of a well falls below the standard range of 30 to 80 psi then the Static Head Pressure or Water Pressure is too weak to pump out water from the well. How does this have any correlation with Satic head?  The higher the Static Head the higher the Static Head Pressure or Water Pressure. In order for the Static Head Pressure or Water preussre to fall between the normal psi range for a well system which is 30 to 80 psi, then the Static Head would have to be a certain height. If the Static head is not high enough causing the PSI of the well to fall below this range the Static Head Pressure or Water Pressure will be considered weak. This means that the Static Head will also be considered a dysfunction to the well, becuase if the Static Head is not high enough causing a weak Static Head Pressure or Water Pressure this will cause a weak water flow and if the well has a weak water flow it mean the well has to work harder to discharge the water ou ot the discharge unit, this can cause a lot of strain to the well which can cause damanges to the well like leaks. Having a weak water flow can also mean that the people using the well will also apply too much pressure to the well to create more pressure, this is also damanging to the well as applying to much pressure to the well eternally can cuase the well to malfunction.\n",
    "\n",
    "If the PSI of a well is higher then the standard range of 30 to 80 psi then the Static Head Pressure or Water Pressure is too strong for the well to handel. How does this have any correlation with Satic head? The higher the Static Head the higher the Static Head Pressure or Water Pressure. In order for the Static Head Pressure or Water preussre to be higher then the normal psi psi for a well system which is 30 to 80 psi, then the Static Head would have to be a certain height. If the Static head is too high causing the PSI of the well to fall above this range then the  Static Head Pressure or Water Pressure will be considered too strong. This means that the Static Head will also be considered a dysfunction to the well, becuase if the Static Head is too high causing a very strong Static Head Pressure or Water Pressure this will cause a too much of a  water flow and if the well has a very strong water flow, due to the water flow being too hight this could cause damages to the piping system as well, as the internal part of the well is at danger of being dyfunctional. This can also cause a lot of strain to the well which can cause damanges like leaks. Having a water flow that is too strong can also mean that because the water is flowing out of the discharge unit at a very fast paste could casue the water to be wasted, this can casue the well to malfunction but not mechacnically but with insufficincy of water supply in the long run.\n",
    "\n",
    "If the PSI of the well is between the ideal range of 40 to 60 psi then the Static Head Pressure or Water Pressure is just right fot the well. How does this have any correlation with Satic head?  The higher the Static Head the higher the Static Head Pressure or Water Pressure. In order for the Static Head Pressure or Water preussre to have the right psi for a well system which is between 40 to 60 psi, then the Static Head would have to be a certain height. If the Ststic Head is just right causing the PSI of the well to fall between the normal PSI range then the  Static Head Pressure or Water Pressure will be considered just right for the well. This means that the Static Head will also be considered very functional to the well, having the Static Head being just right means the Static Head Pressure or Water Pressure is just right for the well. This could prevent  damages to the piping system internally and externally, can also prevent a lot of strain to the well which can prevent damanges like leaks and this can aslo prevent the waste of water due to having a water flow that is just right for the well due to it flowing out of the discharge unit at a steady paste.\n",
    "    \n",
    "If the PSI of the well is not too high or too weak and my not be the ideal range of 40 to 60 psi, then it will be in the middle. This means the pressure is not the best but it is not to high or low that could cause imediate damange to the well, pressures like this are between 26 to 42 psi or 53 to 82 psi. The Static Head Pressure or Water Pressure is not just right for the well but its also not bad enough to be alarming. How does this have any correlation with Satic head?  In order for the PSI to be between the two ranges of 26 to 42 psi or 53 to 82 psi, then the Static Head would have to be a certain height. If the Ststic Head is not very good causing the PSI of the well to fall between the an abnormal PSI range then the Static Head Pressure or Water Pressure will be considered mediocre for the well. This means that the Static Head may not be considered a dysfunction or very functional for the well, it can still get the job done. However this not mean this could prevent damages to the piping system internally and externally. This means the damages may not be immidate but down the line the harshnedd will start building up and signs of he well being under alot of strain will start to show due to the water pressure being harsh. Which can also cause damanges like leaks to the well and this can aslo cause water waste due to having a water flow that is not quite right but alos not too bad for the well due water flowing out of the discharge unit at a tolerable paste.</p>\n",
    "   \n",
    "<p><span style='font-weight:bold;color:#87CEEB'>What is a Good Static Head?:</span> A Good Static Head Pressure or a Good Water Pressure is between 40 to 60 psi. What does the Static Head hae to be in order to produce this level of water flow. well the PSI when the water is at rest at the bottom of the basin is 0.433psi, so a good stativ head would have a result between the ranges of 40 to 60 psiwhen muliplied by 0.433psi. That would have to be between a static Head of 100ft to 120ft. Ergo A Good Static Head for a well system is between 100ft to 120ft</p>\n",
    "\n",
    "<p><span style='font-weight:bold;color:#87CEEB'>What is an Intermediate Static Head?:</span> A Intermediate Static Head Pressure or a Intermediate Water Pressure is are between 26 to 42 psi or 53 to 82 psi. What does the Static Head hae to be in order to produce this level of water flow. well the PSI when the water is at rest at the bottom of the basin is 0.433psi, so a Intermediate Static Head would have a result that is between the ranges of  26 to 42 psi or 53 to 82 psi when muliplied by 0.433psi. That would have to be between a Static Head of 60ft to 99ft or 130ft to 190ft. Ergo An Intermediate Static Head for a well system is between 60ft to 99ft or between 130ft to 190ft. </p>\n",
    "\n",
    "<p><span style='font-weight:bold;color:#87CEEB'>What is a Bad Static Head?:</span> A Bad Static Head Pressure or a Bad Water Pressure is are between 0.433 to 25psi or a PSI that is above 82. What does the Static Head hae to be in order to produce this level of water flow. well the PSI when the water is at rest at the bottom of the basin is 0.433psi, so a Bad Static Head would have a result that is between the ranges of 0.433 to 25psi or a PSI that is above 82 when muliplied by 0.433psi. That would have to be between a Static Head of 0ft to 59ft or a Static Head that is above 190ft. Ergo An Intermediate Static Head for a well system is between 0ft to 59ft or a Static Head that is above 190ft. A Bad Static well </p>\n",
    "\n",
    "<p><span style='font-weight:bold;color:#87CEEB'>Conclusion A:</span>\n",
    "Based on the Items Chart, within the Tanzania Wells 218 of them have a Good Sataic Head, 15 of them have a Intermediate Static Head and 14,617 of them have a Bad Static Head. The majority of the Tanzania Wells have a Bad Static Head.</p>"
   ]
  },
  {
   "cell_type": "markdown",
   "metadata": {},
   "source": [
    "<center><table style=\"display: inline-block;width:34%\" ><tr><td><center><h4 style='color:white;'>A Colunm Chart of the Perentage of Each Zone in the Good Static Category.</h4><img src=\"this-is-the-good-static.png\" style=\"width:100%\"></center><center>X-axis: <span style='font-weight:bold;color:#87CEEB'>All the Six Zones that are located in Tazania</span></center><center>Y-axis: <span style='font-weight:bold;color:#87CEEB'>Probability</span></center></td></tr></table>\n",
    "    \n",
    "<table style=\"display: inline-block;width:30%\" ><tr><td><center><h4 style='color:white;'>A Colunm Chart of the Perentage of Each Zone in the Inter Static Category.</h4><img src=\"this-is-the-intermediate.png\" style=\"height:290px;width:360px\"></center><center>X-axis: <span style='font-weight:bold;color:#87CEEB'>All the Six Zones that are located in Tazania</span></center> <center>Y-axis: <span style='font-weight:bold;color:#87CEEB'>Probability</span></center></td></tr></table>\n",
    "<table style=\"display: inline-block;width:35%\" ><tr><td><center><h4 style='color:white;'>A Colunm Chart of the Perentage of Each Zone in the Bad Static Category.</h4></center><center><img src=\"this-is-the-bad-static-h (2).png\" style=\"width:100%\"></center><center>X-axis: <span style='font-weight:bold;color:#87CEEB'>All the Six Zones that are located in Tazania</span></center> <center>Y-axis: <span style='font-weight:bold;color:#87CEEB'>Probability</span></center></td></tr></table></center>"
   ]
  },
  {
   "cell_type": "markdown",
   "metadata": {},
   "source": [
    "The grpahs above are columns charts of the percentage of all 6 Zones located n Tanzania within the dataset that have a Bad Static Head, Good Static Head and an Intermediate Static Head. The six Zones that are located in Tanzania are Northern Zone, Central Zone, Coastel Zone, Southern Highlands Zone, Lake Zone and Western Zone. \n",
    "\n",
    "\n",
    "<table style=\"display: inline-block;width:33%\" > \n",
    "       <tr><td><span style='font-weight:bold;color:#87CEEB'><font size=2>In the First Colunm Chart:</span>\n",
    "<li><font size=2 style=\"font-weight:500\" >The Zone with the highest percentage within the Good Static Head Category is Coastal Zone with 43%.</font></li><br>\n",
    "<li><font size=2 style=\"font-weight:500\">The Zone with the 2nd highest percentage within the Good Static Head Category is Southern Highlands Zone with 23%.</li><br>\n",
    "<li><font size=2 style=\"font-weight:500\">The Zone with the 3rd highest percentage within the Good Static Head Category is Northern Zone Zone with 14%.</li><br>\n",
    "<li><font size=2 style=\"font-weight:500\">The Zone with the 4th highest percentage within the Good Static Head Category is Lake Zone with 7%, it is tied with two other zones as the 4th Highest.</li><br>\n",
    "<li><font size=2 style=\"font-weight:500\">The Zone with the 4th highest percentage within the Good Static Head Category is Western Zone with 7%, it is tied with two other zones as the 4th Highest.</li><br>\n",
    "<li><font size=2 style=\"font-weight:500\">The Zone with the lowest percentage  within the Good Static Head Category is Central Zone which with 6%. </li></td></tr></table>\n",
    "\n",
    "<table style=\"display: inline-block;width:33%\" > \n",
    "       <tr><td><span style='font-weight:bold;color:#87CEEB'><font size=2 >In the Second Colunm Chart:</span>\n",
    "<li><font size=2 style=\"font-weight:500\">The Zone with the highest percentage within the Intermediate Static Head Category is Coastal Zone with 93%.</li><br>\n",
    "<li><font size=2 style=\"font-weight:500\">The Zone with the lowest percentage within the Intermediate Static Head Category is Western Zone with 7%.</li><br><br><br><br><br><br><br><br><br><br><br><br></td></tr></table>\n",
    "\n",
    "<table style=\"display: inline-block;width:33%\" > \n",
    "       <tr><td><span style='font-weight:bold;color:#87CEEB'><font size=2>In the Third Colunm Chart:</span>\n",
    "<li><font size=2 style=\"font-weight:500\">The Zone with the highest percentage within the Bad Static Head Category is Southern Highlands Zone with 24%.</li><br>\n",
    "<li><font size=2 style=\"font-weight:500\">The Zone with the 2nd highest percentage within the Bad Static Head Category is Northern Zone with 21%, it is tied with two other zones as the 2nd Highest.</li><br>\n",
    "<li><font size=2 style=\"font-weight:500\">The Zone with the 2nd highest percentage within the Bad Static Head Category is Coastal Zone with 21%, it is tied with two other zones as the 2nd Highest.</li><br>\n",
    "<li><font size=2 style=\"font-weight:500\">The Zone with the 2nd highest percentage within the Bad Static Head Category is Lake Zone with 21%, it is tied with two other zones as the 2nd Highest.</li><br>\n",
    "<li><font size=2 style=\"font-weight:500\">The Zone with the 3rd highest percentage within the Bad Static Head Category is Central Zone with 11%.</li><br>\n",
    "<li><font size=2 style=\"font-weight:500\">The Zone with the lowest percentage  within the Bad Static Head Category is Western Zone which with 1%. </li></td></tr></table>\n",
    "\n",
    "<p><span style='font-weight:bold;color:#87CEEB'>Conclusion B:</span> Based on the three Colunm Charts, out of all the other five Zones Coastal Zone is the best zones when it comes to the amount of Good, Intermediate and Bad Static Head each Zone has. Coastal Zone has the highest percentage of Good Static Head with 43%, it is tied with two other Zones as the third lowest percentage of Bad Static Head with 21% and has the highest percentage of Intermediate Static Head with 93%.\n",
    "</p>"
   ]
  },
  {
   "cell_type": "markdown",
   "metadata": {},
   "source": [
    "<h2 style=\"color:#00FFFF\" >2. Altitude</h2>"
   ]
  },
  {
   "cell_type": "markdown",
   "metadata": {},
   "source": [
    "<p><span style='font-weight:bold;color:#fbec5d'>What is an Altitude?:</span><br>\n",
    "An Altitude in geography is the height of an object above the surface of the ground or Mean Sea level on a datum, a reference point. Altitude is the vertical measurement of the distance of an element above the ground or Mean Sea Level. Air Pressure is highly correlated to Altitude. Altitude can be measured by the air pressure around the area. The terminology for this is Indicated Altitude and it is measured by something called Altimeter.\n",
    "    \n",
    "<p><span style='font-weight:bold;color:#00FFFF'>What is Mean Sea Level? </span>Sea Level is the base level for measuring altitude, elevation and depth on Earth. Throughout the world the ocean has a continous flow of water with a surface that tends to compose the same level. Sometimes the sea surface is not being truly level, because of winds, river discharge different times of weather and different froms of gravity and temperature. \n",
    "Ergo the surface of the ocean can be used as a base for measuring Elevations and Altitudes to create the concept of Mean Sea Level. Mean Sea Level or MSL is an average level of one or many different locations bodies of waters heights such as altitude may be measured. The land next to the sea is called adjacent land and it can effect the Mean Sea Level. Sea Level is measured in relation to th adjacent land. Land that is close to the ocean and  its elevation may rise and fall over time. The local Mean Sea-level measurement are a combination of Sea-level variations and movement of the land. \n",
    "    \n",
    "<span style='font-weight:bold;color:#00FFFF'>What is Air Pressure? </span>\n",
    "The air around us has weight to it and it presses against everything it touches. When the Altitude increases the air pressure drops. Bascially if the  Indicated Altitude rises the air pressure is low. The explaination of this occurance is gravity  and density. The earth's gravity pulls air as close to the ground as possible. The other reason was density, because when an altitude increases the level of gas molecules in the air decreases. The air closer to the Mean Sea Level has more gas molecules meaning when it is more dense. When the air is not as near to the Mean Sea Level the air becomes less dense. This is what we call \"thin air\", thin air exerts less pressure than air at lower Altitudes. \n",
    "</p>\n",
    "<p><span style='font-weight:bold;color:#fbec5d'>How does Altitude effect the functionality of a well?:</span><br>\n",
    "An Altitude can have a direct and indirect affect on the well being functional or not. The Altitude of a well is very significant, it can positively and negatively impact the performance of the well's pump. If it negatively effect the pump the well may need extra assistance pumping water out or it may positively effect the pump by increasing the well's pump efficiency. This all depends on the hieght of the Altitude, the Altitude being too high or too low cna have a negativr or positive effect on the well\n",
    "    \n",
    "<span style='font-weight:bold;color:#00FFFF'>How does a Low Altitude effect the functionality of a well? </span>\n",
    "The lower the altitude in a given location the higher the pressure will be. The futhre down you go, the denser the oxgygen is and becuase of that there is more air. This relates to water pumping, the increasing of the density of air affects the pressure of the pump. The lower the Altitude the more pressure increases.\n",
    "\n",
    "<span style='font-weight:bold;color:#00FFFF'>How does a High Altitude effect the functionality of a well? </span>The higher the altitude in a given location the lower the pressure will be. This is because as we go higher into the atmospher the oxygen thins out and becomes less dense. Oxygen is a gas, meaning that if the Altitude is higher the oxygen decreases in density. Approximately, this means that there is less air the higher the Altitude. The loos of pressure is the most alarming part out of the thinning and density of pressure. As it affects the wells pump, this is what we call Atmospheric Pressure. <br></p>\n",
    "\n",
    "<p><span style='font-weight:bold;color:#fbec5d'>What is Atmospheric Pressure?:</span><br>\n",
    "Atmospheric Pressure affects our lifes on a daily bases. Everything is affected by Atmospheric Pressure including the weather and forecasts. Atmospheric Pressure is somthing that can be measured to help make decisions based on the location the person is in. Significantally, Atmospheric Pressure is the force exerted at any given time or pointon the surface of the Earth by the weight of the air above that piont. In other words the air in the atmosphere cretes pressure through the collective weight of the air molecules. The air that composes the atmosphere is made of many different gases like Nitrogen, Oxygen, Argon, Carbon Dioxide, Helium and Hydrogen. The majority of the molecules in air is Nitrogen whihc accounts for as much as 78% of the volume of air, Oxygen accounts for 21% of the air in the atmosphere.  Argon, Carbon Dioxide, Helium and Hydrogen accounts fro the remaining 15 of the air. Ergo our air and atmosphere has weight, when gravity acts on the air the air exrts a force on the earth called pressure. We also call this Atmospheric Pressure. The molecules in air at a higher Altitude have fewer molecules pressing down from above making the experience have a lower pressure, while lower molecules have more force and pressure exerted on them by molecules piled on top of them and are more tightly packed together. If someone was to go hiking or fly high in a helicopter, the air is less dense and the pressure is lower. The air pressure at Mean Sea Level with a normal temperature of  59°F or 15°C will be One Atmosphere (Atm), and this ia a measurement to determine relative pressure.  To be more specfic the pressure at sea level is 1013.25 millibars or 14.7 psi. A milibar is a meaurement used to measure Atmospheric Pressure. PSI stands for Pound Per Square Inch which is used to also measure pressure.   </p>\n",
    "\n",
    "<p><span style='font-weight:bold;color:#fbec5d'>How does Atmospheric Pressure effect the functionality of a well?:</span><br>When the Atmospheric Pressure is low it is harde for the pump to do its duty, which is to pumo water from the ground or water basin, basically pumping water from one location to another. Due to a higher Altitude resulting to a decrease in pressure the pump will have to wrok much harder. This also means the water pump in the well or the well can experience Total Dynamic Head Loss. \n",
    "\n",
    "<span style='font-weight:bold;color:#00FFFF'>What is Total Dynamic Head Loss? </span> Total Dynamic Head (TBH) is the total amount of pressure when water is flowing out of the discharge unit in a well system. It is composed of two parts, the vertical rise which is the Static Head and the friction loss which is the measurement of the amount of energy the pipes loses when the wtaer floes though the pipes and experience resistance. As water flows through the pumps it has so much energy that whenever there resistance to flow rate, energy escapes. Total Dynamic Head Loss in a well system is the loss of pressure when water is flowing through a well through ther vertical rise which is the Static Head and friction loss. The deffiecny of pressure means less suction power which is Suction Lift and pumping power the higher the Altitude. This defets the purpose of a pump in a well as it goal is to pump out water from the ground and it it can not do it as well as it is suppose to be will be a dysfunction.</p>\n",
    "\n",
    "<p><span style='font-weight:bold;color:#fbec5d'>How do you classify what a good Altitude is and what a bad Altitude is for a Well?:</span><br> (-500)-0 Feet is a Good Alititude (effective Oxygen more than 20.9%), 1-1,999 Feet Intermediate Altitude (effective Oxygen more than 20.1%), Over 2,000 Feet Bad Altitude (effective Oxygen less than 19.4%). The lower the oxegyn the less pressure there is.  </p>\n",
    "\n",
    "<p><span style='font-weight:bold;color:#fbec5d'>Conclusion:</span><br>\n",
    "As stated earlier a Good Alititude is 0ft and lower, an Intermediate Alititude is between 1ft to 1999ft and a Bad Alititude is 2,000ft and over. Now that we havw classified what a Good, Intermeidate and Bad Alititude is, below a dataframe will be created with all the wells Alititude and their classification through looping over each well's Alititude checking what category they fall on based on their Alititude through a for loop and a if statement.</p>"
   ]
  },
  {
   "cell_type": "markdown",
   "metadata": {},
   "source": [
    "<p style='font-weight:bold'>Storing all the <span style='color:#fbec5d'>Altitude of each well</span> located in Tanzania to the <span style='color:#fbec5d'>'gps_height4'</span> list.</p>"
   ]
  },
  {
   "cell_type": "code",
   "execution_count": 209,
   "metadata": {},
   "outputs": [],
   "source": [
    "gps_height4 = raw_info[\"gps_height\"]"
   ]
  },
  {
   "cell_type": "markdown",
   "metadata": {},
   "source": [
    "<p style='font-weight:bold'>Using a <span style='color:#fbec5d'>for loop</span> to loop <span style='color:#fbec5d'>through all the Altitude</span> of each well to <span style='color:#fbec5d'>classify</span> with an <span style='color:#fbec5d'>if statement</span> if the Altitude is a <span style='color:#fbec5d'>Good Altitude, Intermediate Altitude or a Bad Altitude</span>. This will be stored in a list called <span style='color:#fbec5d'>'qualification1'</span>.</p>"
   ]
  },
  {
   "cell_type": "code",
   "execution_count": 253,
   "metadata": {
    "scrolled": true
   },
   "outputs": [
    {
     "data": {
      "text/plain": [
       "14850"
      ]
     },
     "execution_count": 253,
     "metadata": {},
     "output_type": "execute_result"
    }
   ],
   "source": [
    "qualification1 = []\n",
    "for number in gps_height4:\n",
    "    if number >= 2000:\n",
    "        qualification1.append('Bad Altitude: Over 2,000 Feet')\n",
    "    elif  number <= 0:\n",
    "            qualification1.append('Good Altitude: (-500)-0 Feet')\n",
    "    elif 1 <= number < 2000:\n",
    "        qualification1.append('Intermediate Altitude: 1-1,999 Feet')\n",
    "len(qualification1)"
   ]
  },
  {
   "cell_type": "markdown",
   "metadata": {},
   "source": [
    "<p style='font-weight:bold'>Careating a <span style='color:#fbec5d'>dataframe</span> called <span style='color:#fbec5d'>'df1'</span> that consist of a <span style='color:#fbec5d'> column</span> called <span style='color:#fbec5d'>'Gps_Heigh'</span> which shows the <span style='color:#fbec5d'>hieght</span> of the <span style='color:#fbec5d'>Altitude</span> and a <span style='color:#fbec5d'> column</span> called <span style='color:#fbec5d'>'Altitude'</span> which <span style='color:#fbec5d'>classifies</span> whether the Altitude is <span style='color:#fbec5d'>Good, Intermediate or Bad</span>.</p>"
   ]
  },
  {
   "cell_type": "code",
   "execution_count": 300,
   "metadata": {
    "scrolled": true
   },
   "outputs": [],
   "source": [
    "df1 = pd.DataFrame({'Gps_Height':gps_height4,'Altitude':qualification1})"
   ]
  },
  {
   "cell_type": "markdown",
   "metadata": {},
   "source": [
    "<p style='font-weight:bold'>This is the <span style='color:#fbec5d'>'df1'</span> dataframe.</p>"
   ]
  },
  {
   "cell_type": "code",
   "execution_count": 301,
   "metadata": {
    "scrolled": true,
    "tags": []
   },
   "outputs": [
    {
     "data": {
      "text/html": [
       "<div>\n",
       "<style scoped>\n",
       "    .dataframe tbody tr th:only-of-type {\n",
       "        vertical-align: middle;\n",
       "    }\n",
       "\n",
       "    .dataframe tbody tr th {\n",
       "        vertical-align: top;\n",
       "    }\n",
       "\n",
       "    .dataframe thead th {\n",
       "        text-align: right;\n",
       "    }\n",
       "</style>\n",
       "<table border=\"1\" class=\"dataframe\">\n",
       "  <thead>\n",
       "    <tr style=\"text-align: right;\">\n",
       "      <th></th>\n",
       "      <th>Gps_Height</th>\n",
       "      <th>Altitude</th>\n",
       "    </tr>\n",
       "  </thead>\n",
       "  <tbody>\n",
       "    <tr>\n",
       "      <th>0</th>\n",
       "      <td>1996</td>\n",
       "      <td>Intermediate Altitude: 1-1,999 Feet</td>\n",
       "    </tr>\n",
       "    <tr>\n",
       "      <th>1</th>\n",
       "      <td>1569</td>\n",
       "      <td>Intermediate Altitude: 1-1,999 Feet</td>\n",
       "    </tr>\n",
       "    <tr>\n",
       "      <th>2</th>\n",
       "      <td>1567</td>\n",
       "      <td>Intermediate Altitude: 1-1,999 Feet</td>\n",
       "    </tr>\n",
       "    <tr>\n",
       "      <th>3</th>\n",
       "      <td>267</td>\n",
       "      <td>Intermediate Altitude: 1-1,999 Feet</td>\n",
       "    </tr>\n",
       "    <tr>\n",
       "      <th>4</th>\n",
       "      <td>1260</td>\n",
       "      <td>Intermediate Altitude: 1-1,999 Feet</td>\n",
       "    </tr>\n",
       "    <tr>\n",
       "      <th>...</th>\n",
       "      <td>...</td>\n",
       "      <td>...</td>\n",
       "    </tr>\n",
       "    <tr>\n",
       "      <th>14845</th>\n",
       "      <td>34</td>\n",
       "      <td>Intermediate Altitude: 1-1,999 Feet</td>\n",
       "    </tr>\n",
       "    <tr>\n",
       "      <th>14846</th>\n",
       "      <td>0</td>\n",
       "      <td>Good Altitude: (-500)-0 Feet</td>\n",
       "    </tr>\n",
       "    <tr>\n",
       "      <th>14847</th>\n",
       "      <td>1476</td>\n",
       "      <td>Intermediate Altitude: 1-1,999 Feet</td>\n",
       "    </tr>\n",
       "    <tr>\n",
       "      <th>14848</th>\n",
       "      <td>998</td>\n",
       "      <td>Intermediate Altitude: 1-1,999 Feet</td>\n",
       "    </tr>\n",
       "    <tr>\n",
       "      <th>14849</th>\n",
       "      <td>481</td>\n",
       "      <td>Intermediate Altitude: 1-1,999 Feet</td>\n",
       "    </tr>\n",
       "  </tbody>\n",
       "</table>\n",
       "<p>14850 rows × 2 columns</p>\n",
       "</div>"
      ],
      "text/plain": [
       "       Gps_Height                             Altitude\n",
       "0            1996  Intermediate Altitude: 1-1,999 Feet\n",
       "1            1569  Intermediate Altitude: 1-1,999 Feet\n",
       "2            1567  Intermediate Altitude: 1-1,999 Feet\n",
       "3             267  Intermediate Altitude: 1-1,999 Feet\n",
       "4            1260  Intermediate Altitude: 1-1,999 Feet\n",
       "...           ...                                  ...\n",
       "14845          34  Intermediate Altitude: 1-1,999 Feet\n",
       "14846           0         Good Altitude: (-500)-0 Feet\n",
       "14847        1476  Intermediate Altitude: 1-1,999 Feet\n",
       "14848         998  Intermediate Altitude: 1-1,999 Feet\n",
       "14849         481  Intermediate Altitude: 1-1,999 Feet\n",
       "\n",
       "[14850 rows x 2 columns]"
      ]
     },
     "execution_count": 301,
     "metadata": {},
     "output_type": "execute_result"
    }
   ],
   "source": [
    "df1"
   ]
  },
  {
   "cell_type": "markdown",
   "metadata": {},
   "source": [
    "<p style='font-weight:bold'>Adding a <span style='color:#fbec5d'>column</span> called <span style='color:#fbec5d'>'Category'</span> that <span style='color:#fbec5d'>labels the classification of each Altitude in nubers</span> to help when applying <span style='color:#fbec5d'>classification analysis</span>. A <span style='color:#fbec5d'>Good</span> Altitude is labeld as <span style='color:#fbec5d'>1</span>, a <span style='color:#fbec5d'>Intermediate</span> Altitude is labeled as <span style='color:#fbec5d'>2</span> and a <span style='color:#fbec5d'>Bad</span> Altitude is labeled as <span style='color:#fbec5d'>3</span>.</p>"
   ]
  },
  {
   "cell_type": "code",
   "execution_count": 303,
   "metadata": {},
   "outputs": [],
   "source": [
    "category1 = []\n",
    "for i in qualification1:\n",
    "    if i == 'Bad Altitude: Over 2,000 Feet':category1.append(3)\n",
    "    if i == 'Good Altitude: (-500)-0 Feet':category1.append(1)\n",
    "    if i == 'Intermediate Altitude: 1-1,999 Feet':category1.append(2)\n",
    "df1['Category'] = category1"
   ]
  },
  {
   "cell_type": "markdown",
   "metadata": {},
   "source": [
    "<p style='font-weight:bold'>This is the result of <span style='color:#fbec5d'>adding</span> the <span style='color:#fbec5d'>'Category'</span> colunm to the <span style='color:#fbec5d'>'df1'</span> dataframe.</p>"
   ]
  },
  {
   "cell_type": "code",
   "execution_count": 304,
   "metadata": {},
   "outputs": [
    {
     "data": {
      "text/html": [
       "<div>\n",
       "<style scoped>\n",
       "    .dataframe tbody tr th:only-of-type {\n",
       "        vertical-align: middle;\n",
       "    }\n",
       "\n",
       "    .dataframe tbody tr th {\n",
       "        vertical-align: top;\n",
       "    }\n",
       "\n",
       "    .dataframe thead th {\n",
       "        text-align: right;\n",
       "    }\n",
       "</style>\n",
       "<table border=\"1\" class=\"dataframe\">\n",
       "  <thead>\n",
       "    <tr style=\"text-align: right;\">\n",
       "      <th></th>\n",
       "      <th>Gps_Height</th>\n",
       "      <th>Altitude</th>\n",
       "      <th>Category</th>\n",
       "    </tr>\n",
       "  </thead>\n",
       "  <tbody>\n",
       "    <tr>\n",
       "      <th>0</th>\n",
       "      <td>1996</td>\n",
       "      <td>Intermediate Altitude: 1-1,999 Feet</td>\n",
       "      <td>2</td>\n",
       "    </tr>\n",
       "    <tr>\n",
       "      <th>1</th>\n",
       "      <td>1569</td>\n",
       "      <td>Intermediate Altitude: 1-1,999 Feet</td>\n",
       "      <td>2</td>\n",
       "    </tr>\n",
       "    <tr>\n",
       "      <th>2</th>\n",
       "      <td>1567</td>\n",
       "      <td>Intermediate Altitude: 1-1,999 Feet</td>\n",
       "      <td>2</td>\n",
       "    </tr>\n",
       "    <tr>\n",
       "      <th>3</th>\n",
       "      <td>267</td>\n",
       "      <td>Intermediate Altitude: 1-1,999 Feet</td>\n",
       "      <td>2</td>\n",
       "    </tr>\n",
       "    <tr>\n",
       "      <th>4</th>\n",
       "      <td>1260</td>\n",
       "      <td>Intermediate Altitude: 1-1,999 Feet</td>\n",
       "      <td>2</td>\n",
       "    </tr>\n",
       "    <tr>\n",
       "      <th>...</th>\n",
       "      <td>...</td>\n",
       "      <td>...</td>\n",
       "      <td>...</td>\n",
       "    </tr>\n",
       "    <tr>\n",
       "      <th>14845</th>\n",
       "      <td>34</td>\n",
       "      <td>Intermediate Altitude: 1-1,999 Feet</td>\n",
       "      <td>2</td>\n",
       "    </tr>\n",
       "    <tr>\n",
       "      <th>14846</th>\n",
       "      <td>0</td>\n",
       "      <td>Good Altitude: (-500)-0 Feet</td>\n",
       "      <td>1</td>\n",
       "    </tr>\n",
       "    <tr>\n",
       "      <th>14847</th>\n",
       "      <td>1476</td>\n",
       "      <td>Intermediate Altitude: 1-1,999 Feet</td>\n",
       "      <td>2</td>\n",
       "    </tr>\n",
       "    <tr>\n",
       "      <th>14848</th>\n",
       "      <td>998</td>\n",
       "      <td>Intermediate Altitude: 1-1,999 Feet</td>\n",
       "      <td>2</td>\n",
       "    </tr>\n",
       "    <tr>\n",
       "      <th>14849</th>\n",
       "      <td>481</td>\n",
       "      <td>Intermediate Altitude: 1-1,999 Feet</td>\n",
       "      <td>2</td>\n",
       "    </tr>\n",
       "  </tbody>\n",
       "</table>\n",
       "<p>14850 rows × 3 columns</p>\n",
       "</div>"
      ],
      "text/plain": [
       "       Gps_Height                             Altitude  Category\n",
       "0            1996  Intermediate Altitude: 1-1,999 Feet         2\n",
       "1            1569  Intermediate Altitude: 1-1,999 Feet         2\n",
       "2            1567  Intermediate Altitude: 1-1,999 Feet         2\n",
       "3             267  Intermediate Altitude: 1-1,999 Feet         2\n",
       "4            1260  Intermediate Altitude: 1-1,999 Feet         2\n",
       "...           ...                                  ...       ...\n",
       "14845          34  Intermediate Altitude: 1-1,999 Feet         2\n",
       "14846           0         Good Altitude: (-500)-0 Feet         1\n",
       "14847        1476  Intermediate Altitude: 1-1,999 Feet         2\n",
       "14848         998  Intermediate Altitude: 1-1,999 Feet         2\n",
       "14849         481  Intermediate Altitude: 1-1,999 Feet         2\n",
       "\n",
       "[14850 rows x 3 columns]"
      ]
     },
     "execution_count": 304,
     "metadata": {},
     "output_type": "execute_result"
    }
   ],
   "source": [
    "df1"
   ]
  },
  {
   "cell_type": "markdown",
   "metadata": {},
   "source": [
    "<p style='font-weight:bold'>Using the <span style='color:#fbec5d'>Counter()</span> method to get <span style='color:#fbec5d'>how many wells</span> have <span style='color:#fbec5d'>Good</span> Altitude, <span style='color:#fbec5d'>Intermediate</span> Altitude and <span style='color:#fbec5d'>Bad</span> Altitude."
   ]
  },
  {
   "cell_type": "code",
   "execution_count": 256,
   "metadata": {
    "tags": []
   },
   "outputs": [
    {
     "data": {
      "text/plain": [
       "Intermediate Altitude: 1-1,999 Feet    8952\n",
       "Good Altitude: (-500)-0 Feet           5596\n",
       "Bad Altitude: Over 2,000 Feet           302\n",
       "Name: Altitude, dtype: int64"
      ]
     },
     "execution_count": 256,
     "metadata": {},
     "output_type": "execute_result"
    }
   ],
   "source": [
    "df1[\"Altitude\"].value_counts()"
   ]
  },
  {
   "cell_type": "markdown",
   "metadata": {},
   "source": [
    "<p style='font-weight:bold'>This is the <span style='color:#fbec5d'>HTML Script from Highcharts Libaray</span> to visualize the data of <span style='color:#fbec5d'>how many wells</span> have <span style='color:#fbec5d'>Good</span> Altitude, <span style='color:#fbec5d'>Intermediate</span> Altitude and <span style='color:#fbec5d'>Bad</span> Altitude, using an <span style='color:#fbec5d'>Item chart</span>. This will be done using <span style='color:#fbec5d'>Javascript</span> below and will be saved in an <span style='color:#fbec5d'>.png file</span>.</p>"
   ]
  },
  {
   "cell_type": "code",
   "execution_count": 296,
   "metadata": {},
   "outputs": [
    {
     "data": {
      "text/html": [
       "<script src=\"https://code.highcharts.com/highcharts.js\"></script>\n",
       "<script src=\"https://code.highcharts.com/modules/item-series.js\"></script>\n",
       "<script src=\"https://code.highcharts.com/modules/exporting.js\"></script>\n",
       "<script src=\"https://code.highcharts.com/modules/export-data.js\"></script>\n",
       "<script src=\"https://code.highcharts.com/modules/accessibility.js\"></script>\n",
       "\n",
       "<figure class=\"highcharts-figure\">\n",
       "    <div id=\"rose4\"></div>\n",
       "</figure>\n"
      ],
      "text/plain": [
       "<IPython.core.display.HTML object>"
      ]
     },
     "metadata": {},
     "output_type": "display_data"
    }
   ],
   "source": [
    "%%html\n",
    "<script src=\"https://code.highcharts.com/highcharts.js\"></script>\n",
    "<script src=\"https://code.highcharts.com/modules/item-series.js\"></script>\n",
    "<script src=\"https://code.highcharts.com/modules/exporting.js\"></script>\n",
    "<script src=\"https://code.highcharts.com/modules/export-data.js\"></script>\n",
    "<script src=\"https://code.highcharts.com/modules/accessibility.js\"></script>\n",
    "\n",
    "<figure class=\"highcharts-figure\">\n",
    "    <div id=\"rose4\"></div>\n",
    "</figure>"
   ]
  },
  {
   "cell_type": "markdown",
   "metadata": {},
   "source": [
    "<p style='font-weight:bold'>This is the <span style='color:#fbec5d'>Javascript Script from Highcharts Libaray</span> to visualize the data of <span style='color:#fbec5d'>how many wells</span> have <span style='color:#fbec5d'>Good</span> Altitude, <span style='color:#fbec5d'>Intermediate</span> Altitude and <span style='color:#fbec5d'>Bad</span> Altitude, using an <span style='color:#fbec5d'>Item chart</span>. Item charts create a <span style='color:#fbec5d'>number of items corresponding to the value of each data point</span>. This will be saved in a <span style='color:#fbec5d'>.png file</span> called <span style='color:#fbec5d'>'classification-of-the-ta (6).png'</span>.</p>"
   ]
  },
  {
   "cell_type": "code",
   "execution_count": 295,
   "metadata": {},
   "outputs": [
    {
     "data": {
      "application/javascript": [
       "Highcharts.chart('rose4', {\n",
       "    chart: {\n",
       "        width:880,\n",
       "        height:450,\n",
       "        type: 'item'\n",
       "    },\n",
       "\n",
       "    title: {\n",
       "        text: 'Classification of the Tanzania\\'s Wells Altitude'\n",
       "    },\n",
       "\n",
       "    subtitle: {\n",
       "        text: 'Showung the ratio of each classification: Good, Intermediate and Bad '\n",
       "    },\n",
       "\n",
       "    legend: {\n",
       "        labelFormat: '{name} <span style=\"opacity: 0.4\"></span>'\n",
       "    },\n",
       "\n",
       "    series: [{\n",
       "        name: 'Number of Wells',\n",
       "        keys: ['name', 'y', 'color','label'],\n",
       "        data: [\n",
       "            ['Good Altitude: 0ft (Mean Sea Level) and under', 500, '#DBE9FA', 'Good'],\n",
       "            ['Intermediate Altitude: 1ft-1,999ft', 300, '#82CAFF', 'Intermediate'],\n",
       "            ['Bad Altitude: 2,000ft and over', 15, '#6495ED', 'Bad']\n",
       "        ],\n",
       "         dataLabels: {\n",
       "            enabled: true,\n",
       "            format: '{point.label}',\n",
       "            style: {\n",
       "                textOutline: '3px contrast'\n",
       "            }\n",
       "        },\n",
       "\n",
       "        // Circular options\n",
       "        center: ['50%', '88%'],\n",
       "        size: '170%',\n",
       "        startAngle: -100,\n",
       "        endAngle: 100\n",
       "    }]\n",
       "});\n"
      ],
      "text/plain": [
       "<IPython.core.display.Javascript object>"
      ]
     },
     "metadata": {},
     "output_type": "display_data"
    }
   ],
   "source": [
    "%%js\n",
    "Highcharts.chart('rose4', {\n",
    "    chart: {\n",
    "        width:880,\n",
    "        height:450,\n",
    "        type: 'item'\n",
    "    },\n",
    "\n",
    "    title: {\n",
    "        text: 'Classification of the Tanzania\\'s Wells Altitude'\n",
    "    },\n",
    "\n",
    "    subtitle: {\n",
    "        text: 'Showung the ratio of each classification: Good, Intermediate and Bad '\n",
    "    },\n",
    "\n",
    "    legend: {\n",
    "        labelFormat: '{name} <span style=\"opacity: 0.4\"></span>'\n",
    "    },\n",
    "\n",
    "    series: [{\n",
    "        name: 'Number of Wells',\n",
    "        keys: ['name', 'y', 'color','label'],\n",
    "        data: [\n",
    "            ['Good Altitude: 0ft (Mean Sea Level) and under', 500, '#DBE9FA', 'Good'],\n",
    "            ['Intermediate Altitude: 1ft-1,999ft', 300, '#82CAFF', 'Intermediate'],\n",
    "            ['Bad Altitude: 2,000ft and over', 15, '#6495ED', 'Bad']\n",
    "        ],\n",
    "         dataLabels: {\n",
    "            enabled: true,\n",
    "            format: '{point.label}',\n",
    "            style: {\n",
    "                textOutline: '3px contrast'\n",
    "            }\n",
    "        },\n",
    "\n",
    "        // Circular options\n",
    "        center: ['50%', '88%'],\n",
    "        size: '170%',\n",
    "        startAngle: -100,\n",
    "        endAngle: 100\n",
    "    }]\n",
    "});"
   ]
  },
  {
   "cell_type": "markdown",
   "metadata": {},
   "source": [
    "<p style='font-weight:bold'>Adding a <span style='color:#fbec5d'>colunm</span> called <span style='color:#fbec5d'>'Zone'</span> to the <span style='color:#fbec5d'>'df1'</span> dataframe which is the <span style='color:#fbec5d'>zone where each well is located</span> in Tanzania.</p>"
   ]
  },
  {
   "cell_type": "code",
   "execution_count": 305,
   "metadata": {},
   "outputs": [],
   "source": [
    "df1['Zone'] = tz_info.Zone"
   ]
  },
  {
   "cell_type": "markdown",
   "metadata": {},
   "source": [
    "<p style='font-weight:bold'>This is the result of <span style='color:#fbec5d'>adding</span> the <span style='color:#fbec5d'>'Zone'</span> colunm to the <span style='color:#fbec5d'>'df1'</span> dataframe.</p>"
   ]
  },
  {
   "cell_type": "code",
   "execution_count": 306,
   "metadata": {},
   "outputs": [
    {
     "data": {
      "text/html": [
       "<div>\n",
       "<style scoped>\n",
       "    .dataframe tbody tr th:only-of-type {\n",
       "        vertical-align: middle;\n",
       "    }\n",
       "\n",
       "    .dataframe tbody tr th {\n",
       "        vertical-align: top;\n",
       "    }\n",
       "\n",
       "    .dataframe thead th {\n",
       "        text-align: right;\n",
       "    }\n",
       "</style>\n",
       "<table border=\"1\" class=\"dataframe\">\n",
       "  <thead>\n",
       "    <tr style=\"text-align: right;\">\n",
       "      <th></th>\n",
       "      <th>Gps_Height</th>\n",
       "      <th>Altitude</th>\n",
       "      <th>Category</th>\n",
       "      <th>Zone</th>\n",
       "    </tr>\n",
       "  </thead>\n",
       "  <tbody>\n",
       "    <tr>\n",
       "      <th>0</th>\n",
       "      <td>1996</td>\n",
       "      <td>Intermediate Altitude: 1-1,999 Feet</td>\n",
       "      <td>2</td>\n",
       "      <td>Northern Zone</td>\n",
       "    </tr>\n",
       "    <tr>\n",
       "      <th>1</th>\n",
       "      <td>1569</td>\n",
       "      <td>Intermediate Altitude: 1-1,999 Feet</td>\n",
       "      <td>2</td>\n",
       "      <td>Northern Zone</td>\n",
       "    </tr>\n",
       "    <tr>\n",
       "      <th>2</th>\n",
       "      <td>1567</td>\n",
       "      <td>Intermediate Altitude: 1-1,999 Feet</td>\n",
       "      <td>2</td>\n",
       "      <td>Central Zone</td>\n",
       "    </tr>\n",
       "    <tr>\n",
       "      <th>3</th>\n",
       "      <td>267</td>\n",
       "      <td>Intermediate Altitude: 1-1,999 Feet</td>\n",
       "      <td>2</td>\n",
       "      <td>Coastal Zone</td>\n",
       "    </tr>\n",
       "    <tr>\n",
       "      <th>4</th>\n",
       "      <td>1260</td>\n",
       "      <td>Intermediate Altitude: 1-1,999 Feet</td>\n",
       "      <td>2</td>\n",
       "      <td>Southern Highlands Zone</td>\n",
       "    </tr>\n",
       "    <tr>\n",
       "      <th>...</th>\n",
       "      <td>...</td>\n",
       "      <td>...</td>\n",
       "      <td>...</td>\n",
       "      <td>...</td>\n",
       "    </tr>\n",
       "    <tr>\n",
       "      <th>14845</th>\n",
       "      <td>34</td>\n",
       "      <td>Intermediate Altitude: 1-1,999 Feet</td>\n",
       "      <td>2</td>\n",
       "      <td>Coastal Zone</td>\n",
       "    </tr>\n",
       "    <tr>\n",
       "      <th>14846</th>\n",
       "      <td>0</td>\n",
       "      <td>Good Altitude: (-500)-0 Feet</td>\n",
       "      <td>1</td>\n",
       "      <td>Northern Zone</td>\n",
       "    </tr>\n",
       "    <tr>\n",
       "      <th>14847</th>\n",
       "      <td>1476</td>\n",
       "      <td>Intermediate Altitude: 1-1,999 Feet</td>\n",
       "      <td>2</td>\n",
       "      <td>Central Zone</td>\n",
       "    </tr>\n",
       "    <tr>\n",
       "      <th>14848</th>\n",
       "      <td>998</td>\n",
       "      <td>Intermediate Altitude: 1-1,999 Feet</td>\n",
       "      <td>2</td>\n",
       "      <td>Southern Highlands Zone</td>\n",
       "    </tr>\n",
       "    <tr>\n",
       "      <th>14849</th>\n",
       "      <td>481</td>\n",
       "      <td>Intermediate Altitude: 1-1,999 Feet</td>\n",
       "      <td>2</td>\n",
       "      <td>Southern Highlands Zone</td>\n",
       "    </tr>\n",
       "  </tbody>\n",
       "</table>\n",
       "<p>14850 rows × 4 columns</p>\n",
       "</div>"
      ],
      "text/plain": [
       "       Gps_Height                             Altitude  Category  \\\n",
       "0            1996  Intermediate Altitude: 1-1,999 Feet         2   \n",
       "1            1569  Intermediate Altitude: 1-1,999 Feet         2   \n",
       "2            1567  Intermediate Altitude: 1-1,999 Feet         2   \n",
       "3             267  Intermediate Altitude: 1-1,999 Feet         2   \n",
       "4            1260  Intermediate Altitude: 1-1,999 Feet         2   \n",
       "...           ...                                  ...       ...   \n",
       "14845          34  Intermediate Altitude: 1-1,999 Feet         2   \n",
       "14846           0         Good Altitude: (-500)-0 Feet         1   \n",
       "14847        1476  Intermediate Altitude: 1-1,999 Feet         2   \n",
       "14848         998  Intermediate Altitude: 1-1,999 Feet         2   \n",
       "14849         481  Intermediate Altitude: 1-1,999 Feet         2   \n",
       "\n",
       "                           Zone  \n",
       "0                 Northern Zone  \n",
       "1                 Northern Zone  \n",
       "2                  Central Zone  \n",
       "3                  Coastal Zone  \n",
       "4       Southern Highlands Zone  \n",
       "...                         ...  \n",
       "14845              Coastal Zone  \n",
       "14846             Northern Zone  \n",
       "14847              Central Zone  \n",
       "14848   Southern Highlands Zone  \n",
       "14849   Southern Highlands Zone  \n",
       "\n",
       "[14850 rows x 4 columns]"
      ]
     },
     "execution_count": 306,
     "metadata": {},
     "output_type": "execute_result"
    }
   ],
   "source": [
    "df1"
   ]
  },
  {
   "cell_type": "markdown",
   "metadata": {},
   "source": [
    "<p style='font-weight:bold'>Getting how <span style='color:#fbec5d'>the amount of wells in each Zone</span> who has a <span style='color:#fbec5d'>Bad Altitude</span> using the <span style='color:#fbec5d'>Counter()</span> method and <span style='color:#fbec5d'>for loop</span>.</p>"
   ]
  },
  {
   "cell_type": "code",
   "execution_count": 307,
   "metadata": {},
   "outputs": [],
   "source": [
    "zone_bad1 = []\n",
    "for i,x in enumerate(df1.Category):\n",
    "    if x ==3: zone_bad1.append(df1.Zone[i])"
   ]
  },
  {
   "cell_type": "markdown",
   "metadata": {},
   "source": [
    "<p style='font-weight:bold'>The <span style='color:#fbec5d'>Counter()</span> method shows us the <span style='color:#fbec5d'>amount of Bad Altitude</span> in each <span style='color:#fbec5d'>Zone</span> in the <span style='color:#fbec5d'>Bad Altitude Category</span>.</p>"
   ]
  },
  {
   "cell_type": "code",
   "execution_count": 308,
   "metadata": {},
   "outputs": [
    {
     "data": {
      "text/plain": [
       "Counter({' Southern Highlands Zone': 262, ' Northern Zone': 40})"
      ]
     },
     "execution_count": 308,
     "metadata": {},
     "output_type": "execute_result"
    }
   ],
   "source": [
    "Counter(zone_bad1)"
   ]
  },
  {
   "cell_type": "markdown",
   "metadata": {},
   "source": [
    "<p style='font-weight:bold'>Getting how <span style='color:#fbec5d'>the amount of wells in each Zone</span> who has a <span style='color:#fbec5d'>Intermediate Altitude</span> using the <span style='color:#fbec5d'>Counter()</span> method and <span style='color:#fbec5d'>for loop</span>.</p>"
   ]
  },
  {
   "cell_type": "code",
   "execution_count": 309,
   "metadata": {},
   "outputs": [],
   "source": [
    "zone_inter1 = []\n",
    "for i,x in enumerate(df1.Category):\n",
    "    if x ==2: zone_inter1.append(df1.Zone[i])"
   ]
  },
  {
   "cell_type": "markdown",
   "metadata": {},
   "source": [
    "<p style='font-weight:bold'>The <span style='color:#fbec5d'>Counter()</span> method shows us the <span style='color:#fbec5d'>amount of  Intermediate Altitude</span> in each <span style='color:#fbec5d'>Zone</span> in the <span style='color:#fbec5d'> Intermediate Altitude Category</span>.</p>"
   ]
  },
  {
   "cell_type": "code",
   "execution_count": 310,
   "metadata": {},
   "outputs": [
    {
     "data": {
      "text/plain": [
       "Counter({' Northern Zone': 2686,\n",
       "         ' Central Zone': 451,\n",
       "         ' Coastal Zone': 2308,\n",
       "         ' Southern Highlands Zone': 1970,\n",
       "         ' Western Zone': 890,\n",
       "         ' Lake Zone': 639,\n",
       "         ' ': 7,\n",
       "         'unkown': 1})"
      ]
     },
     "execution_count": 310,
     "metadata": {},
     "output_type": "execute_result"
    }
   ],
   "source": [
    "Counter(zone_inter1)"
   ]
  },
  {
   "cell_type": "markdown",
   "metadata": {},
   "source": [
    "<p style='font-weight:bold'>Getting how <span style='color:#fbec5d'>the amount of wells in each Zone</span> who has a <span style='color:#fbec5d'>Good Altitude</span> using the <span style='color:#fbec5d'>Counter()</span> method and <span style='color:#fbec5d'>for loop</span>.</p>"
   ]
  },
  {
   "cell_type": "code",
   "execution_count": 311,
   "metadata": {},
   "outputs": [],
   "source": [
    "zone_good1 = []\n",
    "for i,x in enumerate(df1.Category):\n",
    "    if x ==1: zone_good1.append(df1.Zone[i])"
   ]
  },
  {
   "cell_type": "markdown",
   "metadata": {},
   "source": [
    "<p style='font-weight:bold'>The <span style='color:#fbec5d'>Counter()</span> method shows us the <span style='color:#fbec5d'>amount of Good Altitude</span> in each <span style='color:#fbec5d'>Zone</span> in the <span style='color:#fbec5d'>Good Altitude Category</span>.</p>"
   ]
  },
  {
   "cell_type": "code",
   "execution_count": 312,
   "metadata": {},
   "outputs": [
    {
     "data": {
      "text/plain": [
       "Counter({' Central Zone': 1082,\n",
       "         ' Lake Zone': 2345,\n",
       "         ' Coastal Zone': 418,\n",
       "         'unkown': 457,\n",
       "         ' Northern Zone': 166,\n",
       "         ' Southern Highlands Zone': 1120,\n",
       "         ' ': 8})"
      ]
     },
     "execution_count": 312,
     "metadata": {},
     "output_type": "execute_result"
    }
   ],
   "source": [
    "Counter(zone_good1)"
   ]
  },
  {
   "cell_type": "markdown",
   "metadata": {},
   "source": [
    "<p style='font-weight:bold'>This is the <span style='color:#fbec5d'>HTML Script from Highcharts Libaray</span> to visualize the data of <span style='color:#fbec5d'>the percentage of wells</span> within <span style='color:#fbec5d'>each Zone that have Bad Altitude</span> in the <span style='color:#fbec5d'>Bad Altitude Category</span>, using a <span style='color:#fbec5d'>Colunm chart</span>. This will be done using <span style='color:#fbec5d'>Javascript</span> below and will be saved in an <span style='color:#fbec5d'>.jpeg file</span>.</p>"
   ]
  },
  {
   "cell_type": "code",
   "execution_count": 347,
   "metadata": {},
   "outputs": [
    {
     "data": {
      "text/html": [
       "<script src=\"https://code.highcharts.com/highcharts.js\"></script>\n",
       "<script src=\"https://code.highcharts.com/modules/exporting.js\"></script>\n",
       "<script src=\"https://code.highcharts.com/modules/export-data.js\"></script>\n",
       "<script src=\"https://code.highcharts.com/modules/accessibility.js\"></script>\n",
       "\n",
       "<figure class=\"highcharts-figure\">\n",
       "    <div id='rose5'></div>\n",
       "</figure>\n"
      ],
      "text/plain": [
       "<IPython.core.display.HTML object>"
      ]
     },
     "metadata": {},
     "output_type": "display_data"
    }
   ],
   "source": [
    "%%html\n",
    "<script src=\"https://code.highcharts.com/highcharts.js\"></script>\n",
    "<script src=\"https://code.highcharts.com/modules/exporting.js\"></script>\n",
    "<script src=\"https://code.highcharts.com/modules/export-data.js\"></script>\n",
    "<script src=\"https://code.highcharts.com/modules/accessibility.js\"></script>\n",
    "\n",
    "<figure class=\"highcharts-figure\">\n",
    "    <div id='rose5'></div>\n",
    "</figure>"
   ]
  },
  {
   "cell_type": "markdown",
   "metadata": {},
   "source": [
    "<p style='font-weight:bold'>This is the <span style='color:#fbec5d'>Javascript Script from Highcharts Libaray</span> to visualize the data of <span style='color:#fbec5d'>the percentage of wells</span> within <span style='color:#fbec5d'>each Zone that have Bad Altitude</span> in the <span style='color:#fbec5d'>Bad Altitude Category</span>, using a <span style='color:#fbec5d'>Colunm chart</span>. Individual <span style='color:#fbec5d'>Columns chart</span> brings up more <span style='color:#fbec5d'>detailed data</span>. This will be saved in a <span style='color:#fbec5d'>.jpeg file</span> called <span style='color:#fbec5d'>'classification-of-the-ta (4).jpeg'</span>.</p>"
   ]
  },
  {
   "cell_type": "code",
   "execution_count": 344,
   "metadata": {},
   "outputs": [
    {
     "data": {
      "application/javascript": [
       "Highcharts.chart('rose5', {\n",
       "    chart: {\n",
       "        type: 'column',\n",
       "        width:600,\n",
       "        height:450,\n",
       "    },\n",
       "    title: {\n",
       "        text: '<span style=\"color:#6495ED\">This is the Bad Altitude Category and the Percentage of each Tazania\\'s Zone within this Category</span>'\n",
       "    },\n",
       "    subtitle: {\n",
       "        text: '<span style=\"color:#6495ED\">There are Six Zones:</span> <span style=\"color:#7F00FF \">Northern|Central|Coastel|Southern Highlands|Lake|Western</span>'\n",
       "    },\n",
       "    xAxis: {\n",
       "        type: 'category',\n",
       "        labels: {\n",
       "            style: {\n",
       "                fontSize: '13px',\n",
       "                fontFamily: 'Verdana, sans-serif'\n",
       "            }\n",
       "        }\n",
       "    },\n",
       "    yAxis: {\n",
       "        min: 0,\n",
       "        title: {\n",
       "            text: 'Percentage (%)'\n",
       "        }\n",
       "    },\n",
       "    legend: {\n",
       "        enabled: false\n",
       "    },\n",
       "    plotOptions: {\n",
       "        column: {\n",
       "            colorByPoint: true\n",
       "        },\n",
       "        series: {\n",
       "            borderWidth: 0,\n",
       "            dataLabels: {\n",
       "                enabled: true,\n",
       "                format: '{point.y:.0f}%'\n",
       "            }\n",
       "        }\n",
       "    },\n",
       "    tooltip: {\n",
       "        pointFormat: 'Percentage: <b>{point.y:.0f} %</b>'\n",
       "    },\n",
       "    series: [{\n",
       "        colors: ['#2874A6','#EBF5FB'],\n",
       "        name: 'Bad Altitude',\n",
       "        data: [\n",
       "            ['Southern Highlands Zone', 87],\n",
       "            ['Northern Zone', 13]\n",
       "        ]\n",
       "    }]\n",
       "});\n"
      ],
      "text/plain": [
       "<IPython.core.display.Javascript object>"
      ]
     },
     "metadata": {},
     "output_type": "display_data"
    }
   ],
   "source": [
    "%%js\n",
    "Highcharts.chart('rose5', {\n",
    "    chart: {\n",
    "        type: 'column',\n",
    "        width:600,\n",
    "        height:450,\n",
    "    },\n",
    "    title: {\n",
    "        text: '<span style=\"color:#6495ED\">This is the Bad Altitude Category and the Percentage of each Tazania\\'s Zone within this Category</span>'\n",
    "    },\n",
    "    subtitle: {\n",
    "        text: '<span style=\"color:#6495ED\">There are Six Zones:</span> <span style=\"color:#7F00FF \">Northern|Central|Coastel|Southern Highlands|Lake|Western</span>'\n",
    "    },\n",
    "    xAxis: {\n",
    "        type: 'category',\n",
    "        labels: {\n",
    "            style: {\n",
    "                fontSize: '13px',\n",
    "                fontFamily: 'Verdana, sans-serif'\n",
    "            }\n",
    "        }\n",
    "    },\n",
    "    yAxis: {\n",
    "        min: 0,\n",
    "        title: {\n",
    "            text: 'Percentage (%)'\n",
    "        }\n",
    "    },\n",
    "    legend: {\n",
    "        enabled: false\n",
    "    },\n",
    "    plotOptions: {\n",
    "        column: {\n",
    "            colorByPoint: true\n",
    "        },\n",
    "        series: {\n",
    "            borderWidth: 0,\n",
    "            dataLabels: {\n",
    "                enabled: true,\n",
    "                format: '{point.y:.0f}%'\n",
    "            }\n",
    "        }\n",
    "    },\n",
    "    tooltip: {\n",
    "        pointFormat: 'Percentage: <b>{point.y:.0f} %</b>'\n",
    "    },\n",
    "    series: [{\n",
    "        colors: ['#2874A6','#EBF5FB'],\n",
    "        name: 'Bad Altitude',\n",
    "        data: [\n",
    "            ['Southern Highlands Zone', 87],\n",
    "            ['Northern Zone', 13]\n",
    "        ]\n",
    "    }]\n",
    "});"
   ]
  },
  {
   "cell_type": "markdown",
   "metadata": {},
   "source": [
    "<p style='font-weight:bold'>This is the <span style='color:#fbec5d'>HTML Script from Highcharts Libaray</span> to visualize the data of <span style='color:#fbec5d'>the percentage of wells</span> within <span style='color:#fbec5d'>each Zone that have Intermediate Altitude</span> in the <span style='color:#fbec5d'>Intermediate Altitude Category</span>, using a <span style='color:#fbec5d'>Colunm chart</span>. This will be done using <span style='color:#fbec5d'>Javascript</span> below and will be saved in an <span style='color:#fbec5d'>.jpeg file</span>.</p>"
   ]
  },
  {
   "cell_type": "code",
   "execution_count": 346,
   "metadata": {},
   "outputs": [
    {
     "data": {
      "text/html": [
       "<script src=\"https://code.highcharts.com/highcharts.js\"></script>\n",
       "<script src=\"https://code.highcharts.com/modules/exporting.js\"></script>\n",
       "<script src=\"https://code.highcharts.com/modules/export-data.js\"></script>\n",
       "<script src=\"https://code.highcharts.com/modules/accessibility.js\"></script>\n",
       "\n",
       "<figure class=\"highcharts-figure\">\n",
       "    <div id='rose6'></div>\n",
       "</figure>\n"
      ],
      "text/plain": [
       "<IPython.core.display.HTML object>"
      ]
     },
     "metadata": {},
     "output_type": "display_data"
    }
   ],
   "source": [
    "%%html\n",
    "<script src=\"https://code.highcharts.com/highcharts.js\"></script>\n",
    "<script src=\"https://code.highcharts.com/modules/exporting.js\"></script>\n",
    "<script src=\"https://code.highcharts.com/modules/export-data.js\"></script>\n",
    "<script src=\"https://code.highcharts.com/modules/accessibility.js\"></script>\n",
    "\n",
    "<figure class=\"highcharts-figure\">\n",
    "    <div id='rose6'></div>\n",
    "</figure>"
   ]
  },
  {
   "cell_type": "markdown",
   "metadata": {},
   "source": [
    "<p style='font-weight:bold'>This is the <span style='color:#fbec5d'>Javascript Script from Highcharts Libaray</span> to visualize the data of <span style='color:#fbec5d'>the percentage of wells</span> within <span style='color:#fbec5d'>each Zone that have Intermediate Altitude</span> in the <span style='color:#fbec5d'>Intermediate Altitude Category</span>, using a <span style='color:#fbec5d'>Colunm chart</span>. Individual <span style='color:#fbec5d'>Columns chart</span> brings up more <span style='color:#fbec5d'>detailed data</span>. This will be saved in a <span style='color:#fbec5d'>.png file</span> called <span style='color:#fbec5d'>'this-is-the-intermediate (1).png'</span>.</p>"
   ]
  },
  {
   "cell_type": "code",
   "execution_count": 343,
   "metadata": {},
   "outputs": [
    {
     "data": {
      "application/javascript": [
       "Highcharts.chart('rose6', {\n",
       "    chart: {\n",
       "        type: 'column',\n",
       "        width:880,\n",
       "        height:450,\n",
       "    },\n",
       "    title: {\n",
       "        text: '<span style=\"color:#6495ED\">This is the Intermediate Static Head Category and the Percentage of each Tazania\\'s Zone within this Category</span>'\n",
       "    },\n",
       "    subtitle: {\n",
       "        text: '<span style=\"color:#6495ED\">There are Six Zones:</span> <span style=\"color:#7F00FF \">Northern|Central|Coastel|Southern Highlands|Lake|Western</span>'\n",
       "    },\n",
       "    xAxis: {\n",
       "        type: 'category',\n",
       "        labels: {\n",
       "            style: {\n",
       "                fontSize: '13px',\n",
       "                fontFamily: 'Verdana, sans-serif'\n",
       "            }\n",
       "        }\n",
       "    },\n",
       "    yAxis: {\n",
       "        min: 0,\n",
       "        title: {\n",
       "            text: 'Percentage (%)'\n",
       "        }\n",
       "    },\n",
       "    legend: {\n",
       "        enabled: false\n",
       "    },\n",
       "    plotOptions: {\n",
       "        column: {\n",
       "            colorByPoint: true\n",
       "        },\n",
       "        series: {\n",
       "            borderWidth: 0,\n",
       "            dataLabels: {\n",
       "                enabled: true,\n",
       "                format: '{point.y:.0f}%'\n",
       "            }\n",
       "        }\n",
       "    },\n",
       "    tooltip: {\n",
       "        pointFormat: 'Percentage: <b>{point.y:.0f} %</b>'\n",
       "    },\n",
       "    series: [{\n",
       "        colors: ['#EBF5FB','#85C1E9','#3498DB','#2874A6','#045D7B', '#154360'],\n",
       "        name: 'Intermediate Static Head',\n",
       "        data: [\n",
       "         ['Northern Zone', 29],\n",
       "         ['Central Zone', 5],\n",
       "         ['Coastal Zone', 26],\n",
       "         ['Southern Highlands Zone', 22],\n",
       "         ['Western Zone', 10],\n",
       "         ['Lake Zone', 7]\n",
       "        ]\n",
       "    }]\n",
       "});\n"
      ],
      "text/plain": [
       "<IPython.core.display.Javascript object>"
      ]
     },
     "metadata": {},
     "output_type": "display_data"
    }
   ],
   "source": [
    "%%js\n",
    "Highcharts.chart('rose6', {\n",
    "    chart: {\n",
    "        type: 'column',\n",
    "        width:880,\n",
    "        height:450,\n",
    "    },\n",
    "    title: {\n",
    "        text: '<span style=\"color:#6495ED\">This is the Intermediate Static Head Category and the Percentage of each Tazania\\'s Zone within this Category</span>'\n",
    "    },\n",
    "    subtitle: {\n",
    "        text: '<span style=\"color:#6495ED\">There are Six Zones:</span> <span style=\"color:#7F00FF \">Northern|Central|Coastel|Southern Highlands|Lake|Western</span>'\n",
    "    },\n",
    "    xAxis: {\n",
    "        type: 'category',\n",
    "        labels: {\n",
    "            style: {\n",
    "                fontSize: '13px',\n",
    "                fontFamily: 'Verdana, sans-serif'\n",
    "            }\n",
    "        }\n",
    "    },\n",
    "    yAxis: {\n",
    "        min: 0,\n",
    "        title: {\n",
    "            text: 'Percentage (%)'\n",
    "        }\n",
    "    },\n",
    "    legend: {\n",
    "        enabled: false\n",
    "    },\n",
    "    plotOptions: {\n",
    "        column: {\n",
    "            colorByPoint: true\n",
    "        },\n",
    "        series: {\n",
    "            borderWidth: 0,\n",
    "            dataLabels: {\n",
    "                enabled: true,\n",
    "                format: '{point.y:.0f}%'\n",
    "            }\n",
    "        }\n",
    "    },\n",
    "    tooltip: {\n",
    "        pointFormat: 'Percentage: <b>{point.y:.0f} %</b>'\n",
    "    },\n",
    "    series: [{\n",
    "        colors: ['#EBF5FB','#85C1E9','#3498DB','#2874A6','#045D7B', '#154360'],\n",
    "        name: 'Intermediate Static Head',\n",
    "        data: [\n",
    "         ['Northern Zone', 29],\n",
    "         ['Central Zone', 5],\n",
    "         ['Coastal Zone', 26],\n",
    "         ['Southern Highlands Zone', 22],\n",
    "         ['Western Zone', 10],\n",
    "         ['Lake Zone', 7]\n",
    "        ]\n",
    "    }]\n",
    "});"
   ]
  },
  {
   "cell_type": "markdown",
   "metadata": {},
   "source": [
    "<p style='font-weight:bold'>This is the <span style='color:#fbec5d'>HTML Script from Highcharts Libaray</span> to visualize the data of <span style='color:#fbec5d'>the percentage of wells</span> within <span style='color:#fbec5d'>each Zone that have Good Altitude</span> in the <span style='color:#fbec5d'>Good Altitude Category</span>, using a <span style='color:#fbec5d'>Colunm chart</span>. This will be done using <span style='color:#fbec5d'>Javascript</span> below and will be saved in an <span style='color:#fbec5d'>.png file</span>.</p>"
   ]
  },
  {
   "cell_type": "code",
   "execution_count": 345,
   "metadata": {},
   "outputs": [
    {
     "data": {
      "text/html": [
       "<script src=\"https://code.highcharts.com/highcharts.js\"></script>\n",
       "<script src=\"https://code.highcharts.com/modules/exporting.js\"></script>\n",
       "<script src=\"https://code.highcharts.com/modules/export-data.js\"></script>\n",
       "<script src=\"https://code.highcharts.com/modules/accessibility.js\"></script>\n",
       "\n",
       "<figure class=\"highcharts-figure\">\n",
       "    <div id='rose7'></div>\n",
       "</figure>\n"
      ],
      "text/plain": [
       "<IPython.core.display.HTML object>"
      ]
     },
     "metadata": {},
     "output_type": "display_data"
    }
   ],
   "source": [
    "%%html\n",
    "<script src=\"https://code.highcharts.com/highcharts.js\"></script>\n",
    "<script src=\"https://code.highcharts.com/modules/exporting.js\"></script>\n",
    "<script src=\"https://code.highcharts.com/modules/export-data.js\"></script>\n",
    "<script src=\"https://code.highcharts.com/modules/accessibility.js\"></script>\n",
    "\n",
    "<figure class=\"highcharts-figure\">\n",
    "    <div id='rose7'></div>\n",
    "</figure>"
   ]
  },
  {
   "cell_type": "markdown",
   "metadata": {},
   "source": [
    "<p style='font-weight:bold'>This is the <span style='color:#fbec5d'>Javascript Script from Highcharts Libaray</span> to visualize the data of <span style='color:#fbec5d'>the percentage of wells</span> within <span style='color:#fbec5d'>each Zone that have Good Altitude</span> in the <span style='color:#fbec5d'>Good Altitude Category</span>, using a <span style='color:#fbec5d'>Colunm chart</span>. Individual <span style='color:#fbec5d'>Columns chart</span> brings up more <span style='color:#fbec5d'>detailed data</span>. This will be saved in a <span style='color:#fbec5d'>.png file</span> called <span style='color:#fbec5d'>'this-is-the-good-static.png'</span>.</p>"
   ]
  },
  {
   "cell_type": "code",
   "execution_count": 342,
   "metadata": {},
   "outputs": [
    {
     "data": {
      "application/javascript": [
       "Highcharts.chart('rose7', {\n",
       "    chart: {\n",
       "        type: 'column',\n",
       "        width:880,\n",
       "        height:450,\n",
       "    },\n",
       "    title: {\n",
       "        text: '<span style=\"color:#6495ED\">This is the Good Altitude Category and the Percentage of each Tazania\\'s Zone within this Category</span>'\n",
       "    },\n",
       "    subtitle: {\n",
       "        text: '<span style=\"color:#6495ED\">There are Six Zones:</span> <span style=\"color:#7F00FF \">Northern|Central|Coastel|Southern Highlands|Lake|Western</span>'\n",
       "    },\n",
       "    xAxis: {\n",
       "        type: 'category',\n",
       "        labels: {\n",
       "            style: {\n",
       "                fontSize: '13px',\n",
       "                fontFamily: 'Verdana, sans-serif'\n",
       "            }\n",
       "        }\n",
       "    },\n",
       "    yAxis: {\n",
       "        min: 0,\n",
       "        title: {\n",
       "            text: 'Percentage (%)'\n",
       "        }\n",
       "    },\n",
       "    legend: {\n",
       "        enabled: false\n",
       "    },\n",
       "    plotOptions: {\n",
       "        column: {\n",
       "            colorByPoint: true\n",
       "        },\n",
       "        series: {\n",
       "            borderWidth: 0,\n",
       "            dataLabels: {\n",
       "                enabled: true,\n",
       "                format: '{point.y:.0f}%'\n",
       "            }\n",
       "        }\n",
       "    },\n",
       "    tooltip: {\n",
       "        pointFormat: 'Percentage: <b>{point.y:.0f} %</b>'\n",
       "    },\n",
       "    series: [{\n",
       "        colors: ['#85C1E9','#154360','#3498DB','#33505A','#EBF5FB','#2874A6'],\n",
       "        name: 'Good Altitude',\n",
       "        data: [\n",
       "            ['Central Zone', 20],\n",
       "         ['Lake Zone', 42],\n",
       "         ['Coastal Zone', 7],\n",
       "         ['unkown', 8],\n",
       "         ['Northern Zone', 3],\n",
       "         ['Southern Highlands Zone', 20]\n",
       "        ]\n",
       "    }]\n",
       "});\n"
      ],
      "text/plain": [
       "<IPython.core.display.Javascript object>"
      ]
     },
     "metadata": {},
     "output_type": "display_data"
    }
   ],
   "source": [
    "%%js\n",
    "Highcharts.chart('rose7', {\n",
    "    chart: {\n",
    "        type: 'column',\n",
    "        width:880,\n",
    "        height:450,\n",
    "    },\n",
    "    title: {\n",
    "        text: '<span style=\"color:#6495ED\">This is the Good Altitude Category and the Percentage of each Tazania\\'s Zone within this Category</span>'\n",
    "    },\n",
    "    subtitle: {\n",
    "        text: '<span style=\"color:#6495ED\">There are Six Zones:</span> <span style=\"color:#7F00FF \">Northern|Central|Coastel|Southern Highlands|Lake|Western</span>'\n",
    "    },\n",
    "    xAxis: {\n",
    "        type: 'category',\n",
    "        labels: {\n",
    "            style: {\n",
    "                fontSize: '13px',\n",
    "                fontFamily: 'Verdana, sans-serif'\n",
    "            }\n",
    "        }\n",
    "    },\n",
    "    yAxis: {\n",
    "        min: 0,\n",
    "        title: {\n",
    "            text: 'Percentage (%)'\n",
    "        }\n",
    "    },\n",
    "    legend: {\n",
    "        enabled: false\n",
    "    },\n",
    "    plotOptions: {\n",
    "        column: {\n",
    "            colorByPoint: true\n",
    "        },\n",
    "        series: {\n",
    "            borderWidth: 0,\n",
    "            dataLabels: {\n",
    "                enabled: true,\n",
    "                format: '{point.y:.0f}%'\n",
    "            }\n",
    "        }\n",
    "    },\n",
    "    tooltip: {\n",
    "        pointFormat: 'Percentage: <b>{point.y:.0f} %</b>'\n",
    "    },\n",
    "    series: [{\n",
    "        colors: ['#85C1E9','#154360','#3498DB','#33505A','#EBF5FB','#2874A6'],\n",
    "        name: 'Good Altitude',\n",
    "        data: [\n",
    "            ['Central Zone', 20],\n",
    "         ['Lake Zone', 42],\n",
    "         ['Coastal Zone', 7],\n",
    "         ['unkown', 8],\n",
    "         ['Northern Zone', 3],\n",
    "         ['Southern Highlands Zone', 20]\n",
    "        ]\n",
    "    }]\n",
    "});"
   ]
  },
  {
   "cell_type": "markdown",
   "metadata": {},
   "source": [
    "<center><h3 style=\"color:#6495ED\" >The Evaluation of the Classification of the Altitude in the Tanzania Wells</h3></center>"
   ]
  },
  {
   "cell_type": "markdown",
   "metadata": {},
   "source": [
    "<center><h4 style='color:white;'>The Items Chart of the Classification of the Altitude of the Tanzania Wells.</h4></center><center><img  src=\"classification-of-the-ta (4).jpeg\" style=\"width:50%\"></center>"
   ]
  },
  {
   "cell_type": "markdown",
   "metadata": {},
   "source": [
    "<p><span style='font-weight:bold;color:#6495ED'>What is an Altitude?:</span></p>\n",
    "<p><span style='font-weight:bold;color:#6495ED'>Why does Altitude matter and why is it being used as a Variable to Classify the Functionality of a Well?:</span></p>\n",
    "<p><span style='font-weight:bold;color:#6495ED'>What is a Good Altitude?:</span></p>\n",
    "<p><span style='font-weight:bold;color:#6495ED'>What is a Intermediate Altitude?:</span></p>\n",
    "<p><span style='font-weight:bold;color:#6495ED'>What is a Bad Altitude?:</span></p>\n",
    "<p><span style='font-weight:bold;color:#6495ED'>Conclusion A:</span></p>"
   ]
  },
  {
   "cell_type": "markdown",
   "metadata": {},
   "source": [
    "<center><table style=\"display: inline-block;width:34%\" ><tr><td><center><h4 style='color:white;'>A Colunm Chart of the Perentage of Each Zone in the Good Altitude Category.</h4><img src=\"this-is-the-good-altitud.png\" style=\"height:298px;width:auto\"></center><center>X-axis: <span style='font-weight:bold;color:#6495ED'>All the Six Zones that are located in Tazania</span></center><center>Y-axis: <span style='font-weight:bold;color:#6495ED'>Probability</span></center></td></tr></table>\n",
    "    \n",
    "<table style=\"display: inline-block;width:35%\" ><tr><td><center><h4 style='color:white;'>A Colunm Chart of the Perentage of Each Zone in the Intermediate Altitude Category.</h4></center><center><img src=\"this-is-the-intermediate (3).png\" style=\"width:100%\"></center><center>X-axis: <span style='font-weight:bold;color:#6495ED'>All the Six Zones that are located in Tazania</span></center> <center>Y-axis: <span style='font-weight:bold;color:#6495ED'>Probability</span></center></td></tr></table>\n",
    "\n",
    "<table style=\"display: inline-block;width:30%\" ><tr><td><center><h4 style='color:white;'>A Colunm Chart of the Perentage of Each Zone in the Bad Altitude Category.</h4><img src=\"this-is-the-bad-altitude.png\" style=\"height:298px;width:500px\"></center><center>X-axis: <span style='font-weight:bold;color:#6495ED'>All the Six Zones that are located in Tazania</span></center> <center>Y-axis: <span style='font-weight:bold;color:#6495ED'>Probability</span></center></td></tr></table></center>"
   ]
  },
  {
   "cell_type": "markdown",
   "metadata": {},
   "source": [
    "The grpahs above are columns charts of the percentage of all 6 Zones located n Tanzania within the dataset that have a Bad Altitude, Good Altitude and an Intermediate Altitude. The six Zones that are located in Tanzania are Northern Zone, Central Zone, Coastel Zone, Southern Highlands Zone, Lake Zone and Western Zone. \n",
    "\n",
    "\n",
    "<table style=\"display: inline-block;width:33%\" > \n",
    "       <tr><td><span style='font-weight:bold;color:#6495ED'><font size=2>In the First Colunm Chart:</span>\n",
    "<li><font size=2 style=\"font-weight:500\" >The Zone with the highest percentage within the Good Altitude Category is Lake Zone with 42%.</font></li><br>\n",
    "<li><font size=2 style=\"font-weight:500\">The Zone with the 2nd highest percentage within the Good Altitude Category is Southern Highlands Zone with 20%, it is tied with one other zones as the 2nd Highest.</li><br>\n",
    "<li><font size=2 style=\"font-weight:500\">The Zone with the 2nd highest percentage within the Good Altitude Category is Central Zone with 20%, it is tied with one other zones as the 2nd Highest.</li><br>\n",
    "<li><font size=2 style=\"font-weight:500\">The Zone with the 3rd highest percentage within the Good Altitude Category is Unkown with 8%.</li><br>\n",
    "<li><font size=2 style=\"font-weight:500\">The Zone with the 4th highest percentage within the Good Altitude Category is Coastel Zone with 7%.</li><br>\n",
    "<li><font size=2 style=\"font-weight:500\">The Zone with the lowest percentage  within the Good Altitude Head Category is Northern Zone which with 3%. </li></td></tr></table>\n",
    "\n",
    "\n",
    "<table style=\"display: inline-block;width:33%\" > \n",
    "       <tr><td><span style='font-weight:bold;color:#6495ED'><font size=2>In the Second Colunm Chart:</span>\n",
    "<li><font size=2 style=\"font-weight:500\">The Zone with the highest percentage within the Intermediate Altitude Category is Northern Zone with 29%.</li><br>\n",
    "<li><font size=2 style=\"font-weight:500\">The Zone with the 2nd highest percentage within the Intermediate Altitude Category is Coastel Zone with 26%.</li><br>\n",
    "<li><font size=2 style=\"font-weight:500\">The Zone with the 2nd highest percentage within the Intermediate Altitude Category is Southern Highlands Zone with 22%.</li><br>\n",
    "<li><font size=2 style=\"font-weight:500\">The Zone with the 2nd highest percentage within the Intermediate Altitude Category is Western Zone with 10%.</li><br>\n",
    "<li><font size=2 style=\"font-weight:500\">The Zone with the 3rd highest percentage within the Intermediate Altitude Category is Lake Zone with 7%.</li><br>\n",
    "<li><font size=2 style=\"font-weight:500\">The Zone with the lowest percentage  within the Intermediate Altitude Category is Central Zone which with 5%. </li></td></tr></table>\n",
    "\n",
    "<table style=\"display: inline-block;width:33%\" > \n",
    "       <tr><td><span style='font-weight:bold;color:#6495ED'><font size=2 >In the Third Colunm Chart:</span>\n",
    "<li><font size=2 style=\"font-weight:500\">The Zone with the highest percentage within the Bad Altitude Category is Southern Highlands Zone with 87%.</li><br>\n",
    "<li><font size=2 style=\"font-weight:500\">The Zone with the lowest percentage within the Bad Altitude Category is Northern Zone with 13%.</li><br><br><br><br><br><br><br><br><br><br><br><br></td></tr></table>\n",
    "\n",
    "<p><span style='font-weight:bold;color:#6495ED'>Conclusion B:</span> Based on the three Colunm Charts, out of all the other five Lake Zone is the best zones when it comes to the amount of Good, Intermediate and Bad Static Head each Zone has. Coastal Zone has the highest percentage of Good Altitude with 42%, the second lowest percentage of Intermediate Altitude with 7% and does not have any Bad Altitude among its wells.\n",
    "</p>"
   ]
  },
  {
   "cell_type": "markdown",
   "metadata": {},
   "source": [
    "<h2 style=\"color:#00FFFF\" >3. Water Quality</h2>"
   ]
  },
  {
   "cell_type": "markdown",
   "metadata": {},
   "source": [
    "Water Qualtiy is another colunm in the dataset. It identifies what kind of water each well in the dataset produces in Tanzani. There two components that contributes in the functionality of a well. The technical aspect of the well and the type of water the well produceses inculding where the water is extracted from. The dataset has 7 different stypes of water that the well located in Tansani produces. Before diving deep into the 7 different types of water in the Water Wells in Tanzania, the quality of those 7 water types, we are going to dicuss what water is and the effect it has in the human body and why water is a significant component of a well.<br>\n",
    "\n",
    "<span style='font-weight:bold;color:#00FFFF'>What is Water? </span> Water is a particular kind of matter composed of checmical elements like Hyydrogen and Oxygen. These chemical still exist when water is a liquid, solid or a gass. As we all know there is alot of water on earth, everywhere we look we see water as a liquid, gass (water vapour) or soild. Water is one of the most essential compunds as water is need for a lot of things in our mundane daily life. It is a tasteless and odourless substance at room temperature, it can make other substances dissolve. \n",
    "Water is a solvent, a solvent is a a subatsance that dissolves a solute to make a solution and a solute is a subatance that is dissolved in a solvent or solution. In other words a solvent is a liquid that can dissolve substance to cretate a liquid mixture. Because water is a solvent it makes it essential to living organisms including us humans. When ater is a solvent in a solution, the solution is refered as an aqueous solution, living organisms depend on aqueous solutions such as blood and digestive juices for biological processes. when water is in small quantities like in a glass of water or when you trn on the tap it appears to be colourless but water has a natural blue colour caused by the slight absorption of light at red wavelengths. \n",
    "<br><br>\n",
    "<span style='font-weight:bold;color:#00FFFF'>How does Water affcet the Human Body? </span> Have you ever heard the phrase \"Water is Life\" or that \"Water is essential for your health\", but the real quastion is what makes water so significant to our bodies. Like previoulsy explaine Water is a coumpound of Hydrogen and Oxygen aslo sometimes referred to as H2O. This compound makes up more than half of the human body weight and is a significant part of the functionality of the body parts of the human body. Water or H2O helps get rid of waste from the body, it helps control the temperature of the human body and it also helps the brain function. The human body gets the majority of water from us drinking liquids or beverages, food also producese a small amount water to the human body. water also helps protects tissues, the spianl cord and joints in the human body. It helps excretes waste through perspiration, urination and defecation. Perspiration is the process in which water excrete waste such as salt through sweating in the human body. Urination is the process in which water excretes urine, urine is a liquid that is a result of matabolism in the human body. Defecation is the process in which water excretes waste such as feces from the human body. Water also helps prevent constipation , helps digestion, helps the absorption of nutrient, helps fight off illness and improves blood oxygen circulation in the human body. The human body can survive from ten to several weeks wothout any food. However the human body can only survive three to five days without water. Ergo this makes water extremely significant, without water the human body shuts down and eventually leads to the death of a person.  \n",
    "\n",
    "<span style='font-weight:bold;color:#00FFFF'>The Importance Water has in a  Well? </span> The functionality of a well is not just the technical part of the well but also the substance the well produces, which is the water. If the well can not pump out atwer in a sufficent manner then it is not functional and if the well has no water to pump then the well will not be considered functional at well, after all people come to a well to get water to drink or use in their daily lifes. Without water ther is no well. So the water quality of a well is significant. In the dataset of the Tanzania Wells there are 7 different types of water. Soft Water, Salty Water, Milky Water, Coloured Water, Salty Abandoned Water, Flouride Water and Flouride Abandoned Water. Below will be a description of the type of water the wells in Tanzania have and the effect they will have on the  technical part of the well and the people who drink it. Based on the description of the quality of each water type in the Tanzania Wells the water types will be classified as Good, Bad or Intermediate Water Quality.\n",
    "\n",
    "<p><span style='font-weight:bold;color:#fbec5d'>What is Soft Water?:</span><br>\n",
    "Who would have ever thought that there were different types of water. I mean water is water right. What makes  Soft Water its own type of water. One of the ways to understand what Soft Water is, is to understand the ideology of water hardness. The hardness of water is classified by the density of minerals such as calcium and magnesium,  that has been dissolved in a water solvent. While hard water has an excess amount of calcium and magnesium, Soft Water is completly the oppisite. It is free from harsh minerals that can damage the technial part of the well like the pumps and pipes and it can also damage the human body. Soft water is gentle to the human body. The mineral content of water effcets how it is classified on the scale of Hard to soft water.  Higher levels of these minerals makes water classified as Hard Water and Lower levels of these minerals makes water classified as Soft Water. The mineral composition of the water gives it its own identity. Many components of hard water is detrimental to specific equipment within a water well due to the presence of minerals.<br>\n",
    "    \n",
    "<span style='font-weight:bold;color:#00FFFF'>What makes Water Hard? </span> The causation of hard water happens naturally during the movement of water through the water cycle. Precipitation which is rainwater, it does not have a huge amount of minerals which will be considered Soft Water. Ergo rainwwater is classified as Soft Water. There are things that makes water hard, and if we know these thinsg we can prevent Soft Water from being hard or know when and where to extract Soft Water. Groundwater, the lcoation of where the water is extracted or water as a solvent is what makes a water Hard or Soft. Groundwater turns water from Soft water to Hard Water. Water starts as Soft i its authentic form as rainwater then as it fails to the ground and goes through the soil and picks up minerals it turns to Hard Water. On of the ways to prevent getting hard water is if the Wells in Tanzania does not extract its water from ground water. The location aspect is if the water is being extracted from a place contaminated of an abundance of chalk and limestone, there is a high chance it will be Hard Water. </p>\n",
    "\n",
    "<p><span style='font-weight:bold;color:#fbec5d'>How does Soft Water affect the functionality of a well?:</span><br>Like we mentioned above, the functionality of a well is composed of two major aspects. The technial functionality of the well and the quality of the water the well producses. Like explained above Soft Water is the oppsite of Hard Water, Soft Water does not contain that much minerals, this is a good thing as it would not effect the pipes and pumps in a well.  When water has a high density of minerals when it travels through the pipes, pumps and waterpiont it leaves behind deposits of the minerals it was carrying. The termnology for this occurance is called Limescale Buildup. Through out time as water with a high density of minerals flows through the pipes, pumps and waterpiont, the water leaves behind a good amount of minerals known as Limescale. The  pipes, pumps and waterpionts it starts to have a build up of Limescale which over time eventually interupts the flow rate of the water in the pipes in a negative way. Limescale reduces the ease of the flow of water in the well, it will slowly degrade the pipes and pump in the well because of how dense the minerals are in the water. If the build up of Limescale is not prevented it will eventally clog the pipes and pumps, this will prevent the well from being able to extract water and pump it out through a waterpiont or dicharge pipe. Soft Water also prevents the damages of clothes, prevent the growth of soap scum and prevent the dullness of the appearnace of hair when used to wash hair as hard water does the oppisite. <br>\n",
    "    \n",
    "<span style='font-weight:bold;color:#00FFFF'>How does Soft Water affcet the Human Body? </span> Soft water is very safe to drink. It is believed that Soft Water is clean for the human body. Soft water dose not leave behind a mineral residue like hard water does.  </p>\n",
    "\n",
    "<p><span style='font-weight:bold;color:#fbec5d'>What is Salty Water?:</span><br>\n",
    "Salty Water also known as Salt Water whcih  is water that contains salt. It is that kind od water that is extracted from the oceans or seas. It is also labeled as Saline Water or normally Seawater. The reason why Seawater is salty is because when it rains, the rain water falls onto the nearby rocks. The rain water that falls on land or rocks is slightly acidic, because of that the rainwater being acidic  then erodes the rocks, breaking up the rocks near the sea. The acidicy of the rain water reacts with carbon dioxide in the air to make carbonic acid. When the rainwater falls onto the rock the acid from the rainwater dissolves the minerals from the rocks  and transports their minerals and ions into the sea and ocean. Making the Sease and oceans saltier. This happens over millions of yeaars, this is a very slow occurance. Another way the Ocean gets its water is from water flowing from freshwater streams and rivers. These flowing stream of water from rivers and streams do contain salt. The streams and rivers also erodes the rocks on the land as it is flowing through them dissolvong the rocks and transporting the ions and minerals from the rocks into the sea and ocean. However those bodies of water from the rivers, stream and rainwater hwen they fall onto rocks are not as salty as the ocean is. Rainwater is sodt water meaning naturally it has very little to no minearls in it. Evn when it does erodes with rockas or soail or land it only carries tiny amount of salt with it, rainwater actually adds more freshwater to streams, rivers and lakes then it does with salt. The majority off the oceans salt comes from seafloor vents in the ocean.  \n",
    "\n",
    "<span style='font-weight:bold;color:#00FFFF'>What are Seafloor Vents? </span></p>\n",
    "\n",
    "<p><span style='font-weight:bold;color:#fbec5d'>What is Milky Water?:</span><br>\n",
    "Milky water is sometimes refered to as cloudy water or white water,the whitening of water or the cloudiness of water can be caused by air and water blending together as the water it puming through the pipes in a well. This is often a reaction to a tear in the pipe resulting to more air being pulled into the pipe as the water flows through it. While water is moving through the water pipes and it is combines with air while traveling throught the pipes. As the water flows through the discharge pipe pressure is released and tiny air bubbles are formed. This is the reason what gives water its cloudy appearance. The pumps and pipes in the Well has a small amount of air in them but that is not enough to cause the water to be milky. It is possible that additional air can eneter the pumps and pipes through a break or tire in the piping system. As pressure enters the pipes the air dissolves within the water but when the people pump water out of the Well and release the pressure the air comes out. Ergo if the piping system is cracked or toren due to any incident this can cause air to seep into the Wells system. Milky water can also be caused by too much water pressure within the Well, as previously disccused in this analysis Static Head and Altitude is the main soruce in where the Well gets its pressure. </p>\n",
    "\n",
    "<p><span style='font-weight:bold;color:#fbec5d'>What is Coloured Water?:</span><br>\n",
    "Pure water has a tint of the color blue in it. There are times when water is definitely not clear.  When water has too much iron in it, it tends to add a rusty, reddish brown or sometimes mustard yellow color to water. If water has a hint of color to it, it not seem appealing to drink but it may not make is a life hazard. When drinking water with iron in it it has a bit of metallic taste to it. Dissolved metals in water does not have a desirable taste to it. Color in drinking water can be a result of dissolved and suspeneded metals and materials. Drinking water can also have a brown shade to it, this occurance is a result of the water pipes rust blending with the water. Some people prefer water with dissolved minerals in it because water does contain a good amount of minerals that are beneficial to the human body. The reason why water in blue in a pool of water or in the ocean or seas is beacuse the water molecules absorbes light as it travels through the water. Particularly the water molecules absorbs the red end of the spectrum of visible light, in more detail the absorption of light as it travels through light is because of the way atoms vibrate and absorb different wavelengths of light, particularly red light. \n",
    "    \n",
    "<span style='font-weight:bold;color:#00FFFF'>Two ways Water can be Colored by the Enviorement? </span> There are two ways in which water becomes colored through dissolved and suspended components. A good example of water being colored through dissolved components is through a dissolved substance called Tannin. </p>\n",
    "\n",
    "<p><span style='font-weight:bold;color:#fbec5d'>What is Fluoride Water?:</span><br>\n",
    "Fluoride is the name of the element that makes Water into Fluoride Water. Fluoride is a group of compounds that are composed of the element flourine and one or more elements. Fluoride is a byproduct of salts that are created when the elemnt Fluorine combines with minerals in soil or rocks. At varying levels Fluoride is naturally in water and in soil. All water contains Fluoride, usually the Fluoride level in water is very low. However some groudnwater and natural springs can have naturally hih levels of Fluoride. In the early 1900s scientists realized that people who where drinking water thst naturally had Fluoride levels of 1 part Fluoride per million parts water or greater. These people who where drinking this water with a good amoutn of Fluoride in it had fewer dental cavities than people who where drinking water with a Fluoride levels that were lower. A lot more studies have justified this discovery. After all the scientific experiments it was found that Fluoride can prevent or can even reverse tooth decay by preventing the bacteria that produces acid in the mouth. Bacteria in the mouth produce acid when a person eats sugary foods. The acid produced after someone eats sugary foods eats away minerals from the tooth's surface. This makes the tooth super weak increasing the chances of cavities. Permanent damaged areas in the hard surface of the tooth are what Cavities are. They deve;op small tears in the surface of the tooth. Cavities are caused by the combination of bacteria in the mouth, not brushing very well and too much consumtion of sugary drinks and food. Fluoride can help prevent these from happening with the help of no sugar consumtion and brushing of the teeth very well. </p>\n",
    "\n",
    "<p><span style='font-weight:bold;color:#fbec5d'>What is Fluoride Abandoned Water?:</span><br>\n",
    "</p>\n",
    "\n",
    "<p><span style='font-weight:bold;color:#fbec5d'>What is Salty Abandoned Water?:</span><br>\n",
    "</p>"
   ]
  },
  {
   "cell_type": "markdown",
   "metadata": {},
   "source": [
    "<p style='font-weight:bold'>Storing all the <span style='color:#fbec5d'>Water Quality of each well</span> located in Tanzania to the <span style='color:#fbec5d'>'water_quality'</span> list.</p>"
   ]
  },
  {
   "cell_type": "code",
   "execution_count": 17,
   "metadata": {
    "scrolled": true
   },
   "outputs": [],
   "source": [
    "water_quality = raw_info1[\"water_quality\"]"
   ]
  },
  {
   "cell_type": "markdown",
   "metadata": {},
   "source": [
    "<p style='font-weight:bold'>Using a <span style='color:#fbec5d'>for loop</span> to loop <span style='color:#fbec5d'>through all the Water Quality</span> of each well to <span style='color:#fbec5d'>classify</span> with an <span style='color:#fbec5d'>if statement</span> if the Water Quality is a <span style='color:#fbec5d'>Good Water Quality, Intermediate Water Quality or a Bad Water Quality</span>. This will be stored in a list called <span style='color:#fbec5d'>'qualification2'</span>.</p>"
   ]
  },
  {
   "cell_type": "code",
   "execution_count": 35,
   "metadata": {
    "scrolled": true
   },
   "outputs": [
    {
     "data": {
      "text/plain": [
       "14850"
      ]
     },
     "execution_count": 35,
     "metadata": {},
     "output_type": "execute_result"
    }
   ],
   "source": [
    "qualification2= []\n",
    "for water in raw_info1[\"water_quality\"]:\n",
    "    if water == 'soft' :\n",
    "        qualification2.append('Good Water')\n",
    "    elif water == 'milky':\n",
    "        qualification2.append('Good Water')\n",
    "    elif  water =='fluoride':\n",
    "        qualification2.append('Good Water')\n",
    "    elif water == 'salty' :\n",
    "        qualification2.append('Bad Water')\n",
    "    elif water == 'coloured':\n",
    "        qualification2.append('Intermediate Water')\n",
    "    elif water == 'salty abandoned':\n",
    "        qualification2.append('Bad Water')\n",
    "    elif water == 'fluoride abandoned':\n",
    "        qualification2.append('Bad Water')\n",
    "    elif water == 'unknown':\n",
    "        qualification2.append('Unknown')\n",
    "len(qualification2)"
   ]
  },
  {
   "cell_type": "markdown",
   "metadata": {},
   "source": [
    "<p style='font-weight:bold'>Careating a <span style='color:#fbec5d'>dataframe</span> called <span style='color:#fbec5d'>'df2'</span> that consist of a <span style='color:#fbec5d'> column</span> called <span style='color:#fbec5d'>'Amount_Per_Group'</span> which shows the <span style='color:#fbec5d'>type</span> of  <span style='color:#fbec5d'>Water</span> the Well produces and a <span style='color:#fbec5d'> column</span> called <span style='color:#fbec5d'>'Water Quality'</span> which <span style='color:#fbec5d'>classifies</span> whether the Water is <span style='color:#fbec5d'>Good, Intermediate or Bad</span>.</p>"
   ]
  },
  {
   "cell_type": "code",
   "execution_count": 36,
   "metadata": {
    "scrolled": true
   },
   "outputs": [],
   "source": [
    "df2 = pd.DataFrame({'Amount_Per_Group':water_quality,'Water Quality':qualification2})"
   ]
  },
  {
   "cell_type": "markdown",
   "metadata": {},
   "source": [
    "<p style='font-weight:bold'>This is the <span style='color:#fbec5d'>'df2'</span> dataframe.</p>"
   ]
  },
  {
   "cell_type": "code",
   "execution_count": 37,
   "metadata": {
    "scrolled": true
   },
   "outputs": [
    {
     "data": {
      "text/html": [
       "<div>\n",
       "<style scoped>\n",
       "    .dataframe tbody tr th:only-of-type {\n",
       "        vertical-align: middle;\n",
       "    }\n",
       "\n",
       "    .dataframe tbody tr th {\n",
       "        vertical-align: top;\n",
       "    }\n",
       "\n",
       "    .dataframe thead th {\n",
       "        text-align: right;\n",
       "    }\n",
       "</style>\n",
       "<table border=\"1\" class=\"dataframe\">\n",
       "  <thead>\n",
       "    <tr style=\"text-align: right;\">\n",
       "      <th></th>\n",
       "      <th>Amount_Per_Group</th>\n",
       "      <th>Water Quality</th>\n",
       "    </tr>\n",
       "  </thead>\n",
       "  <tbody>\n",
       "    <tr>\n",
       "      <th>0</th>\n",
       "      <td>soft</td>\n",
       "      <td>Good Water</td>\n",
       "    </tr>\n",
       "    <tr>\n",
       "      <th>1</th>\n",
       "      <td>soft</td>\n",
       "      <td>Good Water</td>\n",
       "    </tr>\n",
       "    <tr>\n",
       "      <th>2</th>\n",
       "      <td>soft</td>\n",
       "      <td>Good Water</td>\n",
       "    </tr>\n",
       "    <tr>\n",
       "      <th>3</th>\n",
       "      <td>soft</td>\n",
       "      <td>Good Water</td>\n",
       "    </tr>\n",
       "    <tr>\n",
       "      <th>4</th>\n",
       "      <td>soft</td>\n",
       "      <td>Good Water</td>\n",
       "    </tr>\n",
       "    <tr>\n",
       "      <th>...</th>\n",
       "      <td>...</td>\n",
       "      <td>...</td>\n",
       "    </tr>\n",
       "    <tr>\n",
       "      <th>14845</th>\n",
       "      <td>soft</td>\n",
       "      <td>Good Water</td>\n",
       "    </tr>\n",
       "    <tr>\n",
       "      <th>14846</th>\n",
       "      <td>salty</td>\n",
       "      <td>Bad Water</td>\n",
       "    </tr>\n",
       "    <tr>\n",
       "      <th>14847</th>\n",
       "      <td>soft</td>\n",
       "      <td>Good Water</td>\n",
       "    </tr>\n",
       "    <tr>\n",
       "      <th>14848</th>\n",
       "      <td>soft</td>\n",
       "      <td>Good Water</td>\n",
       "    </tr>\n",
       "    <tr>\n",
       "      <th>14849</th>\n",
       "      <td>soft</td>\n",
       "      <td>Good Water</td>\n",
       "    </tr>\n",
       "  </tbody>\n",
       "</table>\n",
       "<p>14850 rows × 2 columns</p>\n",
       "</div>"
      ],
      "text/plain": [
       "      Amount_Per_Group Water Quality\n",
       "0                 soft    Good Water\n",
       "1                 soft    Good Water\n",
       "2                 soft    Good Water\n",
       "3                 soft    Good Water\n",
       "4                 soft    Good Water\n",
       "...                ...           ...\n",
       "14845             soft    Good Water\n",
       "14846            salty     Bad Water\n",
       "14847             soft    Good Water\n",
       "14848             soft    Good Water\n",
       "14849             soft    Good Water\n",
       "\n",
       "[14850 rows x 2 columns]"
      ]
     },
     "execution_count": 37,
     "metadata": {},
     "output_type": "execute_result"
    }
   ],
   "source": [
    "df2"
   ]
  },
  {
   "cell_type": "markdown",
   "metadata": {},
   "source": [
    "<p style='font-weight:bold'>Adding a <span style='color:#fbec5d'>column</span> called <span style='color:#fbec5d'>'Category'</span> that <span style='color:#fbec5d'>labels the classification of each Water Type in numbers</span> to help when applying <span style='color:#fbec5d'>classification analysis</span>. A <span style='color:#fbec5d'>Good</span> Water Type is labeld as <span style='color:#fbec5d'>1</span>, a <span style='color:#fbec5d'>Intermediate</span> Water Type is labeled as <span style='color:#fbec5d'>2</span> and a <span style='color:#fbec5d'>Bad</span> Water Type is labeled as <span style='color:#fbec5d'>3</span>.</p>"
   ]
  },
  {
   "cell_type": "code",
   "execution_count": 38,
   "metadata": {},
   "outputs": [],
   "source": [
    "category2 = []\n",
    "for i in qualification2:\n",
    "    if i == 'Bad Water':category2.append(3)\n",
    "    if i == 'Good Water':category2.append(1)\n",
    "    if i == 'Intermediate Water':category2.append(2)\n",
    "    if i == 'Unknown':category2.append(0)   \n",
    "df2['Category'] = category2"
   ]
  },
  {
   "cell_type": "markdown",
   "metadata": {},
   "source": [
    "<p style='font-weight:bold'>This is the result of <span style='color:#fbec5d'>adding</span> the <span style='color:#fbec5d'>'Category'</span> colunm to the <span style='color:#fbec5d'>'df2'</span> dataframe.</p>"
   ]
  },
  {
   "cell_type": "code",
   "execution_count": 39,
   "metadata": {},
   "outputs": [
    {
     "data": {
      "text/html": [
       "<div>\n",
       "<style scoped>\n",
       "    .dataframe tbody tr th:only-of-type {\n",
       "        vertical-align: middle;\n",
       "    }\n",
       "\n",
       "    .dataframe tbody tr th {\n",
       "        vertical-align: top;\n",
       "    }\n",
       "\n",
       "    .dataframe thead th {\n",
       "        text-align: right;\n",
       "    }\n",
       "</style>\n",
       "<table border=\"1\" class=\"dataframe\">\n",
       "  <thead>\n",
       "    <tr style=\"text-align: right;\">\n",
       "      <th></th>\n",
       "      <th>Amount_Per_Group</th>\n",
       "      <th>Water Quality</th>\n",
       "      <th>Category</th>\n",
       "    </tr>\n",
       "  </thead>\n",
       "  <tbody>\n",
       "    <tr>\n",
       "      <th>0</th>\n",
       "      <td>soft</td>\n",
       "      <td>Good Water</td>\n",
       "      <td>1</td>\n",
       "    </tr>\n",
       "    <tr>\n",
       "      <th>1</th>\n",
       "      <td>soft</td>\n",
       "      <td>Good Water</td>\n",
       "      <td>1</td>\n",
       "    </tr>\n",
       "    <tr>\n",
       "      <th>2</th>\n",
       "      <td>soft</td>\n",
       "      <td>Good Water</td>\n",
       "      <td>1</td>\n",
       "    </tr>\n",
       "    <tr>\n",
       "      <th>3</th>\n",
       "      <td>soft</td>\n",
       "      <td>Good Water</td>\n",
       "      <td>1</td>\n",
       "    </tr>\n",
       "    <tr>\n",
       "      <th>4</th>\n",
       "      <td>soft</td>\n",
       "      <td>Good Water</td>\n",
       "      <td>1</td>\n",
       "    </tr>\n",
       "    <tr>\n",
       "      <th>...</th>\n",
       "      <td>...</td>\n",
       "      <td>...</td>\n",
       "      <td>...</td>\n",
       "    </tr>\n",
       "    <tr>\n",
       "      <th>14845</th>\n",
       "      <td>soft</td>\n",
       "      <td>Good Water</td>\n",
       "      <td>1</td>\n",
       "    </tr>\n",
       "    <tr>\n",
       "      <th>14846</th>\n",
       "      <td>salty</td>\n",
       "      <td>Bad Water</td>\n",
       "      <td>3</td>\n",
       "    </tr>\n",
       "    <tr>\n",
       "      <th>14847</th>\n",
       "      <td>soft</td>\n",
       "      <td>Good Water</td>\n",
       "      <td>1</td>\n",
       "    </tr>\n",
       "    <tr>\n",
       "      <th>14848</th>\n",
       "      <td>soft</td>\n",
       "      <td>Good Water</td>\n",
       "      <td>1</td>\n",
       "    </tr>\n",
       "    <tr>\n",
       "      <th>14849</th>\n",
       "      <td>soft</td>\n",
       "      <td>Good Water</td>\n",
       "      <td>1</td>\n",
       "    </tr>\n",
       "  </tbody>\n",
       "</table>\n",
       "<p>14850 rows × 3 columns</p>\n",
       "</div>"
      ],
      "text/plain": [
       "      Amount_Per_Group Water Quality  Category\n",
       "0                 soft    Good Water         1\n",
       "1                 soft    Good Water         1\n",
       "2                 soft    Good Water         1\n",
       "3                 soft    Good Water         1\n",
       "4                 soft    Good Water         1\n",
       "...                ...           ...       ...\n",
       "14845             soft    Good Water         1\n",
       "14846            salty     Bad Water         3\n",
       "14847             soft    Good Water         1\n",
       "14848             soft    Good Water         1\n",
       "14849             soft    Good Water         1\n",
       "\n",
       "[14850 rows x 3 columns]"
      ]
     },
     "execution_count": 39,
     "metadata": {},
     "output_type": "execute_result"
    }
   ],
   "source": [
    "df2"
   ]
  },
  {
   "cell_type": "markdown",
   "metadata": {},
   "source": [
    "<p style='font-weight:bold'>Using the <span style='color:#fbec5d'>Counter()</span> method to get <span style='color:#fbec5d'>how many wells</span> have a <span style='color:#fbec5d'>Good</span> Water Type, an <span style='color:#fbec5d'>Intermediate</span> Water Type and  a <span style='color:#fbec5d'>Bad</span> Water Type."
   ]
  },
  {
   "cell_type": "code",
   "execution_count": 40,
   "metadata": {},
   "outputs": [
    {
     "data": {
      "text/plain": [
       "Good Water            12932\n",
       "Bad Water              1316\n",
       "Unknown                 469\n",
       "Intermediate Water      133\n",
       "Name: Water Quality, dtype: int64"
      ]
     },
     "execution_count": 40,
     "metadata": {},
     "output_type": "execute_result"
    }
   ],
   "source": [
    "df2[\"Water Quality\"].value_counts()"
   ]
  },
  {
   "cell_type": "markdown",
   "metadata": {},
   "source": [
    "<p style='font-weight:bold'>This is the <span style='color:#fbec5d'>HTML Script from Highcharts Libaray</span> to visualize the data of <span style='color:#fbec5d'>how many wells </span> have a <span style='color:#fbec5d'>Good</span> Water Type, an <span style='color:#fbec5d'>Intermediate</span> Water Type and  a <span style='color:#fbec5d'>Bad</span> Water Type, using an <span style='color:#fbec5d'>Item chart</span>. This will be done using <span style='color:#fbec5d'>Javascript</span> below and will be saved in an <span style='color:#fbec5d'>.jpeg file</span>.</p>"
   ]
  },
  {
   "cell_type": "code",
   "execution_count": 63,
   "metadata": {},
   "outputs": [
    {
     "data": {
      "text/html": [
       "<script src=\"https://code.highcharts.com/highcharts.js\"></script>\n",
       "<script src=\"https://code.highcharts.com/modules/item-series.js\"></script>\n",
       "<script src=\"https://code.highcharts.com/modules/exporting.js\"></script>\n",
       "<script src=\"https://code.highcharts.com/modules/export-data.js\"></script>\n",
       "<script src=\"https://code.highcharts.com/modules/accessibility.js\"></script>\n",
       "\n",
       "<figure class=\"highcharts-figure\">\n",
       "    <div id=\"rose8\"></div>\n",
       "</figure>\n"
      ],
      "text/plain": [
       "<IPython.core.display.HTML object>"
      ]
     },
     "metadata": {},
     "output_type": "display_data"
    }
   ],
   "source": [
    "%%html\n",
    "<script src=\"https://code.highcharts.com/highcharts.js\"></script>\n",
    "<script src=\"https://code.highcharts.com/modules/item-series.js\"></script>\n",
    "<script src=\"https://code.highcharts.com/modules/exporting.js\"></script>\n",
    "<script src=\"https://code.highcharts.com/modules/export-data.js\"></script>\n",
    "<script src=\"https://code.highcharts.com/modules/accessibility.js\"></script>\n",
    "\n",
    "<figure class=\"highcharts-figure\">\n",
    "    <div id=\"rose8\"></div>\n",
    "</figure>"
   ]
  },
  {
   "cell_type": "markdown",
   "metadata": {},
   "source": [
    "<p style='font-weight:bold'>This is the <span style='color:#fbec5d'>Javascript Script from Highcharts Libaray</span> to visualize the data of <span style='color:#fbec5d'>how many wells</span> have a <span style='color:#fbec5d'>Good</span> Water Type, an <span style='color:#fbec5d'>Intermediate</span> Water Type and  a <span style='color:#fbec5d'>Bad</span> Water Type, using an <span style='color:#fbec5d'>Item chart</span>. Item charts create a <span style='color:#fbec5d'>number of items corresponding to the value of each data point</span>. This will be saved in a <span style='color:#fbec5d'>.png file</span> called <span style='color:#fbec5d'>'classification-of-the-ta (6).jpeg'</span>.</p>"
   ]
  },
  {
   "cell_type": "code",
   "execution_count": 62,
   "metadata": {},
   "outputs": [
    {
     "data": {
      "application/javascript": [
       "Highcharts.chart('rose8', {\n",
       "    chart: {\n",
       "        width:950,\n",
       "        height:450,\n",
       "        type: 'item'\n",
       "    },\n",
       "\n",
       "    title: {\n",
       "        text: 'Classification of the Tanzania\\'s Wells Water Type'\n",
       "    },\n",
       "\n",
       "    subtitle: {\n",
       "        text: 'Showung the ratio of each classification: Good, Intermediate and Bad '\n",
       "    },\n",
       "\n",
       "    legend: {\n",
       "        labelFormat: '{name} <span style=\"opacity: 0.4\"></span>'\n",
       "    },\n",
       "\n",
       "    series: [{\n",
       "        name: 'Number of Wells',\n",
       "        keys: ['name', 'y', 'color','label'],\n",
       "        data: [\n",
       "            ['Good Water Type (Soft, Milkly, Flouride)', 900, '#D8CEF6', 'Good'],\n",
       "            ['Bad Water Type (Salty, Salty and Flouride Abandoned)', 100, '#BE81F7', 'Bad'],\n",
       "            ['Intermediate Water Type (Coloured)', 20, '#4B088A', 'Intermediate']\n",
       "        ],\n",
       "         dataLabels: {\n",
       "            enabled: true,\n",
       "            format: '{point.label}',\n",
       "            style: {\n",
       "                textOutline: '3px contrast'\n",
       "            }\n",
       "        },\n",
       "\n",
       "        // Circular options\n",
       "        center: ['50%', '88%'],\n",
       "        size: '170%',\n",
       "        startAngle: -100,\n",
       "        endAngle: 100\n",
       "    }]\n",
       "});\n"
      ],
      "text/plain": [
       "<IPython.core.display.Javascript object>"
      ]
     },
     "metadata": {},
     "output_type": "display_data"
    }
   ],
   "source": [
    "%%js\n",
    "Highcharts.chart('rose8', {\n",
    "    chart: {\n",
    "        width:950,\n",
    "        height:450,\n",
    "        type: 'item'\n",
    "    },\n",
    "\n",
    "    title: {\n",
    "        text: 'Classification of the Tanzania\\'s Wells Water Type'\n",
    "    },\n",
    "\n",
    "    subtitle: {\n",
    "        text: 'Showung the ratio of each classification: Good, Intermediate and Bad '\n",
    "    },\n",
    "\n",
    "    legend: {\n",
    "        labelFormat: '{name} <span style=\"opacity: 0.4\"></span>'\n",
    "    },\n",
    "\n",
    "    series: [{\n",
    "        name: 'Number of Wells',\n",
    "        keys: ['name', 'y', 'color','label'],\n",
    "        data: [\n",
    "            ['Good Water Type (Soft, Milkly, Flouride)', 900, '#D8CEF6', 'Good'],\n",
    "            ['Bad Water Type (Salty, Salty and Flouride Abandoned)', 100, '#BE81F7', 'Bad'],\n",
    "            ['Intermediate Water Type (Coloured)', 20, '#4B088A', 'Intermediate']\n",
    "        ],\n",
    "         dataLabels: {\n",
    "            enabled: true,\n",
    "            format: '{point.label}',\n",
    "            style: {\n",
    "                textOutline: '3px contrast'\n",
    "            }\n",
    "        },\n",
    "\n",
    "        // Circular options\n",
    "        center: ['50%', '88%'],\n",
    "        size: '170%',\n",
    "        startAngle: -100,\n",
    "        endAngle: 100\n",
    "    }]\n",
    "});"
   ]
  },
  {
   "cell_type": "markdown",
   "metadata": {},
   "source": [
    "<p style='font-weight:bold'>Adding a <span style='color:#fbec5d'>colunm</span> called <span style='color:#fbec5d'>'Zone'</span> to the <span style='color:#fbec5d'>'df2'</span> dataframe which is the <span style='color:#fbec5d'>zone where each well is located</span> in Tanzania.</p>"
   ]
  },
  {
   "cell_type": "code",
   "execution_count": 64,
   "metadata": {},
   "outputs": [],
   "source": [
    "df2['Zone'] = tz_info.Zone"
   ]
  },
  {
   "cell_type": "markdown",
   "metadata": {},
   "source": [
    "<p style='font-weight:bold'>This is the result of <span style='color:#fbec5d'>adding</span> the <span style='color:#fbec5d'>'Zone'</span> colunm to the <span style='color:#fbec5d'>'df2'</span> dataframe.</p>"
   ]
  },
  {
   "cell_type": "code",
   "execution_count": 65,
   "metadata": {},
   "outputs": [
    {
     "data": {
      "text/html": [
       "<div>\n",
       "<style scoped>\n",
       "    .dataframe tbody tr th:only-of-type {\n",
       "        vertical-align: middle;\n",
       "    }\n",
       "\n",
       "    .dataframe tbody tr th {\n",
       "        vertical-align: top;\n",
       "    }\n",
       "\n",
       "    .dataframe thead th {\n",
       "        text-align: right;\n",
       "    }\n",
       "</style>\n",
       "<table border=\"1\" class=\"dataframe\">\n",
       "  <thead>\n",
       "    <tr style=\"text-align: right;\">\n",
       "      <th></th>\n",
       "      <th>Amount_Per_Group</th>\n",
       "      <th>Water Quality</th>\n",
       "      <th>Category</th>\n",
       "      <th>Zone</th>\n",
       "    </tr>\n",
       "  </thead>\n",
       "  <tbody>\n",
       "    <tr>\n",
       "      <th>0</th>\n",
       "      <td>soft</td>\n",
       "      <td>Good Water</td>\n",
       "      <td>1</td>\n",
       "      <td>Northern Zone</td>\n",
       "    </tr>\n",
       "    <tr>\n",
       "      <th>1</th>\n",
       "      <td>soft</td>\n",
       "      <td>Good Water</td>\n",
       "      <td>1</td>\n",
       "      <td>Northern Zone</td>\n",
       "    </tr>\n",
       "    <tr>\n",
       "      <th>2</th>\n",
       "      <td>soft</td>\n",
       "      <td>Good Water</td>\n",
       "      <td>1</td>\n",
       "      <td>Central Zone</td>\n",
       "    </tr>\n",
       "    <tr>\n",
       "      <th>3</th>\n",
       "      <td>soft</td>\n",
       "      <td>Good Water</td>\n",
       "      <td>1</td>\n",
       "      <td>Coastal Zone</td>\n",
       "    </tr>\n",
       "    <tr>\n",
       "      <th>4</th>\n",
       "      <td>soft</td>\n",
       "      <td>Good Water</td>\n",
       "      <td>1</td>\n",
       "      <td>Southern Highlands Zone</td>\n",
       "    </tr>\n",
       "    <tr>\n",
       "      <th>...</th>\n",
       "      <td>...</td>\n",
       "      <td>...</td>\n",
       "      <td>...</td>\n",
       "      <td>...</td>\n",
       "    </tr>\n",
       "    <tr>\n",
       "      <th>14845</th>\n",
       "      <td>soft</td>\n",
       "      <td>Good Water</td>\n",
       "      <td>1</td>\n",
       "      <td>Coastal Zone</td>\n",
       "    </tr>\n",
       "    <tr>\n",
       "      <th>14846</th>\n",
       "      <td>salty</td>\n",
       "      <td>Bad Water</td>\n",
       "      <td>3</td>\n",
       "      <td>Northern Zone</td>\n",
       "    </tr>\n",
       "    <tr>\n",
       "      <th>14847</th>\n",
       "      <td>soft</td>\n",
       "      <td>Good Water</td>\n",
       "      <td>1</td>\n",
       "      <td>Central Zone</td>\n",
       "    </tr>\n",
       "    <tr>\n",
       "      <th>14848</th>\n",
       "      <td>soft</td>\n",
       "      <td>Good Water</td>\n",
       "      <td>1</td>\n",
       "      <td>Southern Highlands Zone</td>\n",
       "    </tr>\n",
       "    <tr>\n",
       "      <th>14849</th>\n",
       "      <td>soft</td>\n",
       "      <td>Good Water</td>\n",
       "      <td>1</td>\n",
       "      <td>Southern Highlands Zone</td>\n",
       "    </tr>\n",
       "  </tbody>\n",
       "</table>\n",
       "<p>14850 rows × 4 columns</p>\n",
       "</div>"
      ],
      "text/plain": [
       "      Amount_Per_Group Water Quality  Category                      Zone\n",
       "0                 soft    Good Water         1             Northern Zone\n",
       "1                 soft    Good Water         1             Northern Zone\n",
       "2                 soft    Good Water         1              Central Zone\n",
       "3                 soft    Good Water         1              Coastal Zone\n",
       "4                 soft    Good Water         1   Southern Highlands Zone\n",
       "...                ...           ...       ...                       ...\n",
       "14845             soft    Good Water         1              Coastal Zone\n",
       "14846            salty     Bad Water         3             Northern Zone\n",
       "14847             soft    Good Water         1              Central Zone\n",
       "14848             soft    Good Water         1   Southern Highlands Zone\n",
       "14849             soft    Good Water         1   Southern Highlands Zone\n",
       "\n",
       "[14850 rows x 4 columns]"
      ]
     },
     "execution_count": 65,
     "metadata": {},
     "output_type": "execute_result"
    }
   ],
   "source": [
    "df2"
   ]
  },
  {
   "cell_type": "markdown",
   "metadata": {},
   "source": [
    "<p style='font-weight:bold'>Getting how <span style='color:#fbec5d'>the amount of wells in each Zone</span> who has a <span style='color:#fbec5d'>Bad Water</span> Type using the <span style='color:#fbec5d'>Counter()</span> method and <span style='color:#fbec5d'>for loop</span>.</p>"
   ]
  },
  {
   "cell_type": "code",
   "execution_count": 66,
   "metadata": {},
   "outputs": [],
   "source": [
    "zone_bad2 = []\n",
    "for i,x in enumerate(df2.Category):\n",
    "    if x ==3: zone_bad2.append(df2.Zone[i])"
   ]
  },
  {
   "cell_type": "markdown",
   "metadata": {},
   "source": [
    "<p style='font-weight:bold'>The <span style='color:#fbec5d'>Counter()</span> method shows us the <span style='color:#fbec5d'>amount of Bad Water</span> in each <span style='color:#fbec5d'>Zone</span> in the <span style='color:#fbec5d'>Bad Water Category</span>.</p>"
   ]
  },
  {
   "cell_type": "code",
   "execution_count": 67,
   "metadata": {},
   "outputs": [
    {
     "data": {
      "text/plain": [
       "Counter({' Southern Highlands Zone': 51,\n",
       "         ' Central Zone': 203,\n",
       "         'unkown': 44,\n",
       "         ' Northern Zone': 228,\n",
       "         ' Lake Zone': 272,\n",
       "         ' Coastal Zone': 484,\n",
       "         ' Western Zone': 33,\n",
       "         ' ': 1})"
      ]
     },
     "execution_count": 67,
     "metadata": {},
     "output_type": "execute_result"
    }
   ],
   "source": [
    "Counter(zone_bad2)"
   ]
  },
  {
   "cell_type": "markdown",
   "metadata": {},
   "source": [
    "<p style='font-weight:bold'>Getting how <span style='color:#fbec5d'>the amount of wells in each Zone</span> who has a <span style='color:#fbec5d'>Intermediate Water</span> Type using the <span style='color:#fbec5d'>Counter()</span> method and <span style='color:#fbec5d'>for loop</span>.</p>"
   ]
  },
  {
   "cell_type": "code",
   "execution_count": 68,
   "metadata": {},
   "outputs": [],
   "source": [
    "zone_inter2 = []\n",
    "for i,x in enumerate(df2.Category):\n",
    "    if x ==2: zone_inter2.append(df2.Zone[i])"
   ]
  },
  {
   "cell_type": "markdown",
   "metadata": {},
   "source": [
    "<p style='font-weight:bold'>The <span style='color:#fbec5d'>Counter()</span> method shows us the <span style='color:#fbec5d'>amount of Intermediate Water</span> in each <span style='color:#fbec5d'>Zone</span> in the <span style='color:#fbec5d'>Intermediate Water Category</span>.</p>"
   ]
  },
  {
   "cell_type": "code",
   "execution_count": 69,
   "metadata": {},
   "outputs": [
    {
     "data": {
      "text/plain": [
       "Counter({' Northern Zone': 13,\n",
       "         ' Central Zone': 28,\n",
       "         ' Lake Zone': 23,\n",
       "         ' Coastal Zone': 38,\n",
       "         ' Southern Highlands Zone': 27,\n",
       "         'unkown': 1,\n",
       "         ' Western Zone': 3})"
      ]
     },
     "execution_count": 69,
     "metadata": {},
     "output_type": "execute_result"
    }
   ],
   "source": [
    "Counter(zone_inter2)"
   ]
  },
  {
   "cell_type": "markdown",
   "metadata": {},
   "source": [
    "<p style='font-weight:bold'>Getting how <span style='color:#fbec5d'>the amount of wells in each Zone</span> who has a <span style='color:#fbec5d'>Good Water</span> Type using the <span style='color:#fbec5d'>Counter()</span> method and <span style='color:#fbec5d'>for loop</span>.</p>"
   ]
  },
  {
   "cell_type": "code",
   "execution_count": 70,
   "metadata": {},
   "outputs": [],
   "source": [
    "zone_good2 = []\n",
    "for i,x in enumerate(df2.Category):\n",
    "    if x ==1: zone_good2.append(df2.Zone[i])"
   ]
  },
  {
   "cell_type": "markdown",
   "metadata": {},
   "source": [
    "<p style='font-weight:bold'>The <span style='color:#fbec5d'>Counter()</span> method shows us the <span style='color:#fbec5d'>amount of Good Water</span> in each <span style='color:#fbec5d'>Zone</span> in the <span style='color:#fbec5d'>Good Water Category</span>.</p>"
   ]
  },
  {
   "cell_type": "code",
   "execution_count": 71,
   "metadata": {},
   "outputs": [
    {
     "data": {
      "text/plain": [
       "Counter({' Northern Zone': 2622,\n",
       "         ' Central Zone': 1178,\n",
       "         ' Coastal Zone': 2113,\n",
       "         ' Southern Highlands Zone': 3222,\n",
       "         ' Lake Zone': 2581,\n",
       "         ' Western Zone': 846,\n",
       "         'unkown': 356,\n",
       "         ' ': 14})"
      ]
     },
     "execution_count": 71,
     "metadata": {},
     "output_type": "execute_result"
    }
   ],
   "source": [
    "Counter(zone_good2)"
   ]
  },
  {
   "cell_type": "markdown",
   "metadata": {},
   "source": [
    "<p style='font-weight:bold'>This is the <span style='color:#fbec5d'>HTML Script from Highcharts Libaray</span> to visualize the data of <span style='color:#fbec5d'>the percentage of wells</span> within <span style='color:#fbec5d'>each Zone that have Bad Water</span> in the <span style='color:#fbec5d'>Bad Water Category</span>, using a <span style='color:#fbec5d'>Colunm chart</span>. This will be done using <span style='color:#fbec5d'>Javascript</span> below and will be saved in an <span style='color:#fbec5d'>.jpeg file</span>.</p>"
   ]
  },
  {
   "cell_type": "code",
   "execution_count": 110,
   "metadata": {},
   "outputs": [
    {
     "data": {
      "text/html": [
       "<script src=\"https://code.highcharts.com/highcharts.js\"></script>\n",
       "<script src=\"https://code.highcharts.com/modules/exporting.js\"></script>\n",
       "<script src=\"https://code.highcharts.com/modules/export-data.js\"></script>\n",
       "<script src=\"https://code.highcharts.com/modules/accessibility.js\"></script>\n",
       "\n",
       "<figure class=\"highcharts-figure\">\n",
       "    <div id='rose9'></div>\n",
       "</figure>\n"
      ],
      "text/plain": [
       "<IPython.core.display.HTML object>"
      ]
     },
     "metadata": {},
     "output_type": "display_data"
    }
   ],
   "source": [
    "%%html\n",
    "<script src=\"https://code.highcharts.com/highcharts.js\"></script>\n",
    "<script src=\"https://code.highcharts.com/modules/exporting.js\"></script>\n",
    "<script src=\"https://code.highcharts.com/modules/export-data.js\"></script>\n",
    "<script src=\"https://code.highcharts.com/modules/accessibility.js\"></script>\n",
    "\n",
    "<figure class=\"highcharts-figure\">\n",
    "    <div id='rose9'></div>\n",
    "</figure>"
   ]
  },
  {
   "cell_type": "markdown",
   "metadata": {},
   "source": [
    "<p style='font-weight:bold'>This is the <span style='color:#fbec5d'>Javascript Script from Highcharts Libaray</span> to visualize the data of <span style='color:#fbec5d'>the percentage of wells</span> within <span style='color:#fbec5d'>each Zone that have Bad Water</span> in the <span style='color:#fbec5d'>Bad Water Category</span>, using a <span style='color:#fbec5d'>Colunm chart</span>. Individual <span style='color:#fbec5d'>Columns chart</span> brings up more <span style='color:#fbec5d'>detailed data</span>. This will be saved in a <span style='color:#fbec5d'>.jpeg file</span> called <span style='color:#fbec5d'>'this-is-the-bad-water-ty (2).jpeg'</span>.</p>"
   ]
  },
  {
   "cell_type": "code",
   "execution_count": 103,
   "metadata": {},
   "outputs": [
    {
     "data": {
      "application/javascript": [
       "Highcharts.chart('rose9', {\n",
       "    chart: {\n",
       "        type: 'column',\n",
       "        width:880,\n",
       "        height:450,\n",
       "       \n",
       "    },\n",
       "    title: {\n",
       "        text: '<span style=\"color:#8A2BE2\">This is the Bad Water Type Category and the Percentage of each Tazania\\'s Zone within this Category</span>'\n",
       "    },\n",
       "    subtitle: {\n",
       "        text: '<span style=\"color:#8A2BE2\">There are Six Zones:</span> <span style=\"color:black\">Northern|Central|Coastel|Southern Highlands|Lake|Western</span>'\n",
       "    },\n",
       "    xAxis: {\n",
       "        type: 'category',\n",
       "        labels: {\n",
       "            style: {\n",
       "                fontSize: '13px',\n",
       "                fontFamily: 'Verdana, sans-serif'\n",
       "            }\n",
       "        }\n",
       "    },\n",
       "    yAxis: {\n",
       "        min: 0,\n",
       "        title: {\n",
       "            text: 'Percentage (%)'\n",
       "        }\n",
       "    },\n",
       "    legend: {\n",
       "        enabled: false\n",
       "    },\n",
       "    plotOptions: {\n",
       "        column: {\n",
       "            colorByPoint: true\n",
       "        },\n",
       "        series: {\n",
       "            borderWidth: 0,\n",
       "            dataLabels: {\n",
       "                enabled: true,\n",
       "                format: '{point.y:.0f}%'\n",
       "            }\n",
       "        }\n",
       "    },\n",
       "    tooltip: {\n",
       "        pointFormat: 'Percentage: <b>{point.y:.0f} %</b>'\n",
       "    },\n",
       "    series: [{\n",
       "        colors: ['#B0E0E6','#00BFFF','#6495ED','#0000FF','#7B68EE','#8A2BE2','#4B0082'],\n",
       "        name: 'Bad Altitude',\n",
       "        data: [\n",
       "         [' Southern Highlands Zone',4],\n",
       "         [' Central Zone', 13],\n",
       "         ['unkown', 3],\n",
       "         [' Northern Zone', 17],\n",
       "         [' Lake Zone', 21],\n",
       "         [' Coastal Zone', 37],\n",
       "         [' Western Zone', 3]\n",
       "        \n",
       "        ]\n",
       "    }]\n",
       "});\n"
      ],
      "text/plain": [
       "<IPython.core.display.Javascript object>"
      ]
     },
     "metadata": {},
     "output_type": "display_data"
    }
   ],
   "source": [
    "%%js\n",
    "Highcharts.chart('rose9', {\n",
    "    chart: {\n",
    "        type: 'column',\n",
    "        width:880,\n",
    "        height:450,\n",
    "       \n",
    "    },\n",
    "    title: {\n",
    "        text: '<span style=\"color:#8A2BE2\">This is the Bad Water Type Category and the Percentage of each Tazania\\'s Zone within this Category</span>'\n",
    "    },\n",
    "    subtitle: {\n",
    "        text: '<span style=\"color:#8A2BE2\">There are Six Zones:</span> <span style=\"color:black\">Northern|Central|Coastel|Southern Highlands|Lake|Western</span>'\n",
    "    },\n",
    "    xAxis: {\n",
    "        type: 'category',\n",
    "        labels: {\n",
    "            style: {\n",
    "                fontSize: '13px',\n",
    "                fontFamily: 'Verdana, sans-serif'\n",
    "            }\n",
    "        }\n",
    "    },\n",
    "    yAxis: {\n",
    "        min: 0,\n",
    "        title: {\n",
    "            text: 'Percentage (%)'\n",
    "        }\n",
    "    },\n",
    "    legend: {\n",
    "        enabled: false\n",
    "    },\n",
    "    plotOptions: {\n",
    "        column: {\n",
    "            colorByPoint: true\n",
    "        },\n",
    "        series: {\n",
    "            borderWidth: 0,\n",
    "            dataLabels: {\n",
    "                enabled: true,\n",
    "                format: '{point.y:.0f}%'\n",
    "            }\n",
    "        }\n",
    "    },\n",
    "    tooltip: {\n",
    "        pointFormat: 'Percentage: <b>{point.y:.0f} %</b>'\n",
    "    },\n",
    "    series: [{\n",
    "        colors: ['#B0E0E6','#00BFFF','#6495ED','#0000FF','#7B68EE','#8A2BE2','#4B0082'],\n",
    "        name: 'Bad Altitude',\n",
    "        data: [\n",
    "         [' Southern Highlands Zone',4],\n",
    "         [' Central Zone', 13],\n",
    "         ['unkown', 3],\n",
    "         [' Northern Zone', 17],\n",
    "         [' Lake Zone', 21],\n",
    "         [' Coastal Zone', 37],\n",
    "         [' Western Zone', 3]\n",
    "        \n",
    "        ]\n",
    "    }]\n",
    "});"
   ]
  },
  {
   "cell_type": "markdown",
   "metadata": {},
   "source": [
    "<p style='font-weight:bold'>This is the <span style='color:#fbec5d'>HTML Script from Highcharts Libaray</span> to visualize the data of <span style='color:#fbec5d'>the percentage of wells</span> within <span style='color:#fbec5d'>each Zone that have Intermediate Water</span> in the <span style='color:#fbec5d'>Intermediate Water Category</span>, using a <span style='color:#fbec5d'>Colunm chart</span>. This will be done using <span style='color:#fbec5d'>Javascript</span> below and will be saved in an <span style='color:#fbec5d'>.jpeg file</span>.</p>"
   ]
  },
  {
   "cell_type": "code",
   "execution_count": 109,
   "metadata": {},
   "outputs": [
    {
     "data": {
      "text/html": [
       "<script src=\"https://code.highcharts.com/highcharts.js\"></script>\n",
       "<script src=\"https://code.highcharts.com/modules/exporting.js\"></script>\n",
       "<script src=\"https://code.highcharts.com/modules/export-data.js\"></script>\n",
       "<script src=\"https://code.highcharts.com/modules/accessibility.js\"></script>\n",
       "\n",
       "<figure class=\"highcharts-figure\">\n",
       "    <div id='rose10'></div>\n",
       "</figure>\n"
      ],
      "text/plain": [
       "<IPython.core.display.HTML object>"
      ]
     },
     "metadata": {},
     "output_type": "display_data"
    }
   ],
   "source": [
    "%%html\n",
    "<script src=\"https://code.highcharts.com/highcharts.js\"></script>\n",
    "<script src=\"https://code.highcharts.com/modules/exporting.js\"></script>\n",
    "<script src=\"https://code.highcharts.com/modules/export-data.js\"></script>\n",
    "<script src=\"https://code.highcharts.com/modules/accessibility.js\"></script>\n",
    "\n",
    "<figure class=\"highcharts-figure\">\n",
    "    <div id='rose10'></div>\n",
    "</figure>"
   ]
  },
  {
   "cell_type": "markdown",
   "metadata": {},
   "source": [
    "<p style='font-weight:bold'>This is the <span style='color:#fbec5d'>Javascript Script from Highcharts Libaray</span> to visualize the data of <span style='color:#fbec5d'>the percentage of wells</span> within <span style='color:#fbec5d'>each Zone that have Intermediate Water</span> in the <span style='color:#fbec5d'>Intermediate Water Category</span>, using a <span style='color:#fbec5d'>Colunm chart</span>. Individual <span style='color:#fbec5d'>Columns chart</span> brings up more <span style='color:#fbec5d'>detailed data</span>. This will be saved in a <span style='color:#fbec5d'>.jpeg file</span> called <span style='color:#fbec5d'>'this-is-the-intermediate.jpeg'</span>.</p>"
   ]
  },
  {
   "cell_type": "code",
   "execution_count": 104,
   "metadata": {},
   "outputs": [
    {
     "data": {
      "application/javascript": [
       "Highcharts.chart('rose10', {\n",
       "    chart: {\n",
       "        type: 'column',\n",
       "        width:880,\n",
       "        height:450,\n",
       "       \n",
       "    },\n",
       "    title: {\n",
       "        text: '<span style=\"color:#8A2BE2\">This is the Intermediate Water Type Category and the Percentage of each Tazania\\'s Zone within this Category</span>'\n",
       "    },\n",
       "    subtitle: {\n",
       "        text: '<span style=\"color:#8A2BE2\">There are Six Zones:</span> <span style=\"color:black\">Northern|Central|Coastel|Southern Highlands|Lake|Western</span>'\n",
       "    },\n",
       "    xAxis: {\n",
       "        type: 'category',\n",
       "        labels: {\n",
       "            style: {\n",
       "                fontSize: '13px',\n",
       "                fontFamily: 'Verdana, sans-serif'\n",
       "            }\n",
       "        }\n",
       "    },\n",
       "    yAxis: {\n",
       "        min: 0,\n",
       "        title: {\n",
       "            text: 'Percentage (%)'\n",
       "        }\n",
       "    },\n",
       "    legend: {\n",
       "        enabled: false\n",
       "    },\n",
       "    plotOptions: {\n",
       "        column: {\n",
       "            colorByPoint: true\n",
       "        },\n",
       "        series: {\n",
       "            borderWidth: 0,\n",
       "            dataLabels: {\n",
       "                enabled: true,\n",
       "                format: '{point.y:.0f}%'\n",
       "            }\n",
       "        }\n",
       "    },\n",
       "    tooltip: {\n",
       "        pointFormat: 'Percentage: <b>{point.y:.0f} %</b>'\n",
       "    },\n",
       "    series: [{\n",
       "        colors:  ['#0000FF','#00BFFF','#7B68EE','#8A2BE2','#B0E0E6','#6495ED','#4B0082'],\n",
       "        name: 'Bad Altitude',\n",
       "        data: [\n",
       "         [' Northern Zone', 10],\n",
       "         [' Central Zone', 21],\n",
       "         [' Lake Zone', 17],\n",
       "         [' Coastal Zone', 29],\n",
       "         [' Southern Highlands Zone', 20],\n",
       "         ['unkown', 1],\n",
       "         [' Western Zone', 2]\n",
       "        \n",
       "        ]\n",
       "    }]\n",
       "});\n"
      ],
      "text/plain": [
       "<IPython.core.display.Javascript object>"
      ]
     },
     "metadata": {},
     "output_type": "display_data"
    }
   ],
   "source": [
    "%%js\n",
    "Highcharts.chart('rose10', {\n",
    "    chart: {\n",
    "        type: 'column',\n",
    "        width:880,\n",
    "        height:450,\n",
    "       \n",
    "    },\n",
    "    title: {\n",
    "        text: '<span style=\"color:#8A2BE2\">This is the Intermediate Water Type Category and the Percentage of each Tazania\\'s Zone within this Category</span>'\n",
    "    },\n",
    "    subtitle: {\n",
    "        text: '<span style=\"color:#8A2BE2\">There are Six Zones:</span> <span style=\"color:black\">Northern|Central|Coastel|Southern Highlands|Lake|Western</span>'\n",
    "    },\n",
    "    xAxis: {\n",
    "        type: 'category',\n",
    "        labels: {\n",
    "            style: {\n",
    "                fontSize: '13px',\n",
    "                fontFamily: 'Verdana, sans-serif'\n",
    "            }\n",
    "        }\n",
    "    },\n",
    "    yAxis: {\n",
    "        min: 0,\n",
    "        title: {\n",
    "            text: 'Percentage (%)'\n",
    "        }\n",
    "    },\n",
    "    legend: {\n",
    "        enabled: false\n",
    "    },\n",
    "    plotOptions: {\n",
    "        column: {\n",
    "            colorByPoint: true\n",
    "        },\n",
    "        series: {\n",
    "            borderWidth: 0,\n",
    "            dataLabels: {\n",
    "                enabled: true,\n",
    "                format: '{point.y:.0f}%'\n",
    "            }\n",
    "        }\n",
    "    },\n",
    "    tooltip: {\n",
    "        pointFormat: 'Percentage: <b>{point.y:.0f} %</b>'\n",
    "    },\n",
    "    series: [{\n",
    "        colors:  ['#0000FF','#00BFFF','#7B68EE','#8A2BE2','#B0E0E6','#6495ED','#4B0082'],\n",
    "        name: 'Bad Altitude',\n",
    "        data: [\n",
    "         [' Northern Zone', 10],\n",
    "         [' Central Zone', 21],\n",
    "         [' Lake Zone', 17],\n",
    "         [' Coastal Zone', 29],\n",
    "         [' Southern Highlands Zone', 20],\n",
    "         ['unkown', 1],\n",
    "         [' Western Zone', 2]\n",
    "        \n",
    "        ]\n",
    "    }]\n",
    "});"
   ]
  },
  {
   "cell_type": "markdown",
   "metadata": {},
   "source": [
    "<p style='font-weight:bold'>This is the <span style='color:#fbec5d'>HTML Script from Highcharts Libaray</span> to visualize the data of <span style='color:#fbec5d'>the percentage of wells</span> within <span style='color:#fbec5d'>each Zone that have Good Water</span> in the <span style='color:#fbec5d'>Good Water Category</span>, using a <span style='color:#fbec5d'>Colunm chart</span>. This will be done using <span style='color:#fbec5d'>Javascript</span> below and will be saved in an <span style='color:#fbec5d'>.jpeg file</span>.</p>"
   ]
  },
  {
   "cell_type": "code",
   "execution_count": 108,
   "metadata": {},
   "outputs": [
    {
     "data": {
      "text/html": [
       "<script src=\"https://code.highcharts.com/highcharts.js\"></script>\n",
       "<script src=\"https://code.highcharts.com/modules/exporting.js\"></script>\n",
       "<script src=\"https://code.highcharts.com/modules/export-data.js\"></script>\n",
       "<script src=\"https://code.highcharts.com/modules/accessibility.js\"></script>\n",
       "\n",
       "<figure class=\"highcharts-figure\">\n",
       "    <div id='rose11'></div>\n",
       "</figure>\n"
      ],
      "text/plain": [
       "<IPython.core.display.HTML object>"
      ]
     },
     "metadata": {},
     "output_type": "display_data"
    }
   ],
   "source": [
    "%%html\n",
    "<script src=\"https://code.highcharts.com/highcharts.js\"></script>\n",
    "<script src=\"https://code.highcharts.com/modules/exporting.js\"></script>\n",
    "<script src=\"https://code.highcharts.com/modules/export-data.js\"></script>\n",
    "<script src=\"https://code.highcharts.com/modules/accessibility.js\"></script>\n",
    "\n",
    "<figure class=\"highcharts-figure\">\n",
    "    <div id='rose11'></div>\n",
    "</figure>"
   ]
  },
  {
   "cell_type": "markdown",
   "metadata": {},
   "source": [
    "<p style='font-weight:bold'>This is the <span style='color:#fbec5d'>Javascript Script from Highcharts Libaray</span> to visualize the data of <span style='color:#fbec5d'>the percentage of wells</span> within <span style='color:#fbec5d'>each Zone that have Good Water</span> in the <span style='color:#fbec5d'>Good Water Category</span>, using a <span style='color:#fbec5d'>Colunm chart</span>. Individual <span style='color:#fbec5d'>Columns chart</span> brings up more <span style='color:#fbec5d'>detailed data</span>. This will be saved in a <span style='color:#fbec5d'>.jpeg file</span> called <span style='color:#fbec5d'>'this-is-the-good-water-t.jpeg'</span>.</p>"
   ]
  },
  {
   "cell_type": "code",
   "execution_count": 107,
   "metadata": {},
   "outputs": [
    {
     "data": {
      "application/javascript": [
       "Highcharts.chart('rose11', {\n",
       "    chart: {\n",
       "        type: 'column',\n",
       "        width:880,\n",
       "        height:450,\n",
       "       \n",
       "    },\n",
       "    title: {\n",
       "        text: '<span style=\"color:#8A2BE2\">This is the Good Water Type Category and the Percentage of each Tazania\\'s Zone within this Category</span>'\n",
       "    },\n",
       "    subtitle: {\n",
       "        text: '<span style=\"color:#8A2BE2\">There are Six Zones:</span> <span style=\"color:black\">Northern|Central|Coastel|Southern Highlands|Lake|Western</span>'\n",
       "    },\n",
       "    xAxis: {\n",
       "        type: 'category',\n",
       "        labels: {\n",
       "            style: {\n",
       "                fontSize: '13px',\n",
       "                fontFamily: 'Verdana, sans-serif'\n",
       "            }\n",
       "        }\n",
       "    },\n",
       "    yAxis: {\n",
       "        min: 0,\n",
       "        title: {\n",
       "            text: 'Percentage (%)'\n",
       "        }\n",
       "    },\n",
       "    legend: {\n",
       "        enabled: false\n",
       "    },\n",
       "    plotOptions: {\n",
       "        column: {\n",
       "            colorByPoint: true\n",
       "        },\n",
       "        series: {\n",
       "            borderWidth: 0,\n",
       "            dataLabels: {\n",
       "                enabled: true,\n",
       "                format: '{point.y:.0f}%'\n",
       "            }\n",
       "        }\n",
       "    },\n",
       "    tooltip: {\n",
       "        pointFormat: 'Percentage: <b>{point.y:.0f} %</b>'\n",
       "    },\n",
       "    series: [{\n",
       "        colors:  ['#0000FF','#00BFFF','#8A2BE2','#B0E0E6','#7B68EE','#4B0082','#6495ED'],\n",
       "        name: 'Bad Altitude',\n",
       "        data: [\n",
       "           [' Northern Zone', 20],\n",
       "           [ ' Central Zone', 9],\n",
       "           [ ' Coastal Zone', 16],\n",
       "           [' Southern Highlands Zone', 25],\n",
       "           [' Lake Zone', 20],\n",
       "           [' Western Zone', 7],\n",
       "           ['unkown', 3]\n",
       "        \n",
       "        ]\n",
       "    }]\n",
       "});\n"
      ],
      "text/plain": [
       "<IPython.core.display.Javascript object>"
      ]
     },
     "metadata": {},
     "output_type": "display_data"
    }
   ],
   "source": [
    "%%js\n",
    "Highcharts.chart('rose11', {\n",
    "    chart: {\n",
    "        type: 'column',\n",
    "        width:880,\n",
    "        height:450,\n",
    "       \n",
    "    },\n",
    "    title: {\n",
    "        text: '<span style=\"color:#8A2BE2\">This is the Good Water Type Category and the Percentage of each Tazania\\'s Zone within this Category</span>'\n",
    "    },\n",
    "    subtitle: {\n",
    "        text: '<span style=\"color:#8A2BE2\">There are Six Zones:</span> <span style=\"color:black\">Northern|Central|Coastel|Southern Highlands|Lake|Western</span>'\n",
    "    },\n",
    "    xAxis: {\n",
    "        type: 'category',\n",
    "        labels: {\n",
    "            style: {\n",
    "                fontSize: '13px',\n",
    "                fontFamily: 'Verdana, sans-serif'\n",
    "            }\n",
    "        }\n",
    "    },\n",
    "    yAxis: {\n",
    "        min: 0,\n",
    "        title: {\n",
    "            text: 'Percentage (%)'\n",
    "        }\n",
    "    },\n",
    "    legend: {\n",
    "        enabled: false\n",
    "    },\n",
    "    plotOptions: {\n",
    "        column: {\n",
    "            colorByPoint: true\n",
    "        },\n",
    "        series: {\n",
    "            borderWidth: 0,\n",
    "            dataLabels: {\n",
    "                enabled: true,\n",
    "                format: '{point.y:.0f}%'\n",
    "            }\n",
    "        }\n",
    "    },\n",
    "    tooltip: {\n",
    "        pointFormat: 'Percentage: <b>{point.y:.0f} %</b>'\n",
    "    },\n",
    "    series: [{\n",
    "        colors:  ['#0000FF','#00BFFF','#8A2BE2','#B0E0E6','#7B68EE','#4B0082','#6495ED'],\n",
    "        name: 'Bad Altitude',\n",
    "        data: [\n",
    "           [' Northern Zone', 20],\n",
    "           [ ' Central Zone', 9],\n",
    "           [ ' Coastal Zone', 16],\n",
    "           [' Southern Highlands Zone', 25],\n",
    "           [' Lake Zone', 20],\n",
    "           [' Western Zone', 7],\n",
    "           ['unkown', 3]\n",
    "        \n",
    "        ]\n",
    "    }]\n",
    "});"
   ]
  },
  {
   "cell_type": "markdown",
   "metadata": {},
   "source": [
    "<center><h3 style=\"color:#BE81F7\" >The Evaluation of the Classification of the Water Type in the Tanzania Wells</h3></center>"
   ]
  },
  {
   "cell_type": "markdown",
   "metadata": {},
   "source": [
    "<center><h4 style='color:white;'>The Items Chart of the Classification of the Water Type of the Tanzania Wells.</h4></center><center><img  src=\"classification-of-the-ta (6).jpeg\" style=\"width:50%\"></center>"
   ]
  },
  {
   "cell_type": "markdown",
   "metadata": {},
   "source": [
    "<p><span style='font-weight:bold;color:#BE81F7'>What is Water?:</span></p>\n",
    "<p><span style='font-weight:bold;color:#BE81F7'>Why does Water matter and why is it being used as a Variable to Classify the Functionality of a Well?:</span></p>\n",
    "<p><span style='font-weight:bold;color:#BE81F7'>What is a Good Water?:</span></p>\n",
    "<p><span style='font-weight:bold;color:#BE81F7'>What is a Intermediate Water?:</span></p>\n",
    "<p><span style='font-weight:bold;color:#BE81F7'>What is a Bad Water?:</span></p>\n",
    "<p><span style='font-weight:bold;color:#BE81F7'>Conclusion A:</span></p>"
   ]
  },
  {
   "cell_type": "markdown",
   "metadata": {},
   "source": [
    "<center><table style=\"display: inline-block;width:33%\" ><tr><td><center><h4 style='color:white;'>A Colunm Chart of the Perentage of Each Zone in the Good Water Type Category.</h4><img src=\"this-is-the-good-water-t.jpeg\" style=\"height:298px;width:auto\"></center><center>X-axis: <span style='font-weight:bold;color:#BE81F7'>All the Six Zones that are located in Tazania</span></center><center>Y-axis: <span style='font-weight:bold;color:#BE81F7'>Probability</span></center></td></tr></table>\n",
    "    \n",
    "<table style=\"display: inline-block;width:33%\" ><tr><td><center><h4 style='color:white;'>A Colunm Chart of the Perentage of Each Zone in the Intermediate Water Type Category.</h4></center><center><img src=\"this-is-the-intermediate.jpeg\" style=\"height:298px;width:100%\"></center><center>X-axis: <span style='font-weight:bold;color:#BE81F7'>All the Six Zones that are located in Tazania</span></center> <center>Y-axis: <span style='font-weight:bold;color:#BE81F7'>Probability</span></center></td></tr></table>\n",
    "\n",
    "<table style=\"display: inline-block;width:33%\" ><tr><td><center><h4 style='color:white;'>A Colunm Chart of the Perentage of Each Zone in the Bad Water Type Category.</h4><img src=\"this-is-the-bad-water-ty (2).jpeg\" style=\"height:298px;width:850px\"></center><center>X-axis: <span style='font-weight:bold;color:#BE81F7'>All the Six Zones that are located in Tazania</span></center> <center>Y-axis: <span style='font-weight:bold;color:#BE81F7'>Probability</span></center></td></tr></table></center>"
   ]
  },
  {
   "cell_type": "markdown",
   "metadata": {},
   "source": [
    "The grpahs above are columns charts of the percentage of all 6 Zones located n Tanzania within the dataset that have a Bad Water, Good Water and an Intermediate Water. The six Zones that are located in Tanzania are Northern Zone, Central Zone, Coastel Zone, Southern Highlands Zone, Lake Zone and Western Zone. \n",
    "\n",
    "\n",
    "<table style=\"display: inline-block;width:33%\" > \n",
    "       <tr><td><span style='font-weight:bold;color:#BE81F7'><font size=2>In the First Colunm Chart:</span>\n",
    "<li><font size=2 style=\"font-weight:500\" >The Zone with the highest percentage within the Good Water Type Category is Southern Highlands Zone with 25%.</font></li><br>\n",
    "<li><font size=2 style=\"font-weight:500\">The Zone with the 2nd highest percentage within the Good  Water Type Category is Lake Zone with 20%, it is tied with one other Zone as the 2nd Highest.</li><br>\n",
    "<li><font size=2 style=\"font-weight:500\">The Zone with the 2nd highest percentage within the Good  Water Type Category is Northern Zone with 20%, it is tied with one other Zone as the 2nd Highest.</li><br>\n",
    "<li><font size=2 style=\"font-weight:500\">The Zone with the 3rd highest percentage within the Good  Water Type Category is Coastel with 16%.</li><br>\n",
    "<li><font size=2 style=\"font-weight:500\">The Zone with the 4th highest percentage within the Good  Water Type Category is Central Zone with 9%.</li><br>\n",
    "<li><font size=2 style=\"font-weight:500\">The Zone with the 5th highest percentage  within the Good  Water Type Head Category is Western Zone with 7%. </li><br>\n",
    "<li><font size=2 style=\"font-weight:500\">The Zone with the lowest percentage  within the Good  Water Type Head Category is Unknown zone with 3%. </li></td></tr></table>\n",
    "\n",
    "\n",
    "<table style=\"display: inline-block;width:33%\" > \n",
    "       <tr><td><span style='font-weight:bold;color:#BE81F7'><font size=2>In the Second Colunm Chart:</span>\n",
    "<li><font size=2 style=\"font-weight:500\">The Zone with the highest percentage within the Intermediate  Water Type Category is Coastel Zone with 29%.</li><br>\n",
    "<li><font size=2 style=\"font-weight:500\">The Zone with the 2nd highest percentage within the Intermediate  Water Type Category is Central Zone with 21%.</li><br>\n",
    "<li><font size=2 style=\"font-weight:500\">The Zone with the 3rd highest percentage within the Intermediate  Water Type Category is Southern Highlands Zone with 20%.</li><br>\n",
    "<li><font size=2 style=\"font-weight:500\">The Zone with the 4th highest percentage within the Intermediate  Water Type Category is Lake Zone with 17%.</li><br>\n",
    "<li><font size=2 style=\"font-weight:500\">The Zone with the 5th highest percentage within the Intermediate  Water Type Category is Northern Zone with 10%.</li><br>\n",
    "<li><font size=2 style=\"font-weight:500\">The Zone with the 6th highest percentage  within the Intermediate  Water Type Category is Western Zone with 2%. </li><br>\n",
    "<li><font size=2 style=\"font-weight:500\">The Zone with the lowest percentage  within the Intermediate  Water Type Category is Unknown Zone with 1%. </li></td></tr></table>\n",
    "\n",
    "<table style=\"display: inline-block;width:33%\" > \n",
    "       <tr><td><span style='font-weight:bold;color:#BE81F7'><font size=2 >In the Third Colunm Chart:</span>\n",
    "<li><font size=2 style=\"font-weight:500\">The Zone with the highest percentage within the Bad  Water Type Category is Coastel Zone with 37%.</li><br>\n",
    "<li><font size=2 style=\"font-weight:500\">The Zone with the 2nd highest within the Bad  Water Type Category is Lake Zone with 21%.</li><br>\n",
    "<li><font size=2 style=\"font-weight:500\">The Zone with the 3rd highest percentage within the Intermediate  Water Type Category is Northern Zone with 17%.</li><br>\n",
    "<li><font size=2 style=\"font-weight:500\">The Zone with the 4th highest percentage within the Intermediate  Water Type Category is Central Zone with 15%.</li><br>\n",
    "<li><font size=2 style=\"font-weight:500\">The Zone with the 5th highest percentage within the Intermediate  Water Type Category is Southern Highlands Zone with 4%.</li><br>\n",
    "<li><font size=2 style=\"font-weight:500\">The Zone with the lowest percentage  within the Intermediate  Water Type Category is Western Zone  with 3%, it is tied with one other Zone as the Lowest. </li><br>\n",
    "<li><font size=2 style=\"font-weight:500\">The Zone with the lowest percentage  within the Intermediate  Water Type Category is Unknown Zone  with 3%, it is tied with one other Zone as the Lowest.. </li></td></tr></table>\n",
    "\n",
    "<p><span style='font-weight:bold;color:#BE81F7'>Conclusion B:</span> Based on the three Colunm Charts, out of all the other five two zones were tied as the best. Southern Highlands Zone and Northern Zone is the best zones when it comes to the amount of Good, Intermediate and Bad Water Type each Zone has. Southern Highlands Zone has the highest percentage of Good Water with 25%, the 3rd highest percentage of Intermediate Water with 20% and the 2nd lowest percentage of Bad Water with 4%. Northern Highlands Zone has the 2nd highest percentage of Good Water with 20%, the 5th highest percentage of Intermediate Water with 10% and the 3rd lowest percentage of Bad Water with 17%. The reason why they are tied is because, yes Southern Highlands Zone has the highets percentage of Good Water among the wells in the Good Water category but it also has the 3rd highest Intermediate Water among the wells in the Intermediate Water category with 20% and Northern Zone is the 5th highest with only 10%. That is a 10% difference with Southern Highlands Zone on the high end and Northen on the low end.  However Northern Zones is the 3rd Highest Zone in the Bad Water Category with a whooping 17% and Southern Highlands only has 4%, this is a 13% differene with Northen Zone on the high end and Southern Highlands on the low end. \n",
    "</p>"
   ]
  },
  {
   "cell_type": "code",
   "execution_count": 36,
   "metadata": {},
   "outputs": [
    {
     "data": {
      "text/plain": [
       "enough          8336\n",
       "insufficient    3767\n",
       "dry             1536\n",
       "seasonal        1025\n",
       "unknown          186\n",
       "Name: quantity, dtype: int64"
      ]
     },
     "execution_count": 36,
     "metadata": {},
     "output_type": "execute_result"
    }
   ],
   "source": [
    "raw_info[\"quantity\"].value_counts()"
   ]
  },
  {
   "cell_type": "code",
   "execution_count": 37,
   "metadata": {},
   "outputs": [
    {
     "data": {
      "text/plain": [
       "enough          8336\n",
       "insufficient    3767\n",
       "dry             1536\n",
       "seasonal        1025\n",
       "unknown          186\n",
       "Name: quantity_group, dtype: int64"
      ]
     },
     "execution_count": 37,
     "metadata": {},
     "output_type": "execute_result"
    }
   ],
   "source": [
    "raw_info[\"quantity_group\"].value_counts()"
   ]
  },
  {
   "cell_type": "code",
   "execution_count": 38,
   "metadata": {
    "scrolled": true
   },
   "outputs": [
    {
     "data": {
      "text/plain": [
       "['enough', 'insufficient', 'dry', 'seasonal', 'unknown']"
      ]
     },
     "execution_count": 38,
     "metadata": {},
     "output_type": "execute_result"
    }
   ],
   "source": [
    "quantity_group = raw_info[\"quantity\"].value_counts().index.tolist()\n",
    "quantity_group"
   ]
  },
  {
   "cell_type": "code",
   "execution_count": 39,
   "metadata": {
    "scrolled": true
   },
   "outputs": [
    {
     "data": {
      "text/plain": [
       "[8336, 3767, 1536, 1025, 186]"
      ]
     },
     "execution_count": 39,
     "metadata": {},
     "output_type": "execute_result"
    }
   ],
   "source": [
    "quantity_group1 = raw_info[\"quantity\"].value_counts().tolist()\n",
    "quantity_group1"
   ]
  },
  {
   "cell_type": "code",
   "execution_count": 40,
   "metadata": {
    "tags": []
   },
   "outputs": [
    {
     "data": {
      "text/plain": [
       "14850"
      ]
     },
     "execution_count": 40,
     "metadata": {},
     "output_type": "execute_result"
    }
   ],
   "source": [
    "quantity_group2 = raw_info['quantity_group'].tolist()\n",
    "len(quantity_group2)"
   ]
  },
  {
   "cell_type": "code",
   "execution_count": 41,
   "metadata": {
    "scrolled": true
   },
   "outputs": [
    {
     "data": {
      "text/plain": [
       "14850"
      ]
     },
     "execution_count": 41,
     "metadata": {},
     "output_type": "execute_result"
    }
   ],
   "source": [
    "qualification3 = []\n",
    "for water in quantity_group2:\n",
    "    if water == 'enough' :\n",
    "        qualification3.append('Good Quantity of Water')\n",
    "    elif water == 'insufficient':\n",
    "            qualification3.append('Intermediate Quantity of Water')\n",
    "    elif water == 'seasonal':\n",
    "        qualification3.append('Intermediate Quantity of Water')\n",
    "    elif water == 'dry' :\n",
    "        qualification3.append('Bad Quantity of Water')\n",
    "    elif water == 'unknown':\n",
    "            qualification3.append('Unknown')\n",
    "len(qualification3)"
   ]
  },
  {
   "cell_type": "code",
   "execution_count": 42,
   "metadata": {
    "scrolled": true
   },
   "outputs": [
    {
     "data": {
      "text/html": [
       "<div>\n",
       "<style scoped>\n",
       "    .dataframe tbody tr th:only-of-type {\n",
       "        vertical-align: middle;\n",
       "    }\n",
       "\n",
       "    .dataframe tbody tr th {\n",
       "        vertical-align: top;\n",
       "    }\n",
       "\n",
       "    .dataframe thead th {\n",
       "        text-align: right;\n",
       "    }\n",
       "</style>\n",
       "<table border=\"1\" class=\"dataframe\">\n",
       "  <thead>\n",
       "    <tr style=\"text-align: right;\">\n",
       "      <th></th>\n",
       "      <th>Quantity_Group</th>\n",
       "      <th>Water Quantity</th>\n",
       "    </tr>\n",
       "  </thead>\n",
       "  <tbody>\n",
       "    <tr>\n",
       "      <th>0</th>\n",
       "      <td>seasonal</td>\n",
       "      <td>Intermediate Quantity of Water</td>\n",
       "    </tr>\n",
       "    <tr>\n",
       "      <th>1</th>\n",
       "      <td>insufficient</td>\n",
       "      <td>Intermediate Quantity of Water</td>\n",
       "    </tr>\n",
       "    <tr>\n",
       "      <th>2</th>\n",
       "      <td>insufficient</td>\n",
       "      <td>Intermediate Quantity of Water</td>\n",
       "    </tr>\n",
       "    <tr>\n",
       "      <th>3</th>\n",
       "      <td>dry</td>\n",
       "      <td>Bad Quantity of Water</td>\n",
       "    </tr>\n",
       "    <tr>\n",
       "      <th>4</th>\n",
       "      <td>enough</td>\n",
       "      <td>Good Quantity of Water</td>\n",
       "    </tr>\n",
       "    <tr>\n",
       "      <th>...</th>\n",
       "      <td>...</td>\n",
       "      <td>...</td>\n",
       "    </tr>\n",
       "    <tr>\n",
       "      <th>14845</th>\n",
       "      <td>enough</td>\n",
       "      <td>Good Quantity of Water</td>\n",
       "    </tr>\n",
       "    <tr>\n",
       "      <th>14846</th>\n",
       "      <td>insufficient</td>\n",
       "      <td>Intermediate Quantity of Water</td>\n",
       "    </tr>\n",
       "    <tr>\n",
       "      <th>14847</th>\n",
       "      <td>insufficient</td>\n",
       "      <td>Intermediate Quantity of Water</td>\n",
       "    </tr>\n",
       "    <tr>\n",
       "      <th>14848</th>\n",
       "      <td>insufficient</td>\n",
       "      <td>Intermediate Quantity of Water</td>\n",
       "    </tr>\n",
       "    <tr>\n",
       "      <th>14849</th>\n",
       "      <td>dry</td>\n",
       "      <td>Bad Quantity of Water</td>\n",
       "    </tr>\n",
       "  </tbody>\n",
       "</table>\n",
       "<p>14850 rows × 2 columns</p>\n",
       "</div>"
      ],
      "text/plain": [
       "      Quantity_Group                  Water Quantity\n",
       "0           seasonal  Intermediate Quantity of Water\n",
       "1       insufficient  Intermediate Quantity of Water\n",
       "2       insufficient  Intermediate Quantity of Water\n",
       "3                dry           Bad Quantity of Water\n",
       "4             enough          Good Quantity of Water\n",
       "...              ...                             ...\n",
       "14845         enough          Good Quantity of Water\n",
       "14846   insufficient  Intermediate Quantity of Water\n",
       "14847   insufficient  Intermediate Quantity of Water\n",
       "14848   insufficient  Intermediate Quantity of Water\n",
       "14849            dry           Bad Quantity of Water\n",
       "\n",
       "[14850 rows x 2 columns]"
      ]
     },
     "execution_count": 42,
     "metadata": {},
     "output_type": "execute_result"
    }
   ],
   "source": [
    "df3 = pd.DataFrame({'Quantity_Group':quantity_group2,'Water Quantity':qualification3})\n",
    "df3"
   ]
  },
  {
   "cell_type": "code",
   "execution_count": 43,
   "metadata": {},
   "outputs": [
    {
     "data": {
      "text/plain": [
       "<AxesSubplot:xlabel='Water Quantity', ylabel='count'>"
      ]
     },
     "execution_count": 43,
     "metadata": {},
     "output_type": "execute_result"
    },
    {
     "data": {
      "image/png": "[encoded data removed]",
      "text/plain": [
       "<Figure size 1080x720 with 1 Axes>"
      ]
     },
     "metadata": {
      "needs_background": "light"
     },
     "output_type": "display_data"
    }
   ],
   "source": [
    "plt.figure(figsize=(15,10))\n",
    "sns.countplot(x='Water Quantity',data=df3)"
   ]
  },
  {
   "cell_type": "code",
   "execution_count": 44,
   "metadata": {},
   "outputs": [
    {
     "data": {
      "text/html": [
       "<div>\n",
       "<style scoped>\n",
       "    .dataframe tbody tr th:only-of-type {\n",
       "        vertical-align: middle;\n",
       "    }\n",
       "\n",
       "    .dataframe tbody tr th {\n",
       "        vertical-align: top;\n",
       "    }\n",
       "\n",
       "    .dataframe thead th {\n",
       "        text-align: right;\n",
       "    }\n",
       "</style>\n",
       "<table border=\"1\" class=\"dataframe\">\n",
       "  <thead>\n",
       "    <tr style=\"text-align: right;\">\n",
       "      <th></th>\n",
       "      <th>Quantity_Group</th>\n",
       "      <th>Water Quantity</th>\n",
       "      <th>Category</th>\n",
       "    </tr>\n",
       "  </thead>\n",
       "  <tbody>\n",
       "    <tr>\n",
       "      <th>0</th>\n",
       "      <td>seasonal</td>\n",
       "      <td>Intermediate Quantity of Water</td>\n",
       "      <td>2</td>\n",
       "    </tr>\n",
       "    <tr>\n",
       "      <th>1</th>\n",
       "      <td>insufficient</td>\n",
       "      <td>Intermediate Quantity of Water</td>\n",
       "      <td>2</td>\n",
       "    </tr>\n",
       "    <tr>\n",
       "      <th>2</th>\n",
       "      <td>insufficient</td>\n",
       "      <td>Intermediate Quantity of Water</td>\n",
       "      <td>2</td>\n",
       "    </tr>\n",
       "    <tr>\n",
       "      <th>3</th>\n",
       "      <td>dry</td>\n",
       "      <td>Bad Quantity of Water</td>\n",
       "      <td>3</td>\n",
       "    </tr>\n",
       "    <tr>\n",
       "      <th>4</th>\n",
       "      <td>enough</td>\n",
       "      <td>Good Quantity of Water</td>\n",
       "      <td>1</td>\n",
       "    </tr>\n",
       "    <tr>\n",
       "      <th>...</th>\n",
       "      <td>...</td>\n",
       "      <td>...</td>\n",
       "      <td>...</td>\n",
       "    </tr>\n",
       "    <tr>\n",
       "      <th>14845</th>\n",
       "      <td>enough</td>\n",
       "      <td>Good Quantity of Water</td>\n",
       "      <td>1</td>\n",
       "    </tr>\n",
       "    <tr>\n",
       "      <th>14846</th>\n",
       "      <td>insufficient</td>\n",
       "      <td>Intermediate Quantity of Water</td>\n",
       "      <td>2</td>\n",
       "    </tr>\n",
       "    <tr>\n",
       "      <th>14847</th>\n",
       "      <td>insufficient</td>\n",
       "      <td>Intermediate Quantity of Water</td>\n",
       "      <td>2</td>\n",
       "    </tr>\n",
       "    <tr>\n",
       "      <th>14848</th>\n",
       "      <td>insufficient</td>\n",
       "      <td>Intermediate Quantity of Water</td>\n",
       "      <td>2</td>\n",
       "    </tr>\n",
       "    <tr>\n",
       "      <th>14849</th>\n",
       "      <td>dry</td>\n",
       "      <td>Bad Quantity of Water</td>\n",
       "      <td>3</td>\n",
       "    </tr>\n",
       "  </tbody>\n",
       "</table>\n",
       "<p>14850 rows × 3 columns</p>\n",
       "</div>"
      ],
      "text/plain": [
       "      Quantity_Group                  Water Quantity  Category\n",
       "0           seasonal  Intermediate Quantity of Water         2\n",
       "1       insufficient  Intermediate Quantity of Water         2\n",
       "2       insufficient  Intermediate Quantity of Water         2\n",
       "3                dry           Bad Quantity of Water         3\n",
       "4             enough          Good Quantity of Water         1\n",
       "...              ...                             ...       ...\n",
       "14845         enough          Good Quantity of Water         1\n",
       "14846   insufficient  Intermediate Quantity of Water         2\n",
       "14847   insufficient  Intermediate Quantity of Water         2\n",
       "14848   insufficient  Intermediate Quantity of Water         2\n",
       "14849            dry           Bad Quantity of Water         3\n",
       "\n",
       "[14850 rows x 3 columns]"
      ]
     },
     "execution_count": 44,
     "metadata": {},
     "output_type": "execute_result"
    }
   ],
   "source": [
    "category3 = []\n",
    "for i in qualification3:\n",
    "    if i == 'Bad Quantity of Water':category3.append(3)\n",
    "    if i == 'Good Quantity of Water':category3.append(1)\n",
    "    if i == 'Intermediate Quantity of Water':category3.append(2)\n",
    "    if i == 'Unknown':category3.append(0)   \n",
    "df3['Category'] = category3\n",
    "df3"
   ]
  },
  {
   "cell_type": "code",
   "execution_count": 45,
   "metadata": {},
   "outputs": [
    {
     "data": {
      "text/plain": [
       "shallow well            4316\n",
       "spring                  4195\n",
       "machine dbh             2747\n",
       "river                   2352\n",
       "rainwater harvesting     568\n",
       "hand dtw                 234\n",
       "lake                     185\n",
       "dam                      184\n",
       "other                     49\n",
       "unknown                   20\n",
       "Name: source, dtype: int64"
      ]
     },
     "execution_count": 45,
     "metadata": {},
     "output_type": "execute_result"
    }
   ],
   "source": [
    "raw_info[\"source\"].value_counts()"
   ]
  },
  {
   "cell_type": "code",
   "execution_count": 46,
   "metadata": {
    "scrolled": true
   },
   "outputs": [
    {
     "data": {
      "text/plain": [
       "['shallow well',\n",
       " 'spring',\n",
       " 'machine dbh',\n",
       " 'river',\n",
       " 'rainwater harvesting',\n",
       " 'hand dtw',\n",
       " 'lake',\n",
       " 'dam',\n",
       " 'other',\n",
       " 'unknown']"
      ]
     },
     "execution_count": 46,
     "metadata": {},
     "output_type": "execute_result"
    }
   ],
   "source": [
    "sources = raw_info[\"source\"].value_counts().index.tolist()\n",
    "sources"
   ]
  },
  {
   "cell_type": "code",
   "execution_count": 47,
   "metadata": {
    "scrolled": true
   },
   "outputs": [
    {
     "data": {
      "text/plain": [
       "[4316, 4195, 2747, 2352, 568, 234, 185, 184, 49, 20]"
      ]
     },
     "execution_count": 47,
     "metadata": {},
     "output_type": "execute_result"
    }
   ],
   "source": [
    "sources1 = raw_info[\"source\"].value_counts().tolist()\n",
    "sources1"
   ]
  },
  {
   "cell_type": "code",
   "execution_count": 48,
   "metadata": {
    "scrolled": true
   },
   "outputs": [
    {
     "data": {
      "text/plain": [
       "14850"
      ]
     },
     "execution_count": 48,
     "metadata": {},
     "output_type": "execute_result"
    }
   ],
   "source": [
    "sources2 = raw_info[\"source\"].tolist()\n",
    "len(sources2)"
   ]
  },
  {
   "cell_type": "code",
   "execution_count": 49,
   "metadata": {
    "scrolled": true
   },
   "outputs": [
    {
     "data": {
      "text/plain": [
       "14850"
      ]
     },
     "execution_count": 49,
     "metadata": {},
     "output_type": "execute_result"
    }
   ],
   "source": [
    "qualification4 = []\n",
    "for source in sources2:\n",
    "    if source == 'shallow well' :\n",
    "        qualification4.append('Good Source')\n",
    "    elif source == 'spring':\n",
    "        qualification4.append('Good Source')\n",
    "    elif source == 'machine dbh':\n",
    "        qualification4.append('Good Source')\n",
    "    elif source == 'river' :\n",
    "        qualification4.append('Intermediate Source')\n",
    "    elif source == 'rainwater harvesting':\n",
    "         qualification4.append('Bad Source')\n",
    "    elif source == 'hand dtw':\n",
    "        qualification4.append('Intermediate Source')\n",
    "    elif source == 'lake' or 'dam':\n",
    "        qualification4.append('Bad Source')\n",
    "len(qualification4)"
   ]
  },
  {
   "cell_type": "code",
   "execution_count": 50,
   "metadata": {
    "scrolled": true
   },
   "outputs": [
    {
     "data": {
      "text/html": [
       "<div>\n",
       "<style scoped>\n",
       "    .dataframe tbody tr th:only-of-type {\n",
       "        vertical-align: middle;\n",
       "    }\n",
       "\n",
       "    .dataframe tbody tr th {\n",
       "        vertical-align: top;\n",
       "    }\n",
       "\n",
       "    .dataframe thead th {\n",
       "        text-align: right;\n",
       "    }\n",
       "</style>\n",
       "<table border=\"1\" class=\"dataframe\">\n",
       "  <thead>\n",
       "    <tr style=\"text-align: right;\">\n",
       "      <th></th>\n",
       "      <th>Sources</th>\n",
       "      <th>Source Quality</th>\n",
       "    </tr>\n",
       "  </thead>\n",
       "  <tbody>\n",
       "    <tr>\n",
       "      <th>0</th>\n",
       "      <td>rainwater harvesting</td>\n",
       "      <td>Bad Source</td>\n",
       "    </tr>\n",
       "    <tr>\n",
       "      <th>1</th>\n",
       "      <td>spring</td>\n",
       "      <td>Good Source</td>\n",
       "    </tr>\n",
       "    <tr>\n",
       "      <th>2</th>\n",
       "      <td>rainwater harvesting</td>\n",
       "      <td>Bad Source</td>\n",
       "    </tr>\n",
       "    <tr>\n",
       "      <th>3</th>\n",
       "      <td>shallow well</td>\n",
       "      <td>Good Source</td>\n",
       "    </tr>\n",
       "    <tr>\n",
       "      <th>4</th>\n",
       "      <td>spring</td>\n",
       "      <td>Good Source</td>\n",
       "    </tr>\n",
       "    <tr>\n",
       "      <th>...</th>\n",
       "      <td>...</td>\n",
       "      <td>...</td>\n",
       "    </tr>\n",
       "    <tr>\n",
       "      <th>14845</th>\n",
       "      <td>river</td>\n",
       "      <td>Intermediate Source</td>\n",
       "    </tr>\n",
       "    <tr>\n",
       "      <th>14846</th>\n",
       "      <td>shallow well</td>\n",
       "      <td>Good Source</td>\n",
       "    </tr>\n",
       "    <tr>\n",
       "      <th>14847</th>\n",
       "      <td>dam</td>\n",
       "      <td>Bad Source</td>\n",
       "    </tr>\n",
       "    <tr>\n",
       "      <th>14848</th>\n",
       "      <td>river</td>\n",
       "      <td>Intermediate Source</td>\n",
       "    </tr>\n",
       "    <tr>\n",
       "      <th>14849</th>\n",
       "      <td>spring</td>\n",
       "      <td>Good Source</td>\n",
       "    </tr>\n",
       "  </tbody>\n",
       "</table>\n",
       "<p>14850 rows × 2 columns</p>\n",
       "</div>"
      ],
      "text/plain": [
       "                    Sources       Source Quality\n",
       "0      rainwater harvesting           Bad Source\n",
       "1                    spring          Good Source\n",
       "2      rainwater harvesting           Bad Source\n",
       "3              shallow well          Good Source\n",
       "4                    spring          Good Source\n",
       "...                     ...                  ...\n",
       "14845                 river  Intermediate Source\n",
       "14846          shallow well          Good Source\n",
       "14847                   dam           Bad Source\n",
       "14848                 river  Intermediate Source\n",
       "14849                spring          Good Source\n",
       "\n",
       "[14850 rows x 2 columns]"
      ]
     },
     "execution_count": 50,
     "metadata": {},
     "output_type": "execute_result"
    }
   ],
   "source": [
    "df4 = pd.DataFrame({'Sources':sources2,'Source Quality':qualification4})\n",
    "df4"
   ]
  },
  {
   "cell_type": "code",
   "execution_count": 51,
   "metadata": {},
   "outputs": [
    {
     "data": {
      "text/plain": [
       "<AxesSubplot:xlabel='Source Quality', ylabel='count'>"
      ]
     },
     "execution_count": 51,
     "metadata": {},
     "output_type": "execute_result"
    },
    {
     "data": {
      "image/png": "[encoded data removed]",
      "text/plain": [
       "<Figure size 1080x720 with 1 Axes>"
      ]
     },
     "metadata": {
      "needs_background": "light"
     },
     "output_type": "display_data"
    }
   ],
   "source": [
    "plt.figure(figsize=(15,10))\n",
    "sns.countplot(x='Source Quality',data=df4)"
   ]
  },
  {
   "cell_type": "code",
   "execution_count": 52,
   "metadata": {},
   "outputs": [
    {
     "data": {
      "text/html": [
       "<div>\n",
       "<style scoped>\n",
       "    .dataframe tbody tr th:only-of-type {\n",
       "        vertical-align: middle;\n",
       "    }\n",
       "\n",
       "    .dataframe tbody tr th {\n",
       "        vertical-align: top;\n",
       "    }\n",
       "\n",
       "    .dataframe thead th {\n",
       "        text-align: right;\n",
       "    }\n",
       "</style>\n",
       "<table border=\"1\" class=\"dataframe\">\n",
       "  <thead>\n",
       "    <tr style=\"text-align: right;\">\n",
       "      <th></th>\n",
       "      <th>Sources</th>\n",
       "      <th>Source Quality</th>\n",
       "      <th>Category</th>\n",
       "    </tr>\n",
       "  </thead>\n",
       "  <tbody>\n",
       "    <tr>\n",
       "      <th>0</th>\n",
       "      <td>rainwater harvesting</td>\n",
       "      <td>Bad Source</td>\n",
       "      <td>3</td>\n",
       "    </tr>\n",
       "    <tr>\n",
       "      <th>1</th>\n",
       "      <td>spring</td>\n",
       "      <td>Good Source</td>\n",
       "      <td>1</td>\n",
       "    </tr>\n",
       "    <tr>\n",
       "      <th>2</th>\n",
       "      <td>rainwater harvesting</td>\n",
       "      <td>Bad Source</td>\n",
       "      <td>3</td>\n",
       "    </tr>\n",
       "    <tr>\n",
       "      <th>3</th>\n",
       "      <td>shallow well</td>\n",
       "      <td>Good Source</td>\n",
       "      <td>1</td>\n",
       "    </tr>\n",
       "    <tr>\n",
       "      <th>4</th>\n",
       "      <td>spring</td>\n",
       "      <td>Good Source</td>\n",
       "      <td>1</td>\n",
       "    </tr>\n",
       "    <tr>\n",
       "      <th>...</th>\n",
       "      <td>...</td>\n",
       "      <td>...</td>\n",
       "      <td>...</td>\n",
       "    </tr>\n",
       "    <tr>\n",
       "      <th>14845</th>\n",
       "      <td>river</td>\n",
       "      <td>Intermediate Source</td>\n",
       "      <td>2</td>\n",
       "    </tr>\n",
       "    <tr>\n",
       "      <th>14846</th>\n",
       "      <td>shallow well</td>\n",
       "      <td>Good Source</td>\n",
       "      <td>1</td>\n",
       "    </tr>\n",
       "    <tr>\n",
       "      <th>14847</th>\n",
       "      <td>dam</td>\n",
       "      <td>Bad Source</td>\n",
       "      <td>3</td>\n",
       "    </tr>\n",
       "    <tr>\n",
       "      <th>14848</th>\n",
       "      <td>river</td>\n",
       "      <td>Intermediate Source</td>\n",
       "      <td>2</td>\n",
       "    </tr>\n",
       "    <tr>\n",
       "      <th>14849</th>\n",
       "      <td>spring</td>\n",
       "      <td>Good Source</td>\n",
       "      <td>1</td>\n",
       "    </tr>\n",
       "  </tbody>\n",
       "</table>\n",
       "<p>14850 rows × 3 columns</p>\n",
       "</div>"
      ],
      "text/plain": [
       "                    Sources       Source Quality  Category\n",
       "0      rainwater harvesting           Bad Source         3\n",
       "1                    spring          Good Source         1\n",
       "2      rainwater harvesting           Bad Source         3\n",
       "3              shallow well          Good Source         1\n",
       "4                    spring          Good Source         1\n",
       "...                     ...                  ...       ...\n",
       "14845                 river  Intermediate Source         2\n",
       "14846          shallow well          Good Source         1\n",
       "14847                   dam           Bad Source         3\n",
       "14848                 river  Intermediate Source         2\n",
       "14849                spring          Good Source         1\n",
       "\n",
       "[14850 rows x 3 columns]"
      ]
     },
     "execution_count": 52,
     "metadata": {},
     "output_type": "execute_result"
    }
   ],
   "source": [
    "category4 = []\n",
    "for i in qualification4:\n",
    "    if i == 'Bad Source':category4.append(3)\n",
    "    if i == 'Good Source':category4.append(1)\n",
    "    if i == 'Intermediate Source':category4.append(2)\n",
    "    if i == 'Unknown':category4.append(0)   \n",
    "df4['Category'] = category4\n",
    "df4"
   ]
  },
  {
   "cell_type": "code",
   "execution_count": 53,
   "metadata": {},
   "outputs": [
    {
     "data": {
      "text/plain": [
       "shallow well            4316\n",
       "spring                  4195\n",
       "borehole                2981\n",
       "river/lake              2537\n",
       "rainwater harvesting     568\n",
       "dam                      184\n",
       "other                     69\n",
       "Name: source_type, dtype: int64"
      ]
     },
     "execution_count": 53,
     "metadata": {},
     "output_type": "execute_result"
    }
   ],
   "source": [
    "raw_info[\"source_type\"].value_counts()"
   ]
  },
  {
   "cell_type": "code",
   "execution_count": 54,
   "metadata": {
    "scrolled": true
   },
   "outputs": [
    {
     "data": {
      "text/plain": [
       "['shallow well',\n",
       " 'spring',\n",
       " 'borehole',\n",
       " 'river/lake',\n",
       " 'rainwater harvesting',\n",
       " 'dam',\n",
       " 'other']"
      ]
     },
     "execution_count": 54,
     "metadata": {},
     "output_type": "execute_result"
    }
   ],
   "source": [
    "raw_info[\"source_type\"].value_counts().index.tolist()"
   ]
  },
  {
   "cell_type": "code",
   "execution_count": 55,
   "metadata": {
    "scrolled": true
   },
   "outputs": [
    {
     "data": {
      "text/plain": [
       "[4316, 4195, 2981, 2537, 568, 184, 69]"
      ]
     },
     "execution_count": 55,
     "metadata": {},
     "output_type": "execute_result"
    }
   ],
   "source": [
    "raw_info[\"source_type\"].value_counts().tolist()"
   ]
  },
  {
   "cell_type": "code",
   "execution_count": 56,
   "metadata": {
    "scrolled": true
   },
   "outputs": [
    {
     "data": {
      "text/plain": [
       "14850"
      ]
     },
     "execution_count": 56,
     "metadata": {},
     "output_type": "execute_result"
    }
   ],
   "source": [
    "source_type = raw_info[\"source_type\"].tolist()\n",
    "len(source_type)"
   ]
  },
  {
   "cell_type": "code",
   "execution_count": 57,
   "metadata": {
    "scrolled": true
   },
   "outputs": [
    {
     "data": {
      "text/plain": [
       "14850"
      ]
     },
     "execution_count": 57,
     "metadata": {},
     "output_type": "execute_result"
    }
   ],
   "source": [
    "qualification5 = []\n",
    "for source in source_type:\n",
    "    if source == 'shallow well' :\n",
    "        qualification5.append('Good Source')\n",
    "    elif source == 'spring':\n",
    "        qualification5.append('Good Source')\n",
    "    elif source == 'borehole':\n",
    "        qualification5.append('Intermediate Source')\n",
    "    elif source == 'river/lake' :\n",
    "        qualification5.append('Bad Source')\n",
    "    elif source == 'rainwater harvesting':\n",
    "         qualification5.append('Bad Source')\n",
    "    elif source == 'other':\n",
    "        qualification5.append('Unknown')\n",
    "    elif source == 'dam':\n",
    "        qualification5.append('Bad Source')\n",
    "len(qualification5)"
   ]
  },
  {
   "cell_type": "code",
   "execution_count": 58,
   "metadata": {
    "scrolled": true
   },
   "outputs": [
    {
     "data": {
      "text/html": [
       "<div>\n",
       "<style scoped>\n",
       "    .dataframe tbody tr th:only-of-type {\n",
       "        vertical-align: middle;\n",
       "    }\n",
       "\n",
       "    .dataframe tbody tr th {\n",
       "        vertical-align: top;\n",
       "    }\n",
       "\n",
       "    .dataframe thead th {\n",
       "        text-align: right;\n",
       "    }\n",
       "</style>\n",
       "<table border=\"1\" class=\"dataframe\">\n",
       "  <thead>\n",
       "    <tr style=\"text-align: right;\">\n",
       "      <th></th>\n",
       "      <th>Source_Type</th>\n",
       "      <th>Source Quality</th>\n",
       "    </tr>\n",
       "  </thead>\n",
       "  <tbody>\n",
       "    <tr>\n",
       "      <th>0</th>\n",
       "      <td>rainwater harvesting</td>\n",
       "      <td>Bad Source</td>\n",
       "    </tr>\n",
       "    <tr>\n",
       "      <th>1</th>\n",
       "      <td>spring</td>\n",
       "      <td>Good Source</td>\n",
       "    </tr>\n",
       "    <tr>\n",
       "      <th>2</th>\n",
       "      <td>rainwater harvesting</td>\n",
       "      <td>Bad Source</td>\n",
       "    </tr>\n",
       "    <tr>\n",
       "      <th>3</th>\n",
       "      <td>shallow well</td>\n",
       "      <td>Good Source</td>\n",
       "    </tr>\n",
       "    <tr>\n",
       "      <th>4</th>\n",
       "      <td>spring</td>\n",
       "      <td>Good Source</td>\n",
       "    </tr>\n",
       "    <tr>\n",
       "      <th>...</th>\n",
       "      <td>...</td>\n",
       "      <td>...</td>\n",
       "    </tr>\n",
       "    <tr>\n",
       "      <th>14845</th>\n",
       "      <td>river/lake</td>\n",
       "      <td>Bad Source</td>\n",
       "    </tr>\n",
       "    <tr>\n",
       "      <th>14846</th>\n",
       "      <td>shallow well</td>\n",
       "      <td>Good Source</td>\n",
       "    </tr>\n",
       "    <tr>\n",
       "      <th>14847</th>\n",
       "      <td>dam</td>\n",
       "      <td>Bad Source</td>\n",
       "    </tr>\n",
       "    <tr>\n",
       "      <th>14848</th>\n",
       "      <td>river/lake</td>\n",
       "      <td>Bad Source</td>\n",
       "    </tr>\n",
       "    <tr>\n",
       "      <th>14849</th>\n",
       "      <td>spring</td>\n",
       "      <td>Good Source</td>\n",
       "    </tr>\n",
       "  </tbody>\n",
       "</table>\n",
       "<p>14850 rows × 2 columns</p>\n",
       "</div>"
      ],
      "text/plain": [
       "                Source_Type Source Quality\n",
       "0      rainwater harvesting     Bad Source\n",
       "1                    spring    Good Source\n",
       "2      rainwater harvesting     Bad Source\n",
       "3              shallow well    Good Source\n",
       "4                    spring    Good Source\n",
       "...                     ...            ...\n",
       "14845            river/lake     Bad Source\n",
       "14846          shallow well    Good Source\n",
       "14847                   dam     Bad Source\n",
       "14848            river/lake     Bad Source\n",
       "14849                spring    Good Source\n",
       "\n",
       "[14850 rows x 2 columns]"
      ]
     },
     "execution_count": 58,
     "metadata": {},
     "output_type": "execute_result"
    }
   ],
   "source": [
    "df5 = pd.DataFrame({'Source_Type':source_type,'Source Quality':qualification5})\n",
    "df5"
   ]
  },
  {
   "cell_type": "code",
   "execution_count": 59,
   "metadata": {},
   "outputs": [
    {
     "data": {
      "text/plain": [
       "<AxesSubplot:xlabel='Source Quality', ylabel='count'>"
      ]
     },
     "execution_count": 59,
     "metadata": {},
     "output_type": "execute_result"
    },
    {
     "data": {
      "image/png": "[encoded data removed]",
      "text/plain": [
       "<Figure size 1080x720 with 1 Axes>"
      ]
     },
     "metadata": {
      "needs_background": "light"
     },
     "output_type": "display_data"
    }
   ],
   "source": [
    "plt.figure(figsize=(15,10))\n",
    "sns.countplot(x='Source Quality',data=df5)"
   ]
  },
  {
   "cell_type": "code",
   "execution_count": 60,
   "metadata": {},
   "outputs": [
    {
     "data": {
      "text/html": [
       "<div>\n",
       "<style scoped>\n",
       "    .dataframe tbody tr th:only-of-type {\n",
       "        vertical-align: middle;\n",
       "    }\n",
       "\n",
       "    .dataframe tbody tr th {\n",
       "        vertical-align: top;\n",
       "    }\n",
       "\n",
       "    .dataframe thead th {\n",
       "        text-align: right;\n",
       "    }\n",
       "</style>\n",
       "<table border=\"1\" class=\"dataframe\">\n",
       "  <thead>\n",
       "    <tr style=\"text-align: right;\">\n",
       "      <th></th>\n",
       "      <th>Source_Type</th>\n",
       "      <th>Source Quality</th>\n",
       "      <th>Category</th>\n",
       "    </tr>\n",
       "  </thead>\n",
       "  <tbody>\n",
       "    <tr>\n",
       "      <th>0</th>\n",
       "      <td>rainwater harvesting</td>\n",
       "      <td>Bad Source</td>\n",
       "      <td>3</td>\n",
       "    </tr>\n",
       "    <tr>\n",
       "      <th>1</th>\n",
       "      <td>spring</td>\n",
       "      <td>Good Source</td>\n",
       "      <td>1</td>\n",
       "    </tr>\n",
       "    <tr>\n",
       "      <th>2</th>\n",
       "      <td>rainwater harvesting</td>\n",
       "      <td>Bad Source</td>\n",
       "      <td>3</td>\n",
       "    </tr>\n",
       "    <tr>\n",
       "      <th>3</th>\n",
       "      <td>shallow well</td>\n",
       "      <td>Good Source</td>\n",
       "      <td>1</td>\n",
       "    </tr>\n",
       "    <tr>\n",
       "      <th>4</th>\n",
       "      <td>spring</td>\n",
       "      <td>Good Source</td>\n",
       "      <td>1</td>\n",
       "    </tr>\n",
       "    <tr>\n",
       "      <th>...</th>\n",
       "      <td>...</td>\n",
       "      <td>...</td>\n",
       "      <td>...</td>\n",
       "    </tr>\n",
       "    <tr>\n",
       "      <th>14845</th>\n",
       "      <td>river/lake</td>\n",
       "      <td>Bad Source</td>\n",
       "      <td>3</td>\n",
       "    </tr>\n",
       "    <tr>\n",
       "      <th>14846</th>\n",
       "      <td>shallow well</td>\n",
       "      <td>Good Source</td>\n",
       "      <td>1</td>\n",
       "    </tr>\n",
       "    <tr>\n",
       "      <th>14847</th>\n",
       "      <td>dam</td>\n",
       "      <td>Bad Source</td>\n",
       "      <td>3</td>\n",
       "    </tr>\n",
       "    <tr>\n",
       "      <th>14848</th>\n",
       "      <td>river/lake</td>\n",
       "      <td>Bad Source</td>\n",
       "      <td>3</td>\n",
       "    </tr>\n",
       "    <tr>\n",
       "      <th>14849</th>\n",
       "      <td>spring</td>\n",
       "      <td>Good Source</td>\n",
       "      <td>1</td>\n",
       "    </tr>\n",
       "  </tbody>\n",
       "</table>\n",
       "<p>14850 rows × 3 columns</p>\n",
       "</div>"
      ],
      "text/plain": [
       "                Source_Type Source Quality  Category\n",
       "0      rainwater harvesting     Bad Source         3\n",
       "1                    spring    Good Source         1\n",
       "2      rainwater harvesting     Bad Source         3\n",
       "3              shallow well    Good Source         1\n",
       "4                    spring    Good Source         1\n",
       "...                     ...            ...       ...\n",
       "14845            river/lake     Bad Source         3\n",
       "14846          shallow well    Good Source         1\n",
       "14847                   dam     Bad Source         3\n",
       "14848            river/lake     Bad Source         3\n",
       "14849                spring    Good Source         1\n",
       "\n",
       "[14850 rows x 3 columns]"
      ]
     },
     "execution_count": 60,
     "metadata": {},
     "output_type": "execute_result"
    }
   ],
   "source": [
    "category5 = []\n",
    "for i in qualification5:\n",
    "    if i == 'Bad Source':category5.append(3)\n",
    "    if i == 'Good Source':category5.append(1)\n",
    "    if i == 'Intermediate Source':category5.append(2)\n",
    "    if i == 'Unknown':category5.append(0)   \n",
    "df5['Category'] = category5\n",
    "df5"
   ]
  },
  {
   "cell_type": "code",
   "execution_count": 61,
   "metadata": {},
   "outputs": [
    {
     "data": {
      "text/plain": [
       "groundwater    11492\n",
       "surface         3289\n",
       "unknown           69\n",
       "Name: source_class, dtype: int64"
      ]
     },
     "execution_count": 61,
     "metadata": {},
     "output_type": "execute_result"
    }
   ],
   "source": [
    "raw_info[\"source_class\"].value_counts()"
   ]
  },
  {
   "cell_type": "code",
   "execution_count": 62,
   "metadata": {
    "scrolled": true
   },
   "outputs": [
    {
     "data": {
      "text/plain": [
       "14850"
      ]
     },
     "execution_count": 62,
     "metadata": {},
     "output_type": "execute_result"
    }
   ],
   "source": [
    "source_class = raw_info[\"source_class\"].tolist()\n",
    "len(source_class)"
   ]
  },
  {
   "cell_type": "code",
   "execution_count": 63,
   "metadata": {
    "scrolled": true
   },
   "outputs": [
    {
     "data": {
      "text/plain": [
       "14850"
      ]
     },
     "execution_count": 63,
     "metadata": {},
     "output_type": "execute_result"
    }
   ],
   "source": [
    "qualification6 = []\n",
    "for source in source_class:\n",
    "    if source == 'groundwater' :\n",
    "        qualification6.append('Intermediate Source')\n",
    "    elif source == 'surface':\n",
    "        qualification6.append('Bad Source')\n",
    "    elif source == 'unknown':\n",
    "        qualification6.append('Unknown')\n",
    "len(qualification6)"
   ]
  },
  {
   "cell_type": "code",
   "execution_count": 64,
   "metadata": {
    "scrolled": true
   },
   "outputs": [
    {
     "data": {
      "text/html": [
       "<div>\n",
       "<style scoped>\n",
       "    .dataframe tbody tr th:only-of-type {\n",
       "        vertical-align: middle;\n",
       "    }\n",
       "\n",
       "    .dataframe tbody tr th {\n",
       "        vertical-align: top;\n",
       "    }\n",
       "\n",
       "    .dataframe thead th {\n",
       "        text-align: right;\n",
       "    }\n",
       "</style>\n",
       "<table border=\"1\" class=\"dataframe\">\n",
       "  <thead>\n",
       "    <tr style=\"text-align: right;\">\n",
       "      <th></th>\n",
       "      <th>Source_Class</th>\n",
       "      <th>Source Class Quality</th>\n",
       "    </tr>\n",
       "  </thead>\n",
       "  <tbody>\n",
       "    <tr>\n",
       "      <th>0</th>\n",
       "      <td>surface</td>\n",
       "      <td>Bad Source</td>\n",
       "    </tr>\n",
       "    <tr>\n",
       "      <th>1</th>\n",
       "      <td>groundwater</td>\n",
       "      <td>Intermediate Source</td>\n",
       "    </tr>\n",
       "    <tr>\n",
       "      <th>2</th>\n",
       "      <td>surface</td>\n",
       "      <td>Bad Source</td>\n",
       "    </tr>\n",
       "    <tr>\n",
       "      <th>3</th>\n",
       "      <td>groundwater</td>\n",
       "      <td>Intermediate Source</td>\n",
       "    </tr>\n",
       "    <tr>\n",
       "      <th>4</th>\n",
       "      <td>groundwater</td>\n",
       "      <td>Intermediate Source</td>\n",
       "    </tr>\n",
       "    <tr>\n",
       "      <th>...</th>\n",
       "      <td>...</td>\n",
       "      <td>...</td>\n",
       "    </tr>\n",
       "    <tr>\n",
       "      <th>14845</th>\n",
       "      <td>surface</td>\n",
       "      <td>Bad Source</td>\n",
       "    </tr>\n",
       "    <tr>\n",
       "      <th>14846</th>\n",
       "      <td>groundwater</td>\n",
       "      <td>Intermediate Source</td>\n",
       "    </tr>\n",
       "    <tr>\n",
       "      <th>14847</th>\n",
       "      <td>surface</td>\n",
       "      <td>Bad Source</td>\n",
       "    </tr>\n",
       "    <tr>\n",
       "      <th>14848</th>\n",
       "      <td>surface</td>\n",
       "      <td>Bad Source</td>\n",
       "    </tr>\n",
       "    <tr>\n",
       "      <th>14849</th>\n",
       "      <td>groundwater</td>\n",
       "      <td>Intermediate Source</td>\n",
       "    </tr>\n",
       "  </tbody>\n",
       "</table>\n",
       "<p>14850 rows × 2 columns</p>\n",
       "</div>"
      ],
      "text/plain": [
       "      Source_Class Source Class Quality\n",
       "0          surface           Bad Source\n",
       "1      groundwater  Intermediate Source\n",
       "2          surface           Bad Source\n",
       "3      groundwater  Intermediate Source\n",
       "4      groundwater  Intermediate Source\n",
       "...            ...                  ...\n",
       "14845      surface           Bad Source\n",
       "14846  groundwater  Intermediate Source\n",
       "14847      surface           Bad Source\n",
       "14848      surface           Bad Source\n",
       "14849  groundwater  Intermediate Source\n",
       "\n",
       "[14850 rows x 2 columns]"
      ]
     },
     "execution_count": 64,
     "metadata": {},
     "output_type": "execute_result"
    }
   ],
   "source": [
    "df6 = pd.DataFrame({'Source_Class':source_class,'Source Class Quality':qualification6})\n",
    "df6"
   ]
  },
  {
   "cell_type": "code",
   "execution_count": 65,
   "metadata": {},
   "outputs": [
    {
     "data": {
      "text/plain": [
       "<AxesSubplot:xlabel='Source Class Quality', ylabel='count'>"
      ]
     },
     "execution_count": 65,
     "metadata": {},
     "output_type": "execute_result"
    },
    {
     "data": {
      "image/png": "[encoded data removed]",
      "text/plain": [
       "<Figure size 1080x720 with 1 Axes>"
      ]
     },
     "metadata": {
      "needs_background": "light"
     },
     "output_type": "display_data"
    }
   ],
   "source": [
    "plt.figure(figsize=(15,10))\n",
    "sns.countplot(x='Source Class Quality',data=df6)"
   ]
  },
  {
   "cell_type": "code",
   "execution_count": 66,
   "metadata": {},
   "outputs": [
    {
     "data": {
      "text/html": [
       "<div>\n",
       "<style scoped>\n",
       "    .dataframe tbody tr th:only-of-type {\n",
       "        vertical-align: middle;\n",
       "    }\n",
       "\n",
       "    .dataframe tbody tr th {\n",
       "        vertical-align: top;\n",
       "    }\n",
       "\n",
       "    .dataframe thead th {\n",
       "        text-align: right;\n",
       "    }\n",
       "</style>\n",
       "<table border=\"1\" class=\"dataframe\">\n",
       "  <thead>\n",
       "    <tr style=\"text-align: right;\">\n",
       "      <th></th>\n",
       "      <th>Source_Class</th>\n",
       "      <th>Source Class Quality</th>\n",
       "      <th>Category</th>\n",
       "    </tr>\n",
       "  </thead>\n",
       "  <tbody>\n",
       "    <tr>\n",
       "      <th>0</th>\n",
       "      <td>surface</td>\n",
       "      <td>Bad Source</td>\n",
       "      <td>3</td>\n",
       "    </tr>\n",
       "    <tr>\n",
       "      <th>1</th>\n",
       "      <td>groundwater</td>\n",
       "      <td>Intermediate Source</td>\n",
       "      <td>2</td>\n",
       "    </tr>\n",
       "    <tr>\n",
       "      <th>2</th>\n",
       "      <td>surface</td>\n",
       "      <td>Bad Source</td>\n",
       "      <td>3</td>\n",
       "    </tr>\n",
       "    <tr>\n",
       "      <th>3</th>\n",
       "      <td>groundwater</td>\n",
       "      <td>Intermediate Source</td>\n",
       "      <td>2</td>\n",
       "    </tr>\n",
       "    <tr>\n",
       "      <th>4</th>\n",
       "      <td>groundwater</td>\n",
       "      <td>Intermediate Source</td>\n",
       "      <td>2</td>\n",
       "    </tr>\n",
       "    <tr>\n",
       "      <th>...</th>\n",
       "      <td>...</td>\n",
       "      <td>...</td>\n",
       "      <td>...</td>\n",
       "    </tr>\n",
       "    <tr>\n",
       "      <th>14845</th>\n",
       "      <td>surface</td>\n",
       "      <td>Bad Source</td>\n",
       "      <td>3</td>\n",
       "    </tr>\n",
       "    <tr>\n",
       "      <th>14846</th>\n",
       "      <td>groundwater</td>\n",
       "      <td>Intermediate Source</td>\n",
       "      <td>2</td>\n",
       "    </tr>\n",
       "    <tr>\n",
       "      <th>14847</th>\n",
       "      <td>surface</td>\n",
       "      <td>Bad Source</td>\n",
       "      <td>3</td>\n",
       "    </tr>\n",
       "    <tr>\n",
       "      <th>14848</th>\n",
       "      <td>surface</td>\n",
       "      <td>Bad Source</td>\n",
       "      <td>3</td>\n",
       "    </tr>\n",
       "    <tr>\n",
       "      <th>14849</th>\n",
       "      <td>groundwater</td>\n",
       "      <td>Intermediate Source</td>\n",
       "      <td>2</td>\n",
       "    </tr>\n",
       "  </tbody>\n",
       "</table>\n",
       "<p>14850 rows × 3 columns</p>\n",
       "</div>"
      ],
      "text/plain": [
       "      Source_Class Source Class Quality  Category\n",
       "0          surface           Bad Source         3\n",
       "1      groundwater  Intermediate Source         2\n",
       "2          surface           Bad Source         3\n",
       "3      groundwater  Intermediate Source         2\n",
       "4      groundwater  Intermediate Source         2\n",
       "...            ...                  ...       ...\n",
       "14845      surface           Bad Source         3\n",
       "14846  groundwater  Intermediate Source         2\n",
       "14847      surface           Bad Source         3\n",
       "14848      surface           Bad Source         3\n",
       "14849  groundwater  Intermediate Source         2\n",
       "\n",
       "[14850 rows x 3 columns]"
      ]
     },
     "execution_count": 66,
     "metadata": {},
     "output_type": "execute_result"
    }
   ],
   "source": [
    "category6 = []\n",
    "for i in qualification6:\n",
    "    if i == 'Bad Source':category6.append(3)\n",
    "    if i == 'Good Source':category6.append(1)\n",
    "    if i == 'Intermediate Source':category6.append(2)\n",
    "    if i == 'Unknown':category6.append(0)   \n",
    "df6['Category'] = category6\n",
    "df6"
   ]
  },
  {
   "cell_type": "code",
   "execution_count": 67,
   "metadata": {},
   "outputs": [
    {
     "data": {
      "text/plain": [
       "communal standpipe             7106\n",
       "hand pump                      4396\n",
       "other                          1630\n",
       "communal standpipe multiple    1508\n",
       "improved spring                 175\n",
       "cattle trough                    34\n",
       "dam                               1\n",
       "Name: waterpoint_type, dtype: int64"
      ]
     },
     "execution_count": 67,
     "metadata": {},
     "output_type": "execute_result"
    }
   ],
   "source": [
    "raw_info[\"waterpoint_type\"].value_counts()"
   ]
  },
  {
   "cell_type": "code",
   "execution_count": 68,
   "metadata": {},
   "outputs": [
    {
     "data": {
      "text/plain": [
       "communal standpipe    8614\n",
       "hand pump             4396\n",
       "other                 1630\n",
       "improved spring        175\n",
       "cattle trough           34\n",
       "dam                      1\n",
       "Name: waterpoint_type_group, dtype: int64"
      ]
     },
     "execution_count": 68,
     "metadata": {},
     "output_type": "execute_result"
    }
   ],
   "source": [
    "raw_info[\"waterpoint_type_group\"].value_counts()"
   ]
  },
  {
   "cell_type": "code",
   "execution_count": 69,
   "metadata": {
    "scrolled": true
   },
   "outputs": [
    {
     "data": {
      "text/plain": [
       "14850"
      ]
     },
     "execution_count": 69,
     "metadata": {},
     "output_type": "execute_result"
    }
   ],
   "source": [
    "waterpoint_type= raw_info[\"waterpoint_type_group\"].tolist()\n",
    "len(waterpoint_type)"
   ]
  },
  {
   "cell_type": "code",
   "execution_count": 70,
   "metadata": {
    "scrolled": true
   },
   "outputs": [
    {
     "data": {
      "text/plain": [
       "14850"
      ]
     },
     "execution_count": 70,
     "metadata": {},
     "output_type": "execute_result"
    }
   ],
   "source": [
    "qualification7 = []\n",
    "for waterpoint in waterpoint_type:\n",
    "    if waterpoint == 'communal standpipe' :\n",
    "        qualification7.append('Good Waterpiont')\n",
    "    elif waterpoint == 'hand pump':\n",
    "        qualification7.append('Good Waterpiont')\n",
    "    elif waterpoint == 'other':\n",
    "        qualification7.append('Unknown Waterpiont')\n",
    "    elif waterpoint == 'improved spring':\n",
    "        qualification7.append('Good Waterpiont')\n",
    "    elif waterpoint == 'cattle trough':\n",
    "        qualification7.append('Intermediate Waterpiont')\n",
    "    elif waterpoint == 'dam':\n",
    "        qualification7.append('Bad Waterpiont')\n",
    "len(qualification7)"
   ]
  },
  {
   "cell_type": "code",
   "execution_count": 71,
   "metadata": {
    "scrolled": true
   },
   "outputs": [
    {
     "data": {
      "text/html": [
       "<div>\n",
       "<style scoped>\n",
       "    .dataframe tbody tr th:only-of-type {\n",
       "        vertical-align: middle;\n",
       "    }\n",
       "\n",
       "    .dataframe tbody tr th {\n",
       "        vertical-align: top;\n",
       "    }\n",
       "\n",
       "    .dataframe thead th {\n",
       "        text-align: right;\n",
       "    }\n",
       "</style>\n",
       "<table border=\"1\" class=\"dataframe\">\n",
       "  <thead>\n",
       "    <tr style=\"text-align: right;\">\n",
       "      <th></th>\n",
       "      <th>Water_Piont_Type</th>\n",
       "      <th>Water Piont Class</th>\n",
       "    </tr>\n",
       "  </thead>\n",
       "  <tbody>\n",
       "    <tr>\n",
       "      <th>0</th>\n",
       "      <td>other</td>\n",
       "      <td>Unknown Waterpiont</td>\n",
       "    </tr>\n",
       "    <tr>\n",
       "      <th>1</th>\n",
       "      <td>communal standpipe</td>\n",
       "      <td>Good Waterpiont</td>\n",
       "    </tr>\n",
       "    <tr>\n",
       "      <th>2</th>\n",
       "      <td>other</td>\n",
       "      <td>Unknown Waterpiont</td>\n",
       "    </tr>\n",
       "    <tr>\n",
       "      <th>3</th>\n",
       "      <td>other</td>\n",
       "      <td>Unknown Waterpiont</td>\n",
       "    </tr>\n",
       "    <tr>\n",
       "      <th>4</th>\n",
       "      <td>communal standpipe</td>\n",
       "      <td>Good Waterpiont</td>\n",
       "    </tr>\n",
       "    <tr>\n",
       "      <th>...</th>\n",
       "      <td>...</td>\n",
       "      <td>...</td>\n",
       "    </tr>\n",
       "    <tr>\n",
       "      <th>14845</th>\n",
       "      <td>communal standpipe</td>\n",
       "      <td>Good Waterpiont</td>\n",
       "    </tr>\n",
       "    <tr>\n",
       "      <th>14846</th>\n",
       "      <td>hand pump</td>\n",
       "      <td>Good Waterpiont</td>\n",
       "    </tr>\n",
       "    <tr>\n",
       "      <th>14847</th>\n",
       "      <td>communal standpipe</td>\n",
       "      <td>Good Waterpiont</td>\n",
       "    </tr>\n",
       "    <tr>\n",
       "      <th>14848</th>\n",
       "      <td>communal standpipe</td>\n",
       "      <td>Good Waterpiont</td>\n",
       "    </tr>\n",
       "    <tr>\n",
       "      <th>14849</th>\n",
       "      <td>communal standpipe</td>\n",
       "      <td>Good Waterpiont</td>\n",
       "    </tr>\n",
       "  </tbody>\n",
       "</table>\n",
       "<p>14850 rows × 2 columns</p>\n",
       "</div>"
      ],
      "text/plain": [
       "         Water_Piont_Type   Water Piont Class\n",
       "0                   other  Unknown Waterpiont\n",
       "1      communal standpipe     Good Waterpiont\n",
       "2                   other  Unknown Waterpiont\n",
       "3                   other  Unknown Waterpiont\n",
       "4      communal standpipe     Good Waterpiont\n",
       "...                   ...                 ...\n",
       "14845  communal standpipe     Good Waterpiont\n",
       "14846           hand pump     Good Waterpiont\n",
       "14847  communal standpipe     Good Waterpiont\n",
       "14848  communal standpipe     Good Waterpiont\n",
       "14849  communal standpipe     Good Waterpiont\n",
       "\n",
       "[14850 rows x 2 columns]"
      ]
     },
     "execution_count": 71,
     "metadata": {},
     "output_type": "execute_result"
    }
   ],
   "source": [
    "df7 = pd.DataFrame({'Water_Piont_Type':waterpoint_type,'Water Piont Class':qualification7})\n",
    "df7"
   ]
  },
  {
   "cell_type": "code",
   "execution_count": 72,
   "metadata": {},
   "outputs": [
    {
     "data": {
      "text/plain": [
       "<AxesSubplot:xlabel='Water Piont Class', ylabel='count'>"
      ]
     },
     "execution_count": 72,
     "metadata": {},
     "output_type": "execute_result"
    },
    {
     "data": {
      "image/png": "[encoded data removed]",
      "text/plain": [
       "<Figure size 1080x720 with 1 Axes>"
      ]
     },
     "metadata": {
      "needs_background": "light"
     },
     "output_type": "display_data"
    }
   ],
   "source": [
    "plt.figure(figsize=(15,10))\n",
    "sns.countplot(x='Water Piont Class',data=df7)"
   ]
  },
  {
   "cell_type": "code",
   "execution_count": 73,
   "metadata": {},
   "outputs": [
    {
     "data": {
      "text/html": [
       "<div>\n",
       "<style scoped>\n",
       "    .dataframe tbody tr th:only-of-type {\n",
       "        vertical-align: middle;\n",
       "    }\n",
       "\n",
       "    .dataframe tbody tr th {\n",
       "        vertical-align: top;\n",
       "    }\n",
       "\n",
       "    .dataframe thead th {\n",
       "        text-align: right;\n",
       "    }\n",
       "</style>\n",
       "<table border=\"1\" class=\"dataframe\">\n",
       "  <thead>\n",
       "    <tr style=\"text-align: right;\">\n",
       "      <th></th>\n",
       "      <th>Water_Piont_Type</th>\n",
       "      <th>Water Piont Class</th>\n",
       "      <th>Category</th>\n",
       "    </tr>\n",
       "  </thead>\n",
       "  <tbody>\n",
       "    <tr>\n",
       "      <th>0</th>\n",
       "      <td>other</td>\n",
       "      <td>Unknown Waterpiont</td>\n",
       "      <td>0</td>\n",
       "    </tr>\n",
       "    <tr>\n",
       "      <th>1</th>\n",
       "      <td>communal standpipe</td>\n",
       "      <td>Good Waterpiont</td>\n",
       "      <td>1</td>\n",
       "    </tr>\n",
       "    <tr>\n",
       "      <th>2</th>\n",
       "      <td>other</td>\n",
       "      <td>Unknown Waterpiont</td>\n",
       "      <td>0</td>\n",
       "    </tr>\n",
       "    <tr>\n",
       "      <th>3</th>\n",
       "      <td>other</td>\n",
       "      <td>Unknown Waterpiont</td>\n",
       "      <td>0</td>\n",
       "    </tr>\n",
       "    <tr>\n",
       "      <th>4</th>\n",
       "      <td>communal standpipe</td>\n",
       "      <td>Good Waterpiont</td>\n",
       "      <td>1</td>\n",
       "    </tr>\n",
       "    <tr>\n",
       "      <th>...</th>\n",
       "      <td>...</td>\n",
       "      <td>...</td>\n",
       "      <td>...</td>\n",
       "    </tr>\n",
       "    <tr>\n",
       "      <th>14845</th>\n",
       "      <td>communal standpipe</td>\n",
       "      <td>Good Waterpiont</td>\n",
       "      <td>1</td>\n",
       "    </tr>\n",
       "    <tr>\n",
       "      <th>14846</th>\n",
       "      <td>hand pump</td>\n",
       "      <td>Good Waterpiont</td>\n",
       "      <td>1</td>\n",
       "    </tr>\n",
       "    <tr>\n",
       "      <th>14847</th>\n",
       "      <td>communal standpipe</td>\n",
       "      <td>Good Waterpiont</td>\n",
       "      <td>1</td>\n",
       "    </tr>\n",
       "    <tr>\n",
       "      <th>14848</th>\n",
       "      <td>communal standpipe</td>\n",
       "      <td>Good Waterpiont</td>\n",
       "      <td>1</td>\n",
       "    </tr>\n",
       "    <tr>\n",
       "      <th>14849</th>\n",
       "      <td>communal standpipe</td>\n",
       "      <td>Good Waterpiont</td>\n",
       "      <td>1</td>\n",
       "    </tr>\n",
       "  </tbody>\n",
       "</table>\n",
       "<p>14850 rows × 3 columns</p>\n",
       "</div>"
      ],
      "text/plain": [
       "         Water_Piont_Type   Water Piont Class  Category\n",
       "0                   other  Unknown Waterpiont         0\n",
       "1      communal standpipe     Good Waterpiont         1\n",
       "2                   other  Unknown Waterpiont         0\n",
       "3                   other  Unknown Waterpiont         0\n",
       "4      communal standpipe     Good Waterpiont         1\n",
       "...                   ...                 ...       ...\n",
       "14845  communal standpipe     Good Waterpiont         1\n",
       "14846           hand pump     Good Waterpiont         1\n",
       "14847  communal standpipe     Good Waterpiont         1\n",
       "14848  communal standpipe     Good Waterpiont         1\n",
       "14849  communal standpipe     Good Waterpiont         1\n",
       "\n",
       "[14850 rows x 3 columns]"
      ]
     },
     "execution_count": 73,
     "metadata": {},
     "output_type": "execute_result"
    }
   ],
   "source": [
    "category7 = []\n",
    "for i in qualification7:\n",
    "    if i == 'Bad Waterpiont':category7.append(3)\n",
    "    if i == 'Good Waterpiont':category7.append(1)\n",
    "    if i == 'Intermediate Waterpiont':category7.append(2)\n",
    "    if i == 'Unknown Waterpiont':category7.append(0)   \n",
    "df7['Category'] = category7\n",
    "df7"
   ]
  },
  {
   "cell_type": "code",
   "execution_count": 74,
   "metadata": {},
   "outputs": [
    {
     "data": {
      "text/plain": [
       "Lake Victoria              2623\n",
       "Pangani                    2203\n",
       "Rufiji                     2011\n",
       "Internal                   1857\n",
       "Lake Tanganyika            1620\n",
       "Wami / Ruvu                1590\n",
       "Lake Nyasa                 1247\n",
       "Ruvuma / Southern Coast    1094\n",
       "Lake Rukwa                  605\n",
       "Name: basin, dtype: int64"
      ]
     },
     "execution_count": 74,
     "metadata": {},
     "output_type": "execute_result"
    }
   ],
   "source": [
    "raw_info[\"basin\"].value_counts()"
   ]
  },
  {
   "cell_type": "code",
   "execution_count": 75,
   "metadata": {
    "scrolled": true
   },
   "outputs": [
    {
     "data": {
      "text/plain": [
       "14850"
      ]
     },
     "execution_count": 75,
     "metadata": {},
     "output_type": "execute_result"
    }
   ],
   "source": [
    "basins= raw_info[\"basin\"].tolist()\n",
    "len(basins)"
   ]
  },
  {
   "cell_type": "code",
   "execution_count": 76,
   "metadata": {
    "scrolled": true
   },
   "outputs": [
    {
     "data": {
      "text/plain": [
       "14850"
      ]
     },
     "execution_count": 76,
     "metadata": {},
     "output_type": "execute_result"
    }
   ],
   "source": [
    "qualification8 = []\n",
    "for basin in basins:\n",
    "    if basin == 'Lake Tanganyika' :\n",
    "        qualification8.append('Good Basin')\n",
    "    elif basin == 'Lake Nyasa':\n",
    "        qualification8.append('Good Basin')\n",
    "    elif basin == 'Lake Victoria':\n",
    "        qualification8.append('Bad Basin')\n",
    "    elif basin == 'Ruvuma / Southern Coast':\n",
    "        qualification8.append('Bad Basin')\n",
    "    elif basin == 'Rufiji':\n",
    "        qualification8.append('Bad Basin')\n",
    "    elif basin == 'Lake Rukwa':\n",
    "        qualification8.append('Intermediate Basin')\n",
    "    elif basin == 'Pangani':\n",
    "        qualification8.append('Intermediate Basin')\n",
    "    elif basin == 'Wami / Ruvu':\n",
    "        qualification8.append('Intermediate Basin')\n",
    "    elif basin == 'Internal':\n",
    "        qualification8.append('Bad Basin')\n",
    "len(qualification8)"
   ]
  },
  {
   "cell_type": "code",
   "execution_count": 77,
   "metadata": {},
   "outputs": [
    {
     "data": {
      "text/html": [
       "<div>\n",
       "<style scoped>\n",
       "    .dataframe tbody tr th:only-of-type {\n",
       "        vertical-align: middle;\n",
       "    }\n",
       "\n",
       "    .dataframe tbody tr th {\n",
       "        vertical-align: top;\n",
       "    }\n",
       "\n",
       "    .dataframe thead th {\n",
       "        text-align: right;\n",
       "    }\n",
       "</style>\n",
       "<table border=\"1\" class=\"dataframe\">\n",
       "  <thead>\n",
       "    <tr style=\"text-align: right;\">\n",
       "      <th></th>\n",
       "      <th>Water_Basins</th>\n",
       "      <th>Basin Class</th>\n",
       "    </tr>\n",
       "  </thead>\n",
       "  <tbody>\n",
       "    <tr>\n",
       "      <th>0</th>\n",
       "      <td>Internal</td>\n",
       "      <td>Bad Basin</td>\n",
       "    </tr>\n",
       "    <tr>\n",
       "      <th>1</th>\n",
       "      <td>Pangani</td>\n",
       "      <td>Intermediate Basin</td>\n",
       "    </tr>\n",
       "    <tr>\n",
       "      <th>2</th>\n",
       "      <td>Internal</td>\n",
       "      <td>Bad Basin</td>\n",
       "    </tr>\n",
       "    <tr>\n",
       "      <th>3</th>\n",
       "      <td>Ruvuma / Southern Coast</td>\n",
       "      <td>Bad Basin</td>\n",
       "    </tr>\n",
       "    <tr>\n",
       "      <th>4</th>\n",
       "      <td>Ruvuma / Southern Coast</td>\n",
       "      <td>Bad Basin</td>\n",
       "    </tr>\n",
       "    <tr>\n",
       "      <th>...</th>\n",
       "      <td>...</td>\n",
       "      <td>...</td>\n",
       "    </tr>\n",
       "    <tr>\n",
       "      <th>14845</th>\n",
       "      <td>Wami / Ruvu</td>\n",
       "      <td>Intermediate Basin</td>\n",
       "    </tr>\n",
       "    <tr>\n",
       "      <th>14846</th>\n",
       "      <td>Pangani</td>\n",
       "      <td>Intermediate Basin</td>\n",
       "    </tr>\n",
       "    <tr>\n",
       "      <th>14847</th>\n",
       "      <td>Internal</td>\n",
       "      <td>Bad Basin</td>\n",
       "    </tr>\n",
       "    <tr>\n",
       "      <th>14848</th>\n",
       "      <td>Lake Nyasa</td>\n",
       "      <td>Good Basin</td>\n",
       "    </tr>\n",
       "    <tr>\n",
       "      <th>14849</th>\n",
       "      <td>Lake Nyasa</td>\n",
       "      <td>Good Basin</td>\n",
       "    </tr>\n",
       "  </tbody>\n",
       "</table>\n",
       "<p>14850 rows × 2 columns</p>\n",
       "</div>"
      ],
      "text/plain": [
       "                  Water_Basins         Basin Class\n",
       "0                     Internal           Bad Basin\n",
       "1                      Pangani  Intermediate Basin\n",
       "2                     Internal           Bad Basin\n",
       "3      Ruvuma / Southern Coast           Bad Basin\n",
       "4      Ruvuma / Southern Coast           Bad Basin\n",
       "...                        ...                 ...\n",
       "14845              Wami / Ruvu  Intermediate Basin\n",
       "14846                  Pangani  Intermediate Basin\n",
       "14847                 Internal           Bad Basin\n",
       "14848               Lake Nyasa          Good Basin\n",
       "14849               Lake Nyasa          Good Basin\n",
       "\n",
       "[14850 rows x 2 columns]"
      ]
     },
     "execution_count": 77,
     "metadata": {},
     "output_type": "execute_result"
    }
   ],
   "source": [
    "df8 = pd.DataFrame({'Water_Basins':basins,'Basin Class':qualification8})\n",
    "df8"
   ]
  },
  {
   "cell_type": "code",
   "execution_count": 78,
   "metadata": {},
   "outputs": [
    {
     "data": {
      "text/plain": [
       "<AxesSubplot:xlabel='Basin Class', ylabel='count'>"
      ]
     },
     "execution_count": 78,
     "metadata": {},
     "output_type": "execute_result"
    },
    {
     "data": {
      "image/png": "[encoded data removed]",
      "text/plain": [
       "<Figure size 1080x720 with 1 Axes>"
      ]
     },
     "metadata": {
      "needs_background": "light"
     },
     "output_type": "display_data"
    }
   ],
   "source": [
    "plt.figure(figsize=(15,10))\n",
    "sns.countplot(x='Basin Class',data=df8)"
   ]
  },
  {
   "cell_type": "code",
   "execution_count": 79,
   "metadata": {},
   "outputs": [
    {
     "data": {
      "text/html": [
       "<div>\n",
       "<style scoped>\n",
       "    .dataframe tbody tr th:only-of-type {\n",
       "        vertical-align: middle;\n",
       "    }\n",
       "\n",
       "    .dataframe tbody tr th {\n",
       "        vertical-align: top;\n",
       "    }\n",
       "\n",
       "    .dataframe thead th {\n",
       "        text-align: right;\n",
       "    }\n",
       "</style>\n",
       "<table border=\"1\" class=\"dataframe\">\n",
       "  <thead>\n",
       "    <tr style=\"text-align: right;\">\n",
       "      <th></th>\n",
       "      <th>Water_Basins</th>\n",
       "      <th>Basin Class</th>\n",
       "      <th>Category</th>\n",
       "    </tr>\n",
       "  </thead>\n",
       "  <tbody>\n",
       "    <tr>\n",
       "      <th>0</th>\n",
       "      <td>Internal</td>\n",
       "      <td>Bad Basin</td>\n",
       "      <td>3</td>\n",
       "    </tr>\n",
       "    <tr>\n",
       "      <th>1</th>\n",
       "      <td>Pangani</td>\n",
       "      <td>Intermediate Basin</td>\n",
       "      <td>2</td>\n",
       "    </tr>\n",
       "    <tr>\n",
       "      <th>2</th>\n",
       "      <td>Internal</td>\n",
       "      <td>Bad Basin</td>\n",
       "      <td>3</td>\n",
       "    </tr>\n",
       "    <tr>\n",
       "      <th>3</th>\n",
       "      <td>Ruvuma / Southern Coast</td>\n",
       "      <td>Bad Basin</td>\n",
       "      <td>3</td>\n",
       "    </tr>\n",
       "    <tr>\n",
       "      <th>4</th>\n",
       "      <td>Ruvuma / Southern Coast</td>\n",
       "      <td>Bad Basin</td>\n",
       "      <td>3</td>\n",
       "    </tr>\n",
       "    <tr>\n",
       "      <th>...</th>\n",
       "      <td>...</td>\n",
       "      <td>...</td>\n",
       "      <td>...</td>\n",
       "    </tr>\n",
       "    <tr>\n",
       "      <th>14845</th>\n",
       "      <td>Wami / Ruvu</td>\n",
       "      <td>Intermediate Basin</td>\n",
       "      <td>2</td>\n",
       "    </tr>\n",
       "    <tr>\n",
       "      <th>14846</th>\n",
       "      <td>Pangani</td>\n",
       "      <td>Intermediate Basin</td>\n",
       "      <td>2</td>\n",
       "    </tr>\n",
       "    <tr>\n",
       "      <th>14847</th>\n",
       "      <td>Internal</td>\n",
       "      <td>Bad Basin</td>\n",
       "      <td>3</td>\n",
       "    </tr>\n",
       "    <tr>\n",
       "      <th>14848</th>\n",
       "      <td>Lake Nyasa</td>\n",
       "      <td>Good Basin</td>\n",
       "      <td>1</td>\n",
       "    </tr>\n",
       "    <tr>\n",
       "      <th>14849</th>\n",
       "      <td>Lake Nyasa</td>\n",
       "      <td>Good Basin</td>\n",
       "      <td>1</td>\n",
       "    </tr>\n",
       "  </tbody>\n",
       "</table>\n",
       "<p>14850 rows × 3 columns</p>\n",
       "</div>"
      ],
      "text/plain": [
       "                  Water_Basins         Basin Class  Category\n",
       "0                     Internal           Bad Basin         3\n",
       "1                      Pangani  Intermediate Basin         2\n",
       "2                     Internal           Bad Basin         3\n",
       "3      Ruvuma / Southern Coast           Bad Basin         3\n",
       "4      Ruvuma / Southern Coast           Bad Basin         3\n",
       "...                        ...                 ...       ...\n",
       "14845              Wami / Ruvu  Intermediate Basin         2\n",
       "14846                  Pangani  Intermediate Basin         2\n",
       "14847                 Internal           Bad Basin         3\n",
       "14848               Lake Nyasa          Good Basin         1\n",
       "14849               Lake Nyasa          Good Basin         1\n",
       "\n",
       "[14850 rows x 3 columns]"
      ]
     },
     "execution_count": 79,
     "metadata": {},
     "output_type": "execute_result"
    }
   ],
   "source": [
    "category8 = []\n",
    "for i in qualification8:\n",
    "    if i == 'Bad Basin':category8.append(3)\n",
    "    if i == 'Good Basin':category8.append(1)\n",
    "    if i == 'Intermediate Basin':category8.append(2)\n",
    "    if i == 'Unknown Basin':category8.append(0)   \n",
    "df8['Category'] = category8\n",
    "df8"
   ]
  },
  {
   "cell_type": "code",
   "execution_count": 80,
   "metadata": {},
   "outputs": [
    {
     "data": {
      "text/plain": [
       "Shuleni           140\n",
       "Majengo           129\n",
       "Madukani          121\n",
       "Kati               94\n",
       "Sokoni             62\n",
       "                 ... \n",
       "Kurukangara         1\n",
       "Kiranjeranje A      1\n",
       "Mwajiji             1\n",
       "Ngabobo             1\n",
       "Kamba               1\n",
       "Name: subvillage, Length: 8443, dtype: int64"
      ]
     },
     "execution_count": 80,
     "metadata": {},
     "output_type": "execute_result"
    }
   ],
   "source": [
    "raw_info[\"subvillage\"].value_counts()"
   ]
  },
  {
   "cell_type": "code",
   "execution_count": 81,
   "metadata": {},
   "outputs": [
    {
     "data": {
      "text/plain": [
       "17    1323\n",
       "11    1308\n",
       "12    1120\n",
       "3     1115\n",
       "5     1039\n",
       "18     859\n",
       "19     777\n",
       "16     717\n",
       "2      685\n",
       "10     666\n",
       "4      632\n",
       "1      578\n",
       "14     509\n",
       "20     482\n",
       "13     443\n",
       "15     434\n",
       "6      423\n",
       "21     389\n",
       "80     298\n",
       "60     273\n",
       "90     216\n",
       "7      215\n",
       "9      109\n",
       "99      89\n",
       "24      76\n",
       "8       75\n",
       "Name: region_code, dtype: int64"
      ]
     },
     "execution_count": 81,
     "metadata": {},
     "output_type": "execute_result"
    }
   ],
   "source": [
    "raw_info[\"region_code\"].value_counts()"
   ]
  },
  {
   "cell_type": "code",
   "execution_count": 82,
   "metadata": {},
   "outputs": [
    {
     "data": {
      "text/plain": [
       "1     3096\n",
       "2     2756\n",
       "3     2523\n",
       "4     2254\n",
       "5     1072\n",
       "6     1034\n",
       "7      823\n",
       "30     261\n",
       "8      239\n",
       "33     189\n",
       "53     176\n",
       "43     148\n",
       "13     105\n",
       "63      69\n",
       "23      67\n",
       "62      18\n",
       "60      13\n",
       "0        4\n",
       "67       2\n",
       "80       1\n",
       "Name: district_code, dtype: int64"
      ]
     },
     "execution_count": 82,
     "metadata": {},
     "output_type": "execute_result"
    }
   ],
   "source": [
    "raw_info[\"district_code\"].value_counts()"
   ]
  },
  {
   "cell_type": "code",
   "execution_count": 83,
   "metadata": {},
   "outputs": [
    {
     "data": {
      "text/plain": [
       "Shinyanga        1311\n",
       "Iringa           1305\n",
       "Mbeya            1119\n",
       "Kilimanjaro      1115\n",
       "Morogoro         1032\n",
       "Kagera            858\n",
       "Mwanza            795\n",
       "Arusha            761\n",
       "Kigoma            717\n",
       "Pwani             696\n",
       "Ruvuma            666\n",
       "Tanga             639\n",
       "Dodoma            578\n",
       "Tabora            507\n",
       "Mara              482\n",
       "Singida           443\n",
       "Rukwa             434\n",
       "Mtwara            414\n",
       "Manyara           389\n",
       "Lindi             374\n",
       "Dar es Salaam     215\n",
       "Name: region, dtype: int64"
      ]
     },
     "execution_count": 83,
     "metadata": {},
     "output_type": "execute_result"
    }
   ],
   "source": [
    " raw_info[\"region\"].value_counts()"
   ]
  },
  {
   "cell_type": "code",
   "execution_count": 84,
   "metadata": {},
   "outputs": [
    {
     "data": {
      "text/plain": [
       "['Shinyanga',\n",
       " 'Iringa',\n",
       " 'Mbeya',\n",
       " 'Kilimanjaro',\n",
       " 'Morogoro',\n",
       " 'Kagera',\n",
       " 'Mwanza',\n",
       " 'Arusha',\n",
       " 'Kigoma',\n",
       " 'Pwani',\n",
       " 'Ruvuma',\n",
       " 'Tanga',\n",
       " 'Dodoma',\n",
       " 'Tabora',\n",
       " 'Mara',\n",
       " 'Singida',\n",
       " 'Rukwa',\n",
       " 'Mtwara',\n",
       " 'Manyara',\n",
       " 'Lindi',\n",
       " 'Dar es Salaam']"
      ]
     },
     "execution_count": 84,
     "metadata": {},
     "output_type": "execute_result"
    }
   ],
   "source": [
    "region = raw_info[\"region\"].value_counts().index.tolist()\n",
    "region"
   ]
  },
  {
   "cell_type": "code",
   "execution_count": 85,
   "metadata": {
    "scrolled": true
   },
   "outputs": [
    {
     "data": {
      "text/plain": [
       "14850"
      ]
     },
     "execution_count": 85,
     "metadata": {},
     "output_type": "execute_result"
    }
   ],
   "source": [
    "regions= raw_info[\"region\"].tolist()\n",
    "len(regions)"
   ]
  },
  {
   "cell_type": "code",
   "execution_count": 86,
   "metadata": {},
   "outputs": [
    {
     "data": {
      "text/plain": [
       "21"
      ]
     },
     "execution_count": 86,
     "metadata": {},
     "output_type": "execute_result"
    }
   ],
   "source": [
    "area = []\n",
    "for i in region:\n",
    "    if i == 'Shinyanga':area.append(7298)       \n",
    "    if i == 'Iringa':area.append(13708)           \n",
    "    if i == 'Mbeya':area.append(13882)            \n",
    "    if i == 'Kilimanjaro':area.append(5120)      \n",
    "    if i == 'Morogoro':area.append(27268)         \n",
    "    if i == 'Kagera':area.append(9755)           \n",
    "    if i == 'Mwanza':area.append(3655)            \n",
    "    if i == 'Arusha':area.append(14508)          \n",
    "    if i == 'Kigoma':area.append(14300)            \n",
    "    if i == 'Pwani':area.append(12566)            \n",
    "    if i == 'Ruvuma':area.append(24583)            \n",
    "    if i == 'Tanga':area.append(10296)             \n",
    "    if i == 'Dodoma':area.append(15950)           \n",
    "    if i == 'Tabora':area.append(29400)            \n",
    "    if i ==  'Mara':area.append(8400)              \n",
    "    if i == 'Singida':area.append(19050)          \n",
    "    if i == 'Rukwa':area.append(8800)            \n",
    "    if i == 'Mtwara':area.append(6450)            \n",
    "    if i == 'Manyara':area.append(17190)           \n",
    "    if i == 'Lindi':area.append(25500)             \n",
    "    if i == 'Dar es Salaam':area.append(538)  \n",
    "len(area)"
   ]
  },
  {
   "cell_type": "code",
   "execution_count": 87,
   "metadata": {
    "scrolled": true
   },
   "outputs": [
    {
     "data": {
      "text/plain": [
       "21"
      ]
     },
     "execution_count": 87,
     "metadata": {},
     "output_type": "execute_result"
    }
   ],
   "source": [
    "populations = []\n",
    "for i in region:\n",
    "    if i == 'Shinyanga':populations.append(1534808)       \n",
    "    if i == 'Iringa':populations.append(941238)           \n",
    "    if i == 'Mbeya':populations.append(2707410)            \n",
    "    if i == 'Kilimanjaro':populations.append(1640087)      \n",
    "    if i == 'Morogoro':populations.append(2218492)         \n",
    "    if i == 'Kagera':populations.append(2458023)           \n",
    "    if i == 'Mwanza':populations.append(2772509)            \n",
    "    if i == 'Arusha':populations.append(1694310)          \n",
    "    if i == 'Kigoma':populations.append(2127930)            \n",
    "    if i == 'Pwani':populations.append(1098668)            \n",
    "    if i == 'Ruvuma':populations.append(1376891)            \n",
    "    if i == 'Tanga':populations.append(2045205)             \n",
    "    if i == 'Dodoma':populations.append(2083588)           \n",
    "    if i == 'Tabora':populations.append(2291623)            \n",
    "    if i ==  'Mara':populations.append(1743830)              \n",
    "    if i == 'Singida':populations.append(1370637)          \n",
    "    if i == 'Rukwa':populations.append(1004539)            \n",
    "    if i == 'Mtwara':populations.append(1270854)            \n",
    "    if i == 'Manyara':populations.append(1425131)           \n",
    "    if i == 'Lindi':populations.append(864652)             \n",
    "    if i == 'Dar es Salaam':populations.append(4364541)   \n",
    "len(populations)"
   ]
  },
  {
   "cell_type": "code",
   "execution_count": 88,
   "metadata": {},
   "outputs": [
    {
     "data": {
      "text/plain": [
       "[210.30528912030692,\n",
       " 68.66340822877152,\n",
       " 195.0302550064832,\n",
       " 320.3294921875,\n",
       " 81.35880886020243,\n",
       " 251.97570476678627,\n",
       " 758.5523939808481,\n",
       " 116.78453267162945,\n",
       " 148.8062937062937,\n",
       " 87.43180009549579,\n",
       " 56.00988487979498,\n",
       " 198.64073426573427,\n",
       " 130.63247648902822,\n",
       " 77.94636054421768,\n",
       " 207.59880952380954,\n",
       " 71.94944881889764,\n",
       " 114.1521590909091,\n",
       " 197.03162790697675,\n",
       " 82.90465386852821,\n",
       " 33.90792156862745,\n",
       " 8112.529739776952]"
      ]
     },
     "execution_count": 88,
     "metadata": {},
     "output_type": "execute_result"
    }
   ],
   "source": [
    "population_density = []\n",
    "for x,y in enumerate(populations):population_density.append(y/area[x])   \n",
    "population_density"
   ]
  },
  {
   "cell_type": "code",
   "execution_count": 89,
   "metadata": {},
   "outputs": [
    {
     "data": {
      "text/html": [
       "<div>\n",
       "<style scoped>\n",
       "    .dataframe tbody tr th:only-of-type {\n",
       "        vertical-align: middle;\n",
       "    }\n",
       "\n",
       "    .dataframe tbody tr th {\n",
       "        vertical-align: top;\n",
       "    }\n",
       "\n",
       "    .dataframe thead th {\n",
       "        text-align: right;\n",
       "    }\n",
       "</style>\n",
       "<table border=\"1\" class=\"dataframe\">\n",
       "  <thead>\n",
       "    <tr style=\"text-align: right;\">\n",
       "      <th></th>\n",
       "      <th>Regions</th>\n",
       "      <th>Area</th>\n",
       "      <th>Population</th>\n",
       "      <th>Population Density</th>\n",
       "    </tr>\n",
       "  </thead>\n",
       "  <tbody>\n",
       "    <tr>\n",
       "      <th>0</th>\n",
       "      <td>Shinyanga</td>\n",
       "      <td>7298</td>\n",
       "      <td>1534808</td>\n",
       "      <td>210.305289</td>\n",
       "    </tr>\n",
       "    <tr>\n",
       "      <th>1</th>\n",
       "      <td>Iringa</td>\n",
       "      <td>13708</td>\n",
       "      <td>941238</td>\n",
       "      <td>68.663408</td>\n",
       "    </tr>\n",
       "    <tr>\n",
       "      <th>2</th>\n",
       "      <td>Mbeya</td>\n",
       "      <td>13882</td>\n",
       "      <td>2707410</td>\n",
       "      <td>195.030255</td>\n",
       "    </tr>\n",
       "    <tr>\n",
       "      <th>3</th>\n",
       "      <td>Kilimanjaro</td>\n",
       "      <td>5120</td>\n",
       "      <td>1640087</td>\n",
       "      <td>320.329492</td>\n",
       "    </tr>\n",
       "    <tr>\n",
       "      <th>4</th>\n",
       "      <td>Morogoro</td>\n",
       "      <td>27268</td>\n",
       "      <td>2218492</td>\n",
       "      <td>81.358809</td>\n",
       "    </tr>\n",
       "    <tr>\n",
       "      <th>5</th>\n",
       "      <td>Kagera</td>\n",
       "      <td>9755</td>\n",
       "      <td>2458023</td>\n",
       "      <td>251.975705</td>\n",
       "    </tr>\n",
       "    <tr>\n",
       "      <th>6</th>\n",
       "      <td>Mwanza</td>\n",
       "      <td>3655</td>\n",
       "      <td>2772509</td>\n",
       "      <td>758.552394</td>\n",
       "    </tr>\n",
       "    <tr>\n",
       "      <th>7</th>\n",
       "      <td>Arusha</td>\n",
       "      <td>14508</td>\n",
       "      <td>1694310</td>\n",
       "      <td>116.784533</td>\n",
       "    </tr>\n",
       "    <tr>\n",
       "      <th>8</th>\n",
       "      <td>Kigoma</td>\n",
       "      <td>14300</td>\n",
       "      <td>2127930</td>\n",
       "      <td>148.806294</td>\n",
       "    </tr>\n",
       "    <tr>\n",
       "      <th>9</th>\n",
       "      <td>Pwani</td>\n",
       "      <td>12566</td>\n",
       "      <td>1098668</td>\n",
       "      <td>87.431800</td>\n",
       "    </tr>\n",
       "    <tr>\n",
       "      <th>10</th>\n",
       "      <td>Ruvuma</td>\n",
       "      <td>24583</td>\n",
       "      <td>1376891</td>\n",
       "      <td>56.009885</td>\n",
       "    </tr>\n",
       "    <tr>\n",
       "      <th>11</th>\n",
       "      <td>Tanga</td>\n",
       "      <td>10296</td>\n",
       "      <td>2045205</td>\n",
       "      <td>198.640734</td>\n",
       "    </tr>\n",
       "    <tr>\n",
       "      <th>12</th>\n",
       "      <td>Dodoma</td>\n",
       "      <td>15950</td>\n",
       "      <td>2083588</td>\n",
       "      <td>130.632476</td>\n",
       "    </tr>\n",
       "    <tr>\n",
       "      <th>13</th>\n",
       "      <td>Tabora</td>\n",
       "      <td>29400</td>\n",
       "      <td>2291623</td>\n",
       "      <td>77.946361</td>\n",
       "    </tr>\n",
       "    <tr>\n",
       "      <th>14</th>\n",
       "      <td>Mara</td>\n",
       "      <td>8400</td>\n",
       "      <td>1743830</td>\n",
       "      <td>207.598810</td>\n",
       "    </tr>\n",
       "    <tr>\n",
       "      <th>15</th>\n",
       "      <td>Singida</td>\n",
       "      <td>19050</td>\n",
       "      <td>1370637</td>\n",
       "      <td>71.949449</td>\n",
       "    </tr>\n",
       "    <tr>\n",
       "      <th>16</th>\n",
       "      <td>Rukwa</td>\n",
       "      <td>8800</td>\n",
       "      <td>1004539</td>\n",
       "      <td>114.152159</td>\n",
       "    </tr>\n",
       "    <tr>\n",
       "      <th>17</th>\n",
       "      <td>Mtwara</td>\n",
       "      <td>6450</td>\n",
       "      <td>1270854</td>\n",
       "      <td>197.031628</td>\n",
       "    </tr>\n",
       "    <tr>\n",
       "      <th>18</th>\n",
       "      <td>Manyara</td>\n",
       "      <td>17190</td>\n",
       "      <td>1425131</td>\n",
       "      <td>82.904654</td>\n",
       "    </tr>\n",
       "    <tr>\n",
       "      <th>19</th>\n",
       "      <td>Lindi</td>\n",
       "      <td>25500</td>\n",
       "      <td>864652</td>\n",
       "      <td>33.907922</td>\n",
       "    </tr>\n",
       "    <tr>\n",
       "      <th>20</th>\n",
       "      <td>Dar es Salaam</td>\n",
       "      <td>538</td>\n",
       "      <td>4364541</td>\n",
       "      <td>8112.529740</td>\n",
       "    </tr>\n",
       "  </tbody>\n",
       "</table>\n",
       "</div>"
      ],
      "text/plain": [
       "          Regions   Area  Population  Population Density\n",
       "0       Shinyanga   7298     1534808          210.305289\n",
       "1          Iringa  13708      941238           68.663408\n",
       "2           Mbeya  13882     2707410          195.030255\n",
       "3     Kilimanjaro   5120     1640087          320.329492\n",
       "4        Morogoro  27268     2218492           81.358809\n",
       "5          Kagera   9755     2458023          251.975705\n",
       "6          Mwanza   3655     2772509          758.552394\n",
       "7          Arusha  14508     1694310          116.784533\n",
       "8          Kigoma  14300     2127930          148.806294\n",
       "9           Pwani  12566     1098668           87.431800\n",
       "10         Ruvuma  24583     1376891           56.009885\n",
       "11          Tanga  10296     2045205          198.640734\n",
       "12         Dodoma  15950     2083588          130.632476\n",
       "13         Tabora  29400     2291623           77.946361\n",
       "14           Mara   8400     1743830          207.598810\n",
       "15        Singida  19050     1370637           71.949449\n",
       "16          Rukwa   8800     1004539          114.152159\n",
       "17         Mtwara   6450     1270854          197.031628\n",
       "18        Manyara  17190     1425131           82.904654\n",
       "19          Lindi  25500      864652           33.907922\n",
       "20  Dar es Salaam    538     4364541         8112.529740"
      ]
     },
     "execution_count": 89,
     "metadata": {},
     "output_type": "execute_result"
    }
   ],
   "source": [
    "df9 = pd.DataFrame({'Regions':region,'Area':area,'Population':populations,'Population Density':population_density})\n",
    "df9"
   ]
  },
  {
   "cell_type": "code",
   "execution_count": 90,
   "metadata": {
    "tags": []
   },
   "outputs": [
    {
     "data": {
      "text/plain": [
       "14850"
      ]
     },
     "execution_count": 90,
     "metadata": {},
     "output_type": "execute_result"
    }
   ],
   "source": [
    "ALL_Density = []\n",
    "for i in regions:\n",
    "    if i == 'Shinyanga':ALL_Density.append(\t210.305289)       \n",
    "    if i == 'Iringa':ALL_Density.append(68.663408)           \n",
    "    if i == 'Mbeya':ALL_Density.append(195.030255)            \n",
    "    if i == 'Kilimanjaro':ALL_Density.append(320.329492)      \n",
    "    if i == 'Morogoro':ALL_Density.append(81.358809)         \n",
    "    if i == 'Kagera':ALL_Density.append(251.975705)           \n",
    "    if i == 'Mwanza':ALL_Density.append(758.552394)            \n",
    "    if i == 'Arusha':ALL_Density.append(116.784533)          \n",
    "    if i == 'Kigoma':ALL_Density.append(148.806294)            \n",
    "    if i == 'Pwani':ALL_Density.append(87.431800)            \n",
    "    if i == 'Ruvuma':ALL_Density.append(56.009885)            \n",
    "    if i == 'Tanga':ALL_Density.append(198.640734)             \n",
    "    if i == 'Dodoma':ALL_Density.append(130.632476)           \n",
    "    if i == 'Tabora':ALL_Density.append(77.946361)            \n",
    "    if i ==  'Mara':ALL_Density.append(207.598810)              \n",
    "    if i == 'Singida':ALL_Density.append(71.949449)          \n",
    "    if i == 'Rukwa':ALL_Density.append(114.152159)            \n",
    "    if i == 'Mtwara':ALL_Density.append(197.031628)            \n",
    "    if i == 'Manyara':ALL_Density.append(82.904654)           \n",
    "    if i == 'Lindi':ALL_Density.append(33.907922)             \n",
    "    if i == 'Dar es Salaam':ALL_Density.append(8112.529740)   \n",
    "len(ALL_Density)"
   ]
  },
  {
   "cell_type": "code",
   "execution_count": 91,
   "metadata": {
    "scrolled": true
   },
   "outputs": [
    {
     "data": {
      "text/plain": [
       "14850"
      ]
     },
     "execution_count": 91,
     "metadata": {},
     "output_type": "execute_result"
    }
   ],
   "source": [
    "qualification9 = []\n",
    "for density in ALL_Density:\n",
    "    if 0 <= density <= 100:\n",
    "        qualification9.append('Low Density')\n",
    "    elif 101 <= density <= 500:\n",
    "        qualification9.append('Intermediate Density')\n",
    "    elif 501 <= density :\n",
    "        qualification9.append('High Density')\n",
    "len(qualification9)"
   ]
  },
  {
   "cell_type": "code",
   "execution_count": 92,
   "metadata": {},
   "outputs": [
    {
     "data": {
      "text/html": [
       "<div>\n",
       "<style scoped>\n",
       "    .dataframe tbody tr th:only-of-type {\n",
       "        vertical-align: middle;\n",
       "    }\n",
       "\n",
       "    .dataframe tbody tr th {\n",
       "        vertical-align: top;\n",
       "    }\n",
       "\n",
       "    .dataframe thead th {\n",
       "        text-align: right;\n",
       "    }\n",
       "</style>\n",
       "<table border=\"1\" class=\"dataframe\">\n",
       "  <thead>\n",
       "    <tr style=\"text-align: right;\">\n",
       "      <th></th>\n",
       "      <th>Regions</th>\n",
       "      <th>Population Density Class</th>\n",
       "    </tr>\n",
       "  </thead>\n",
       "  <tbody>\n",
       "    <tr>\n",
       "      <th>0</th>\n",
       "      <td>Manyara</td>\n",
       "      <td>Low Density</td>\n",
       "    </tr>\n",
       "    <tr>\n",
       "      <th>1</th>\n",
       "      <td>Arusha</td>\n",
       "      <td>Intermediate Density</td>\n",
       "    </tr>\n",
       "    <tr>\n",
       "      <th>2</th>\n",
       "      <td>Singida</td>\n",
       "      <td>Low Density</td>\n",
       "    </tr>\n",
       "    <tr>\n",
       "      <th>3</th>\n",
       "      <td>Lindi</td>\n",
       "      <td>Low Density</td>\n",
       "    </tr>\n",
       "    <tr>\n",
       "      <th>4</th>\n",
       "      <td>Ruvuma</td>\n",
       "      <td>Low Density</td>\n",
       "    </tr>\n",
       "    <tr>\n",
       "      <th>...</th>\n",
       "      <td>...</td>\n",
       "      <td>...</td>\n",
       "    </tr>\n",
       "    <tr>\n",
       "      <th>14845</th>\n",
       "      <td>Pwani</td>\n",
       "      <td>Low Density</td>\n",
       "    </tr>\n",
       "    <tr>\n",
       "      <th>14846</th>\n",
       "      <td>Tanga</td>\n",
       "      <td>Intermediate Density</td>\n",
       "    </tr>\n",
       "    <tr>\n",
       "      <th>14847</th>\n",
       "      <td>Singida</td>\n",
       "      <td>Low Density</td>\n",
       "    </tr>\n",
       "    <tr>\n",
       "      <th>14848</th>\n",
       "      <td>Ruvuma</td>\n",
       "      <td>Low Density</td>\n",
       "    </tr>\n",
       "    <tr>\n",
       "      <th>14849</th>\n",
       "      <td>Ruvuma</td>\n",
       "      <td>Low Density</td>\n",
       "    </tr>\n",
       "  </tbody>\n",
       "</table>\n",
       "<p>14850 rows × 2 columns</p>\n",
       "</div>"
      ],
      "text/plain": [
       "       Regions Population Density Class\n",
       "0      Manyara              Low Density\n",
       "1       Arusha     Intermediate Density\n",
       "2      Singida              Low Density\n",
       "3        Lindi              Low Density\n",
       "4       Ruvuma              Low Density\n",
       "...        ...                      ...\n",
       "14845    Pwani              Low Density\n",
       "14846    Tanga     Intermediate Density\n",
       "14847  Singida              Low Density\n",
       "14848   Ruvuma              Low Density\n",
       "14849   Ruvuma              Low Density\n",
       "\n",
       "[14850 rows x 2 columns]"
      ]
     },
     "execution_count": 92,
     "metadata": {},
     "output_type": "execute_result"
    }
   ],
   "source": [
    "df10 = pd.DataFrame({'Regions':regions,'Population Density Class':qualification9})\n",
    "df10"
   ]
  },
  {
   "cell_type": "code",
   "execution_count": 93,
   "metadata": {},
   "outputs": [
    {
     "data": {
      "text/plain": [
       "<AxesSubplot:xlabel='Population Density Class', ylabel='count'>"
      ]
     },
     "execution_count": 93,
     "metadata": {},
     "output_type": "execute_result"
    },
    {
     "data": {
      "image/png": "[encoded data removed]",
      "text/plain": [
       "<Figure size 1080x720 with 1 Axes>"
      ]
     },
     "metadata": {
      "needs_background": "light"
     },
     "output_type": "display_data"
    }
   ],
   "source": [
    "plt.figure(figsize=(15,10))\n",
    "sns.countplot(x='Population Density Class',data=df10)"
   ]
  },
  {
   "cell_type": "code",
   "execution_count": 94,
   "metadata": {},
   "outputs": [
    {
     "data": {
      "text/html": [
       "<div>\n",
       "<style scoped>\n",
       "    .dataframe tbody tr th:only-of-type {\n",
       "        vertical-align: middle;\n",
       "    }\n",
       "\n",
       "    .dataframe tbody tr th {\n",
       "        vertical-align: top;\n",
       "    }\n",
       "\n",
       "    .dataframe thead th {\n",
       "        text-align: right;\n",
       "    }\n",
       "</style>\n",
       "<table border=\"1\" class=\"dataframe\">\n",
       "  <thead>\n",
       "    <tr style=\"text-align: right;\">\n",
       "      <th></th>\n",
       "      <th>Regions</th>\n",
       "      <th>Population Density Class</th>\n",
       "      <th>Category</th>\n",
       "    </tr>\n",
       "  </thead>\n",
       "  <tbody>\n",
       "    <tr>\n",
       "      <th>0</th>\n",
       "      <td>Manyara</td>\n",
       "      <td>Low Density</td>\n",
       "      <td>1</td>\n",
       "    </tr>\n",
       "    <tr>\n",
       "      <th>1</th>\n",
       "      <td>Arusha</td>\n",
       "      <td>Intermediate Density</td>\n",
       "      <td>2</td>\n",
       "    </tr>\n",
       "    <tr>\n",
       "      <th>2</th>\n",
       "      <td>Singida</td>\n",
       "      <td>Low Density</td>\n",
       "      <td>1</td>\n",
       "    </tr>\n",
       "    <tr>\n",
       "      <th>3</th>\n",
       "      <td>Lindi</td>\n",
       "      <td>Low Density</td>\n",
       "      <td>1</td>\n",
       "    </tr>\n",
       "    <tr>\n",
       "      <th>4</th>\n",
       "      <td>Ruvuma</td>\n",
       "      <td>Low Density</td>\n",
       "      <td>1</td>\n",
       "    </tr>\n",
       "    <tr>\n",
       "      <th>...</th>\n",
       "      <td>...</td>\n",
       "      <td>...</td>\n",
       "      <td>...</td>\n",
       "    </tr>\n",
       "    <tr>\n",
       "      <th>14845</th>\n",
       "      <td>Pwani</td>\n",
       "      <td>Low Density</td>\n",
       "      <td>1</td>\n",
       "    </tr>\n",
       "    <tr>\n",
       "      <th>14846</th>\n",
       "      <td>Tanga</td>\n",
       "      <td>Intermediate Density</td>\n",
       "      <td>2</td>\n",
       "    </tr>\n",
       "    <tr>\n",
       "      <th>14847</th>\n",
       "      <td>Singida</td>\n",
       "      <td>Low Density</td>\n",
       "      <td>1</td>\n",
       "    </tr>\n",
       "    <tr>\n",
       "      <th>14848</th>\n",
       "      <td>Ruvuma</td>\n",
       "      <td>Low Density</td>\n",
       "      <td>1</td>\n",
       "    </tr>\n",
       "    <tr>\n",
       "      <th>14849</th>\n",
       "      <td>Ruvuma</td>\n",
       "      <td>Low Density</td>\n",
       "      <td>1</td>\n",
       "    </tr>\n",
       "  </tbody>\n",
       "</table>\n",
       "<p>14850 rows × 3 columns</p>\n",
       "</div>"
      ],
      "text/plain": [
       "       Regions Population Density Class  Category\n",
       "0      Manyara              Low Density         1\n",
       "1       Arusha     Intermediate Density         2\n",
       "2      Singida              Low Density         1\n",
       "3        Lindi              Low Density         1\n",
       "4       Ruvuma              Low Density         1\n",
       "...        ...                      ...       ...\n",
       "14845    Pwani              Low Density         1\n",
       "14846    Tanga     Intermediate Density         2\n",
       "14847  Singida              Low Density         1\n",
       "14848   Ruvuma              Low Density         1\n",
       "14849   Ruvuma              Low Density         1\n",
       "\n",
       "[14850 rows x 3 columns]"
      ]
     },
     "execution_count": 94,
     "metadata": {},
     "output_type": "execute_result"
    }
   ],
   "source": [
    "category9 = []\n",
    "for i in qualification9:\n",
    "    if i == 'Low Density':category9.append(1)\n",
    "    if i == 'High Density':category9.append(3)\n",
    "    if i == 'Intermediate Density':category9.append(2)  \n",
    "df10['Category'] = category9\n",
    "df10"
   ]
  },
  {
   "cell_type": "code",
   "execution_count": 95,
   "metadata": {},
   "outputs": [
    {
     "data": {
      "text/plain": [
       "gravity         6483\n",
       "handpump        4156\n",
       "other           1672\n",
       "submersible     1593\n",
       "motorpump        790\n",
       "rope pump        121\n",
       "wind-powered      35\n",
       "Name: extraction_type_class, dtype: int64"
      ]
     },
     "execution_count": 95,
     "metadata": {},
     "output_type": "execute_result"
    }
   ],
   "source": [
    "raw_info[\"extraction_type_class\"].value_counts()"
   ]
  },
  {
   "cell_type": "code",
   "execution_count": 96,
   "metadata": {},
   "outputs": [
    {
     "data": {
      "text/plain": [
       "['gravity',\n",
       " 'handpump',\n",
       " 'other',\n",
       " 'submersible',\n",
       " 'motorpump',\n",
       " 'rope pump',\n",
       " 'wind-powered']"
      ]
     },
     "execution_count": 96,
     "metadata": {},
     "output_type": "execute_result"
    }
   ],
   "source": [
    "extraction_type = raw_info[\"extraction_type_class\"].value_counts().index.tolist()\n",
    "extraction_type"
   ]
  },
  {
   "cell_type": "code",
   "execution_count": 97,
   "metadata": {
    "scrolled": true,
    "tags": []
   },
   "outputs": [
    {
     "data": {
      "text/plain": [
       "14850"
      ]
     },
     "execution_count": 97,
     "metadata": {},
     "output_type": "execute_result"
    }
   ],
   "source": [
    "extraction_types = raw_info[\"extraction_type_class\"].tolist()\n",
    "len(extraction_types)"
   ]
  },
  {
   "cell_type": "code",
   "execution_count": 98,
   "metadata": {
    "scrolled": true
   },
   "outputs": [
    {
     "data": {
      "text/plain": [
       "14850"
      ]
     },
     "execution_count": 98,
     "metadata": {},
     "output_type": "execute_result"
    }
   ],
   "source": [
    "qualification10= []\n",
    "for extraction in extraction_types:\n",
    "    if extraction == 'gravity' :\n",
    "        qualification10.append('Good Water Extraction')\n",
    "    elif extraction == 'handpump':\n",
    "        qualification10.append('Intermediate Water Extraction')\n",
    "    elif extraction == 'other':\n",
    "        qualification10.append('Unknown')\n",
    "    elif extraction == 'submersible':\n",
    "        qualification10.append('Good Water Extraction')\n",
    "    elif extraction == 'motorpump':\n",
    "        qualification10.append('Good Water Extraction')\n",
    "    elif extraction == 'rope pump':\n",
    "        qualification10.append('Intermediate Water Extraction')\n",
    "    elif extraction == 'wind-powered':\n",
    "        qualification10.append('Good Water Extraction')\n",
    "len(qualification10)"
   ]
  },
  {
   "cell_type": "code",
   "execution_count": 99,
   "metadata": {},
   "outputs": [
    {
     "data": {
      "text/html": [
       "<div>\n",
       "<style scoped>\n",
       "    .dataframe tbody tr th:only-of-type {\n",
       "        vertical-align: middle;\n",
       "    }\n",
       "\n",
       "    .dataframe tbody tr th {\n",
       "        vertical-align: top;\n",
       "    }\n",
       "\n",
       "    .dataframe thead th {\n",
       "        text-align: right;\n",
       "    }\n",
       "</style>\n",
       "<table border=\"1\" class=\"dataframe\">\n",
       "  <thead>\n",
       "    <tr style=\"text-align: right;\">\n",
       "      <th></th>\n",
       "      <th>Extraction Type</th>\n",
       "      <th>Extraction Type Class</th>\n",
       "    </tr>\n",
       "  </thead>\n",
       "  <tbody>\n",
       "    <tr>\n",
       "      <th>0</th>\n",
       "      <td>other</td>\n",
       "      <td>Unknown</td>\n",
       "    </tr>\n",
       "    <tr>\n",
       "      <th>1</th>\n",
       "      <td>gravity</td>\n",
       "      <td>Good Water Extraction</td>\n",
       "    </tr>\n",
       "    <tr>\n",
       "      <th>2</th>\n",
       "      <td>other</td>\n",
       "      <td>Unknown</td>\n",
       "    </tr>\n",
       "    <tr>\n",
       "      <th>3</th>\n",
       "      <td>other</td>\n",
       "      <td>Unknown</td>\n",
       "    </tr>\n",
       "    <tr>\n",
       "      <th>4</th>\n",
       "      <td>gravity</td>\n",
       "      <td>Good Water Extraction</td>\n",
       "    </tr>\n",
       "    <tr>\n",
       "      <th>...</th>\n",
       "      <td>...</td>\n",
       "      <td>...</td>\n",
       "    </tr>\n",
       "    <tr>\n",
       "      <th>14845</th>\n",
       "      <td>motorpump</td>\n",
       "      <td>Good Water Extraction</td>\n",
       "    </tr>\n",
       "    <tr>\n",
       "      <th>14846</th>\n",
       "      <td>handpump</td>\n",
       "      <td>Intermediate Water Extraction</td>\n",
       "    </tr>\n",
       "    <tr>\n",
       "      <th>14847</th>\n",
       "      <td>gravity</td>\n",
       "      <td>Good Water Extraction</td>\n",
       "    </tr>\n",
       "    <tr>\n",
       "      <th>14848</th>\n",
       "      <td>gravity</td>\n",
       "      <td>Good Water Extraction</td>\n",
       "    </tr>\n",
       "    <tr>\n",
       "      <th>14849</th>\n",
       "      <td>gravity</td>\n",
       "      <td>Good Water Extraction</td>\n",
       "    </tr>\n",
       "  </tbody>\n",
       "</table>\n",
       "<p>14850 rows × 2 columns</p>\n",
       "</div>"
      ],
      "text/plain": [
       "      Extraction Type          Extraction Type Class\n",
       "0               other                        Unknown\n",
       "1             gravity          Good Water Extraction\n",
       "2               other                        Unknown\n",
       "3               other                        Unknown\n",
       "4             gravity          Good Water Extraction\n",
       "...               ...                            ...\n",
       "14845       motorpump          Good Water Extraction\n",
       "14846        handpump  Intermediate Water Extraction\n",
       "14847         gravity          Good Water Extraction\n",
       "14848         gravity          Good Water Extraction\n",
       "14849         gravity          Good Water Extraction\n",
       "\n",
       "[14850 rows x 2 columns]"
      ]
     },
     "execution_count": 99,
     "metadata": {},
     "output_type": "execute_result"
    }
   ],
   "source": [
    "df11 = pd.DataFrame({'Extraction Type':extraction_types,'Extraction Type Class':qualification10})\n",
    "df11"
   ]
  },
  {
   "cell_type": "code",
   "execution_count": 100,
   "metadata": {},
   "outputs": [
    {
     "data": {
      "text/plain": [
       "<AxesSubplot:xlabel='Extraction Type Class', ylabel='count'>"
      ]
     },
     "execution_count": 100,
     "metadata": {},
     "output_type": "execute_result"
    },
    {
     "data": {
      "image/png": "[encoded data removed]",
      "text/plain": [
       "<Figure size 1080x720 with 1 Axes>"
      ]
     },
     "metadata": {
      "needs_background": "light"
     },
     "output_type": "display_data"
    }
   ],
   "source": [
    "plt.figure(figsize=(15,10))\n",
    "sns.countplot(x='Extraction Type Class',data=df11)"
   ]
  },
  {
   "cell_type": "code",
   "execution_count": 101,
   "metadata": {},
   "outputs": [
    {
     "data": {
      "text/html": [
       "<div>\n",
       "<style scoped>\n",
       "    .dataframe tbody tr th:only-of-type {\n",
       "        vertical-align: middle;\n",
       "    }\n",
       "\n",
       "    .dataframe tbody tr th {\n",
       "        vertical-align: top;\n",
       "    }\n",
       "\n",
       "    .dataframe thead th {\n",
       "        text-align: right;\n",
       "    }\n",
       "</style>\n",
       "<table border=\"1\" class=\"dataframe\">\n",
       "  <thead>\n",
       "    <tr style=\"text-align: right;\">\n",
       "      <th></th>\n",
       "      <th>Extraction Type</th>\n",
       "      <th>Extraction Type Class</th>\n",
       "      <th>Category</th>\n",
       "    </tr>\n",
       "  </thead>\n",
       "  <tbody>\n",
       "    <tr>\n",
       "      <th>0</th>\n",
       "      <td>other</td>\n",
       "      <td>Unknown</td>\n",
       "      <td>0</td>\n",
       "    </tr>\n",
       "    <tr>\n",
       "      <th>1</th>\n",
       "      <td>gravity</td>\n",
       "      <td>Good Water Extraction</td>\n",
       "      <td>1</td>\n",
       "    </tr>\n",
       "    <tr>\n",
       "      <th>2</th>\n",
       "      <td>other</td>\n",
       "      <td>Unknown</td>\n",
       "      <td>0</td>\n",
       "    </tr>\n",
       "    <tr>\n",
       "      <th>3</th>\n",
       "      <td>other</td>\n",
       "      <td>Unknown</td>\n",
       "      <td>0</td>\n",
       "    </tr>\n",
       "    <tr>\n",
       "      <th>4</th>\n",
       "      <td>gravity</td>\n",
       "      <td>Good Water Extraction</td>\n",
       "      <td>1</td>\n",
       "    </tr>\n",
       "    <tr>\n",
       "      <th>...</th>\n",
       "      <td>...</td>\n",
       "      <td>...</td>\n",
       "      <td>...</td>\n",
       "    </tr>\n",
       "    <tr>\n",
       "      <th>14845</th>\n",
       "      <td>motorpump</td>\n",
       "      <td>Good Water Extraction</td>\n",
       "      <td>1</td>\n",
       "    </tr>\n",
       "    <tr>\n",
       "      <th>14846</th>\n",
       "      <td>handpump</td>\n",
       "      <td>Intermediate Water Extraction</td>\n",
       "      <td>2</td>\n",
       "    </tr>\n",
       "    <tr>\n",
       "      <th>14847</th>\n",
       "      <td>gravity</td>\n",
       "      <td>Good Water Extraction</td>\n",
       "      <td>1</td>\n",
       "    </tr>\n",
       "    <tr>\n",
       "      <th>14848</th>\n",
       "      <td>gravity</td>\n",
       "      <td>Good Water Extraction</td>\n",
       "      <td>1</td>\n",
       "    </tr>\n",
       "    <tr>\n",
       "      <th>14849</th>\n",
       "      <td>gravity</td>\n",
       "      <td>Good Water Extraction</td>\n",
       "      <td>1</td>\n",
       "    </tr>\n",
       "  </tbody>\n",
       "</table>\n",
       "<p>14850 rows × 3 columns</p>\n",
       "</div>"
      ],
      "text/plain": [
       "      Extraction Type          Extraction Type Class  Category\n",
       "0               other                        Unknown         0\n",
       "1             gravity          Good Water Extraction         1\n",
       "2               other                        Unknown         0\n",
       "3               other                        Unknown         0\n",
       "4             gravity          Good Water Extraction         1\n",
       "...               ...                            ...       ...\n",
       "14845       motorpump          Good Water Extraction         1\n",
       "14846        handpump  Intermediate Water Extraction         2\n",
       "14847         gravity          Good Water Extraction         1\n",
       "14848         gravity          Good Water Extraction         1\n",
       "14849         gravity          Good Water Extraction         1\n",
       "\n",
       "[14850 rows x 3 columns]"
      ]
     },
     "execution_count": 101,
     "metadata": {},
     "output_type": "execute_result"
    }
   ],
   "source": [
    "category10 = []\n",
    "for i in qualification10:\n",
    "    if i == 'Intermediate Water Extraction':category10.append(2)\n",
    "    if i == 'Good Water Extraction':category10.append(1)\n",
    "    if i == 'Unknown':category10.append(0)  \n",
    "df11['Category'] = category10\n",
    "df11"
   ]
  },
  {
   "cell_type": "code",
   "execution_count": 102,
   "metadata": {},
   "outputs": [
    {
     "data": {
      "text/plain": [
       "user-group    13048\n",
       "commercial      953\n",
       "parastatal      461\n",
       "other           266\n",
       "unknown         122\n",
       "Name: management_group, dtype: int64"
      ]
     },
     "execution_count": 102,
     "metadata": {},
     "output_type": "execute_result"
    }
   ],
   "source": [
    "raw_info[\"management_group\"].value_counts()"
   ]
  },
  {
   "cell_type": "code",
   "execution_count": 103,
   "metadata": {
    "tags": []
   },
   "outputs": [
    {
     "data": {
      "text/plain": [
       "14850"
      ]
     },
     "execution_count": 103,
     "metadata": {},
     "output_type": "execute_result"
    }
   ],
   "source": [
    "management_group = raw_info[\"management_group\"].tolist()\n",
    "len(management_group)"
   ]
  },
  {
   "cell_type": "code",
   "execution_count": 104,
   "metadata": {},
   "outputs": [
    {
     "data": {
      "text/plain": [
       "14850"
      ]
     },
     "execution_count": 104,
     "metadata": {},
     "output_type": "execute_result"
    }
   ],
   "source": [
    "qualification11= []\n",
    "for management in management_group:\n",
    "    if management == 'user-group' :\n",
    "        qualification11.append('Good Management')\n",
    "    elif management == 'commercial':\n",
    "        qualification11.append('Intermediate Management')\n",
    "    elif management == 'parastatal':\n",
    "        qualification11.append('Bad Management')\n",
    "    elif management == 'other':\n",
    "        qualification11.append('Bad Management')\n",
    "    elif management == 'unknown':\n",
    "        qualification11.append('Unknown')\n",
    "len(qualification11)"
   ]
  },
  {
   "cell_type": "code",
   "execution_count": 105,
   "metadata": {},
   "outputs": [
    {
     "data": {
      "text/html": [
       "<div>\n",
       "<style scoped>\n",
       "    .dataframe tbody tr th:only-of-type {\n",
       "        vertical-align: middle;\n",
       "    }\n",
       "\n",
       "    .dataframe tbody tr th {\n",
       "        vertical-align: top;\n",
       "    }\n",
       "\n",
       "    .dataframe thead th {\n",
       "        text-align: right;\n",
       "    }\n",
       "</style>\n",
       "<table border=\"1\" class=\"dataframe\">\n",
       "  <thead>\n",
       "    <tr style=\"text-align: right;\">\n",
       "      <th></th>\n",
       "      <th>Management Type</th>\n",
       "      <th>Management Type Class</th>\n",
       "    </tr>\n",
       "  </thead>\n",
       "  <tbody>\n",
       "    <tr>\n",
       "      <th>0</th>\n",
       "      <td>parastatal</td>\n",
       "      <td>Bad Management</td>\n",
       "    </tr>\n",
       "    <tr>\n",
       "      <th>1</th>\n",
       "      <td>user-group</td>\n",
       "      <td>Good Management</td>\n",
       "    </tr>\n",
       "    <tr>\n",
       "      <th>2</th>\n",
       "      <td>user-group</td>\n",
       "      <td>Good Management</td>\n",
       "    </tr>\n",
       "    <tr>\n",
       "      <th>3</th>\n",
       "      <td>user-group</td>\n",
       "      <td>Good Management</td>\n",
       "    </tr>\n",
       "    <tr>\n",
       "      <th>4</th>\n",
       "      <td>user-group</td>\n",
       "      <td>Good Management</td>\n",
       "    </tr>\n",
       "    <tr>\n",
       "      <th>...</th>\n",
       "      <td>...</td>\n",
       "      <td>...</td>\n",
       "    </tr>\n",
       "    <tr>\n",
       "      <th>14845</th>\n",
       "      <td>user-group</td>\n",
       "      <td>Good Management</td>\n",
       "    </tr>\n",
       "    <tr>\n",
       "      <th>14846</th>\n",
       "      <td>user-group</td>\n",
       "      <td>Good Management</td>\n",
       "    </tr>\n",
       "    <tr>\n",
       "      <th>14847</th>\n",
       "      <td>user-group</td>\n",
       "      <td>Good Management</td>\n",
       "    </tr>\n",
       "    <tr>\n",
       "      <th>14848</th>\n",
       "      <td>user-group</td>\n",
       "      <td>Good Management</td>\n",
       "    </tr>\n",
       "    <tr>\n",
       "      <th>14849</th>\n",
       "      <td>user-group</td>\n",
       "      <td>Good Management</td>\n",
       "    </tr>\n",
       "  </tbody>\n",
       "</table>\n",
       "<p>14850 rows × 2 columns</p>\n",
       "</div>"
      ],
      "text/plain": [
       "      Management Type Management Type Class\n",
       "0          parastatal        Bad Management\n",
       "1          user-group       Good Management\n",
       "2          user-group       Good Management\n",
       "3          user-group       Good Management\n",
       "4          user-group       Good Management\n",
       "...               ...                   ...\n",
       "14845      user-group       Good Management\n",
       "14846      user-group       Good Management\n",
       "14847      user-group       Good Management\n",
       "14848      user-group       Good Management\n",
       "14849      user-group       Good Management\n",
       "\n",
       "[14850 rows x 2 columns]"
      ]
     },
     "execution_count": 105,
     "metadata": {},
     "output_type": "execute_result"
    }
   ],
   "source": [
    "df12 = pd.DataFrame({'Management Type':management_group,'Management Type Class':qualification11})\n",
    "df12"
   ]
  },
  {
   "cell_type": "code",
   "execution_count": 106,
   "metadata": {},
   "outputs": [
    {
     "data": {
      "text/plain": [
       "<AxesSubplot:xlabel='Management Type Class', ylabel='count'>"
      ]
     },
     "execution_count": 106,
     "metadata": {},
     "output_type": "execute_result"
    },
    {
     "data": {
      "image/png": "[encoded data removed]",
      "text/plain": [
       "<Figure size 1080x720 with 1 Axes>"
      ]
     },
     "metadata": {
      "needs_background": "light"
     },
     "output_type": "display_data"
    }
   ],
   "source": [
    "plt.figure(figsize=(15,10))\n",
    "sns.countplot(x='Management Type Class',data=df12)"
   ]
  },
  {
   "cell_type": "code",
   "execution_count": 107,
   "metadata": {},
   "outputs": [
    {
     "data": {
      "text/html": [
       "<div>\n",
       "<style scoped>\n",
       "    .dataframe tbody tr th:only-of-type {\n",
       "        vertical-align: middle;\n",
       "    }\n",
       "\n",
       "    .dataframe tbody tr th {\n",
       "        vertical-align: top;\n",
       "    }\n",
       "\n",
       "    .dataframe thead th {\n",
       "        text-align: right;\n",
       "    }\n",
       "</style>\n",
       "<table border=\"1\" class=\"dataframe\">\n",
       "  <thead>\n",
       "    <tr style=\"text-align: right;\">\n",
       "      <th></th>\n",
       "      <th>Management Type</th>\n",
       "      <th>Management Type Class</th>\n",
       "      <th>Category</th>\n",
       "    </tr>\n",
       "  </thead>\n",
       "  <tbody>\n",
       "    <tr>\n",
       "      <th>0</th>\n",
       "      <td>parastatal</td>\n",
       "      <td>Bad Management</td>\n",
       "      <td>3</td>\n",
       "    </tr>\n",
       "    <tr>\n",
       "      <th>1</th>\n",
       "      <td>user-group</td>\n",
       "      <td>Good Management</td>\n",
       "      <td>1</td>\n",
       "    </tr>\n",
       "    <tr>\n",
       "      <th>2</th>\n",
       "      <td>user-group</td>\n",
       "      <td>Good Management</td>\n",
       "      <td>1</td>\n",
       "    </tr>\n",
       "    <tr>\n",
       "      <th>3</th>\n",
       "      <td>user-group</td>\n",
       "      <td>Good Management</td>\n",
       "      <td>1</td>\n",
       "    </tr>\n",
       "    <tr>\n",
       "      <th>4</th>\n",
       "      <td>user-group</td>\n",
       "      <td>Good Management</td>\n",
       "      <td>1</td>\n",
       "    </tr>\n",
       "    <tr>\n",
       "      <th>...</th>\n",
       "      <td>...</td>\n",
       "      <td>...</td>\n",
       "      <td>...</td>\n",
       "    </tr>\n",
       "    <tr>\n",
       "      <th>14845</th>\n",
       "      <td>user-group</td>\n",
       "      <td>Good Management</td>\n",
       "      <td>1</td>\n",
       "    </tr>\n",
       "    <tr>\n",
       "      <th>14846</th>\n",
       "      <td>user-group</td>\n",
       "      <td>Good Management</td>\n",
       "      <td>1</td>\n",
       "    </tr>\n",
       "    <tr>\n",
       "      <th>14847</th>\n",
       "      <td>user-group</td>\n",
       "      <td>Good Management</td>\n",
       "      <td>1</td>\n",
       "    </tr>\n",
       "    <tr>\n",
       "      <th>14848</th>\n",
       "      <td>user-group</td>\n",
       "      <td>Good Management</td>\n",
       "      <td>1</td>\n",
       "    </tr>\n",
       "    <tr>\n",
       "      <th>14849</th>\n",
       "      <td>user-group</td>\n",
       "      <td>Good Management</td>\n",
       "      <td>1</td>\n",
       "    </tr>\n",
       "  </tbody>\n",
       "</table>\n",
       "<p>14850 rows × 3 columns</p>\n",
       "</div>"
      ],
      "text/plain": [
       "      Management Type Management Type Class  Category\n",
       "0          parastatal        Bad Management         3\n",
       "1          user-group       Good Management         1\n",
       "2          user-group       Good Management         1\n",
       "3          user-group       Good Management         1\n",
       "4          user-group       Good Management         1\n",
       "...               ...                   ...       ...\n",
       "14845      user-group       Good Management         1\n",
       "14846      user-group       Good Management         1\n",
       "14847      user-group       Good Management         1\n",
       "14848      user-group       Good Management         1\n",
       "14849      user-group       Good Management         1\n",
       "\n",
       "[14850 rows x 3 columns]"
      ]
     },
     "execution_count": 107,
     "metadata": {},
     "output_type": "execute_result"
    }
   ],
   "source": [
    "category11 = []\n",
    "for i in qualification11:\n",
    "    if i == 'Intermediate Management':category11.append(2)\n",
    "    elif i == 'Bad Management':category11.append(3)\n",
    "    elif i == 'Good Management':category11.append(1)\n",
    "    elif i == 'Unknown':category11.append(0)  \n",
    "df12['Category'] = category11\n",
    "df12"
   ]
  },
  {
   "cell_type": "code",
   "execution_count": 108,
   "metadata": {
    "scrolled": true
   },
   "outputs": [
    {
     "data": {
      "text/plain": [
       "0       5260\n",
       "2010     669\n",
       "2009     663\n",
       "2008     630\n",
       "2000     487\n",
       "2006     421\n",
       "2007     373\n",
       "2011     335\n",
       "2004     294\n",
       "2003     293\n",
       "1995     269\n",
       "2002     268\n",
       "2005     264\n",
       "2012     263\n",
       "1999     243\n",
       "1985     232\n",
       "1978     230\n",
       "1998     224\n",
       "1990     222\n",
       "1996     209\n",
       "1994     202\n",
       "1980     194\n",
       "1984     191\n",
       "1972     184\n",
       "1982     182\n",
       "1997     177\n",
       "1992     167\n",
       "2001     140\n",
       "1974     138\n",
       "1993     137\n",
       "1988     136\n",
       "1975     124\n",
       "1986     119\n",
       "1976     111\n",
       "1983     106\n",
       "1991      83\n",
       "1970      82\n",
       "1989      80\n",
       "1987      68\n",
       "1981      53\n",
       "1979      53\n",
       "1977      45\n",
       "1973      43\n",
       "2013      33\n",
       "1971      32\n",
       "1963      22\n",
       "1960      22\n",
       "1969      18\n",
       "1967      18\n",
       "1968      16\n",
       "1964       8\n",
       "1961       7\n",
       "1962       6\n",
       "1965       2\n",
       "1966       2\n",
       "Name: construction_year, dtype: int64"
      ]
     },
     "execution_count": 108,
     "metadata": {},
     "output_type": "execute_result"
    }
   ],
   "source": [
    "raw_info[\"construction_year\"].value_counts()"
   ]
  },
  {
   "cell_type": "code",
   "execution_count": 109,
   "metadata": {
    "scrolled": true,
    "tags": []
   },
   "outputs": [
    {
     "data": {
      "text/plain": [
       "14850"
      ]
     },
     "execution_count": 109,
     "metadata": {},
     "output_type": "execute_result"
    }
   ],
   "source": [
    "construction_year = raw_info[\"construction_year\"].tolist()\n",
    "len(construction_year)"
   ]
  },
  {
   "cell_type": "code",
   "execution_count": 110,
   "metadata": {
    "scrolled": true
   },
   "outputs": [
    {
     "data": {
      "text/plain": [
       "14850"
      ]
     },
     "execution_count": 110,
     "metadata": {},
     "output_type": "execute_result"
    }
   ],
   "source": [
    "qualification12= []\n",
    "for construction in construction_year:\n",
    "    if 2001 <= construction <= 2021 :\n",
    "        qualification12.append('Good Construction Year')\n",
    "    elif 1991 <= construction <= 2002 :\n",
    "        qualification12.append('Intermediate Construction Year')\n",
    "    elif   construction <= 1991  :\n",
    "        qualification12.append('Bad Construction Year')\n",
    "len(qualification12)"
   ]
  },
  {
   "cell_type": "code",
   "execution_count": 111,
   "metadata": {},
   "outputs": [
    {
     "data": {
      "text/html": [
       "<div>\n",
       "<style scoped>\n",
       "    .dataframe tbody tr th:only-of-type {\n",
       "        vertical-align: middle;\n",
       "    }\n",
       "\n",
       "    .dataframe tbody tr th {\n",
       "        vertical-align: top;\n",
       "    }\n",
       "\n",
       "    .dataframe thead th {\n",
       "        text-align: right;\n",
       "    }\n",
       "</style>\n",
       "<table border=\"1\" class=\"dataframe\">\n",
       "  <thead>\n",
       "    <tr style=\"text-align: right;\">\n",
       "      <th></th>\n",
       "      <th>Construction Year</th>\n",
       "      <th>Construction Year Class</th>\n",
       "    </tr>\n",
       "  </thead>\n",
       "  <tbody>\n",
       "    <tr>\n",
       "      <th>0</th>\n",
       "      <td>2012</td>\n",
       "      <td>Good Construction Year</td>\n",
       "    </tr>\n",
       "    <tr>\n",
       "      <th>1</th>\n",
       "      <td>2000</td>\n",
       "      <td>Intermediate Construction Year</td>\n",
       "    </tr>\n",
       "    <tr>\n",
       "      <th>2</th>\n",
       "      <td>2010</td>\n",
       "      <td>Good Construction Year</td>\n",
       "    </tr>\n",
       "    <tr>\n",
       "      <th>3</th>\n",
       "      <td>1987</td>\n",
       "      <td>Bad Construction Year</td>\n",
       "    </tr>\n",
       "    <tr>\n",
       "      <th>4</th>\n",
       "      <td>2000</td>\n",
       "      <td>Intermediate Construction Year</td>\n",
       "    </tr>\n",
       "    <tr>\n",
       "      <th>...</th>\n",
       "      <td>...</td>\n",
       "      <td>...</td>\n",
       "    </tr>\n",
       "    <tr>\n",
       "      <th>14845</th>\n",
       "      <td>1988</td>\n",
       "      <td>Bad Construction Year</td>\n",
       "    </tr>\n",
       "    <tr>\n",
       "      <th>14846</th>\n",
       "      <td>1994</td>\n",
       "      <td>Intermediate Construction Year</td>\n",
       "    </tr>\n",
       "    <tr>\n",
       "      <th>14847</th>\n",
       "      <td>2010</td>\n",
       "      <td>Good Construction Year</td>\n",
       "    </tr>\n",
       "    <tr>\n",
       "      <th>14848</th>\n",
       "      <td>2009</td>\n",
       "      <td>Good Construction Year</td>\n",
       "    </tr>\n",
       "    <tr>\n",
       "      <th>14849</th>\n",
       "      <td>2008</td>\n",
       "      <td>Good Construction Year</td>\n",
       "    </tr>\n",
       "  </tbody>\n",
       "</table>\n",
       "<p>14850 rows × 2 columns</p>\n",
       "</div>"
      ],
      "text/plain": [
       "       Construction Year         Construction Year Class\n",
       "0                   2012          Good Construction Year\n",
       "1                   2000  Intermediate Construction Year\n",
       "2                   2010          Good Construction Year\n",
       "3                   1987           Bad Construction Year\n",
       "4                   2000  Intermediate Construction Year\n",
       "...                  ...                             ...\n",
       "14845               1988           Bad Construction Year\n",
       "14846               1994  Intermediate Construction Year\n",
       "14847               2010          Good Construction Year\n",
       "14848               2009          Good Construction Year\n",
       "14849               2008          Good Construction Year\n",
       "\n",
       "[14850 rows x 2 columns]"
      ]
     },
     "execution_count": 111,
     "metadata": {},
     "output_type": "execute_result"
    }
   ],
   "source": [
    "df13 = pd.DataFrame({'Construction Year':construction_year,'Construction Year Class':qualification12})\n",
    "df13"
   ]
  },
  {
   "cell_type": "code",
   "execution_count": 112,
   "metadata": {},
   "outputs": [
    {
     "data": {
      "text/plain": [
       "<AxesSubplot:xlabel='Construction Year Class', ylabel='count'>"
      ]
     },
     "execution_count": 112,
     "metadata": {},
     "output_type": "execute_result"
    },
    {
     "data": {
      "image/png": "[encoded data removed]",
      "text/plain": [
       "<Figure size 1080x720 with 1 Axes>"
      ]
     },
     "metadata": {
      "needs_background": "light"
     },
     "output_type": "display_data"
    }
   ],
   "source": [
    "plt.figure(figsize=(15,10))\n",
    "sns.countplot(x='Construction Year Class',data=df13)"
   ]
  },
  {
   "cell_type": "code",
   "execution_count": 113,
   "metadata": {},
   "outputs": [
    {
     "data": {
      "text/html": [
       "<div>\n",
       "<style scoped>\n",
       "    .dataframe tbody tr th:only-of-type {\n",
       "        vertical-align: middle;\n",
       "    }\n",
       "\n",
       "    .dataframe tbody tr th {\n",
       "        vertical-align: top;\n",
       "    }\n",
       "\n",
       "    .dataframe thead th {\n",
       "        text-align: right;\n",
       "    }\n",
       "</style>\n",
       "<table border=\"1\" class=\"dataframe\">\n",
       "  <thead>\n",
       "    <tr style=\"text-align: right;\">\n",
       "      <th></th>\n",
       "      <th>Construction Year</th>\n",
       "      <th>Construction Year Class</th>\n",
       "      <th>Category</th>\n",
       "    </tr>\n",
       "  </thead>\n",
       "  <tbody>\n",
       "    <tr>\n",
       "      <th>0</th>\n",
       "      <td>2012</td>\n",
       "      <td>Good Construction Year</td>\n",
       "      <td>1</td>\n",
       "    </tr>\n",
       "    <tr>\n",
       "      <th>1</th>\n",
       "      <td>2000</td>\n",
       "      <td>Intermediate Construction Year</td>\n",
       "      <td>2</td>\n",
       "    </tr>\n",
       "    <tr>\n",
       "      <th>2</th>\n",
       "      <td>2010</td>\n",
       "      <td>Good Construction Year</td>\n",
       "      <td>1</td>\n",
       "    </tr>\n",
       "    <tr>\n",
       "      <th>3</th>\n",
       "      <td>1987</td>\n",
       "      <td>Bad Construction Year</td>\n",
       "      <td>3</td>\n",
       "    </tr>\n",
       "    <tr>\n",
       "      <th>4</th>\n",
       "      <td>2000</td>\n",
       "      <td>Intermediate Construction Year</td>\n",
       "      <td>2</td>\n",
       "    </tr>\n",
       "    <tr>\n",
       "      <th>...</th>\n",
       "      <td>...</td>\n",
       "      <td>...</td>\n",
       "      <td>...</td>\n",
       "    </tr>\n",
       "    <tr>\n",
       "      <th>14845</th>\n",
       "      <td>1988</td>\n",
       "      <td>Bad Construction Year</td>\n",
       "      <td>3</td>\n",
       "    </tr>\n",
       "    <tr>\n",
       "      <th>14846</th>\n",
       "      <td>1994</td>\n",
       "      <td>Intermediate Construction Year</td>\n",
       "      <td>2</td>\n",
       "    </tr>\n",
       "    <tr>\n",
       "      <th>14847</th>\n",
       "      <td>2010</td>\n",
       "      <td>Good Construction Year</td>\n",
       "      <td>1</td>\n",
       "    </tr>\n",
       "    <tr>\n",
       "      <th>14848</th>\n",
       "      <td>2009</td>\n",
       "      <td>Good Construction Year</td>\n",
       "      <td>1</td>\n",
       "    </tr>\n",
       "    <tr>\n",
       "      <th>14849</th>\n",
       "      <td>2008</td>\n",
       "      <td>Good Construction Year</td>\n",
       "      <td>1</td>\n",
       "    </tr>\n",
       "  </tbody>\n",
       "</table>\n",
       "<p>14850 rows × 3 columns</p>\n",
       "</div>"
      ],
      "text/plain": [
       "       Construction Year         Construction Year Class  Category\n",
       "0                   2012          Good Construction Year         1\n",
       "1                   2000  Intermediate Construction Year         2\n",
       "2                   2010          Good Construction Year         1\n",
       "3                   1987           Bad Construction Year         3\n",
       "4                   2000  Intermediate Construction Year         2\n",
       "...                  ...                             ...       ...\n",
       "14845               1988           Bad Construction Year         3\n",
       "14846               1994  Intermediate Construction Year         2\n",
       "14847               2010          Good Construction Year         1\n",
       "14848               2009          Good Construction Year         1\n",
       "14849               2008          Good Construction Year         1\n",
       "\n",
       "[14850 rows x 3 columns]"
      ]
     },
     "execution_count": 113,
     "metadata": {},
     "output_type": "execute_result"
    }
   ],
   "source": [
    "category12 = []\n",
    "for i in qualification12:\n",
    "    if i == 'Intermediate Construction Year':category12.append(2)\n",
    "    elif i == 'Bad Construction Year':category12.append(3)\n",
    "    elif i == 'Good Construction Year':category12.append(1)\n",
    "    elif i == 'Unkown Year':category12.append(0)  \n",
    "df13['Category'] = category12\n",
    "df13"
   ]
  },
  {
   "cell_type": "code",
   "execution_count": 114,
   "metadata": {},
   "outputs": [
    {
     "data": {
      "text/plain": [
       "True     9754\n",
       "False    4359\n",
       "Name: permit, dtype: int64"
      ]
     },
     "execution_count": 114,
     "metadata": {},
     "output_type": "execute_result"
    }
   ],
   "source": [
    "raw_info[\"permit\"].value_counts()"
   ]
  },
  {
   "cell_type": "code",
   "execution_count": 115,
   "metadata": {
    "scrolled": true
   },
   "outputs": [
    {
     "data": {
      "text/plain": [
       "14850"
      ]
     },
     "execution_count": 115,
     "metadata": {},
     "output_type": "execute_result"
    }
   ],
   "source": [
    "permits = raw_info[\"permit\"].tolist()\n",
    "len(permits)"
   ]
  },
  {
   "cell_type": "code",
   "execution_count": 116,
   "metadata": {
    "scrolled": true
   },
   "outputs": [
    {
     "data": {
      "text/plain": [
       "14850"
      ]
     },
     "execution_count": 116,
     "metadata": {},
     "output_type": "execute_result"
    }
   ],
   "source": [
    "qualification13= []\n",
    "for permit in permits:\n",
    "    if permit == True :\n",
    "        qualification13.append('Good')\n",
    "    elif permit == False :\n",
    "        qualification13.append('Bad')\n",
    "    else:\n",
    "        qualification13.append('Unkown')\n",
    "len(qualification13)"
   ]
  },
  {
   "cell_type": "code",
   "execution_count": 117,
   "metadata": {},
   "outputs": [
    {
     "data": {
      "text/html": [
       "<div>\n",
       "<style scoped>\n",
       "    .dataframe tbody tr th:only-of-type {\n",
       "        vertical-align: middle;\n",
       "    }\n",
       "\n",
       "    .dataframe tbody tr th {\n",
       "        vertical-align: top;\n",
       "    }\n",
       "\n",
       "    .dataframe thead th {\n",
       "        text-align: right;\n",
       "    }\n",
       "</style>\n",
       "<table border=\"1\" class=\"dataframe\">\n",
       "  <thead>\n",
       "    <tr style=\"text-align: right;\">\n",
       "      <th></th>\n",
       "      <th>Permit</th>\n",
       "      <th>Permit Class</th>\n",
       "    </tr>\n",
       "  </thead>\n",
       "  <tbody>\n",
       "    <tr>\n",
       "      <th>0</th>\n",
       "      <td>True</td>\n",
       "      <td>Good</td>\n",
       "    </tr>\n",
       "    <tr>\n",
       "      <th>1</th>\n",
       "      <td>True</td>\n",
       "      <td>Good</td>\n",
       "    </tr>\n",
       "    <tr>\n",
       "      <th>2</th>\n",
       "      <td>NaN</td>\n",
       "      <td>Unkown</td>\n",
       "    </tr>\n",
       "    <tr>\n",
       "      <th>3</th>\n",
       "      <td>True</td>\n",
       "      <td>Good</td>\n",
       "    </tr>\n",
       "    <tr>\n",
       "      <th>4</th>\n",
       "      <td>True</td>\n",
       "      <td>Good</td>\n",
       "    </tr>\n",
       "    <tr>\n",
       "      <th>...</th>\n",
       "      <td>...</td>\n",
       "      <td>...</td>\n",
       "    </tr>\n",
       "    <tr>\n",
       "      <th>14845</th>\n",
       "      <td>True</td>\n",
       "      <td>Good</td>\n",
       "    </tr>\n",
       "    <tr>\n",
       "      <th>14846</th>\n",
       "      <td>False</td>\n",
       "      <td>Bad</td>\n",
       "    </tr>\n",
       "    <tr>\n",
       "      <th>14847</th>\n",
       "      <td>NaN</td>\n",
       "      <td>Unkown</td>\n",
       "    </tr>\n",
       "    <tr>\n",
       "      <th>14848</th>\n",
       "      <td>True</td>\n",
       "      <td>Good</td>\n",
       "    </tr>\n",
       "    <tr>\n",
       "      <th>14849</th>\n",
       "      <td>True</td>\n",
       "      <td>Good</td>\n",
       "    </tr>\n",
       "  </tbody>\n",
       "</table>\n",
       "<p>14850 rows × 2 columns</p>\n",
       "</div>"
      ],
      "text/plain": [
       "      Permit Permit Class\n",
       "0       True         Good\n",
       "1       True         Good\n",
       "2        NaN       Unkown\n",
       "3       True         Good\n",
       "4       True         Good\n",
       "...      ...          ...\n",
       "14845   True         Good\n",
       "14846  False          Bad\n",
       "14847    NaN       Unkown\n",
       "14848   True         Good\n",
       "14849   True         Good\n",
       "\n",
       "[14850 rows x 2 columns]"
      ]
     },
     "execution_count": 117,
     "metadata": {},
     "output_type": "execute_result"
    }
   ],
   "source": [
    "df14 = pd.DataFrame({'Permit':permits,'Permit Class':qualification13})\n",
    "df14"
   ]
  },
  {
   "cell_type": "code",
   "execution_count": 118,
   "metadata": {},
   "outputs": [
    {
     "data": {
      "text/plain": [
       "<AxesSubplot:xlabel='Permit Class', ylabel='count'>"
      ]
     },
     "execution_count": 118,
     "metadata": {},
     "output_type": "execute_result"
    },
    {
     "data": {
      "image/png": "[encoded data removed]",
      "text/plain": [
       "<Figure size 1080x720 with 1 Axes>"
      ]
     },
     "metadata": {
      "needs_background": "light"
     },
     "output_type": "display_data"
    }
   ],
   "source": [
    "plt.figure(figsize=(15,10))\n",
    "sns.countplot(x='Permit Class',data=df14)"
   ]
  },
  {
   "cell_type": "code",
   "execution_count": 119,
   "metadata": {},
   "outputs": [
    {
     "data": {
      "text/html": [
       "<div>\n",
       "<style scoped>\n",
       "    .dataframe tbody tr th:only-of-type {\n",
       "        vertical-align: middle;\n",
       "    }\n",
       "\n",
       "    .dataframe tbody tr th {\n",
       "        vertical-align: top;\n",
       "    }\n",
       "\n",
       "    .dataframe thead th {\n",
       "        text-align: right;\n",
       "    }\n",
       "</style>\n",
       "<table border=\"1\" class=\"dataframe\">\n",
       "  <thead>\n",
       "    <tr style=\"text-align: right;\">\n",
       "      <th></th>\n",
       "      <th>Permit</th>\n",
       "      <th>Permit Class</th>\n",
       "      <th>Category</th>\n",
       "    </tr>\n",
       "  </thead>\n",
       "  <tbody>\n",
       "    <tr>\n",
       "      <th>0</th>\n",
       "      <td>True</td>\n",
       "      <td>Good</td>\n",
       "      <td>1</td>\n",
       "    </tr>\n",
       "    <tr>\n",
       "      <th>1</th>\n",
       "      <td>True</td>\n",
       "      <td>Good</td>\n",
       "      <td>1</td>\n",
       "    </tr>\n",
       "    <tr>\n",
       "      <th>2</th>\n",
       "      <td>NaN</td>\n",
       "      <td>Unkown</td>\n",
       "      <td>0</td>\n",
       "    </tr>\n",
       "    <tr>\n",
       "      <th>3</th>\n",
       "      <td>True</td>\n",
       "      <td>Good</td>\n",
       "      <td>1</td>\n",
       "    </tr>\n",
       "    <tr>\n",
       "      <th>4</th>\n",
       "      <td>True</td>\n",
       "      <td>Good</td>\n",
       "      <td>1</td>\n",
       "    </tr>\n",
       "    <tr>\n",
       "      <th>...</th>\n",
       "      <td>...</td>\n",
       "      <td>...</td>\n",
       "      <td>...</td>\n",
       "    </tr>\n",
       "    <tr>\n",
       "      <th>14845</th>\n",
       "      <td>True</td>\n",
       "      <td>Good</td>\n",
       "      <td>1</td>\n",
       "    </tr>\n",
       "    <tr>\n",
       "      <th>14846</th>\n",
       "      <td>False</td>\n",
       "      <td>Bad</td>\n",
       "      <td>3</td>\n",
       "    </tr>\n",
       "    <tr>\n",
       "      <th>14847</th>\n",
       "      <td>NaN</td>\n",
       "      <td>Unkown</td>\n",
       "      <td>0</td>\n",
       "    </tr>\n",
       "    <tr>\n",
       "      <th>14848</th>\n",
       "      <td>True</td>\n",
       "      <td>Good</td>\n",
       "      <td>1</td>\n",
       "    </tr>\n",
       "    <tr>\n",
       "      <th>14849</th>\n",
       "      <td>True</td>\n",
       "      <td>Good</td>\n",
       "      <td>1</td>\n",
       "    </tr>\n",
       "  </tbody>\n",
       "</table>\n",
       "<p>14850 rows × 3 columns</p>\n",
       "</div>"
      ],
      "text/plain": [
       "      Permit Permit Class  Category\n",
       "0       True         Good         1\n",
       "1       True         Good         1\n",
       "2        NaN       Unkown         0\n",
       "3       True         Good         1\n",
       "4       True         Good         1\n",
       "...      ...          ...       ...\n",
       "14845   True         Good         1\n",
       "14846  False          Bad         3\n",
       "14847    NaN       Unkown         0\n",
       "14848   True         Good         1\n",
       "14849   True         Good         1\n",
       "\n",
       "[14850 rows x 3 columns]"
      ]
     },
     "execution_count": 119,
     "metadata": {},
     "output_type": "execute_result"
    }
   ],
   "source": [
    "category13 = []\n",
    "for i in qualification13:\n",
    "    if i == 'Bad':category13.append(3)\n",
    "    elif i == 'Good':category13.append(1)\n",
    "    elif i == 'Unkown':category13.append(0) \n",
    "df14['Category'] = category13\n",
    "df14"
   ]
  },
  {
   "cell_type": "code",
   "execution_count": 120,
   "metadata": {},
   "outputs": [
    {
     "data": {
      "text/plain": [
       "never pay                6364\n",
       "pay per bucket           2281\n",
       "pay monthly              2097\n",
       "unknown                  1992\n",
       "pay annually              928\n",
       "pay when scheme fails     928\n",
       "other                     260\n",
       "Name: payment, dtype: int64"
      ]
     },
     "execution_count": 120,
     "metadata": {},
     "output_type": "execute_result"
    }
   ],
   "source": [
    "raw_info[\"payment\"].value_counts()"
   ]
  },
  {
   "cell_type": "code",
   "execution_count": 121,
   "metadata": {
    "scrolled": true
   },
   "outputs": [
    {
     "data": {
      "text/plain": [
       "14850"
      ]
     },
     "execution_count": 121,
     "metadata": {},
     "output_type": "execute_result"
    }
   ],
   "source": [
    "payment_type = raw_info[\"payment\"].tolist()\n",
    "len(payment_type)"
   ]
  },
  {
   "cell_type": "code",
   "execution_count": 122,
   "metadata": {
    "tags": []
   },
   "outputs": [
    {
     "data": {
      "text/plain": [
       "14850"
      ]
     },
     "execution_count": 122,
     "metadata": {},
     "output_type": "execute_result"
    }
   ],
   "source": [
    "qualification14= []\n",
    "for payments in payment_type:\n",
    "    if payments  == 'pay per bucket' or payments  == 'pay monthly' or payments  == 'pay annually'or payments  == 'pay when scheme fails' :\n",
    "        qualification14.append('Good Water Quality')\n",
    "    elif payments == 'unknown' :\n",
    "        qualification14.append('Unkown')\n",
    "    elif  payments  == 'never pay' or payments  == 'other' :\n",
    "        qualification14.append('Bad Water Quality')\n",
    "len(qualification14)"
   ]
  },
  {
   "cell_type": "code",
   "execution_count": 263,
   "metadata": {},
   "outputs": [
    {
     "data": {
      "text/html": [
       "<div>\n",
       "<style scoped>\n",
       "    .dataframe tbody tr th:only-of-type {\n",
       "        vertical-align: middle;\n",
       "    }\n",
       "\n",
       "    .dataframe tbody tr th {\n",
       "        vertical-align: top;\n",
       "    }\n",
       "\n",
       "    .dataframe thead th {\n",
       "        text-align: right;\n",
       "    }\n",
       "</style>\n",
       "<table border=\"1\" class=\"dataframe\">\n",
       "  <thead>\n",
       "    <tr style=\"text-align: right;\">\n",
       "      <th></th>\n",
       "      <th>Payment Type</th>\n",
       "      <th>Water Quality Class</th>\n",
       "    </tr>\n",
       "  </thead>\n",
       "  <tbody>\n",
       "    <tr>\n",
       "      <th>0</th>\n",
       "      <td>never pay</td>\n",
       "      <td>Bad Water Quality</td>\n",
       "    </tr>\n",
       "    <tr>\n",
       "      <th>1</th>\n",
       "      <td>never pay</td>\n",
       "      <td>Bad Water Quality</td>\n",
       "    </tr>\n",
       "    <tr>\n",
       "      <th>2</th>\n",
       "      <td>never pay</td>\n",
       "      <td>Bad Water Quality</td>\n",
       "    </tr>\n",
       "    <tr>\n",
       "      <th>3</th>\n",
       "      <td>unknown</td>\n",
       "      <td>Unkown</td>\n",
       "    </tr>\n",
       "    <tr>\n",
       "      <th>4</th>\n",
       "      <td>pay monthly</td>\n",
       "      <td>Good Water Quality</td>\n",
       "    </tr>\n",
       "    <tr>\n",
       "      <th>...</th>\n",
       "      <td>...</td>\n",
       "      <td>...</td>\n",
       "    </tr>\n",
       "    <tr>\n",
       "      <th>14845</th>\n",
       "      <td>never pay</td>\n",
       "      <td>Bad Water Quality</td>\n",
       "    </tr>\n",
       "    <tr>\n",
       "      <th>14846</th>\n",
       "      <td>pay annually</td>\n",
       "      <td>Good Water Quality</td>\n",
       "    </tr>\n",
       "    <tr>\n",
       "      <th>14847</th>\n",
       "      <td>never pay</td>\n",
       "      <td>Bad Water Quality</td>\n",
       "    </tr>\n",
       "    <tr>\n",
       "      <th>14848</th>\n",
       "      <td>never pay</td>\n",
       "      <td>Bad Water Quality</td>\n",
       "    </tr>\n",
       "    <tr>\n",
       "      <th>14849</th>\n",
       "      <td>never pay</td>\n",
       "      <td>Bad Water Quality</td>\n",
       "    </tr>\n",
       "  </tbody>\n",
       "</table>\n",
       "<p>14850 rows × 2 columns</p>\n",
       "</div>"
      ],
      "text/plain": [
       "       Payment Type Water Quality Class\n",
       "0         never pay   Bad Water Quality\n",
       "1         never pay   Bad Water Quality\n",
       "2         never pay   Bad Water Quality\n",
       "3           unknown              Unkown\n",
       "4       pay monthly  Good Water Quality\n",
       "...             ...                 ...\n",
       "14845     never pay   Bad Water Quality\n",
       "14846  pay annually  Good Water Quality\n",
       "14847     never pay   Bad Water Quality\n",
       "14848     never pay   Bad Water Quality\n",
       "14849     never pay   Bad Water Quality\n",
       "\n",
       "[14850 rows x 2 columns]"
      ]
     },
     "execution_count": 263,
     "metadata": {},
     "output_type": "execute_result"
    }
   ],
   "source": [
    "df15 = pd.DataFrame({'Payment Type':payment_type,'Water Quality Class':qualification14})\n",
    "df15"
   ]
  },
  {
   "cell_type": "code",
   "execution_count": 124,
   "metadata": {},
   "outputs": [
    {
     "data": {
      "text/plain": [
       "<AxesSubplot:xlabel='Water Quality Class', ylabel='count'>"
      ]
     },
     "execution_count": 124,
     "metadata": {},
     "output_type": "execute_result"
    },
    {
     "data": {
      "image/png": "[encoded data removed]",
      "text/plain": [
       "<Figure size 1080x720 with 1 Axes>"
      ]
     },
     "metadata": {
      "needs_background": "light"
     },
     "output_type": "display_data"
    }
   ],
   "source": [
    "plt.figure(figsize=(15,10))\n",
    "sns.countplot(x='Water Quality Class',data=df15)"
   ]
  },
  {
   "cell_type": "code",
   "execution_count": 125,
   "metadata": {},
   "outputs": [
    {
     "data": {
      "text/html": [
       "<div>\n",
       "<style scoped>\n",
       "    .dataframe tbody tr th:only-of-type {\n",
       "        vertical-align: middle;\n",
       "    }\n",
       "\n",
       "    .dataframe tbody tr th {\n",
       "        vertical-align: top;\n",
       "    }\n",
       "\n",
       "    .dataframe thead th {\n",
       "        text-align: right;\n",
       "    }\n",
       "</style>\n",
       "<table border=\"1\" class=\"dataframe\">\n",
       "  <thead>\n",
       "    <tr style=\"text-align: right;\">\n",
       "      <th></th>\n",
       "      <th>Payment Type</th>\n",
       "      <th>Water Quality Class</th>\n",
       "      <th>Category</th>\n",
       "    </tr>\n",
       "  </thead>\n",
       "  <tbody>\n",
       "    <tr>\n",
       "      <th>0</th>\n",
       "      <td>never pay</td>\n",
       "      <td>Bad Water Quality</td>\n",
       "      <td>3</td>\n",
       "    </tr>\n",
       "    <tr>\n",
       "      <th>1</th>\n",
       "      <td>never pay</td>\n",
       "      <td>Bad Water Quality</td>\n",
       "      <td>3</td>\n",
       "    </tr>\n",
       "    <tr>\n",
       "      <th>2</th>\n",
       "      <td>never pay</td>\n",
       "      <td>Bad Water Quality</td>\n",
       "      <td>3</td>\n",
       "    </tr>\n",
       "    <tr>\n",
       "      <th>3</th>\n",
       "      <td>unknown</td>\n",
       "      <td>Unkown</td>\n",
       "      <td>0</td>\n",
       "    </tr>\n",
       "    <tr>\n",
       "      <th>4</th>\n",
       "      <td>pay monthly</td>\n",
       "      <td>Good Water Quality</td>\n",
       "      <td>1</td>\n",
       "    </tr>\n",
       "    <tr>\n",
       "      <th>...</th>\n",
       "      <td>...</td>\n",
       "      <td>...</td>\n",
       "      <td>...</td>\n",
       "    </tr>\n",
       "    <tr>\n",
       "      <th>14845</th>\n",
       "      <td>never pay</td>\n",
       "      <td>Bad Water Quality</td>\n",
       "      <td>3</td>\n",
       "    </tr>\n",
       "    <tr>\n",
       "      <th>14846</th>\n",
       "      <td>pay annually</td>\n",
       "      <td>Good Water Quality</td>\n",
       "      <td>1</td>\n",
       "    </tr>\n",
       "    <tr>\n",
       "      <th>14847</th>\n",
       "      <td>never pay</td>\n",
       "      <td>Bad Water Quality</td>\n",
       "      <td>3</td>\n",
       "    </tr>\n",
       "    <tr>\n",
       "      <th>14848</th>\n",
       "      <td>never pay</td>\n",
       "      <td>Bad Water Quality</td>\n",
       "      <td>3</td>\n",
       "    </tr>\n",
       "    <tr>\n",
       "      <th>14849</th>\n",
       "      <td>never pay</td>\n",
       "      <td>Bad Water Quality</td>\n",
       "      <td>3</td>\n",
       "    </tr>\n",
       "  </tbody>\n",
       "</table>\n",
       "<p>14850 rows × 3 columns</p>\n",
       "</div>"
      ],
      "text/plain": [
       "       Payment Type Water Quality Class  Category\n",
       "0         never pay   Bad Water Quality         3\n",
       "1         never pay   Bad Water Quality         3\n",
       "2         never pay   Bad Water Quality         3\n",
       "3           unknown              Unkown         0\n",
       "4       pay monthly  Good Water Quality         1\n",
       "...             ...                 ...       ...\n",
       "14845     never pay   Bad Water Quality         3\n",
       "14846  pay annually  Good Water Quality         1\n",
       "14847     never pay   Bad Water Quality         3\n",
       "14848     never pay   Bad Water Quality         3\n",
       "14849     never pay   Bad Water Quality         3\n",
       "\n",
       "[14850 rows x 3 columns]"
      ]
     },
     "execution_count": 125,
     "metadata": {},
     "output_type": "execute_result"
    }
   ],
   "source": [
    "category14 = []\n",
    "for i in qualification14:\n",
    "    if i == 'Bad Water Quality':category14.append(3)\n",
    "    elif i == 'Good Water Quality':category14.append(1)\n",
    "    elif i == 'Unkown':category14.append(0) \n",
    "df15['Category'] = category14\n",
    "df15"
   ]
  },
  {
   "cell_type": "code",
   "execution_count": 126,
   "metadata": {},
   "outputs": [
    {
     "data": {
      "text/plain": [
       "0       5453\n",
       "1       1757\n",
       "150      436\n",
       "200      430\n",
       "250      406\n",
       "        ... \n",
       "745        1\n",
       "4735       1\n",
       "447        1\n",
       "546        1\n",
       "2960       1\n",
       "Name: population, Length: 637, dtype: int64"
      ]
     },
     "execution_count": 126,
     "metadata": {},
     "output_type": "execute_result"
    }
   ],
   "source": [
    "raw_info[\"population\"].value_counts()"
   ]
  },
  {
   "cell_type": "code",
   "execution_count": 127,
   "metadata": {
    "tags": []
   },
   "outputs": [
    {
     "data": {
      "text/plain": [
       "14850"
      ]
     },
     "execution_count": 127,
     "metadata": {},
     "output_type": "execute_result"
    }
   ],
   "source": [
    "populations = raw_info[\"population\"].tolist()\n",
    "len(populations)"
   ]
  },
  {
   "cell_type": "code",
   "execution_count": 128,
   "metadata": {
    "tags": []
   },
   "outputs": [
    {
     "data": {
      "text/plain": [
       "14850"
      ]
     },
     "execution_count": 128,
     "metadata": {},
     "output_type": "execute_result"
    }
   ],
   "source": [
    "qualification15= []\n",
    "for population in populations:\n",
    "    if 0 <= population <= 2000:\n",
    "        qualification15.append('Good Water well')\n",
    "    elif 2001 <= population   :\n",
    "        qualification15.append('Bad Water well')\n",
    "len(qualification15)"
   ]
  },
  {
   "cell_type": "code",
   "execution_count": 129,
   "metadata": {},
   "outputs": [
    {
     "data": {
      "text/html": [
       "<div>\n",
       "<style scoped>\n",
       "    .dataframe tbody tr th:only-of-type {\n",
       "        vertical-align: middle;\n",
       "    }\n",
       "\n",
       "    .dataframe tbody tr th {\n",
       "        vertical-align: top;\n",
       "    }\n",
       "\n",
       "    .dataframe thead th {\n",
       "        text-align: right;\n",
       "    }\n",
       "</style>\n",
       "<table border=\"1\" class=\"dataframe\">\n",
       "  <thead>\n",
       "    <tr style=\"text-align: right;\">\n",
       "      <th></th>\n",
       "      <th>Population</th>\n",
       "      <th>Water well Quality Class</th>\n",
       "    </tr>\n",
       "  </thead>\n",
       "  <tbody>\n",
       "    <tr>\n",
       "      <th>0</th>\n",
       "      <td>321</td>\n",
       "      <td>Good Water well</td>\n",
       "    </tr>\n",
       "    <tr>\n",
       "      <th>1</th>\n",
       "      <td>300</td>\n",
       "      <td>Good Water well</td>\n",
       "    </tr>\n",
       "    <tr>\n",
       "      <th>2</th>\n",
       "      <td>500</td>\n",
       "      <td>Good Water well</td>\n",
       "    </tr>\n",
       "    <tr>\n",
       "      <th>3</th>\n",
       "      <td>250</td>\n",
       "      <td>Good Water well</td>\n",
       "    </tr>\n",
       "    <tr>\n",
       "      <th>4</th>\n",
       "      <td>60</td>\n",
       "      <td>Good Water well</td>\n",
       "    </tr>\n",
       "    <tr>\n",
       "      <th>...</th>\n",
       "      <td>...</td>\n",
       "      <td>...</td>\n",
       "    </tr>\n",
       "    <tr>\n",
       "      <th>14845</th>\n",
       "      <td>20</td>\n",
       "      <td>Good Water well</td>\n",
       "    </tr>\n",
       "    <tr>\n",
       "      <th>14846</th>\n",
       "      <td>2960</td>\n",
       "      <td>Bad Water well</td>\n",
       "    </tr>\n",
       "    <tr>\n",
       "      <th>14847</th>\n",
       "      <td>200</td>\n",
       "      <td>Good Water well</td>\n",
       "    </tr>\n",
       "    <tr>\n",
       "      <th>14848</th>\n",
       "      <td>150</td>\n",
       "      <td>Good Water well</td>\n",
       "    </tr>\n",
       "    <tr>\n",
       "      <th>14849</th>\n",
       "      <td>40</td>\n",
       "      <td>Good Water well</td>\n",
       "    </tr>\n",
       "  </tbody>\n",
       "</table>\n",
       "<p>14850 rows × 2 columns</p>\n",
       "</div>"
      ],
      "text/plain": [
       "       Population Water well Quality Class\n",
       "0             321          Good Water well\n",
       "1             300          Good Water well\n",
       "2             500          Good Water well\n",
       "3             250          Good Water well\n",
       "4              60          Good Water well\n",
       "...           ...                      ...\n",
       "14845          20          Good Water well\n",
       "14846        2960           Bad Water well\n",
       "14847         200          Good Water well\n",
       "14848         150          Good Water well\n",
       "14849          40          Good Water well\n",
       "\n",
       "[14850 rows x 2 columns]"
      ]
     },
     "execution_count": 129,
     "metadata": {},
     "output_type": "execute_result"
    }
   ],
   "source": [
    "df16 = pd.DataFrame({'Population':populations,'Water well Quality Class':qualification15})\n",
    "df16"
   ]
  },
  {
   "cell_type": "code",
   "execution_count": 130,
   "metadata": {},
   "outputs": [
    {
     "data": {
      "text/plain": [
       "<AxesSubplot:xlabel='Water well Quality Class', ylabel='count'>"
      ]
     },
     "execution_count": 130,
     "metadata": {},
     "output_type": "execute_result"
    },
    {
     "data": {
      "image/png": "[encoded data removed]",
      "text/plain": [
       "<Figure size 1080x720 with 1 Axes>"
      ]
     },
     "metadata": {
      "needs_background": "light"
     },
     "output_type": "display_data"
    }
   ],
   "source": [
    "plt.figure(figsize=(15,10))\n",
    "sns.countplot(x='Water well Quality Class',data=df16)"
   ]
  },
  {
   "cell_type": "code",
   "execution_count": 131,
   "metadata": {},
   "outputs": [
    {
     "data": {
      "text/html": [
       "<div>\n",
       "<style scoped>\n",
       "    .dataframe tbody tr th:only-of-type {\n",
       "        vertical-align: middle;\n",
       "    }\n",
       "\n",
       "    .dataframe tbody tr th {\n",
       "        vertical-align: top;\n",
       "    }\n",
       "\n",
       "    .dataframe thead th {\n",
       "        text-align: right;\n",
       "    }\n",
       "</style>\n",
       "<table border=\"1\" class=\"dataframe\">\n",
       "  <thead>\n",
       "    <tr style=\"text-align: right;\">\n",
       "      <th></th>\n",
       "      <th>Population</th>\n",
       "      <th>Water well Quality Class</th>\n",
       "      <th>Category</th>\n",
       "    </tr>\n",
       "  </thead>\n",
       "  <tbody>\n",
       "    <tr>\n",
       "      <th>0</th>\n",
       "      <td>321</td>\n",
       "      <td>Good Water well</td>\n",
       "      <td>1</td>\n",
       "    </tr>\n",
       "    <tr>\n",
       "      <th>1</th>\n",
       "      <td>300</td>\n",
       "      <td>Good Water well</td>\n",
       "      <td>1</td>\n",
       "    </tr>\n",
       "    <tr>\n",
       "      <th>2</th>\n",
       "      <td>500</td>\n",
       "      <td>Good Water well</td>\n",
       "      <td>1</td>\n",
       "    </tr>\n",
       "    <tr>\n",
       "      <th>3</th>\n",
       "      <td>250</td>\n",
       "      <td>Good Water well</td>\n",
       "      <td>1</td>\n",
       "    </tr>\n",
       "    <tr>\n",
       "      <th>4</th>\n",
       "      <td>60</td>\n",
       "      <td>Good Water well</td>\n",
       "      <td>1</td>\n",
       "    </tr>\n",
       "    <tr>\n",
       "      <th>...</th>\n",
       "      <td>...</td>\n",
       "      <td>...</td>\n",
       "      <td>...</td>\n",
       "    </tr>\n",
       "    <tr>\n",
       "      <th>14845</th>\n",
       "      <td>20</td>\n",
       "      <td>Good Water well</td>\n",
       "      <td>1</td>\n",
       "    </tr>\n",
       "    <tr>\n",
       "      <th>14846</th>\n",
       "      <td>2960</td>\n",
       "      <td>Bad Water well</td>\n",
       "      <td>3</td>\n",
       "    </tr>\n",
       "    <tr>\n",
       "      <th>14847</th>\n",
       "      <td>200</td>\n",
       "      <td>Good Water well</td>\n",
       "      <td>1</td>\n",
       "    </tr>\n",
       "    <tr>\n",
       "      <th>14848</th>\n",
       "      <td>150</td>\n",
       "      <td>Good Water well</td>\n",
       "      <td>1</td>\n",
       "    </tr>\n",
       "    <tr>\n",
       "      <th>14849</th>\n",
       "      <td>40</td>\n",
       "      <td>Good Water well</td>\n",
       "      <td>1</td>\n",
       "    </tr>\n",
       "  </tbody>\n",
       "</table>\n",
       "<p>14850 rows × 3 columns</p>\n",
       "</div>"
      ],
      "text/plain": [
       "       Population Water well Quality Class  Category\n",
       "0             321          Good Water well         1\n",
       "1             300          Good Water well         1\n",
       "2             500          Good Water well         1\n",
       "3             250          Good Water well         1\n",
       "4              60          Good Water well         1\n",
       "...           ...                      ...       ...\n",
       "14845          20          Good Water well         1\n",
       "14846        2960           Bad Water well         3\n",
       "14847         200          Good Water well         1\n",
       "14848         150          Good Water well         1\n",
       "14849          40          Good Water well         1\n",
       "\n",
       "[14850 rows x 3 columns]"
      ]
     },
     "execution_count": 131,
     "metadata": {},
     "output_type": "execute_result"
    }
   ],
   "source": [
    "category15 = []\n",
    "for i in qualification15:\n",
    "    if i == 'Bad Water well':category15.append(3)\n",
    "    elif i == 'Good Water well':category15.append(1)\n",
    "df16['Category'] = category15\n",
    "df16"
   ]
  },
  {
   "cell_type": "code",
   "execution_count": 132,
   "metadata": {},
   "outputs": [
    {
     "data": {
      "text/plain": [
       "True     12738\n",
       "False     1291\n",
       "Name: public_meeting, dtype: int64"
      ]
     },
     "execution_count": 132,
     "metadata": {},
     "output_type": "execute_result"
    }
   ],
   "source": [
    "raw_info[\"public_meeting\"].value_counts()"
   ]
  },
  {
   "cell_type": "code",
   "execution_count": 133,
   "metadata": {
    "scrolled": true,
    "tags": []
   },
   "outputs": [
    {
     "data": {
      "text/plain": [
       "14850"
      ]
     },
     "execution_count": 133,
     "metadata": {},
     "output_type": "execute_result"
    }
   ],
   "source": [
    "public_meetings = raw_info[\"public_meeting\"].tolist()\n",
    "len(public_meetings)"
   ]
  },
  {
   "cell_type": "code",
   "execution_count": 134,
   "metadata": {
    "tags": []
   },
   "outputs": [
    {
     "data": {
      "text/plain": [
       "14850"
      ]
     },
     "execution_count": 134,
     "metadata": {},
     "output_type": "execute_result"
    }
   ],
   "source": [
    "qualification16= []\n",
    "for meetings in public_meetings:\n",
    "    if  meetings == True :\n",
    "        qualification16.append('Bad Water well')\n",
    "    elif meetings == False :\n",
    "        qualification16.append('Good Water well')\n",
    "    else:\n",
    "        qualification16.append('Unkown')\n",
    "len(qualification16)"
   ]
  },
  {
   "cell_type": "code",
   "execution_count": 135,
   "metadata": {},
   "outputs": [
    {
     "data": {
      "text/html": [
       "<div>\n",
       "<style scoped>\n",
       "    .dataframe tbody tr th:only-of-type {\n",
       "        vertical-align: middle;\n",
       "    }\n",
       "\n",
       "    .dataframe tbody tr th {\n",
       "        vertical-align: top;\n",
       "    }\n",
       "\n",
       "    .dataframe thead th {\n",
       "        text-align: right;\n",
       "    }\n",
       "</style>\n",
       "<table border=\"1\" class=\"dataframe\">\n",
       "  <thead>\n",
       "    <tr style=\"text-align: right;\">\n",
       "      <th></th>\n",
       "      <th>Public Meetings</th>\n",
       "      <th>Water well Quality Class</th>\n",
       "    </tr>\n",
       "  </thead>\n",
       "  <tbody>\n",
       "    <tr>\n",
       "      <th>0</th>\n",
       "      <td>True</td>\n",
       "      <td>Bad Water well</td>\n",
       "    </tr>\n",
       "    <tr>\n",
       "      <th>1</th>\n",
       "      <td>True</td>\n",
       "      <td>Bad Water well</td>\n",
       "    </tr>\n",
       "    <tr>\n",
       "      <th>2</th>\n",
       "      <td>True</td>\n",
       "      <td>Bad Water well</td>\n",
       "    </tr>\n",
       "    <tr>\n",
       "      <th>3</th>\n",
       "      <td>NaN</td>\n",
       "      <td>Unkown</td>\n",
       "    </tr>\n",
       "    <tr>\n",
       "      <th>4</th>\n",
       "      <td>NaN</td>\n",
       "      <td>Unkown</td>\n",
       "    </tr>\n",
       "    <tr>\n",
       "      <th>...</th>\n",
       "      <td>...</td>\n",
       "      <td>...</td>\n",
       "    </tr>\n",
       "    <tr>\n",
       "      <th>14845</th>\n",
       "      <td>True</td>\n",
       "      <td>Bad Water well</td>\n",
       "    </tr>\n",
       "    <tr>\n",
       "      <th>14846</th>\n",
       "      <td>True</td>\n",
       "      <td>Bad Water well</td>\n",
       "    </tr>\n",
       "    <tr>\n",
       "      <th>14847</th>\n",
       "      <td>True</td>\n",
       "      <td>Bad Water well</td>\n",
       "    </tr>\n",
       "    <tr>\n",
       "      <th>14848</th>\n",
       "      <td>True</td>\n",
       "      <td>Bad Water well</td>\n",
       "    </tr>\n",
       "    <tr>\n",
       "      <th>14849</th>\n",
       "      <td>True</td>\n",
       "      <td>Bad Water well</td>\n",
       "    </tr>\n",
       "  </tbody>\n",
       "</table>\n",
       "<p>14850 rows × 2 columns</p>\n",
       "</div>"
      ],
      "text/plain": [
       "      Public Meetings Water well Quality Class\n",
       "0                True           Bad Water well\n",
       "1                True           Bad Water well\n",
       "2                True           Bad Water well\n",
       "3                 NaN                   Unkown\n",
       "4                 NaN                   Unkown\n",
       "...               ...                      ...\n",
       "14845            True           Bad Water well\n",
       "14846            True           Bad Water well\n",
       "14847            True           Bad Water well\n",
       "14848            True           Bad Water well\n",
       "14849            True           Bad Water well\n",
       "\n",
       "[14850 rows x 2 columns]"
      ]
     },
     "execution_count": 135,
     "metadata": {},
     "output_type": "execute_result"
    }
   ],
   "source": [
    "df17 = pd.DataFrame({'Public Meetings':public_meetings,'Water well Quality Class':qualification16})\n",
    "df17"
   ]
  },
  {
   "cell_type": "code",
   "execution_count": 136,
   "metadata": {},
   "outputs": [
    {
     "data": {
      "text/plain": [
       "<AxesSubplot:xlabel='Water well Quality Class', ylabel='count'>"
      ]
     },
     "execution_count": 136,
     "metadata": {},
     "output_type": "execute_result"
    },
    {
     "data": {
      "image/png": "[encoded data removed]",
      "text/plain": [
       "<Figure size 1080x720 with 1 Axes>"
      ]
     },
     "metadata": {
      "needs_background": "light"
     },
     "output_type": "display_data"
    }
   ],
   "source": [
    "plt.figure(figsize=(15,10))\n",
    "sns.countplot(x='Water well Quality Class',data=df17)"
   ]
  },
  {
   "cell_type": "code",
   "execution_count": 137,
   "metadata": {},
   "outputs": [
    {
     "data": {
      "text/html": [
       "<div>\n",
       "<style scoped>\n",
       "    .dataframe tbody tr th:only-of-type {\n",
       "        vertical-align: middle;\n",
       "    }\n",
       "\n",
       "    .dataframe tbody tr th {\n",
       "        vertical-align: top;\n",
       "    }\n",
       "\n",
       "    .dataframe thead th {\n",
       "        text-align: right;\n",
       "    }\n",
       "</style>\n",
       "<table border=\"1\" class=\"dataframe\">\n",
       "  <thead>\n",
       "    <tr style=\"text-align: right;\">\n",
       "      <th></th>\n",
       "      <th>Public Meetings</th>\n",
       "      <th>Water well Quality Class</th>\n",
       "      <th>Category</th>\n",
       "    </tr>\n",
       "  </thead>\n",
       "  <tbody>\n",
       "    <tr>\n",
       "      <th>0</th>\n",
       "      <td>True</td>\n",
       "      <td>Bad Water well</td>\n",
       "      <td>3</td>\n",
       "    </tr>\n",
       "    <tr>\n",
       "      <th>1</th>\n",
       "      <td>True</td>\n",
       "      <td>Bad Water well</td>\n",
       "      <td>3</td>\n",
       "    </tr>\n",
       "    <tr>\n",
       "      <th>2</th>\n",
       "      <td>True</td>\n",
       "      <td>Bad Water well</td>\n",
       "      <td>3</td>\n",
       "    </tr>\n",
       "    <tr>\n",
       "      <th>3</th>\n",
       "      <td>NaN</td>\n",
       "      <td>Unkown</td>\n",
       "      <td>0</td>\n",
       "    </tr>\n",
       "    <tr>\n",
       "      <th>4</th>\n",
       "      <td>NaN</td>\n",
       "      <td>Unkown</td>\n",
       "      <td>0</td>\n",
       "    </tr>\n",
       "    <tr>\n",
       "      <th>...</th>\n",
       "      <td>...</td>\n",
       "      <td>...</td>\n",
       "      <td>...</td>\n",
       "    </tr>\n",
       "    <tr>\n",
       "      <th>14845</th>\n",
       "      <td>True</td>\n",
       "      <td>Bad Water well</td>\n",
       "      <td>3</td>\n",
       "    </tr>\n",
       "    <tr>\n",
       "      <th>14846</th>\n",
       "      <td>True</td>\n",
       "      <td>Bad Water well</td>\n",
       "      <td>3</td>\n",
       "    </tr>\n",
       "    <tr>\n",
       "      <th>14847</th>\n",
       "      <td>True</td>\n",
       "      <td>Bad Water well</td>\n",
       "      <td>3</td>\n",
       "    </tr>\n",
       "    <tr>\n",
       "      <th>14848</th>\n",
       "      <td>True</td>\n",
       "      <td>Bad Water well</td>\n",
       "      <td>3</td>\n",
       "    </tr>\n",
       "    <tr>\n",
       "      <th>14849</th>\n",
       "      <td>True</td>\n",
       "      <td>Bad Water well</td>\n",
       "      <td>3</td>\n",
       "    </tr>\n",
       "  </tbody>\n",
       "</table>\n",
       "<p>14850 rows × 3 columns</p>\n",
       "</div>"
      ],
      "text/plain": [
       "      Public Meetings Water well Quality Class  Category\n",
       "0                True           Bad Water well         3\n",
       "1                True           Bad Water well         3\n",
       "2                True           Bad Water well         3\n",
       "3                 NaN                   Unkown         0\n",
       "4                 NaN                   Unkown         0\n",
       "...               ...                      ...       ...\n",
       "14845            True           Bad Water well         3\n",
       "14846            True           Bad Water well         3\n",
       "14847            True           Bad Water well         3\n",
       "14848            True           Bad Water well         3\n",
       "14849            True           Bad Water well         3\n",
       "\n",
       "[14850 rows x 3 columns]"
      ]
     },
     "execution_count": 137,
     "metadata": {},
     "output_type": "execute_result"
    }
   ],
   "source": [
    "category16 = []\n",
    "for i in qualification16:\n",
    "    if i == 'Bad Water well':category16.append(3)\n",
    "    elif i == 'Good Water well':category16.append(1)\n",
    "    elif i == 'Unkown':category16.append(0)\n",
    "df17['Category'] = category16\n",
    "df17"
   ]
  },
  {
   "cell_type": "code",
   "execution_count": 138,
   "metadata": {},
   "outputs": [
    {
     "data": {
      "text/plain": [
       "Shinyanga        1311\n",
       "Iringa           1305\n",
       "Mbeya            1119\n",
       "Kilimanjaro      1115\n",
       "Morogoro         1032\n",
       "Kagera            858\n",
       "Mwanza            795\n",
       "Arusha            761\n",
       "Kigoma            717\n",
       "Pwani             696\n",
       "Ruvuma            666\n",
       "Tanga             639\n",
       "Dodoma            578\n",
       "Tabora            507\n",
       "Mara              482\n",
       "Singida           443\n",
       "Rukwa             434\n",
       "Mtwara            414\n",
       "Manyara           389\n",
       "Lindi             374\n",
       "Dar es Salaam     215\n",
       "Name: region, dtype: int64"
      ]
     },
     "execution_count": 138,
     "metadata": {},
     "output_type": "execute_result"
    }
   ],
   "source": [
    "raw_info[\"region\"].value_counts()"
   ]
  },
  {
   "cell_type": "code",
   "execution_count": 139,
   "metadata": {
    "tags": []
   },
   "outputs": [
    {
     "data": {
      "text/plain": [
       "14850"
      ]
     },
     "execution_count": 139,
     "metadata": {},
     "output_type": "execute_result"
    }
   ],
   "source": [
    "regions = raw_info[\"region\"].tolist()\n",
    "len(regions)"
   ]
  },
  {
   "cell_type": "code",
   "execution_count": 140,
   "metadata": {
    "tags": []
   },
   "outputs": [
    {
     "data": {
      "text/plain": [
       "14850"
      ]
     },
     "execution_count": 140,
     "metadata": {},
     "output_type": "execute_result"
    }
   ],
   "source": [
    "qualification17= []\n",
    "for region in regions:\n",
    "    if  region == 'Shinyanga':\n",
    "        qualification17.append('Bad Region')\n",
    "    elif region == 'Iringa':\n",
    "        qualification17.append('Bad Region')\n",
    "    elif region == 'Mbeya':\n",
    "        qualification17.append('Good Region')\n",
    "    elif region == 'Kilimanjaro':\n",
    "        qualification17.append('Intermediate Region')\n",
    "    elif region == 'Morogoro':\n",
    "        qualification17.append('Bad Region')\n",
    "    elif region == 'Kagera':\n",
    "        qualification17.append('Bad Region')\n",
    "    elif region == 'Mwanza':\n",
    "        qualification17.append('Bad Region')\n",
    "    elif region == 'Arusha':\n",
    "        qualification17.append('Good Region')\n",
    "    elif region == 'Kigoma':\n",
    "        qualification17.append('Good Region')\n",
    "    elif region == 'Pwani':\n",
    "        qualification17.append('Good Region')\n",
    "    elif region == 'Ruvuma':\n",
    "        qualification17.append('Intermediate Region')\n",
    "    elif region == 'Tanga':\n",
    "        qualification17.append('Bad Region')\n",
    "    elif region == 'Dodoma':\n",
    "        qualification17.append('Intermediate Region')\n",
    "    elif region == 'Tabora':\n",
    "        qualification17.append('Good Region')\n",
    "    elif region == 'Mara':\n",
    "        qualification17.append('Good Region')\n",
    "    elif region == 'Singida':\n",
    "        qualification17.append('Intermediate Region')\n",
    "    elif region == 'Rukwa':\n",
    "        qualification17.append('Intermediate Region')\n",
    "    elif region == 'Mtwara':\n",
    "        qualification17.append('Bad Region')\n",
    "    elif region == 'Manyara':\n",
    "        qualification17.append('Intermediate Region')\n",
    "    elif region == 'Lindi':\n",
    "        qualification17.append('Good Region')\n",
    "    elif region == 'Dar es Salaam':\n",
    "        qualification17.append('Bad Region')\n",
    "len(qualification17)"
   ]
  },
  {
   "cell_type": "code",
   "execution_count": 141,
   "metadata": {},
   "outputs": [
    {
     "data": {
      "text/html": [
       "<div>\n",
       "<style scoped>\n",
       "    .dataframe tbody tr th:only-of-type {\n",
       "        vertical-align: middle;\n",
       "    }\n",
       "\n",
       "    .dataframe tbody tr th {\n",
       "        vertical-align: top;\n",
       "    }\n",
       "\n",
       "    .dataframe thead th {\n",
       "        text-align: right;\n",
       "    }\n",
       "</style>\n",
       "<table border=\"1\" class=\"dataframe\">\n",
       "  <thead>\n",
       "    <tr style=\"text-align: right;\">\n",
       "      <th></th>\n",
       "      <th>Region</th>\n",
       "      <th>Region Quality Class</th>\n",
       "    </tr>\n",
       "  </thead>\n",
       "  <tbody>\n",
       "    <tr>\n",
       "      <th>0</th>\n",
       "      <td>Manyara</td>\n",
       "      <td>Intermediate Region</td>\n",
       "    </tr>\n",
       "    <tr>\n",
       "      <th>1</th>\n",
       "      <td>Arusha</td>\n",
       "      <td>Good Region</td>\n",
       "    </tr>\n",
       "    <tr>\n",
       "      <th>2</th>\n",
       "      <td>Singida</td>\n",
       "      <td>Intermediate Region</td>\n",
       "    </tr>\n",
       "    <tr>\n",
       "      <th>3</th>\n",
       "      <td>Lindi</td>\n",
       "      <td>Good Region</td>\n",
       "    </tr>\n",
       "    <tr>\n",
       "      <th>4</th>\n",
       "      <td>Ruvuma</td>\n",
       "      <td>Intermediate Region</td>\n",
       "    </tr>\n",
       "    <tr>\n",
       "      <th>...</th>\n",
       "      <td>...</td>\n",
       "      <td>...</td>\n",
       "    </tr>\n",
       "    <tr>\n",
       "      <th>14845</th>\n",
       "      <td>Pwani</td>\n",
       "      <td>Good Region</td>\n",
       "    </tr>\n",
       "    <tr>\n",
       "      <th>14846</th>\n",
       "      <td>Tanga</td>\n",
       "      <td>Bad Region</td>\n",
       "    </tr>\n",
       "    <tr>\n",
       "      <th>14847</th>\n",
       "      <td>Singida</td>\n",
       "      <td>Intermediate Region</td>\n",
       "    </tr>\n",
       "    <tr>\n",
       "      <th>14848</th>\n",
       "      <td>Ruvuma</td>\n",
       "      <td>Intermediate Region</td>\n",
       "    </tr>\n",
       "    <tr>\n",
       "      <th>14849</th>\n",
       "      <td>Ruvuma</td>\n",
       "      <td>Intermediate Region</td>\n",
       "    </tr>\n",
       "  </tbody>\n",
       "</table>\n",
       "<p>14850 rows × 2 columns</p>\n",
       "</div>"
      ],
      "text/plain": [
       "        Region Region Quality Class\n",
       "0      Manyara  Intermediate Region\n",
       "1       Arusha          Good Region\n",
       "2      Singida  Intermediate Region\n",
       "3        Lindi          Good Region\n",
       "4       Ruvuma  Intermediate Region\n",
       "...        ...                  ...\n",
       "14845    Pwani          Good Region\n",
       "14846    Tanga           Bad Region\n",
       "14847  Singida  Intermediate Region\n",
       "14848   Ruvuma  Intermediate Region\n",
       "14849   Ruvuma  Intermediate Region\n",
       "\n",
       "[14850 rows x 2 columns]"
      ]
     },
     "execution_count": 141,
     "metadata": {},
     "output_type": "execute_result"
    }
   ],
   "source": [
    "df18 = pd.DataFrame({'Region':regions,'Region Quality Class':qualification17})\n",
    "df18"
   ]
  },
  {
   "cell_type": "code",
   "execution_count": 142,
   "metadata": {},
   "outputs": [
    {
     "data": {
      "text/plain": [
       "<AxesSubplot:xlabel='Region Quality Class', ylabel='count'>"
      ]
     },
     "execution_count": 142,
     "metadata": {},
     "output_type": "execute_result"
    },
    {
     "data": {
      "image/png": "[encoded data removed]",
      "text/plain": [
       "<Figure size 1080x720 with 1 Axes>"
      ]
     },
     "metadata": {
      "needs_background": "light"
     },
     "output_type": "display_data"
    }
   ],
   "source": [
    "plt.figure(figsize=(15,10))\n",
    "sns.countplot(x='Region Quality Class',data=df18)"
   ]
  },
  {
   "cell_type": "code",
   "execution_count": 143,
   "metadata": {
    "tags": []
   },
   "outputs": [
    {
     "data": {
      "text/html": [
       "<div>\n",
       "<style scoped>\n",
       "    .dataframe tbody tr th:only-of-type {\n",
       "        vertical-align: middle;\n",
       "    }\n",
       "\n",
       "    .dataframe tbody tr th {\n",
       "        vertical-align: top;\n",
       "    }\n",
       "\n",
       "    .dataframe thead th {\n",
       "        text-align: right;\n",
       "    }\n",
       "</style>\n",
       "<table border=\"1\" class=\"dataframe\">\n",
       "  <thead>\n",
       "    <tr style=\"text-align: right;\">\n",
       "      <th></th>\n",
       "      <th>Region</th>\n",
       "      <th>Region Quality Class</th>\n",
       "      <th>Category</th>\n",
       "    </tr>\n",
       "  </thead>\n",
       "  <tbody>\n",
       "    <tr>\n",
       "      <th>0</th>\n",
       "      <td>Manyara</td>\n",
       "      <td>Intermediate Region</td>\n",
       "      <td>2</td>\n",
       "    </tr>\n",
       "    <tr>\n",
       "      <th>1</th>\n",
       "      <td>Arusha</td>\n",
       "      <td>Good Region</td>\n",
       "      <td>1</td>\n",
       "    </tr>\n",
       "    <tr>\n",
       "      <th>2</th>\n",
       "      <td>Singida</td>\n",
       "      <td>Intermediate Region</td>\n",
       "      <td>2</td>\n",
       "    </tr>\n",
       "    <tr>\n",
       "      <th>3</th>\n",
       "      <td>Lindi</td>\n",
       "      <td>Good Region</td>\n",
       "      <td>1</td>\n",
       "    </tr>\n",
       "    <tr>\n",
       "      <th>4</th>\n",
       "      <td>Ruvuma</td>\n",
       "      <td>Intermediate Region</td>\n",
       "      <td>2</td>\n",
       "    </tr>\n",
       "    <tr>\n",
       "      <th>...</th>\n",
       "      <td>...</td>\n",
       "      <td>...</td>\n",
       "      <td>...</td>\n",
       "    </tr>\n",
       "    <tr>\n",
       "      <th>14845</th>\n",
       "      <td>Pwani</td>\n",
       "      <td>Good Region</td>\n",
       "      <td>1</td>\n",
       "    </tr>\n",
       "    <tr>\n",
       "      <th>14846</th>\n",
       "      <td>Tanga</td>\n",
       "      <td>Bad Region</td>\n",
       "      <td>3</td>\n",
       "    </tr>\n",
       "    <tr>\n",
       "      <th>14847</th>\n",
       "      <td>Singida</td>\n",
       "      <td>Intermediate Region</td>\n",
       "      <td>2</td>\n",
       "    </tr>\n",
       "    <tr>\n",
       "      <th>14848</th>\n",
       "      <td>Ruvuma</td>\n",
       "      <td>Intermediate Region</td>\n",
       "      <td>2</td>\n",
       "    </tr>\n",
       "    <tr>\n",
       "      <th>14849</th>\n",
       "      <td>Ruvuma</td>\n",
       "      <td>Intermediate Region</td>\n",
       "      <td>2</td>\n",
       "    </tr>\n",
       "  </tbody>\n",
       "</table>\n",
       "<p>14850 rows × 3 columns</p>\n",
       "</div>"
      ],
      "text/plain": [
       "        Region Region Quality Class  Category\n",
       "0      Manyara  Intermediate Region         2\n",
       "1       Arusha          Good Region         1\n",
       "2      Singida  Intermediate Region         2\n",
       "3        Lindi          Good Region         1\n",
       "4       Ruvuma  Intermediate Region         2\n",
       "...        ...                  ...       ...\n",
       "14845    Pwani          Good Region         1\n",
       "14846    Tanga           Bad Region         3\n",
       "14847  Singida  Intermediate Region         2\n",
       "14848   Ruvuma  Intermediate Region         2\n",
       "14849   Ruvuma  Intermediate Region         2\n",
       "\n",
       "[14850 rows x 3 columns]"
      ]
     },
     "execution_count": 143,
     "metadata": {},
     "output_type": "execute_result"
    }
   ],
   "source": [
    "category17 = []\n",
    "for i in qualification17:\n",
    "    if i == 'Bad Region':category17.append(3)\n",
    "    elif i == 'Good Region':category17.append(1)\n",
    "    elif i == 'Intermediate Region':category17.append(2)\n",
    "df18['Category'] = category17\n",
    "df18"
   ]
  },
  {
   "cell_type": "code",
   "execution_count": 144,
   "metadata": {},
   "outputs": [],
   "source": [
    "tz_well_info = pd.DataFrame({'Location_of_Well':place1,'Type':place2,\n",
    "                             '___________Zone___________':place3,'Static_Head':amount_tsh3,\n",
    "                             'Altitude':gps_height4,'Water_Quality_Group':amount_per_group,\n",
    "                             'Quantity_of_Water':quantity_group2,'____Sources_Type1____':sources2,\n",
    "                             '____Sources_Type2____':source_type,'Sources_Type3':source_class,\n",
    "                             '___Waterpoint_Type___':waterpoint_type,\n",
    "                             '_____________Basins___________':basins,'Pop_Density':ALL_Density,\n",
    "                             'Extraction_Type':extraction_types,'Managemant_Type':management_group,\n",
    "                             'Contruction_Year':construction_year,'Permit':permits,\n",
    "                             'Payment_Type':payment_type,'Public_Meeting':public_meetings,'Regions':regions\n",
    "})"
   ]
  },
  {
   "cell_type": "code",
   "execution_count": 145,
   "metadata": {},
   "outputs": [
    {
     "data": {
      "text/html": [
       "<div>\n",
       "<style scoped>\n",
       "    .dataframe tbody tr th:only-of-type {\n",
       "        vertical-align: middle;\n",
       "    }\n",
       "\n",
       "    .dataframe tbody tr th {\n",
       "        vertical-align: top;\n",
       "    }\n",
       "\n",
       "    .dataframe thead th {\n",
       "        text-align: right;\n",
       "    }\n",
       "</style>\n",
       "<table border=\"1\" class=\"dataframe\">\n",
       "  <thead>\n",
       "    <tr style=\"text-align: right;\">\n",
       "      <th></th>\n",
       "      <th>Location_of_Well</th>\n",
       "      <th>Type</th>\n",
       "      <th>___________Zone___________</th>\n",
       "      <th>Static_Head</th>\n",
       "      <th>Altitude</th>\n",
       "      <th>Water_Quality_Group</th>\n",
       "      <th>Quantity_of_Water</th>\n",
       "      <th>____Sources_Type1____</th>\n",
       "      <th>____Sources_Type2____</th>\n",
       "      <th>Sources_Type3</th>\n",
       "      <th>___Waterpoint_Type___</th>\n",
       "      <th>_____________Basins___________</th>\n",
       "      <th>Pop_Density</th>\n",
       "      <th>Extraction_Type</th>\n",
       "      <th>Managemant_Type</th>\n",
       "      <th>Contruction_Year</th>\n",
       "      <th>Permit</th>\n",
       "      <th>Payment_Type</th>\n",
       "      <th>Public_Meeting</th>\n",
       "      <th>Regions</th>\n",
       "    </tr>\n",
       "  </thead>\n",
       "  <tbody>\n",
       "    <tr>\n",
       "      <th>0</th>\n",
       "      <td>Manyara</td>\n",
       "      <td>state</td>\n",
       "      <td>Northern Zone</td>\n",
       "      <td>0.0</td>\n",
       "      <td>1996</td>\n",
       "      <td>Soft</td>\n",
       "      <td>seasonal</td>\n",
       "      <td>rainwater harvesting</td>\n",
       "      <td>rainwater harvesting</td>\n",
       "      <td>surface</td>\n",
       "      <td>other</td>\n",
       "      <td>Internal</td>\n",
       "      <td>82.904654</td>\n",
       "      <td>other</td>\n",
       "      <td>parastatal</td>\n",
       "      <td>2012</td>\n",
       "      <td>True</td>\n",
       "      <td>never pay</td>\n",
       "      <td>True</td>\n",
       "      <td>Manyara</td>\n",
       "    </tr>\n",
       "    <tr>\n",
       "      <th>1</th>\n",
       "      <td>Olmotonyi Ward</td>\n",
       "      <td>village</td>\n",
       "      <td>Northern Zone</td>\n",
       "      <td>0.0</td>\n",
       "      <td>1569</td>\n",
       "      <td>Soft</td>\n",
       "      <td>insufficient</td>\n",
       "      <td>spring</td>\n",
       "      <td>spring</td>\n",
       "      <td>groundwater</td>\n",
       "      <td>communal standpipe</td>\n",
       "      <td>Pangani</td>\n",
       "      <td>116.784533</td>\n",
       "      <td>gravity</td>\n",
       "      <td>user-group</td>\n",
       "      <td>2000</td>\n",
       "      <td>True</td>\n",
       "      <td>never pay</td>\n",
       "      <td>True</td>\n",
       "      <td>Arusha</td>\n",
       "    </tr>\n",
       "    <tr>\n",
       "      <th>2</th>\n",
       "      <td>Puma</td>\n",
       "      <td>twon</td>\n",
       "      <td>Central Zone</td>\n",
       "      <td>0.0</td>\n",
       "      <td>1567</td>\n",
       "      <td>Soft</td>\n",
       "      <td>insufficient</td>\n",
       "      <td>rainwater harvesting</td>\n",
       "      <td>rainwater harvesting</td>\n",
       "      <td>surface</td>\n",
       "      <td>other</td>\n",
       "      <td>Internal</td>\n",
       "      <td>71.949449</td>\n",
       "      <td>other</td>\n",
       "      <td>user-group</td>\n",
       "      <td>2010</td>\n",
       "      <td>NaN</td>\n",
       "      <td>never pay</td>\n",
       "      <td>True</td>\n",
       "      <td>Singida</td>\n",
       "    </tr>\n",
       "    <tr>\n",
       "      <th>3</th>\n",
       "      <td>Mkutano</td>\n",
       "      <td>village</td>\n",
       "      <td>Coastal Zone</td>\n",
       "      <td>0.0</td>\n",
       "      <td>267</td>\n",
       "      <td>Soft</td>\n",
       "      <td>dry</td>\n",
       "      <td>shallow well</td>\n",
       "      <td>shallow well</td>\n",
       "      <td>groundwater</td>\n",
       "      <td>other</td>\n",
       "      <td>Ruvuma / Southern Coast</td>\n",
       "      <td>33.907922</td>\n",
       "      <td>other</td>\n",
       "      <td>user-group</td>\n",
       "      <td>1987</td>\n",
       "      <td>True</td>\n",
       "      <td>unknown</td>\n",
       "      <td>NaN</td>\n",
       "      <td>Lindi</td>\n",
       "    </tr>\n",
       "    <tr>\n",
       "      <th>4</th>\n",
       "      <td>Lusonga</td>\n",
       "      <td>village</td>\n",
       "      <td>Southern Highlands Zone</td>\n",
       "      <td>500.0</td>\n",
       "      <td>1260</td>\n",
       "      <td>Soft</td>\n",
       "      <td>enough</td>\n",
       "      <td>spring</td>\n",
       "      <td>spring</td>\n",
       "      <td>groundwater</td>\n",
       "      <td>communal standpipe</td>\n",
       "      <td>Ruvuma / Southern Coast</td>\n",
       "      <td>56.009885</td>\n",
       "      <td>gravity</td>\n",
       "      <td>user-group</td>\n",
       "      <td>2000</td>\n",
       "      <td>True</td>\n",
       "      <td>pay monthly</td>\n",
       "      <td>NaN</td>\n",
       "      <td>Ruvuma</td>\n",
       "    </tr>\n",
       "    <tr>\n",
       "      <th>...</th>\n",
       "      <td>...</td>\n",
       "      <td>...</td>\n",
       "      <td>...</td>\n",
       "      <td>...</td>\n",
       "      <td>...</td>\n",
       "      <td>...</td>\n",
       "      <td>...</td>\n",
       "      <td>...</td>\n",
       "      <td>...</td>\n",
       "      <td>...</td>\n",
       "      <td>...</td>\n",
       "      <td>...</td>\n",
       "      <td>...</td>\n",
       "      <td>...</td>\n",
       "      <td>...</td>\n",
       "      <td>...</td>\n",
       "      <td>...</td>\n",
       "      <td>...</td>\n",
       "      <td>...</td>\n",
       "      <td>...</td>\n",
       "    </tr>\n",
       "    <tr>\n",
       "      <th>14845</th>\n",
       "      <td>Yombo</td>\n",
       "      <td>village</td>\n",
       "      <td>Coastal Zone</td>\n",
       "      <td>0.0</td>\n",
       "      <td>34</td>\n",
       "      <td>Fluoride Abandoned</td>\n",
       "      <td>enough</td>\n",
       "      <td>river</td>\n",
       "      <td>river/lake</td>\n",
       "      <td>surface</td>\n",
       "      <td>communal standpipe</td>\n",
       "      <td>Wami / Ruvu</td>\n",
       "      <td>87.431800</td>\n",
       "      <td>motorpump</td>\n",
       "      <td>user-group</td>\n",
       "      <td>1988</td>\n",
       "      <td>True</td>\n",
       "      <td>never pay</td>\n",
       "      <td>True</td>\n",
       "      <td>Pwani</td>\n",
       "    </tr>\n",
       "    <tr>\n",
       "      <th>14846</th>\n",
       "      <td>Elerai</td>\n",
       "      <td>village</td>\n",
       "      <td>Northern Zone</td>\n",
       "      <td>1000.0</td>\n",
       "      <td>0</td>\n",
       "      <td>Fluoride Abandoned</td>\n",
       "      <td>insufficient</td>\n",
       "      <td>shallow well</td>\n",
       "      <td>shallow well</td>\n",
       "      <td>groundwater</td>\n",
       "      <td>hand pump</td>\n",
       "      <td>Pangani</td>\n",
       "      <td>198.640734</td>\n",
       "      <td>handpump</td>\n",
       "      <td>user-group</td>\n",
       "      <td>1994</td>\n",
       "      <td>False</td>\n",
       "      <td>pay annually</td>\n",
       "      <td>True</td>\n",
       "      <td>Tanga</td>\n",
       "    </tr>\n",
       "    <tr>\n",
       "      <th>14847</th>\n",
       "      <td>Ughandi B</td>\n",
       "      <td>village</td>\n",
       "      <td>Central Zone</td>\n",
       "      <td>0.0</td>\n",
       "      <td>1476</td>\n",
       "      <td>Fluoride Abandoned</td>\n",
       "      <td>insufficient</td>\n",
       "      <td>dam</td>\n",
       "      <td>dam</td>\n",
       "      <td>surface</td>\n",
       "      <td>communal standpipe</td>\n",
       "      <td>Internal</td>\n",
       "      <td>71.949449</td>\n",
       "      <td>gravity</td>\n",
       "      <td>user-group</td>\n",
       "      <td>2010</td>\n",
       "      <td>NaN</td>\n",
       "      <td>never pay</td>\n",
       "      <td>True</td>\n",
       "      <td>Singida</td>\n",
       "    </tr>\n",
       "    <tr>\n",
       "      <th>14848</th>\n",
       "      <td>Magazini</td>\n",
       "      <td>village</td>\n",
       "      <td>Southern Highlands Zone</td>\n",
       "      <td>0.0</td>\n",
       "      <td>998</td>\n",
       "      <td>Fluoride Abandoned</td>\n",
       "      <td>insufficient</td>\n",
       "      <td>river</td>\n",
       "      <td>river/lake</td>\n",
       "      <td>surface</td>\n",
       "      <td>communal standpipe</td>\n",
       "      <td>Lake Nyasa</td>\n",
       "      <td>56.009885</td>\n",
       "      <td>gravity</td>\n",
       "      <td>user-group</td>\n",
       "      <td>2009</td>\n",
       "      <td>True</td>\n",
       "      <td>never pay</td>\n",
       "      <td>True</td>\n",
       "      <td>Ruvuma</td>\n",
       "    </tr>\n",
       "    <tr>\n",
       "      <th>14849</th>\n",
       "      <td>Mbuyula</td>\n",
       "      <td>village</td>\n",
       "      <td>Southern Highlands Zone</td>\n",
       "      <td>0.0</td>\n",
       "      <td>481</td>\n",
       "      <td>Fluoride Abandoned</td>\n",
       "      <td>dry</td>\n",
       "      <td>spring</td>\n",
       "      <td>spring</td>\n",
       "      <td>groundwater</td>\n",
       "      <td>communal standpipe</td>\n",
       "      <td>Lake Nyasa</td>\n",
       "      <td>56.009885</td>\n",
       "      <td>gravity</td>\n",
       "      <td>user-group</td>\n",
       "      <td>2008</td>\n",
       "      <td>True</td>\n",
       "      <td>never pay</td>\n",
       "      <td>True</td>\n",
       "      <td>Ruvuma</td>\n",
       "    </tr>\n",
       "  </tbody>\n",
       "</table>\n",
       "<p>14850 rows × 20 columns</p>\n",
       "</div>"
      ],
      "text/plain": [
       "      Location_of_Well      Type ___________Zone___________  Static_Head  \\\n",
       "0              Manyara     state              Northern Zone          0.0   \n",
       "1       Olmotonyi Ward   village              Northern Zone          0.0   \n",
       "2                 Puma      twon               Central Zone          0.0   \n",
       "3              Mkutano   village               Coastal Zone          0.0   \n",
       "4              Lusonga   village    Southern Highlands Zone        500.0   \n",
       "...                ...       ...                        ...          ...   \n",
       "14845            Yombo   village               Coastal Zone          0.0   \n",
       "14846           Elerai   village              Northern Zone       1000.0   \n",
       "14847        Ughandi B   village               Central Zone          0.0   \n",
       "14848         Magazini   village    Southern Highlands Zone          0.0   \n",
       "14849          Mbuyula   village    Southern Highlands Zone          0.0   \n",
       "\n",
       "       Altitude Water_Quality_Group Quantity_of_Water ____Sources_Type1____  \\\n",
       "0          1996                Soft          seasonal  rainwater harvesting   \n",
       "1          1569                Soft      insufficient                spring   \n",
       "2          1567                Soft      insufficient  rainwater harvesting   \n",
       "3           267                Soft               dry          shallow well   \n",
       "4          1260                Soft            enough                spring   \n",
       "...         ...                 ...               ...                   ...   \n",
       "14845        34  Fluoride Abandoned            enough                 river   \n",
       "14846         0  Fluoride Abandoned      insufficient          shallow well   \n",
       "14847      1476  Fluoride Abandoned      insufficient                   dam   \n",
       "14848       998  Fluoride Abandoned      insufficient                 river   \n",
       "14849       481  Fluoride Abandoned               dry                spring   \n",
       "\n",
       "      ____Sources_Type2____ Sources_Type3 ___Waterpoint_Type___  \\\n",
       "0      rainwater harvesting       surface                 other   \n",
       "1                    spring   groundwater    communal standpipe   \n",
       "2      rainwater harvesting       surface                 other   \n",
       "3              shallow well   groundwater                 other   \n",
       "4                    spring   groundwater    communal standpipe   \n",
       "...                     ...           ...                   ...   \n",
       "14845            river/lake       surface    communal standpipe   \n",
       "14846          shallow well   groundwater             hand pump   \n",
       "14847                   dam       surface    communal standpipe   \n",
       "14848            river/lake       surface    communal standpipe   \n",
       "14849                spring   groundwater    communal standpipe   \n",
       "\n",
       "      _____________Basins___________  Pop_Density Extraction_Type  \\\n",
       "0                           Internal    82.904654           other   \n",
       "1                            Pangani   116.784533         gravity   \n",
       "2                           Internal    71.949449           other   \n",
       "3            Ruvuma / Southern Coast    33.907922           other   \n",
       "4            Ruvuma / Southern Coast    56.009885         gravity   \n",
       "...                              ...          ...             ...   \n",
       "14845                    Wami / Ruvu    87.431800       motorpump   \n",
       "14846                        Pangani   198.640734        handpump   \n",
       "14847                       Internal    71.949449         gravity   \n",
       "14848                     Lake Nyasa    56.009885         gravity   \n",
       "14849                     Lake Nyasa    56.009885         gravity   \n",
       "\n",
       "      Managemant_Type  Contruction_Year Permit  Payment_Type Public_Meeting  \\\n",
       "0          parastatal              2012   True     never pay           True   \n",
       "1          user-group              2000   True     never pay           True   \n",
       "2          user-group              2010    NaN     never pay           True   \n",
       "3          user-group              1987   True       unknown            NaN   \n",
       "4          user-group              2000   True   pay monthly            NaN   \n",
       "...               ...               ...    ...           ...            ...   \n",
       "14845      user-group              1988   True     never pay           True   \n",
       "14846      user-group              1994  False  pay annually           True   \n",
       "14847      user-group              2010    NaN     never pay           True   \n",
       "14848      user-group              2009   True     never pay           True   \n",
       "14849      user-group              2008   True     never pay           True   \n",
       "\n",
       "       Regions  \n",
       "0      Manyara  \n",
       "1       Arusha  \n",
       "2      Singida  \n",
       "3        Lindi  \n",
       "4       Ruvuma  \n",
       "...        ...  \n",
       "14845    Pwani  \n",
       "14846    Tanga  \n",
       "14847  Singida  \n",
       "14848   Ruvuma  \n",
       "14849   Ruvuma  \n",
       "\n",
       "[14850 rows x 20 columns]"
      ]
     },
     "execution_count": 145,
     "metadata": {},
     "output_type": "execute_result"
    }
   ],
   "source": [
    "tz_well_info"
   ]
  },
  {
   "cell_type": "code",
   "execution_count": 240,
   "metadata": {},
   "outputs": [],
   "source": [
    "tz_well_class = pd.DataFrame({'Location_of_Well':place1,'Type':place2,'___________Zone___________':place3,\n",
    "                            '___________Static_Head____________':qualification,'______________Altitude______________':qualification1,\n",
    "                            '__Quality_of_Water___':qualification2,'______Quantity_of_Water_______':qualification3,\n",
    "                            '_______Source_______':qualification4,'____Source_Quality____':qualification5,\n",
    "                            'Source_Class_Quality':qualification6,\n",
    "                            '________Waterpiont________':qualification7, '_______Basin________':qualification8, \n",
    "                             '________Density_______':qualification9,\n",
    "                            '____Water_Extraction_____':qualification10, '_______Management________':qualification11,\n",
    "                            '___Construction_Year_Class___':qualification12,\n",
    "                            'Permit_Class':qualification13,'Water_Quality_Class':qualification14,\n",
    "                            'Water_Well_Quality_Class':qualification15,\n",
    "                            'Public_Meetings':qualification16, \n",
    "                            'Region_Quality_Class':qualification17})"
   ]
  },
  {
   "cell_type": "code",
   "execution_count": 241,
   "metadata": {
    "tags": []
   },
   "outputs": [
    {
     "data": {
      "text/html": [
       "<div>\n",
       "<style scoped>\n",
       "    .dataframe tbody tr th:only-of-type {\n",
       "        vertical-align: middle;\n",
       "    }\n",
       "\n",
       "    .dataframe tbody tr th {\n",
       "        vertical-align: top;\n",
       "    }\n",
       "\n",
       "    .dataframe thead th {\n",
       "        text-align: right;\n",
       "    }\n",
       "</style>\n",
       "<table border=\"1\" class=\"dataframe\">\n",
       "  <thead>\n",
       "    <tr style=\"text-align: right;\">\n",
       "      <th></th>\n",
       "      <th>Location_of_Well</th>\n",
       "      <th>Type</th>\n",
       "      <th>___________Zone___________</th>\n",
       "      <th>___________Static_Head____________</th>\n",
       "      <th>______________Altitude______________</th>\n",
       "      <th>__Quality_of_Water___</th>\n",
       "      <th>______Quantity_of_Water_______</th>\n",
       "      <th>_______Source_______</th>\n",
       "      <th>____Source_Quality____</th>\n",
       "      <th>Source_Class_Quality</th>\n",
       "      <th>________Waterpiont________</th>\n",
       "      <th>_______Basin________</th>\n",
       "      <th>________Density_______</th>\n",
       "      <th>____Water_Extraction_____</th>\n",
       "      <th>_______Management________</th>\n",
       "      <th>___Construction_Year_Class___</th>\n",
       "      <th>Permit_Class</th>\n",
       "      <th>Water_Quality_Class</th>\n",
       "      <th>Water_Well_Quality_Class</th>\n",
       "      <th>Public_Meetings</th>\n",
       "      <th>Region_Quality_Class</th>\n",
       "    </tr>\n",
       "  </thead>\n",
       "  <tbody>\n",
       "    <tr>\n",
       "      <th>0</th>\n",
       "      <td>Manyara</td>\n",
       "      <td>state</td>\n",
       "      <td>Northern Zone</td>\n",
       "      <td>Bad Static Head: 0-59 or over 189</td>\n",
       "      <td>Bad Altitude: Over 1500 Feet</td>\n",
       "      <td>Good Water</td>\n",
       "      <td>Intermediate Quantity of Water</td>\n",
       "      <td>Bad Source</td>\n",
       "      <td>Bad Source</td>\n",
       "      <td>Bad Source</td>\n",
       "      <td>Unknown Waterpiont</td>\n",
       "      <td>Bad Basin</td>\n",
       "      <td>Low Density</td>\n",
       "      <td>Unknown</td>\n",
       "      <td>Bad Management</td>\n",
       "      <td>Good Construction Year</td>\n",
       "      <td>Good</td>\n",
       "      <td>Bad Water Quality</td>\n",
       "      <td>Good Water well</td>\n",
       "      <td>Bad Water well</td>\n",
       "      <td>Intermediate Region</td>\n",
       "    </tr>\n",
       "    <tr>\n",
       "      <th>1</th>\n",
       "      <td>Olmotonyi Ward</td>\n",
       "      <td>village</td>\n",
       "      <td>Northern Zone</td>\n",
       "      <td>Bad Static Head: 0-59 or over 189</td>\n",
       "      <td>Bad Altitude: Over 1500 Feet</td>\n",
       "      <td>Good Water</td>\n",
       "      <td>Intermediate Quantity of Water</td>\n",
       "      <td>Good Source</td>\n",
       "      <td>Good Source</td>\n",
       "      <td>Intermediate Source</td>\n",
       "      <td>Good Waterpiont</td>\n",
       "      <td>Intermediate Basin</td>\n",
       "      <td>Intermediate Density</td>\n",
       "      <td>Good Water Extraction</td>\n",
       "      <td>Good Management</td>\n",
       "      <td>Intermediate Construction Year</td>\n",
       "      <td>Good</td>\n",
       "      <td>Bad Water Quality</td>\n",
       "      <td>Good Water well</td>\n",
       "      <td>Bad Water well</td>\n",
       "      <td>Good Region</td>\n",
       "    </tr>\n",
       "    <tr>\n",
       "      <th>2</th>\n",
       "      <td>Puma</td>\n",
       "      <td>twon</td>\n",
       "      <td>Central Zone</td>\n",
       "      <td>Bad Static Head: 0-59 or over 189</td>\n",
       "      <td>Bad Altitude: Over 1500 Feet</td>\n",
       "      <td>Good Water</td>\n",
       "      <td>Intermediate Quantity of Water</td>\n",
       "      <td>Bad Source</td>\n",
       "      <td>Bad Source</td>\n",
       "      <td>Bad Source</td>\n",
       "      <td>Unknown Waterpiont</td>\n",
       "      <td>Bad Basin</td>\n",
       "      <td>Low Density</td>\n",
       "      <td>Unknown</td>\n",
       "      <td>Good Management</td>\n",
       "      <td>Good Construction Year</td>\n",
       "      <td>Unkown</td>\n",
       "      <td>Bad Water Quality</td>\n",
       "      <td>Good Water well</td>\n",
       "      <td>Bad Water well</td>\n",
       "      <td>Intermediate Region</td>\n",
       "    </tr>\n",
       "    <tr>\n",
       "      <th>3</th>\n",
       "      <td>Mkutano</td>\n",
       "      <td>village</td>\n",
       "      <td>Coastal Zone</td>\n",
       "      <td>Bad Static Head: 0-59 or over 189</td>\n",
       "      <td>Intermediate Altitude: 1-1499 Feet</td>\n",
       "      <td>Good Water</td>\n",
       "      <td>Bad Quantity of Water</td>\n",
       "      <td>Good Source</td>\n",
       "      <td>Good Source</td>\n",
       "      <td>Intermediate Source</td>\n",
       "      <td>Unknown Waterpiont</td>\n",
       "      <td>Bad Basin</td>\n",
       "      <td>Low Density</td>\n",
       "      <td>Unknown</td>\n",
       "      <td>Good Management</td>\n",
       "      <td>Bad Construction Year</td>\n",
       "      <td>Good</td>\n",
       "      <td>Unkown</td>\n",
       "      <td>Good Water well</td>\n",
       "      <td>Unkown</td>\n",
       "      <td>Good Region</td>\n",
       "    </tr>\n",
       "    <tr>\n",
       "      <th>4</th>\n",
       "      <td>Lusonga</td>\n",
       "      <td>village</td>\n",
       "      <td>Southern Highlands Zone</td>\n",
       "      <td>Bad Static Head: 0-59 or over 189</td>\n",
       "      <td>Intermediate Altitude: 1-1499 Feet</td>\n",
       "      <td>Good Water</td>\n",
       "      <td>Good Quantity of Water</td>\n",
       "      <td>Good Source</td>\n",
       "      <td>Good Source</td>\n",
       "      <td>Intermediate Source</td>\n",
       "      <td>Good Waterpiont</td>\n",
       "      <td>Bad Basin</td>\n",
       "      <td>Low Density</td>\n",
       "      <td>Good Water Extraction</td>\n",
       "      <td>Good Management</td>\n",
       "      <td>Intermediate Construction Year</td>\n",
       "      <td>Good</td>\n",
       "      <td>Good Water Quality</td>\n",
       "      <td>Good Water well</td>\n",
       "      <td>Unkown</td>\n",
       "      <td>Intermediate Region</td>\n",
       "    </tr>\n",
       "    <tr>\n",
       "      <th>...</th>\n",
       "      <td>...</td>\n",
       "      <td>...</td>\n",
       "      <td>...</td>\n",
       "      <td>...</td>\n",
       "      <td>...</td>\n",
       "      <td>...</td>\n",
       "      <td>...</td>\n",
       "      <td>...</td>\n",
       "      <td>...</td>\n",
       "      <td>...</td>\n",
       "      <td>...</td>\n",
       "      <td>...</td>\n",
       "      <td>...</td>\n",
       "      <td>...</td>\n",
       "      <td>...</td>\n",
       "      <td>...</td>\n",
       "      <td>...</td>\n",
       "      <td>...</td>\n",
       "      <td>...</td>\n",
       "      <td>...</td>\n",
       "      <td>...</td>\n",
       "    </tr>\n",
       "    <tr>\n",
       "      <th>14845</th>\n",
       "      <td>Yombo</td>\n",
       "      <td>village</td>\n",
       "      <td>Coastal Zone</td>\n",
       "      <td>Bad Static Head: 0-59 or over 189</td>\n",
       "      <td>Intermediate Altitude: 1-1499 Feet</td>\n",
       "      <td>Bad Water</td>\n",
       "      <td>Good Quantity of Water</td>\n",
       "      <td>Intermediate Source</td>\n",
       "      <td>Bad Source</td>\n",
       "      <td>Bad Source</td>\n",
       "      <td>Good Waterpiont</td>\n",
       "      <td>Intermediate Basin</td>\n",
       "      <td>Low Density</td>\n",
       "      <td>Good Water Extraction</td>\n",
       "      <td>Good Management</td>\n",
       "      <td>Bad Construction Year</td>\n",
       "      <td>Good</td>\n",
       "      <td>Bad Water Quality</td>\n",
       "      <td>Good Water well</td>\n",
       "      <td>Bad Water well</td>\n",
       "      <td>Good Region</td>\n",
       "    </tr>\n",
       "    <tr>\n",
       "      <th>14846</th>\n",
       "      <td>Elerai</td>\n",
       "      <td>village</td>\n",
       "      <td>Northern Zone</td>\n",
       "      <td>Bad Static Head: 0-59 or over 189</td>\n",
       "      <td>Good Altitude: (-500)-0 Feet</td>\n",
       "      <td>Bad Water</td>\n",
       "      <td>Intermediate Quantity of Water</td>\n",
       "      <td>Good Source</td>\n",
       "      <td>Good Source</td>\n",
       "      <td>Intermediate Source</td>\n",
       "      <td>Good Waterpiont</td>\n",
       "      <td>Intermediate Basin</td>\n",
       "      <td>Intermediate Density</td>\n",
       "      <td>Intermediate Water Extraction</td>\n",
       "      <td>Good Management</td>\n",
       "      <td>Intermediate Construction Year</td>\n",
       "      <td>Bad</td>\n",
       "      <td>Good Water Quality</td>\n",
       "      <td>Bad Water well</td>\n",
       "      <td>Bad Water well</td>\n",
       "      <td>Bad Region</td>\n",
       "    </tr>\n",
       "    <tr>\n",
       "      <th>14847</th>\n",
       "      <td>Ughandi B</td>\n",
       "      <td>village</td>\n",
       "      <td>Central Zone</td>\n",
       "      <td>Bad Static Head: 0-59 or over 189</td>\n",
       "      <td>Intermediate Altitude: 1-1499 Feet</td>\n",
       "      <td>Bad Water</td>\n",
       "      <td>Intermediate Quantity of Water</td>\n",
       "      <td>Bad Source</td>\n",
       "      <td>Bad Source</td>\n",
       "      <td>Bad Source</td>\n",
       "      <td>Good Waterpiont</td>\n",
       "      <td>Bad Basin</td>\n",
       "      <td>Low Density</td>\n",
       "      <td>Good Water Extraction</td>\n",
       "      <td>Good Management</td>\n",
       "      <td>Good Construction Year</td>\n",
       "      <td>Unkown</td>\n",
       "      <td>Bad Water Quality</td>\n",
       "      <td>Good Water well</td>\n",
       "      <td>Bad Water well</td>\n",
       "      <td>Intermediate Region</td>\n",
       "    </tr>\n",
       "    <tr>\n",
       "      <th>14848</th>\n",
       "      <td>Magazini</td>\n",
       "      <td>village</td>\n",
       "      <td>Southern Highlands Zone</td>\n",
       "      <td>Bad Static Head: 0-59 or over 189</td>\n",
       "      <td>Intermediate Altitude: 1-1499 Feet</td>\n",
       "      <td>Bad Water</td>\n",
       "      <td>Intermediate Quantity of Water</td>\n",
       "      <td>Intermediate Source</td>\n",
       "      <td>Bad Source</td>\n",
       "      <td>Bad Source</td>\n",
       "      <td>Good Waterpiont</td>\n",
       "      <td>Good Basin</td>\n",
       "      <td>Low Density</td>\n",
       "      <td>Good Water Extraction</td>\n",
       "      <td>Good Management</td>\n",
       "      <td>Good Construction Year</td>\n",
       "      <td>Good</td>\n",
       "      <td>Bad Water Quality</td>\n",
       "      <td>Good Water well</td>\n",
       "      <td>Bad Water well</td>\n",
       "      <td>Intermediate Region</td>\n",
       "    </tr>\n",
       "    <tr>\n",
       "      <th>14849</th>\n",
       "      <td>Mbuyula</td>\n",
       "      <td>village</td>\n",
       "      <td>Southern Highlands Zone</td>\n",
       "      <td>Bad Static Head: 0-59 or over 189</td>\n",
       "      <td>Intermediate Altitude: 1-1499 Feet</td>\n",
       "      <td>Bad Water</td>\n",
       "      <td>Bad Quantity of Water</td>\n",
       "      <td>Good Source</td>\n",
       "      <td>Good Source</td>\n",
       "      <td>Intermediate Source</td>\n",
       "      <td>Good Waterpiont</td>\n",
       "      <td>Good Basin</td>\n",
       "      <td>Low Density</td>\n",
       "      <td>Good Water Extraction</td>\n",
       "      <td>Good Management</td>\n",
       "      <td>Good Construction Year</td>\n",
       "      <td>Good</td>\n",
       "      <td>Bad Water Quality</td>\n",
       "      <td>Good Water well</td>\n",
       "      <td>Bad Water well</td>\n",
       "      <td>Intermediate Region</td>\n",
       "    </tr>\n",
       "  </tbody>\n",
       "</table>\n",
       "<p>14850 rows × 21 columns</p>\n",
       "</div>"
      ],
      "text/plain": [
       "      Location_of_Well      Type ___________Zone___________  \\\n",
       "0              Manyara     state              Northern Zone   \n",
       "1       Olmotonyi Ward   village              Northern Zone   \n",
       "2                 Puma      twon               Central Zone   \n",
       "3              Mkutano   village               Coastal Zone   \n",
       "4              Lusonga   village    Southern Highlands Zone   \n",
       "...                ...       ...                        ...   \n",
       "14845            Yombo   village               Coastal Zone   \n",
       "14846           Elerai   village              Northern Zone   \n",
       "14847        Ughandi B   village               Central Zone   \n",
       "14848         Magazini   village    Southern Highlands Zone   \n",
       "14849          Mbuyula   village    Southern Highlands Zone   \n",
       "\n",
       "      ___________Static_Head____________ ______________Altitude______________  \\\n",
       "0      Bad Static Head: 0-59 or over 189         Bad Altitude: Over 1500 Feet   \n",
       "1      Bad Static Head: 0-59 or over 189         Bad Altitude: Over 1500 Feet   \n",
       "2      Bad Static Head: 0-59 or over 189         Bad Altitude: Over 1500 Feet   \n",
       "3      Bad Static Head: 0-59 or over 189   Intermediate Altitude: 1-1499 Feet   \n",
       "4      Bad Static Head: 0-59 or over 189   Intermediate Altitude: 1-1499 Feet   \n",
       "...                                  ...                                  ...   \n",
       "14845  Bad Static Head: 0-59 or over 189   Intermediate Altitude: 1-1499 Feet   \n",
       "14846  Bad Static Head: 0-59 or over 189         Good Altitude: (-500)-0 Feet   \n",
       "14847  Bad Static Head: 0-59 or over 189   Intermediate Altitude: 1-1499 Feet   \n",
       "14848  Bad Static Head: 0-59 or over 189   Intermediate Altitude: 1-1499 Feet   \n",
       "14849  Bad Static Head: 0-59 or over 189   Intermediate Altitude: 1-1499 Feet   \n",
       "\n",
       "      __Quality_of_Water___  ______Quantity_of_Water_______  \\\n",
       "0                Good Water  Intermediate Quantity of Water   \n",
       "1                Good Water  Intermediate Quantity of Water   \n",
       "2                Good Water  Intermediate Quantity of Water   \n",
       "3                Good Water           Bad Quantity of Water   \n",
       "4                Good Water          Good Quantity of Water   \n",
       "...                     ...                             ...   \n",
       "14845             Bad Water          Good Quantity of Water   \n",
       "14846             Bad Water  Intermediate Quantity of Water   \n",
       "14847             Bad Water  Intermediate Quantity of Water   \n",
       "14848             Bad Water  Intermediate Quantity of Water   \n",
       "14849             Bad Water           Bad Quantity of Water   \n",
       "\n",
       "      _______Source_______ ____Source_Quality____ Source_Class_Quality  \\\n",
       "0               Bad Source             Bad Source           Bad Source   \n",
       "1              Good Source            Good Source  Intermediate Source   \n",
       "2               Bad Source             Bad Source           Bad Source   \n",
       "3              Good Source            Good Source  Intermediate Source   \n",
       "4              Good Source            Good Source  Intermediate Source   \n",
       "...                    ...                    ...                  ...   \n",
       "14845  Intermediate Source             Bad Source           Bad Source   \n",
       "14846          Good Source            Good Source  Intermediate Source   \n",
       "14847           Bad Source             Bad Source           Bad Source   \n",
       "14848  Intermediate Source             Bad Source           Bad Source   \n",
       "14849          Good Source            Good Source  Intermediate Source   \n",
       "\n",
       "      ________Waterpiont________ _______Basin________ ________Density_______  \\\n",
       "0             Unknown Waterpiont            Bad Basin            Low Density   \n",
       "1                Good Waterpiont   Intermediate Basin   Intermediate Density   \n",
       "2             Unknown Waterpiont            Bad Basin            Low Density   \n",
       "3             Unknown Waterpiont            Bad Basin            Low Density   \n",
       "4                Good Waterpiont            Bad Basin            Low Density   \n",
       "...                          ...                  ...                    ...   \n",
       "14845            Good Waterpiont   Intermediate Basin            Low Density   \n",
       "14846            Good Waterpiont   Intermediate Basin   Intermediate Density   \n",
       "14847            Good Waterpiont            Bad Basin            Low Density   \n",
       "14848            Good Waterpiont           Good Basin            Low Density   \n",
       "14849            Good Waterpiont           Good Basin            Low Density   \n",
       "\n",
       "           ____Water_Extraction_____ _______Management________  \\\n",
       "0                            Unknown            Bad Management   \n",
       "1              Good Water Extraction           Good Management   \n",
       "2                            Unknown           Good Management   \n",
       "3                            Unknown           Good Management   \n",
       "4              Good Water Extraction           Good Management   \n",
       "...                              ...                       ...   \n",
       "14845          Good Water Extraction           Good Management   \n",
       "14846  Intermediate Water Extraction           Good Management   \n",
       "14847          Good Water Extraction           Good Management   \n",
       "14848          Good Water Extraction           Good Management   \n",
       "14849          Good Water Extraction           Good Management   \n",
       "\n",
       "        ___Construction_Year_Class___ Permit_Class Water_Quality_Class  \\\n",
       "0              Good Construction Year         Good   Bad Water Quality   \n",
       "1      Intermediate Construction Year         Good   Bad Water Quality   \n",
       "2              Good Construction Year       Unkown   Bad Water Quality   \n",
       "3               Bad Construction Year         Good              Unkown   \n",
       "4      Intermediate Construction Year         Good  Good Water Quality   \n",
       "...                               ...          ...                 ...   \n",
       "14845           Bad Construction Year         Good   Bad Water Quality   \n",
       "14846  Intermediate Construction Year          Bad  Good Water Quality   \n",
       "14847          Good Construction Year       Unkown   Bad Water Quality   \n",
       "14848          Good Construction Year         Good   Bad Water Quality   \n",
       "14849          Good Construction Year         Good   Bad Water Quality   \n",
       "\n",
       "      Water_Well_Quality_Class Public_Meetings Region_Quality_Class  \n",
       "0              Good Water well  Bad Water well  Intermediate Region  \n",
       "1              Good Water well  Bad Water well          Good Region  \n",
       "2              Good Water well  Bad Water well  Intermediate Region  \n",
       "3              Good Water well          Unkown          Good Region  \n",
       "4              Good Water well          Unkown  Intermediate Region  \n",
       "...                        ...             ...                  ...  \n",
       "14845          Good Water well  Bad Water well          Good Region  \n",
       "14846           Bad Water well  Bad Water well           Bad Region  \n",
       "14847          Good Water well  Bad Water well  Intermediate Region  \n",
       "14848          Good Water well  Bad Water well  Intermediate Region  \n",
       "14849          Good Water well  Bad Water well  Intermediate Region  \n",
       "\n",
       "[14850 rows x 21 columns]"
      ]
     },
     "execution_count": 241,
     "metadata": {},
     "output_type": "execute_result"
    }
   ],
   "source": [
    "pd.set_option('display.max_colwidth', None)\n",
    "#pd.set_option('max_colwidth', 60)\n",
    "tz_well_class"
   ]
  },
  {
   "cell_type": "code",
   "execution_count": 148,
   "metadata": {},
   "outputs": [],
   "source": [
    "def category_class_indetify(cat):\n",
    "    cat_class = []\n",
    "    for i in cat:\n",
    "        if i == 0:cat_class.append('Unkown')\n",
    "        elif i == 1:cat_class.append('Good')\n",
    "        elif i == 2:cat_class.append('Intermediate')\n",
    "        elif i == 3:cat_class.append('Bad')\n",
    "    return cat_class"
   ]
  },
  {
   "cell_type": "code",
   "execution_count": 149,
   "metadata": {},
   "outputs": [],
   "source": [
    "category_class = category_class_indetify(category)"
   ]
  },
  {
   "cell_type": "code",
   "execution_count": 150,
   "metadata": {},
   "outputs": [],
   "source": [
    "category_class1 = category_class_indetify(category1)"
   ]
  },
  {
   "cell_type": "code",
   "execution_count": 151,
   "metadata": {},
   "outputs": [],
   "source": [
    "category_class2 = category_class_indetify(category2)"
   ]
  },
  {
   "cell_type": "code",
   "execution_count": 152,
   "metadata": {},
   "outputs": [],
   "source": [
    "category_class3 = category_class_indetify(category3)"
   ]
  },
  {
   "cell_type": "code",
   "execution_count": 153,
   "metadata": {},
   "outputs": [],
   "source": [
    "category_class4 = category_class_indetify(category4)"
   ]
  },
  {
   "cell_type": "code",
   "execution_count": 154,
   "metadata": {},
   "outputs": [],
   "source": [
    "category_class5 = category_class_indetify(category5)"
   ]
  },
  {
   "cell_type": "code",
   "execution_count": 155,
   "metadata": {},
   "outputs": [],
   "source": [
    "category_class6 = category_class_indetify(category6)"
   ]
  },
  {
   "cell_type": "code",
   "execution_count": 156,
   "metadata": {},
   "outputs": [],
   "source": [
    "category_class7 = category_class_indetify(category7)"
   ]
  },
  {
   "cell_type": "code",
   "execution_count": 157,
   "metadata": {},
   "outputs": [],
   "source": [
    "category_class8 = category_class_indetify(category8)"
   ]
  },
  {
   "cell_type": "code",
   "execution_count": 158,
   "metadata": {},
   "outputs": [],
   "source": [
    "category_class9 = category_class_indetify(category9)"
   ]
  },
  {
   "cell_type": "code",
   "execution_count": 159,
   "metadata": {},
   "outputs": [],
   "source": [
    "category_class10 = category_class_indetify(category10)"
   ]
  },
  {
   "cell_type": "code",
   "execution_count": 160,
   "metadata": {},
   "outputs": [],
   "source": [
    "category_class11 = category_class_indetify(category11)"
   ]
  },
  {
   "cell_type": "code",
   "execution_count": 161,
   "metadata": {},
   "outputs": [],
   "source": [
    "category_class12 = category_class_indetify(category12)"
   ]
  },
  {
   "cell_type": "code",
   "execution_count": 162,
   "metadata": {},
   "outputs": [],
   "source": [
    "category_class13 = category_class_indetify(category13)"
   ]
  },
  {
   "cell_type": "code",
   "execution_count": 163,
   "metadata": {},
   "outputs": [],
   "source": [
    "category_class14 = category_class_indetify(category14)"
   ]
  },
  {
   "cell_type": "code",
   "execution_count": 164,
   "metadata": {},
   "outputs": [],
   "source": [
    "category_class15 = category_class_indetify(category15)"
   ]
  },
  {
   "cell_type": "code",
   "execution_count": 165,
   "metadata": {},
   "outputs": [],
   "source": [
    "category_class16 = category_class_indetify(category16)"
   ]
  },
  {
   "cell_type": "code",
   "execution_count": 166,
   "metadata": {},
   "outputs": [],
   "source": [
    "category_class17 = category_class_indetify(category17)"
   ]
  },
  {
   "cell_type": "code",
   "execution_count": 244,
   "metadata": {},
   "outputs": [],
   "source": [
    "technical_class = pd.DataFrame({'Location_of_Well':place1,'Type':place2,\n",
    "                            '___________Zone___________':place3,\n",
    "                            'Static_Head':category_class,'Altitude':category_class1,\n",
    "                            'Waterpiont':category_class7,  \n",
    "                            'Density':category_class9,\n",
    "                            'Extraction':category_class10, 'Management':category_class11,\n",
    "                            'Construction':category_class12,\n",
    "                            'Permit':category_class13,\n",
    "                            'Public_Meetings':category_class16 })"
   ]
  },
  {
   "cell_type": "code",
   "execution_count": 245,
   "metadata": {},
   "outputs": [
    {
     "data": {
      "text/html": [
       "<div>\n",
       "<style scoped>\n",
       "    .dataframe tbody tr th:only-of-type {\n",
       "        vertical-align: middle;\n",
       "    }\n",
       "\n",
       "    .dataframe tbody tr th {\n",
       "        vertical-align: top;\n",
       "    }\n",
       "\n",
       "    .dataframe thead th {\n",
       "        text-align: right;\n",
       "    }\n",
       "</style>\n",
       "<table border=\"1\" class=\"dataframe\">\n",
       "  <thead>\n",
       "    <tr style=\"text-align: right;\">\n",
       "      <th></th>\n",
       "      <th>Location_of_Well</th>\n",
       "      <th>Type</th>\n",
       "      <th>___________Zone___________</th>\n",
       "      <th>Static_Head</th>\n",
       "      <th>Altitude</th>\n",
       "      <th>Waterpiont</th>\n",
       "      <th>Density</th>\n",
       "      <th>Extraction</th>\n",
       "      <th>Management</th>\n",
       "      <th>Construction</th>\n",
       "      <th>Permit</th>\n",
       "      <th>Public_Meetings</th>\n",
       "    </tr>\n",
       "  </thead>\n",
       "  <tbody>\n",
       "    <tr>\n",
       "      <th>0</th>\n",
       "      <td>Manyara</td>\n",
       "      <td>state</td>\n",
       "      <td>Northern Zone</td>\n",
       "      <td>Bad</td>\n",
       "      <td>Bad</td>\n",
       "      <td>Unkown</td>\n",
       "      <td>Good</td>\n",
       "      <td>Unkown</td>\n",
       "      <td>Bad</td>\n",
       "      <td>Good</td>\n",
       "      <td>Good</td>\n",
       "      <td>Bad</td>\n",
       "    </tr>\n",
       "    <tr>\n",
       "      <th>1</th>\n",
       "      <td>Olmotonyi Ward</td>\n",
       "      <td>village</td>\n",
       "      <td>Northern Zone</td>\n",
       "      <td>Bad</td>\n",
       "      <td>Bad</td>\n",
       "      <td>Good</td>\n",
       "      <td>Intermediate</td>\n",
       "      <td>Good</td>\n",
       "      <td>Good</td>\n",
       "      <td>Intermediate</td>\n",
       "      <td>Good</td>\n",
       "      <td>Bad</td>\n",
       "    </tr>\n",
       "    <tr>\n",
       "      <th>2</th>\n",
       "      <td>Puma</td>\n",
       "      <td>twon</td>\n",
       "      <td>Central Zone</td>\n",
       "      <td>Bad</td>\n",
       "      <td>Bad</td>\n",
       "      <td>Unkown</td>\n",
       "      <td>Good</td>\n",
       "      <td>Unkown</td>\n",
       "      <td>Good</td>\n",
       "      <td>Good</td>\n",
       "      <td>Unkown</td>\n",
       "      <td>Bad</td>\n",
       "    </tr>\n",
       "    <tr>\n",
       "      <th>3</th>\n",
       "      <td>Mkutano</td>\n",
       "      <td>village</td>\n",
       "      <td>Coastal Zone</td>\n",
       "      <td>Bad</td>\n",
       "      <td>Intermediate</td>\n",
       "      <td>Unkown</td>\n",
       "      <td>Good</td>\n",
       "      <td>Unkown</td>\n",
       "      <td>Good</td>\n",
       "      <td>Bad</td>\n",
       "      <td>Good</td>\n",
       "      <td>Unkown</td>\n",
       "    </tr>\n",
       "    <tr>\n",
       "      <th>4</th>\n",
       "      <td>Lusonga</td>\n",
       "      <td>village</td>\n",
       "      <td>Southern Highlands Zone</td>\n",
       "      <td>Bad</td>\n",
       "      <td>Intermediate</td>\n",
       "      <td>Good</td>\n",
       "      <td>Good</td>\n",
       "      <td>Good</td>\n",
       "      <td>Good</td>\n",
       "      <td>Intermediate</td>\n",
       "      <td>Good</td>\n",
       "      <td>Unkown</td>\n",
       "    </tr>\n",
       "    <tr>\n",
       "      <th>...</th>\n",
       "      <td>...</td>\n",
       "      <td>...</td>\n",
       "      <td>...</td>\n",
       "      <td>...</td>\n",
       "      <td>...</td>\n",
       "      <td>...</td>\n",
       "      <td>...</td>\n",
       "      <td>...</td>\n",
       "      <td>...</td>\n",
       "      <td>...</td>\n",
       "      <td>...</td>\n",
       "      <td>...</td>\n",
       "    </tr>\n",
       "    <tr>\n",
       "      <th>14845</th>\n",
       "      <td>Yombo</td>\n",
       "      <td>village</td>\n",
       "      <td>Coastal Zone</td>\n",
       "      <td>Bad</td>\n",
       "      <td>Intermediate</td>\n",
       "      <td>Good</td>\n",
       "      <td>Good</td>\n",
       "      <td>Good</td>\n",
       "      <td>Good</td>\n",
       "      <td>Bad</td>\n",
       "      <td>Good</td>\n",
       "      <td>Bad</td>\n",
       "    </tr>\n",
       "    <tr>\n",
       "      <th>14846</th>\n",
       "      <td>Elerai</td>\n",
       "      <td>village</td>\n",
       "      <td>Northern Zone</td>\n",
       "      <td>Bad</td>\n",
       "      <td>Good</td>\n",
       "      <td>Good</td>\n",
       "      <td>Intermediate</td>\n",
       "      <td>Intermediate</td>\n",
       "      <td>Good</td>\n",
       "      <td>Intermediate</td>\n",
       "      <td>Bad</td>\n",
       "      <td>Bad</td>\n",
       "    </tr>\n",
       "    <tr>\n",
       "      <th>14847</th>\n",
       "      <td>Ughandi B</td>\n",
       "      <td>village</td>\n",
       "      <td>Central Zone</td>\n",
       "      <td>Bad</td>\n",
       "      <td>Intermediate</td>\n",
       "      <td>Good</td>\n",
       "      <td>Good</td>\n",
       "      <td>Good</td>\n",
       "      <td>Good</td>\n",
       "      <td>Good</td>\n",
       "      <td>Unkown</td>\n",
       "      <td>Bad</td>\n",
       "    </tr>\n",
       "    <tr>\n",
       "      <th>14848</th>\n",
       "      <td>Magazini</td>\n",
       "      <td>village</td>\n",
       "      <td>Southern Highlands Zone</td>\n",
       "      <td>Bad</td>\n",
       "      <td>Intermediate</td>\n",
       "      <td>Good</td>\n",
       "      <td>Good</td>\n",
       "      <td>Good</td>\n",
       "      <td>Good</td>\n",
       "      <td>Good</td>\n",
       "      <td>Good</td>\n",
       "      <td>Bad</td>\n",
       "    </tr>\n",
       "    <tr>\n",
       "      <th>14849</th>\n",
       "      <td>Mbuyula</td>\n",
       "      <td>village</td>\n",
       "      <td>Southern Highlands Zone</td>\n",
       "      <td>Bad</td>\n",
       "      <td>Intermediate</td>\n",
       "      <td>Good</td>\n",
       "      <td>Good</td>\n",
       "      <td>Good</td>\n",
       "      <td>Good</td>\n",
       "      <td>Good</td>\n",
       "      <td>Good</td>\n",
       "      <td>Bad</td>\n",
       "    </tr>\n",
       "  </tbody>\n",
       "</table>\n",
       "<p>14850 rows × 12 columns</p>\n",
       "</div>"
      ],
      "text/plain": [
       "      Location_of_Well      Type ___________Zone___________ Static_Head  \\\n",
       "0              Manyara     state              Northern Zone         Bad   \n",
       "1       Olmotonyi Ward   village              Northern Zone         Bad   \n",
       "2                 Puma      twon               Central Zone         Bad   \n",
       "3              Mkutano   village               Coastal Zone         Bad   \n",
       "4              Lusonga   village    Southern Highlands Zone         Bad   \n",
       "...                ...       ...                        ...         ...   \n",
       "14845            Yombo   village               Coastal Zone         Bad   \n",
       "14846           Elerai   village              Northern Zone         Bad   \n",
       "14847        Ughandi B   village               Central Zone         Bad   \n",
       "14848         Magazini   village    Southern Highlands Zone         Bad   \n",
       "14849          Mbuyula   village    Southern Highlands Zone         Bad   \n",
       "\n",
       "           Altitude Waterpiont       Density    Extraction Management  \\\n",
       "0               Bad     Unkown          Good        Unkown        Bad   \n",
       "1               Bad       Good  Intermediate          Good       Good   \n",
       "2               Bad     Unkown          Good        Unkown       Good   \n",
       "3      Intermediate     Unkown          Good        Unkown       Good   \n",
       "4      Intermediate       Good          Good          Good       Good   \n",
       "...             ...        ...           ...           ...        ...   \n",
       "14845  Intermediate       Good          Good          Good       Good   \n",
       "14846          Good       Good  Intermediate  Intermediate       Good   \n",
       "14847  Intermediate       Good          Good          Good       Good   \n",
       "14848  Intermediate       Good          Good          Good       Good   \n",
       "14849  Intermediate       Good          Good          Good       Good   \n",
       "\n",
       "       Construction  Permit Public_Meetings  \n",
       "0              Good    Good             Bad  \n",
       "1      Intermediate    Good             Bad  \n",
       "2              Good  Unkown             Bad  \n",
       "3               Bad    Good          Unkown  \n",
       "4      Intermediate    Good          Unkown  \n",
       "...             ...     ...             ...  \n",
       "14845           Bad    Good             Bad  \n",
       "14846  Intermediate     Bad             Bad  \n",
       "14847          Good  Unkown             Bad  \n",
       "14848          Good    Good             Bad  \n",
       "14849          Good    Good             Bad  \n",
       "\n",
       "[14850 rows x 12 columns]"
      ]
     },
     "execution_count": 245,
     "metadata": {},
     "output_type": "execute_result"
    }
   ],
   "source": [
    "technical_class"
   ]
  },
  {
   "cell_type": "code",
   "execution_count": 242,
   "metadata": {},
   "outputs": [],
   "source": [
    "water_class = pd.DataFrame({'Location_of_Well':place1,'Type':place2,\n",
    "                            '___________Zone___________':place3,\n",
    "                            'Quality_Water':category_class2,'Quantity_Water':category_class3,\n",
    "                            'Source':category_class4,'Source_Quality1':category_class5,\n",
    "                            'Source_Quality2':category_class6,\n",
    "                             'Basin':category_class8, \n",
    "                            'Water_Quality1':category_class14,\n",
    "                            'Water_Quality2':category_class15,\n",
    "                            'Region_Quality':category_class17})"
   ]
  },
  {
   "cell_type": "code",
   "execution_count": 243,
   "metadata": {},
   "outputs": [
    {
     "data": {
      "text/html": [
       "<div>\n",
       "<style scoped>\n",
       "    .dataframe tbody tr th:only-of-type {\n",
       "        vertical-align: middle;\n",
       "    }\n",
       "\n",
       "    .dataframe tbody tr th {\n",
       "        vertical-align: top;\n",
       "    }\n",
       "\n",
       "    .dataframe thead th {\n",
       "        text-align: right;\n",
       "    }\n",
       "</style>\n",
       "<table border=\"1\" class=\"dataframe\">\n",
       "  <thead>\n",
       "    <tr style=\"text-align: right;\">\n",
       "      <th></th>\n",
       "      <th>Location_of_Well</th>\n",
       "      <th>Type</th>\n",
       "      <th>___________Zone___________</th>\n",
       "      <th>Quality_Water</th>\n",
       "      <th>Quantity_Water</th>\n",
       "      <th>Source</th>\n",
       "      <th>Source_Quality1</th>\n",
       "      <th>Source_Quality2</th>\n",
       "      <th>Basin</th>\n",
       "      <th>Water_Quality1</th>\n",
       "      <th>Water_Quality2</th>\n",
       "      <th>Region_Quality</th>\n",
       "    </tr>\n",
       "  </thead>\n",
       "  <tbody>\n",
       "    <tr>\n",
       "      <th>0</th>\n",
       "      <td>Manyara</td>\n",
       "      <td>state</td>\n",
       "      <td>Northern Zone</td>\n",
       "      <td>Good</td>\n",
       "      <td>Intermediate</td>\n",
       "      <td>Bad</td>\n",
       "      <td>Bad</td>\n",
       "      <td>Bad</td>\n",
       "      <td>Bad</td>\n",
       "      <td>Bad</td>\n",
       "      <td>Good</td>\n",
       "      <td>Intermediate</td>\n",
       "    </tr>\n",
       "    <tr>\n",
       "      <th>1</th>\n",
       "      <td>Olmotonyi Ward</td>\n",
       "      <td>village</td>\n",
       "      <td>Northern Zone</td>\n",
       "      <td>Good</td>\n",
       "      <td>Intermediate</td>\n",
       "      <td>Good</td>\n",
       "      <td>Good</td>\n",
       "      <td>Intermediate</td>\n",
       "      <td>Intermediate</td>\n",
       "      <td>Bad</td>\n",
       "      <td>Good</td>\n",
       "      <td>Good</td>\n",
       "    </tr>\n",
       "    <tr>\n",
       "      <th>2</th>\n",
       "      <td>Puma</td>\n",
       "      <td>twon</td>\n",
       "      <td>Central Zone</td>\n",
       "      <td>Good</td>\n",
       "      <td>Intermediate</td>\n",
       "      <td>Bad</td>\n",
       "      <td>Bad</td>\n",
       "      <td>Bad</td>\n",
       "      <td>Bad</td>\n",
       "      <td>Bad</td>\n",
       "      <td>Good</td>\n",
       "      <td>Intermediate</td>\n",
       "    </tr>\n",
       "    <tr>\n",
       "      <th>3</th>\n",
       "      <td>Mkutano</td>\n",
       "      <td>village</td>\n",
       "      <td>Coastal Zone</td>\n",
       "      <td>Good</td>\n",
       "      <td>Bad</td>\n",
       "      <td>Good</td>\n",
       "      <td>Good</td>\n",
       "      <td>Intermediate</td>\n",
       "      <td>Bad</td>\n",
       "      <td>Unkown</td>\n",
       "      <td>Good</td>\n",
       "      <td>Good</td>\n",
       "    </tr>\n",
       "    <tr>\n",
       "      <th>4</th>\n",
       "      <td>Lusonga</td>\n",
       "      <td>village</td>\n",
       "      <td>Southern Highlands Zone</td>\n",
       "      <td>Good</td>\n",
       "      <td>Good</td>\n",
       "      <td>Good</td>\n",
       "      <td>Good</td>\n",
       "      <td>Intermediate</td>\n",
       "      <td>Bad</td>\n",
       "      <td>Good</td>\n",
       "      <td>Good</td>\n",
       "      <td>Intermediate</td>\n",
       "    </tr>\n",
       "    <tr>\n",
       "      <th>...</th>\n",
       "      <td>...</td>\n",
       "      <td>...</td>\n",
       "      <td>...</td>\n",
       "      <td>...</td>\n",
       "      <td>...</td>\n",
       "      <td>...</td>\n",
       "      <td>...</td>\n",
       "      <td>...</td>\n",
       "      <td>...</td>\n",
       "      <td>...</td>\n",
       "      <td>...</td>\n",
       "      <td>...</td>\n",
       "    </tr>\n",
       "    <tr>\n",
       "      <th>14845</th>\n",
       "      <td>Yombo</td>\n",
       "      <td>village</td>\n",
       "      <td>Coastal Zone</td>\n",
       "      <td>Bad</td>\n",
       "      <td>Good</td>\n",
       "      <td>Intermediate</td>\n",
       "      <td>Bad</td>\n",
       "      <td>Bad</td>\n",
       "      <td>Intermediate</td>\n",
       "      <td>Bad</td>\n",
       "      <td>Good</td>\n",
       "      <td>Good</td>\n",
       "    </tr>\n",
       "    <tr>\n",
       "      <th>14846</th>\n",
       "      <td>Elerai</td>\n",
       "      <td>village</td>\n",
       "      <td>Northern Zone</td>\n",
       "      <td>Bad</td>\n",
       "      <td>Intermediate</td>\n",
       "      <td>Good</td>\n",
       "      <td>Good</td>\n",
       "      <td>Intermediate</td>\n",
       "      <td>Intermediate</td>\n",
       "      <td>Good</td>\n",
       "      <td>Bad</td>\n",
       "      <td>Bad</td>\n",
       "    </tr>\n",
       "    <tr>\n",
       "      <th>14847</th>\n",
       "      <td>Ughandi B</td>\n",
       "      <td>village</td>\n",
       "      <td>Central Zone</td>\n",
       "      <td>Bad</td>\n",
       "      <td>Intermediate</td>\n",
       "      <td>Bad</td>\n",
       "      <td>Bad</td>\n",
       "      <td>Bad</td>\n",
       "      <td>Bad</td>\n",
       "      <td>Bad</td>\n",
       "      <td>Good</td>\n",
       "      <td>Intermediate</td>\n",
       "    </tr>\n",
       "    <tr>\n",
       "      <th>14848</th>\n",
       "      <td>Magazini</td>\n",
       "      <td>village</td>\n",
       "      <td>Southern Highlands Zone</td>\n",
       "      <td>Bad</td>\n",
       "      <td>Intermediate</td>\n",
       "      <td>Intermediate</td>\n",
       "      <td>Bad</td>\n",
       "      <td>Bad</td>\n",
       "      <td>Good</td>\n",
       "      <td>Bad</td>\n",
       "      <td>Good</td>\n",
       "      <td>Intermediate</td>\n",
       "    </tr>\n",
       "    <tr>\n",
       "      <th>14849</th>\n",
       "      <td>Mbuyula</td>\n",
       "      <td>village</td>\n",
       "      <td>Southern Highlands Zone</td>\n",
       "      <td>Bad</td>\n",
       "      <td>Bad</td>\n",
       "      <td>Good</td>\n",
       "      <td>Good</td>\n",
       "      <td>Intermediate</td>\n",
       "      <td>Good</td>\n",
       "      <td>Bad</td>\n",
       "      <td>Good</td>\n",
       "      <td>Intermediate</td>\n",
       "    </tr>\n",
       "  </tbody>\n",
       "</table>\n",
       "<p>14850 rows × 12 columns</p>\n",
       "</div>"
      ],
      "text/plain": [
       "      Location_of_Well      Type ___________Zone___________ Quality_Water  \\\n",
       "0              Manyara     state              Northern Zone          Good   \n",
       "1       Olmotonyi Ward   village              Northern Zone          Good   \n",
       "2                 Puma      twon               Central Zone          Good   \n",
       "3              Mkutano   village               Coastal Zone          Good   \n",
       "4              Lusonga   village    Southern Highlands Zone          Good   \n",
       "...                ...       ...                        ...           ...   \n",
       "14845            Yombo   village               Coastal Zone           Bad   \n",
       "14846           Elerai   village              Northern Zone           Bad   \n",
       "14847        Ughandi B   village               Central Zone           Bad   \n",
       "14848         Magazini   village    Southern Highlands Zone           Bad   \n",
       "14849          Mbuyula   village    Southern Highlands Zone           Bad   \n",
       "\n",
       "      Quantity_Water        Source Source_Quality1 Source_Quality2  \\\n",
       "0       Intermediate           Bad             Bad             Bad   \n",
       "1       Intermediate          Good            Good    Intermediate   \n",
       "2       Intermediate           Bad             Bad             Bad   \n",
       "3                Bad          Good            Good    Intermediate   \n",
       "4               Good          Good            Good    Intermediate   \n",
       "...              ...           ...             ...             ...   \n",
       "14845           Good  Intermediate             Bad             Bad   \n",
       "14846   Intermediate          Good            Good    Intermediate   \n",
       "14847   Intermediate           Bad             Bad             Bad   \n",
       "14848   Intermediate  Intermediate             Bad             Bad   \n",
       "14849            Bad          Good            Good    Intermediate   \n",
       "\n",
       "              Basin Water_Quality1 Water_Quality2 Region_Quality  \n",
       "0               Bad            Bad           Good   Intermediate  \n",
       "1      Intermediate            Bad           Good           Good  \n",
       "2               Bad            Bad           Good   Intermediate  \n",
       "3               Bad         Unkown           Good           Good  \n",
       "4               Bad           Good           Good   Intermediate  \n",
       "...             ...            ...            ...            ...  \n",
       "14845  Intermediate            Bad           Good           Good  \n",
       "14846  Intermediate           Good            Bad            Bad  \n",
       "14847           Bad            Bad           Good   Intermediate  \n",
       "14848          Good            Bad           Good   Intermediate  \n",
       "14849          Good            Bad           Good   Intermediate  \n",
       "\n",
       "[14850 rows x 12 columns]"
      ]
     },
     "execution_count": 243,
     "metadata": {},
     "output_type": "execute_result"
    }
   ],
   "source": [
    "water_class"
   ]
  },
  {
   "cell_type": "code",
   "execution_count": 171,
   "metadata": {},
   "outputs": [],
   "source": [
    "altitude_good_var = []\n",
    "for i in range(-57,1):altitude_good_var.append(i)\n",
    "\n",
    "waterpiont_good_var = [0, 1, 2]\n",
    "\n",
    "pop_good_var = [82.904654, 71.949449, 33.907922, 56.009885, 68.663408, 77.946361, 87.4318, 81.358809]\n",
    "\n",
    "extract_good_var = [0, 1, 2, 3]\n",
    "\n",
    "construct_good_var = []\n",
    "for i in range(2001,2014): construct_good_var.append(i)\n",
    "\n",
    "static_good_var = [100]\n",
    "\n",
    "permit_good_var = [0]\n",
    "\n",
    "mange_good_var = [0]\n",
    "\n",
    "public_good_var = [0]"
   ]
  },
  {
   "cell_type": "code",
   "execution_count": 172,
   "metadata": {
    "tags": []
   },
   "outputs": [],
   "source": [
    "import numpy\n",
    "a = [altitude_good_var, waterpiont_good_var, pop_good_var, extract_good_var, \n",
    "     construct_good_var, static_good_var, permit_good_var,mange_good_var, public_good_var]\n",
    "all_good_var = [list(x) for x in numpy.array(numpy.meshgrid(*a)).T.reshape(-1,len(a))]"
   ]
  },
  {
   "cell_type": "code",
   "execution_count": 173,
   "metadata": {
    "tags": []
   },
   "outputs": [
    {
     "data": {
      "text/plain": [
       "72384"
      ]
     },
     "execution_count": 173,
     "metadata": {},
     "output_type": "execute_result"
    }
   ],
   "source": [
    "len(all_good_var)"
   ]
  },
  {
   "cell_type": "code",
   "execution_count": 174,
   "metadata": {},
   "outputs": [],
   "source": [
    "altitude_inter_var = []\n",
    "for i in range(1,1500):altitude_inter_var.append(i)\n",
    "\n",
    "waterpiont_inter_var = [3]\n",
    "\n",
    "pop_inter_var = [116.784533, 197.031628, 320.329492, 198.640734, 210.305289, 148.806294, 130.632476,\n",
    "         195.030255, 251.975705, 207.59881, 114.152159]\n",
    "\n",
    "extract_inter_var = [4, 5]\n",
    "\n",
    "construct_inter_var = []\n",
    "for i in range(1991,2003): construct_inter_var.append(i)\n",
    "\n",
    "static_inter_var = [150, 60, 70]\n",
    "\n",
    "permit_inter_var = [1]\n",
    "\n",
    "mange_inter_var = [1]\n",
    "\n",
    "public_inter_var = [1]"
   ]
  },
  {
   "cell_type": "code",
   "execution_count": 175,
   "metadata": {
    "tags": []
   },
   "outputs": [],
   "source": [
    "a = [altitude_inter_var, waterpiont_inter_var, pop_inter_var, extract_inter_var, \n",
    "     construct_inter_var, static_inter_var, permit_inter_var,mange_inter_var,public_inter_var]\n",
    "all_inter_var = [list(x) for x in numpy.array(numpy.meshgrid(*a)).T.reshape(-1,len(a))]"
   ]
  },
  {
   "cell_type": "code",
   "execution_count": 176,
   "metadata": {
    "tags": []
   },
   "outputs": [
    {
     "data": {
      "text/plain": [
       "1187208"
      ]
     },
     "execution_count": 176,
     "metadata": {},
     "output_type": "execute_result"
    }
   ],
   "source": [
    "len(all_inter_var)"
   ]
  },
  {
   "cell_type": "code",
   "execution_count": 177,
   "metadata": {},
   "outputs": [],
   "source": [
    "numbers2 = []\n",
    "for number in gps_height4:\n",
    "    if 1500 <= number :numbers2.append(number)"
   ]
  },
  {
   "cell_type": "code",
   "execution_count": 178,
   "metadata": {},
   "outputs": [],
   "source": [
    "numbers3 = []\n",
    "for number in construction_year:\n",
    "    if number <= 1991:numbers3.append(number)"
   ]
  },
  {
   "cell_type": "code",
   "execution_count": 179,
   "metadata": {},
   "outputs": [],
   "source": [
    "altitude_bad_var = []\n",
    "for i in Counter(numbers2):altitude_bad_var.append(i)\n",
    "\n",
    "waterpiont_bad_var = [4]\n",
    "\n",
    "pop_bad_var = [758.552394, 8112.52974]\n",
    "\n",
    "extract_bad_var = [6]\n",
    "\n",
    "construct_bad_var = []\n",
    "for i in Counter(numbers3):construct_bad_var.append(i)\n",
    "\n",
    "static_bad_var = [0.0, 500.02, 30.0, 5.0, 1000.0, 1200.0, 200.0, 20.0,\n",
    "                 50.0, 1500.0, 2400.0, 7.0, 7500.0, 2000.0, 300.0,\n",
    "                 10.0, 250.0, 4000.0, 3000.0, 2500.0, 25.0,\n",
    "                 6.0, 40.0, 750.0, 400.0, 600.0, 5000.0, 6000.0,\n",
    "                 33.0, 18000.0, 2200.0, 12000.0, 3600.0, 8000.0, 700.0, 4700.0, 450.0, 10000.0,\n",
    "                 15.0, 20000.0, 6500.0, 30000.0, 25000.0, 35000.0, 15000.0, 200000.0, 100000.0,\n",
    "                 70000.0, 0.2, 14000.0, 7200.0, 3500.0, 2.0, 40000.0, 350.0, 35.0, 7000.0,\n",
    "                 3.0, 2550.0, 50000.0, 60000.0, 0.5, 550.0, 2800.0]\n",
    "\n",
    "permit_bad_var = [2]\n",
    "\n",
    "mange_bad_var = [2, 3]\n",
    " \n",
    "public_bad_var = [2]"
   ]
  },
  {
   "cell_type": "code",
   "execution_count": 180,
   "metadata": {
    "tags": []
   },
   "outputs": [],
   "source": [
    "a = [altitude_bad_var, waterpiont_bad_var, pop_bad_var, extract_bad_var, \n",
    "     construct_bad_var, static_bad_var, permit_bad_var,mange_bad_var,public_bad_var ]\n",
    "all_bad_var = [list(x) for x in numpy.array(numpy.meshgrid(*a)).T.reshape(-1,len(a))]"
   ]
  },
  {
   "cell_type": "code",
   "execution_count": 181,
   "metadata": {
    "tags": []
   },
   "outputs": [
    {
     "data": {
      "text/plain": [
       "5601024"
      ]
     },
     "execution_count": 181,
     "metadata": {},
     "output_type": "execute_result"
    }
   ],
   "source": [
    "len(all_bad_var)"
   ]
  },
  {
   "cell_type": "code",
   "execution_count": 182,
   "metadata": {},
   "outputs": [],
   "source": [
    "all_var_class = all_good_var+ all_inter_var+ all_bad_var"
   ]
  },
  {
   "cell_type": "code",
   "execution_count": 183,
   "metadata": {
    "tags": []
   },
   "outputs": [
    {
     "data": {
      "text/plain": [
       "6860616"
      ]
     },
     "execution_count": 183,
     "metadata": {},
     "output_type": "execute_result"
    }
   ],
   "source": [
    "len(all_var_class)"
   ]
  },
  {
   "cell_type": "code",
   "execution_count": 184,
   "metadata": {},
   "outputs": [],
   "source": [
    "tech_y = []\n",
    "for i in range(72384):\n",
    "    tech_y.append(0)\n",
    "for i in range(1187208):\n",
    "    tech_y.append(1)\n",
    "for i in range(5601024):\n",
    "    tech_y.append(2)"
   ]
  },
  {
   "cell_type": "code",
   "execution_count": 185,
   "metadata": {},
   "outputs": [
    {
     "data": {
      "text/plain": [
       "6860616"
      ]
     },
     "execution_count": 185,
     "metadata": {},
     "output_type": "execute_result"
    }
   ],
   "source": [
    "len(tech_y)"
   ]
  },
  {
   "cell_type": "code",
   "execution_count": 186,
   "metadata": {
    "scrolled": true
   },
   "outputs": [
    {
     "data": {
      "text/plain": [
       "14850"
      ]
     },
     "execution_count": 186,
     "metadata": {},
     "output_type": "execute_result"
    }
   ],
   "source": [
    "extract = []\n",
    "for extraction in extraction_types:\n",
    "    if extraction == 'gravity' :\n",
    "        extract.append(0)\n",
    "    elif extraction == 'handpump':\n",
    "        extract.append(4)\n",
    "    elif extraction == 'other':\n",
    "        extract.append(7)\n",
    "    elif extraction == 'submersible':\n",
    "        extract.append(1)\n",
    "    elif extraction == 'motorpump':\n",
    "        extract.append(2)\n",
    "    elif extraction == 'rope pump':\n",
    "        extract.append(5)\n",
    "    elif extraction == 'wind-powered':\n",
    "        extract.append(3)\n",
    "len(extract)"
   ]
  },
  {
   "cell_type": "code",
   "execution_count": 187,
   "metadata": {},
   "outputs": [
    {
     "data": {
      "text/plain": [
       "14850"
      ]
     },
     "execution_count": 187,
     "metadata": {},
     "output_type": "execute_result"
    }
   ],
   "source": [
    "permition = []\n",
    "for permit in permits:\n",
    "    if permit == True :\n",
    "        permition.append(0)\n",
    "    elif permit == False :\n",
    "        permition.append(2)\n",
    "    else:\n",
    "        permition.append(3)\n",
    "len(permition)"
   ]
  },
  {
   "cell_type": "code",
   "execution_count": 188,
   "metadata": {},
   "outputs": [
    {
     "data": {
      "text/plain": [
       "14850"
      ]
     },
     "execution_count": 188,
     "metadata": {},
     "output_type": "execute_result"
    }
   ],
   "source": [
    "water_piont = []\n",
    "for waterpoint in waterpoint_type:\n",
    "    if waterpoint == 'communal standpipe' :\n",
    "        water_piont.append(0)\n",
    "    elif waterpoint == 'hand pump':\n",
    "        water_piont.append(1)\n",
    "    elif waterpoint == 'other':\n",
    "        water_piont.append(5)\n",
    "    elif waterpoint == 'improved spring':\n",
    "        water_piont.append(2)\n",
    "    elif waterpoint == 'cattle trough':\n",
    "        water_piont.append(3)\n",
    "    elif waterpoint == 'dam':\n",
    "        water_piont.append(4)\n",
    "len(water_piont)"
   ]
  },
  {
   "cell_type": "code",
   "execution_count": 189,
   "metadata": {},
   "outputs": [
    {
     "data": {
      "text/plain": [
       "14850"
      ]
     },
     "execution_count": 189,
     "metadata": {},
     "output_type": "execute_result"
    }
   ],
   "source": [
    "manage = []\n",
    "for management in management_group:\n",
    "    if management == 'user-group' :\n",
    "        manage.append(0)\n",
    "    elif management == 'commercial':\n",
    "        manage.append(1)\n",
    "    elif management == 'parastatal':\n",
    "        manage.append(2)\n",
    "    elif management == 'other':\n",
    "        manage.append(3)\n",
    "    elif management == 'unknown':\n",
    "        manage.append(4)\n",
    "len(manage)"
   ]
  },
  {
   "cell_type": "code",
   "execution_count": 190,
   "metadata": {},
   "outputs": [
    {
     "data": {
      "text/plain": [
       "14850"
      ]
     },
     "execution_count": 190,
     "metadata": {},
     "output_type": "execute_result"
    }
   ],
   "source": [
    "pub_met = []\n",
    "for meetings in public_meetings:\n",
    "    if  meetings == True :\n",
    "        pub_met.append(2)\n",
    "    elif meetings == False :\n",
    "        pub_met.append(0)\n",
    "    else:\n",
    "        pub_met.append(3)\n",
    "len(pub_met)"
   ]
  },
  {
   "cell_type": "code",
   "execution_count": 191,
   "metadata": {
    "tags": []
   },
   "outputs": [],
   "source": [
    "tech_predict = []\n",
    "for i in range(14850):\n",
    "    tech_predict.append([gps_height4[i],water_piont[i], ALL_Density[i], extract[i],\n",
    "                         construction_year[i],amount_tsh3[i], permition[i], manage[i], pub_met[i]])"
   ]
  },
  {
   "cell_type": "code",
   "execution_count": 192,
   "metadata": {
    "tags": []
   },
   "outputs": [
    {
     "data": {
      "text/plain": [
       "14850"
      ]
     },
     "execution_count": 192,
     "metadata": {},
     "output_type": "execute_result"
    }
   ],
   "source": [
    "len(tech_predict)"
   ]
  },
  {
   "cell_type": "code",
   "execution_count": 246,
   "metadata": {
    "tags": []
   },
   "outputs": [],
   "source": [
    "from sklearn.multiclass import OneVsRestClassifier\n",
    "from sklearn.svm import LinearSVC\n",
    "from sklearn.multiclass import OneVsOneClassifier\n",
    "from sklearn.svm import LinearSVC\n",
    "from sklearn.multiclass import OutputCodeClassifier\n",
    "from sklearn.preprocessing import MinMaxScaler #fixed import\n",
    "from sklearn.svm import LinearSVC\n",
    "from sklearn.naive_bayes import GaussianNB\n",
    "from sklearn.naive_bayes import MultinomialNB\n",
    "from sklearn.naive_bayes import ComplementNB\n",
    "from sklearn.naive_bayes import BernoulliNB\n",
    "from mlxtend.classifier import StackingClassifier\n",
    "from sklearn.linear_model import LogisticRegression\n",
    "from sklearn.tree import DecisionTreeClassifier\n",
    "from sklearn.svm import SVC\n",
    "from sklearn.neighbors import KNeighborsClassifier\n",
    "from sklearn.neural_network import MLPClassifier\n",
    "from sklearn.ensemble import AdaBoostClassifier\n",
    "from sklearn.linear_model import LogisticRegression\n",
    "from sklearn.naive_bayes import GaussianNB\n",
    "from sklearn.ensemble import RandomForestClassifier, VotingClassifier\n",
    "import xgboost as xgb\n",
    "bnb = BernoulliNB()\n",
    "cnb = ComplementNB()\n",
    "mnb = MultinomialNB()\n",
    "gnb = GaussianNB()"
   ]
  },
  {
   "cell_type": "code",
   "execution_count": 1185,
   "metadata": {
    "tags": []
   },
   "outputs": [
    {
     "name": "stderr",
     "output_type": "stream",
     "text": [
      "C:\\Users\\rutho\\AppData\\Roaming\\Python\\Python39\\site-packages\\sklearn\\svm\\_base.py:1225: ConvergenceWarning: Liblinear failed to converge, increase the number of iterations.\n",
      "  warnings.warn(\n",
      "C:\\Users\\rutho\\AppData\\Roaming\\Python\\Python39\\site-packages\\sklearn\\svm\\_base.py:1225: ConvergenceWarning: Liblinear failed to converge, increase the number of iterations.\n",
      "  warnings.warn(\n"
     ]
    }
   ],
   "source": [
    "#X, y = datasets.load_iris(return_X_y=True)\n",
    "model = OneVsRestClassifier(LinearSVC(random_state=0)).fit(all_var_class, tech_y)"
   ]
  },
  {
   "cell_type": "code",
   "execution_count": 1191,
   "metadata": {
    "tags": []
   },
   "outputs": [],
   "source": [
    "predict1 = list(model.predict(tech_predict))"
   ]
  },
  {
   "cell_type": "code",
   "execution_count": 1206,
   "metadata": {},
   "outputs": [
    {
     "name": "stderr",
     "output_type": "stream",
     "text": [
      "C:\\Users\\rutho\\AppData\\Roaming\\Python\\Python39\\site-packages\\sklearn\\svm\\_base.py:1225: ConvergenceWarning: Liblinear failed to converge, increase the number of iterations.\n",
      "  warnings.warn(\n",
      "C:\\Users\\rutho\\AppData\\Roaming\\Python\\Python39\\site-packages\\sklearn\\svm\\_base.py:1225: ConvergenceWarning: Liblinear failed to converge, increase the number of iterations.\n",
      "  warnings.warn(\n"
     ]
    }
   ],
   "source": [
    "model2 = OneVsOneClassifier(LinearSVC(random_state=0)).fit(all_var_class, tech_y)"
   ]
  },
  {
   "cell_type": "code",
   "execution_count": 1207,
   "metadata": {},
   "outputs": [],
   "source": [
    "predict2 = list(model2.predict(tech_predict))"
   ]
  },
  {
   "cell_type": "code",
   "execution_count": 1214,
   "metadata": {},
   "outputs": [],
   "source": [
    "clf = OutputCodeClassifier(LinearSVC(random_state=0),\n",
    "                           code_size=2, random_state=0)"
   ]
  },
  {
   "cell_type": "code",
   "execution_count": 1215,
   "metadata": {},
   "outputs": [
    {
     "name": "stderr",
     "output_type": "stream",
     "text": [
      "C:\\Users\\rutho\\AppData\\Roaming\\Python\\Python39\\site-packages\\sklearn\\svm\\_base.py:1225: ConvergenceWarning: Liblinear failed to converge, increase the number of iterations.\n",
      "  warnings.warn(\n",
      "C:\\Users\\rutho\\AppData\\Roaming\\Python\\Python39\\site-packages\\sklearn\\svm\\_base.py:1225: ConvergenceWarning: Liblinear failed to converge, increase the number of iterations.\n",
      "  warnings.warn(\n",
      "C:\\Users\\rutho\\AppData\\Roaming\\Python\\Python39\\site-packages\\sklearn\\svm\\_base.py:1225: ConvergenceWarning: Liblinear failed to converge, increase the number of iterations.\n",
      "  warnings.warn(\n"
     ]
    },
    {
     "data": {
      "text/html": [
       "<style>#sk-container-id-7 {color: black;background-color: white;}#sk-container-id-7 pre{padding: 0;}#sk-container-id-7 div.sk-toggleable {background-color: white;}#sk-container-id-7 label.sk-toggleable__label {cursor: pointer;display: block;width: 100%;margin-bottom: 0;padding: 0.3em;box-sizing: border-box;text-align: center;}#sk-container-id-7 label.sk-toggleable__label-arrow:before {content: \"▸\";float: left;margin-right: 0.25em;color: #696969;}#sk-container-id-7 label.sk-toggleable__label-arrow:hover:before {color: black;}#sk-container-id-7 div.sk-estimator:hover label.sk-toggleable__label-arrow:before {color: black;}#sk-container-id-7 div.sk-toggleable__content {max-height: 0;max-width: 0;overflow: hidden;text-align: left;background-color: #f0f8ff;}#sk-container-id-7 div.sk-toggleable__content pre {margin: 0.2em;color: black;border-radius: 0.25em;background-color: #f0f8ff;}#sk-container-id-7 input.sk-toggleable__control:checked~div.sk-toggleable__content {max-height: 200px;max-width: 100%;overflow: auto;}#sk-container-id-7 input.sk-toggleable__control:checked~label.sk-toggleable__label-arrow:before {content: \"▾\";}#sk-container-id-7 div.sk-estimator input.sk-toggleable__control:checked~label.sk-toggleable__label {background-color: #d4ebff;}#sk-container-id-7 div.sk-label input.sk-toggleable__control:checked~label.sk-toggleable__label {background-color: #d4ebff;}#sk-container-id-7 input.sk-hidden--visually {border: 0;clip: rect(1px 1px 1px 1px);clip: rect(1px, 1px, 1px, 1px);height: 1px;margin: -1px;overflow: hidden;padding: 0;position: absolute;width: 1px;}#sk-container-id-7 div.sk-estimator {font-family: monospace;background-color: #f0f8ff;border: 1px dotted black;border-radius: 0.25em;box-sizing: border-box;margin-bottom: 0.5em;}#sk-container-id-7 div.sk-estimator:hover {background-color: #d4ebff;}#sk-container-id-7 div.sk-parallel-item::after {content: \"\";width: 100%;border-bottom: 1px solid gray;flex-grow: 1;}#sk-container-id-7 div.sk-label:hover label.sk-toggleable__label {background-color: #d4ebff;}#sk-container-id-7 div.sk-serial::before {content: \"\";position: absolute;border-left: 1px solid gray;box-sizing: border-box;top: 0;bottom: 0;left: 50%;z-index: 0;}#sk-container-id-7 div.sk-serial {display: flex;flex-direction: column;align-items: center;background-color: white;padding-right: 0.2em;padding-left: 0.2em;position: relative;}#sk-container-id-7 div.sk-item {position: relative;z-index: 1;}#sk-container-id-7 div.sk-parallel {display: flex;align-items: stretch;justify-content: center;background-color: white;position: relative;}#sk-container-id-7 div.sk-item::before, #sk-container-id-7 div.sk-parallel-item::before {content: \"\";position: absolute;border-left: 1px solid gray;box-sizing: border-box;top: 0;bottom: 0;left: 50%;z-index: -1;}#sk-container-id-7 div.sk-parallel-item {display: flex;flex-direction: column;z-index: 1;position: relative;background-color: white;}#sk-container-id-7 div.sk-parallel-item:first-child::after {align-self: flex-end;width: 50%;}#sk-container-id-7 div.sk-parallel-item:last-child::after {align-self: flex-start;width: 50%;}#sk-container-id-7 div.sk-parallel-item:only-child::after {width: 0;}#sk-container-id-7 div.sk-dashed-wrapped {border: 1px dashed gray;margin: 0 0.4em 0.5em 0.4em;box-sizing: border-box;padding-bottom: 0.4em;background-color: white;}#sk-container-id-7 div.sk-label label {font-family: monospace;font-weight: bold;display: inline-block;line-height: 1.2em;}#sk-container-id-7 div.sk-label-container {text-align: center;}#sk-container-id-7 div.sk-container {/* jupyter's `normalize.less` sets `[hidden] { display: none; }` but bootstrap.min.css set `[hidden] { display: none !important; }` so we also need the `!important` here to be able to override the default hidden behavior on the sphinx rendered scikit-learn.org. See: https://github.com/scikit-learn/scikit-learn/issues/21755 */display: inline-block !important;position: relative;}#sk-container-id-7 div.sk-text-repr-fallback {display: none;}</style><div id=\"sk-container-id-7\" class=\"sk-top-container\"><div class=\"sk-text-repr-fallback\"><pre>OutputCodeClassifier(code_size=2, estimator=LinearSVC(random_state=0),\n",
       "                     random_state=0)</pre><b>In a Jupyter environment, please rerun this cell to show the HTML representation or trust the notebook. <br />On GitHub, the HTML representation is unable to render, please try loading this page with nbviewer.org.</b></div><div class=\"sk-container\" hidden><div class=\"sk-item sk-dashed-wrapped\"><div class=\"sk-label-container\"><div class=\"sk-label sk-toggleable\"><input class=\"sk-toggleable__control sk-hidden--visually\" id=\"sk-estimator-id-9\" type=\"checkbox\" ><label for=\"sk-estimator-id-9\" class=\"sk-toggleable__label sk-toggleable__label-arrow\">OutputCodeClassifier</label><div class=\"sk-toggleable__content\"><pre>OutputCodeClassifier(code_size=2, estimator=LinearSVC(random_state=0),\n",
       "                     random_state=0)</pre></div></div></div><div class=\"sk-parallel\"><div class=\"sk-parallel-item\"><div class=\"sk-item\"><div class=\"sk-label-container\"><div class=\"sk-label sk-toggleable\"><input class=\"sk-toggleable__control sk-hidden--visually\" id=\"sk-estimator-id-10\" type=\"checkbox\" ><label for=\"sk-estimator-id-10\" class=\"sk-toggleable__label sk-toggleable__label-arrow\">estimator: LinearSVC</label><div class=\"sk-toggleable__content\"><pre>LinearSVC(random_state=0)</pre></div></div></div><div class=\"sk-serial\"><div class=\"sk-item\"><div class=\"sk-estimator sk-toggleable\"><input class=\"sk-toggleable__control sk-hidden--visually\" id=\"sk-estimator-id-11\" type=\"checkbox\" ><label for=\"sk-estimator-id-11\" class=\"sk-toggleable__label sk-toggleable__label-arrow\">LinearSVC</label><div class=\"sk-toggleable__content\"><pre>LinearSVC(random_state=0)</pre></div></div></div></div></div></div></div></div></div></div>"
      ],
      "text/plain": [
       "OutputCodeClassifier(code_size=2, estimator=LinearSVC(random_state=0),\n",
       "                     random_state=0)"
      ]
     },
     "execution_count": 1215,
     "metadata": {},
     "output_type": "execute_result"
    }
   ],
   "source": [
    "clf.fit(all_var_class, tech_y)"
   ]
  },
  {
   "cell_type": "code",
   "execution_count": 1216,
   "metadata": {},
   "outputs": [],
   "source": [
    "predict3 = list(clf.predict(tech_predict))"
   ]
  },
  {
   "cell_type": "code",
   "execution_count": 1223,
   "metadata": {},
   "outputs": [],
   "source": [
    "clf1 = gnb.fit(all_var_class, tech_y)"
   ]
  },
  {
   "cell_type": "code",
   "execution_count": 1225,
   "metadata": {},
   "outputs": [],
   "source": [
    "predict4 = clf1.predict(tech_predict)"
   ]
  },
  {
   "cell_type": "code",
   "execution_count": 1249,
   "metadata": {},
   "outputs": [],
   "source": [
    "scaler = MinMaxScaler()\n",
    "X_train = scaler.fit_transform(all_var_class)\n",
    "X_test = scaler.transform(tech_predict)"
   ]
  },
  {
   "cell_type": "code",
   "execution_count": 1250,
   "metadata": {
    "tags": []
   },
   "outputs": [],
   "source": [
    "clf5 = cnb.fit(X_train, tech_y)"
   ]
  },
  {
   "cell_type": "code",
   "execution_count": 1251,
   "metadata": {},
   "outputs": [],
   "source": [
    "predict5 = clf5.predict(X_test)"
   ]
  },
  {
   "cell_type": "code",
   "execution_count": 1253,
   "metadata": {
    "tags": []
   },
   "outputs": [],
   "source": [
    "clf6 = mnb.fit(X_train, tech_y)"
   ]
  },
  {
   "cell_type": "code",
   "execution_count": 1254,
   "metadata": {},
   "outputs": [],
   "source": [
    "predict6 = clf6.predict(X_test)"
   ]
  },
  {
   "cell_type": "code",
   "execution_count": 1230,
   "metadata": {},
   "outputs": [],
   "source": [
    "cf4 = bnb.fit(all_var_class, tech_y)"
   ]
  },
  {
   "cell_type": "code",
   "execution_count": 1232,
   "metadata": {},
   "outputs": [],
   "source": [
    "predict7 = cf4.predict(tech_predict)"
   ]
  },
  {
   "cell_type": "code",
   "execution_count": 188,
   "metadata": {},
   "outputs": [],
   "source": [
    "lr = LogisticRegression()  # defining meta-classifier\n",
    "clf_stack = StackingClassifier(classifiers =[BernoulliNB(), OutputCodeClassifier(LinearSVC(random_state=0),\n",
    "                           code_size=2, random_state=0),OneVsOneClassifier(LinearSVC(random_state=0)),\n",
    "                        OneVsRestClassifier(LinearSVC(random_state=0)),GaussianNB()], \n",
    "                        meta_classifier = lr, use_probas = False, use_features_in_secondary = True)"
   ]
  },
  {
   "cell_type": "code",
   "execution_count": 217,
   "metadata": {},
   "outputs": [
    {
     "name": "stderr",
     "output_type": "stream",
     "text": [
      "C:\\Users\\rutho\\AppData\\Roaming\\Python\\Python39\\site-packages\\sklearn\\svm\\_base.py:1225: ConvergenceWarning: Liblinear failed to converge, increase the number of iterations.\n",
      "  warnings.warn(\n",
      "C:\\Users\\rutho\\AppData\\Roaming\\Python\\Python39\\site-packages\\sklearn\\svm\\_base.py:1225: ConvergenceWarning: Liblinear failed to converge, increase the number of iterations.\n",
      "  warnings.warn(\n",
      "C:\\Users\\rutho\\AppData\\Roaming\\Python\\Python39\\site-packages\\sklearn\\svm\\_base.py:1225: ConvergenceWarning: Liblinear failed to converge, increase the number of iterations.\n",
      "  warnings.warn(\n",
      "C:\\Users\\rutho\\AppData\\Roaming\\Python\\Python39\\site-packages\\sklearn\\svm\\_base.py:1225: ConvergenceWarning: Liblinear failed to converge, increase the number of iterations.\n",
      "  warnings.warn(\n",
      "C:\\Users\\rutho\\AppData\\Roaming\\Python\\Python39\\site-packages\\sklearn\\svm\\_base.py:1225: ConvergenceWarning: Liblinear failed to converge, increase the number of iterations.\n",
      "  warnings.warn(\n",
      "C:\\Users\\rutho\\AppData\\Roaming\\Python\\Python39\\site-packages\\sklearn\\svm\\_base.py:1225: ConvergenceWarning: Liblinear failed to converge, increase the number of iterations.\n",
      "  warnings.warn(\n",
      "C:\\Users\\rutho\\AppData\\Roaming\\Python\\Python39\\site-packages\\sklearn\\svm\\_base.py:1225: ConvergenceWarning: Liblinear failed to converge, increase the number of iterations.\n",
      "  warnings.warn(\n"
     ]
    },
    {
     "data": {
      "text/html": [
       "<style>#sk-container-id-1 {color: black;background-color: white;}#sk-container-id-1 pre{padding: 0;}#sk-container-id-1 div.sk-toggleable {background-color: white;}#sk-container-id-1 label.sk-toggleable__label {cursor: pointer;display: block;width: 100%;margin-bottom: 0;padding: 0.3em;box-sizing: border-box;text-align: center;}#sk-container-id-1 label.sk-toggleable__label-arrow:before {content: \"▸\";float: left;margin-right: 0.25em;color: #696969;}#sk-container-id-1 label.sk-toggleable__label-arrow:hover:before {color: black;}#sk-container-id-1 div.sk-estimator:hover label.sk-toggleable__label-arrow:before {color: black;}#sk-container-id-1 div.sk-toggleable__content {max-height: 0;max-width: 0;overflow: hidden;text-align: left;background-color: #f0f8ff;}#sk-container-id-1 div.sk-toggleable__content pre {margin: 0.2em;color: black;border-radius: 0.25em;background-color: #f0f8ff;}#sk-container-id-1 input.sk-toggleable__control:checked~div.sk-toggleable__content {max-height: 200px;max-width: 100%;overflow: auto;}#sk-container-id-1 input.sk-toggleable__control:checked~label.sk-toggleable__label-arrow:before {content: \"▾\";}#sk-container-id-1 div.sk-estimator input.sk-toggleable__control:checked~label.sk-toggleable__label {background-color: #d4ebff;}#sk-container-id-1 div.sk-label input.sk-toggleable__control:checked~label.sk-toggleable__label {background-color: #d4ebff;}#sk-container-id-1 input.sk-hidden--visually {border: 0;clip: rect(1px 1px 1px 1px);clip: rect(1px, 1px, 1px, 1px);height: 1px;margin: -1px;overflow: hidden;padding: 0;position: absolute;width: 1px;}#sk-container-id-1 div.sk-estimator {font-family: monospace;background-color: #f0f8ff;border: 1px dotted black;border-radius: 0.25em;box-sizing: border-box;margin-bottom: 0.5em;}#sk-container-id-1 div.sk-estimator:hover {background-color: #d4ebff;}#sk-container-id-1 div.sk-parallel-item::after {content: \"\";width: 100%;border-bottom: 1px solid gray;flex-grow: 1;}#sk-container-id-1 div.sk-label:hover label.sk-toggleable__label {background-color: #d4ebff;}#sk-container-id-1 div.sk-serial::before {content: \"\";position: absolute;border-left: 1px solid gray;box-sizing: border-box;top: 0;bottom: 0;left: 50%;z-index: 0;}#sk-container-id-1 div.sk-serial {display: flex;flex-direction: column;align-items: center;background-color: white;padding-right: 0.2em;padding-left: 0.2em;position: relative;}#sk-container-id-1 div.sk-item {position: relative;z-index: 1;}#sk-container-id-1 div.sk-parallel {display: flex;align-items: stretch;justify-content: center;background-color: white;position: relative;}#sk-container-id-1 div.sk-item::before, #sk-container-id-1 div.sk-parallel-item::before {content: \"\";position: absolute;border-left: 1px solid gray;box-sizing: border-box;top: 0;bottom: 0;left: 50%;z-index: -1;}#sk-container-id-1 div.sk-parallel-item {display: flex;flex-direction: column;z-index: 1;position: relative;background-color: white;}#sk-container-id-1 div.sk-parallel-item:first-child::after {align-self: flex-end;width: 50%;}#sk-container-id-1 div.sk-parallel-item:last-child::after {align-self: flex-start;width: 50%;}#sk-container-id-1 div.sk-parallel-item:only-child::after {width: 0;}#sk-container-id-1 div.sk-dashed-wrapped {border: 1px dashed gray;margin: 0 0.4em 0.5em 0.4em;box-sizing: border-box;padding-bottom: 0.4em;background-color: white;}#sk-container-id-1 div.sk-label label {font-family: monospace;font-weight: bold;display: inline-block;line-height: 1.2em;}#sk-container-id-1 div.sk-label-container {text-align: center;}#sk-container-id-1 div.sk-container {/* jupyter's `normalize.less` sets `[hidden] { display: none; }` but bootstrap.min.css set `[hidden] { display: none !important; }` so we also need the `!important` here to be able to override the default hidden behavior on the sphinx rendered scikit-learn.org. See: https://github.com/scikit-learn/scikit-learn/issues/21755 */display: inline-block !important;position: relative;}#sk-container-id-1 div.sk-text-repr-fallback {display: none;}</style><div id=\"sk-container-id-1\" class=\"sk-top-container\"><div class=\"sk-text-repr-fallback\"><pre>StackingClassifier(classifiers=[BernoulliNB(),\n",
       "                                OutputCodeClassifier(code_size=2,\n",
       "                                                     estimator=LinearSVC(random_state=0),\n",
       "                                                     random_state=0),\n",
       "                                OneVsOneClassifier(estimator=LinearSVC(random_state=0)),\n",
       "                                OneVsRestClassifier(estimator=LinearSVC(random_state=0)),\n",
       "                                GaussianNB()],\n",
       "                   meta_classifier=LogisticRegression(),\n",
       "                   use_features_in_secondary=True)</pre><b>In a Jupyter environment, please rerun this cell to show the HTML representation or trust the notebook. <br />On GitHub, the HTML representation is unable to render, please try loading this page with nbviewer.org.</b></div><div class=\"sk-container\" hidden><div class=\"sk-item sk-dashed-wrapped\"><div class=\"sk-label-container\"><div class=\"sk-label sk-toggleable\"><input class=\"sk-toggleable__control sk-hidden--visually\" id=\"sk-estimator-id-1\" type=\"checkbox\" ><label for=\"sk-estimator-id-1\" class=\"sk-toggleable__label sk-toggleable__label-arrow\">StackingClassifier</label><div class=\"sk-toggleable__content\"><pre>StackingClassifier(classifiers=[BernoulliNB(),\n",
       "                                OutputCodeClassifier(code_size=2,\n",
       "                                                     estimator=LinearSVC(random_state=0),\n",
       "                                                     random_state=0),\n",
       "                                OneVsOneClassifier(estimator=LinearSVC(random_state=0)),\n",
       "                                OneVsRestClassifier(estimator=LinearSVC(random_state=0)),\n",
       "                                GaussianNB()],\n",
       "                   meta_classifier=LogisticRegression(),\n",
       "                   use_features_in_secondary=True)</pre></div></div></div><div class=\"sk-parallel\"><div class=\"sk-parallel-item\"><div class=\"sk-item\"><div class=\"sk-label-container\"><div class=\"sk-label sk-toggleable\"><input class=\"sk-toggleable__control sk-hidden--visually\" id=\"sk-estimator-id-2\" type=\"checkbox\" ><label for=\"sk-estimator-id-2\" class=\"sk-toggleable__label sk-toggleable__label-arrow\">meta_classifier: LogisticRegression</label><div class=\"sk-toggleable__content\"><pre>LogisticRegression()</pre></div></div></div><div class=\"sk-serial\"><div class=\"sk-item\"><div class=\"sk-estimator sk-toggleable\"><input class=\"sk-toggleable__control sk-hidden--visually\" id=\"sk-estimator-id-3\" type=\"checkbox\" ><label for=\"sk-estimator-id-3\" class=\"sk-toggleable__label sk-toggleable__label-arrow\">LogisticRegression</label><div class=\"sk-toggleable__content\"><pre>LogisticRegression()</pre></div></div></div></div></div></div></div></div></div></div>"
      ],
      "text/plain": [
       "StackingClassifier(classifiers=[BernoulliNB(),\n",
       "                                OutputCodeClassifier(code_size=2,\n",
       "                                                     estimator=LinearSVC(random_state=0),\n",
       "                                                     random_state=0),\n",
       "                                OneVsOneClassifier(estimator=LinearSVC(random_state=0)),\n",
       "                                OneVsRestClassifier(estimator=LinearSVC(random_state=0)),\n",
       "                                GaussianNB()],\n",
       "                   meta_classifier=LogisticRegression(),\n",
       "                   use_features_in_secondary=True)"
      ]
     },
     "execution_count": 217,
     "metadata": {},
     "output_type": "execute_result"
    }
   ],
   "source": [
    "clf_stack.fit(all_var_class, tech_y)"
   ]
  },
  {
   "cell_type": "code",
   "execution_count": 218,
   "metadata": {},
   "outputs": [],
   "source": [
    "predict8 = clf_stack.predict(tech_predict)"
   ]
  },
  {
   "cell_type": "code",
   "execution_count": 226,
   "metadata": {},
   "outputs": [],
   "source": [
    "lr = OneVsOneClassifier(LinearSVC(random_state=0))  # defining meta-classifier\n",
    "clf_stack1 = StackingClassifier(classifiers =[BernoulliNB(), OneVsOneClassifier(LinearSVC(random_state=0))], \n",
    "                        meta_classifier = lr, use_probas = False, use_features_in_secondary = True)"
   ]
  },
  {
   "cell_type": "code",
   "execution_count": 227,
   "metadata": {},
   "outputs": [
    {
     "name": "stderr",
     "output_type": "stream",
     "text": [
      "C:\\Users\\rutho\\AppData\\Roaming\\Python\\Python39\\site-packages\\sklearn\\svm\\_base.py:1225: ConvergenceWarning: Liblinear failed to converge, increase the number of iterations.\n",
      "  warnings.warn(\n",
      "C:\\Users\\rutho\\AppData\\Roaming\\Python\\Python39\\site-packages\\sklearn\\svm\\_base.py:1225: ConvergenceWarning: Liblinear failed to converge, increase the number of iterations.\n",
      "  warnings.warn(\n",
      "C:\\Users\\rutho\\AppData\\Roaming\\Python\\Python39\\site-packages\\sklearn\\svm\\_base.py:1225: ConvergenceWarning: Liblinear failed to converge, increase the number of iterations.\n",
      "  warnings.warn(\n",
      "C:\\Users\\rutho\\AppData\\Roaming\\Python\\Python39\\site-packages\\sklearn\\svm\\_base.py:1225: ConvergenceWarning: Liblinear failed to converge, increase the number of iterations.\n",
      "  warnings.warn(\n"
     ]
    },
    {
     "data": {
      "text/html": [
       "<style>#sk-container-id-2 {color: black;background-color: white;}#sk-container-id-2 pre{padding: 0;}#sk-container-id-2 div.sk-toggleable {background-color: white;}#sk-container-id-2 label.sk-toggleable__label {cursor: pointer;display: block;width: 100%;margin-bottom: 0;padding: 0.3em;box-sizing: border-box;text-align: center;}#sk-container-id-2 label.sk-toggleable__label-arrow:before {content: \"▸\";float: left;margin-right: 0.25em;color: #696969;}#sk-container-id-2 label.sk-toggleable__label-arrow:hover:before {color: black;}#sk-container-id-2 div.sk-estimator:hover label.sk-toggleable__label-arrow:before {color: black;}#sk-container-id-2 div.sk-toggleable__content {max-height: 0;max-width: 0;overflow: hidden;text-align: left;background-color: #f0f8ff;}#sk-container-id-2 div.sk-toggleable__content pre {margin: 0.2em;color: black;border-radius: 0.25em;background-color: #f0f8ff;}#sk-container-id-2 input.sk-toggleable__control:checked~div.sk-toggleable__content {max-height: 200px;max-width: 100%;overflow: auto;}#sk-container-id-2 input.sk-toggleable__control:checked~label.sk-toggleable__label-arrow:before {content: \"▾\";}#sk-container-id-2 div.sk-estimator input.sk-toggleable__control:checked~label.sk-toggleable__label {background-color: #d4ebff;}#sk-container-id-2 div.sk-label input.sk-toggleable__control:checked~label.sk-toggleable__label {background-color: #d4ebff;}#sk-container-id-2 input.sk-hidden--visually {border: 0;clip: rect(1px 1px 1px 1px);clip: rect(1px, 1px, 1px, 1px);height: 1px;margin: -1px;overflow: hidden;padding: 0;position: absolute;width: 1px;}#sk-container-id-2 div.sk-estimator {font-family: monospace;background-color: #f0f8ff;border: 1px dotted black;border-radius: 0.25em;box-sizing: border-box;margin-bottom: 0.5em;}#sk-container-id-2 div.sk-estimator:hover {background-color: #d4ebff;}#sk-container-id-2 div.sk-parallel-item::after {content: \"\";width: 100%;border-bottom: 1px solid gray;flex-grow: 1;}#sk-container-id-2 div.sk-label:hover label.sk-toggleable__label {background-color: #d4ebff;}#sk-container-id-2 div.sk-serial::before {content: \"\";position: absolute;border-left: 1px solid gray;box-sizing: border-box;top: 0;bottom: 0;left: 50%;z-index: 0;}#sk-container-id-2 div.sk-serial {display: flex;flex-direction: column;align-items: center;background-color: white;padding-right: 0.2em;padding-left: 0.2em;position: relative;}#sk-container-id-2 div.sk-item {position: relative;z-index: 1;}#sk-container-id-2 div.sk-parallel {display: flex;align-items: stretch;justify-content: center;background-color: white;position: relative;}#sk-container-id-2 div.sk-item::before, #sk-container-id-2 div.sk-parallel-item::before {content: \"\";position: absolute;border-left: 1px solid gray;box-sizing: border-box;top: 0;bottom: 0;left: 50%;z-index: -1;}#sk-container-id-2 div.sk-parallel-item {display: flex;flex-direction: column;z-index: 1;position: relative;background-color: white;}#sk-container-id-2 div.sk-parallel-item:first-child::after {align-self: flex-end;width: 50%;}#sk-container-id-2 div.sk-parallel-item:last-child::after {align-self: flex-start;width: 50%;}#sk-container-id-2 div.sk-parallel-item:only-child::after {width: 0;}#sk-container-id-2 div.sk-dashed-wrapped {border: 1px dashed gray;margin: 0 0.4em 0.5em 0.4em;box-sizing: border-box;padding-bottom: 0.4em;background-color: white;}#sk-container-id-2 div.sk-label label {font-family: monospace;font-weight: bold;display: inline-block;line-height: 1.2em;}#sk-container-id-2 div.sk-label-container {text-align: center;}#sk-container-id-2 div.sk-container {/* jupyter's `normalize.less` sets `[hidden] { display: none; }` but bootstrap.min.css set `[hidden] { display: none !important; }` so we also need the `!important` here to be able to override the default hidden behavior on the sphinx rendered scikit-learn.org. See: https://github.com/scikit-learn/scikit-learn/issues/21755 */display: inline-block !important;position: relative;}#sk-container-id-2 div.sk-text-repr-fallback {display: none;}</style><div id=\"sk-container-id-2\" class=\"sk-top-container\"><div class=\"sk-text-repr-fallback\"><pre>StackingClassifier(classifiers=[BernoulliNB(),\n",
       "                                OneVsOneClassifier(estimator=LinearSVC(random_state=0))],\n",
       "                   meta_classifier=OneVsOneClassifier(estimator=LinearSVC(random_state=0)),\n",
       "                   use_features_in_secondary=True)</pre><b>In a Jupyter environment, please rerun this cell to show the HTML representation or trust the notebook. <br />On GitHub, the HTML representation is unable to render, please try loading this page with nbviewer.org.</b></div><div class=\"sk-container\" hidden><div class=\"sk-item sk-dashed-wrapped\"><div class=\"sk-label-container\"><div class=\"sk-label sk-toggleable\"><input class=\"sk-toggleable__control sk-hidden--visually\" id=\"sk-estimator-id-4\" type=\"checkbox\" ><label for=\"sk-estimator-id-4\" class=\"sk-toggleable__label sk-toggleable__label-arrow\">StackingClassifier</label><div class=\"sk-toggleable__content\"><pre>StackingClassifier(classifiers=[BernoulliNB(),\n",
       "                                OneVsOneClassifier(estimator=LinearSVC(random_state=0))],\n",
       "                   meta_classifier=OneVsOneClassifier(estimator=LinearSVC(random_state=0)),\n",
       "                   use_features_in_secondary=True)</pre></div></div></div><div class=\"sk-parallel\"><div class=\"sk-parallel-item\"><div class=\"sk-item\"><div class=\"sk-label-container\"><div class=\"sk-label sk-toggleable\"><input class=\"sk-toggleable__control sk-hidden--visually\" id=\"sk-estimator-id-5\" type=\"checkbox\" ><label for=\"sk-estimator-id-5\" class=\"sk-toggleable__label sk-toggleable__label-arrow\">meta_classifier: OneVsOneClassifier</label><div class=\"sk-toggleable__content\"><pre>OneVsOneClassifier(estimator=LinearSVC(random_state=0))</pre></div></div></div><div class=\"sk-serial\"><div class=\"sk-item sk-dashed-wrapped\"><div class=\"sk-parallel\"><div class=\"sk-parallel-item\"><div class=\"sk-item\"><div class=\"sk-label-container\"><div class=\"sk-label sk-toggleable\"><input class=\"sk-toggleable__control sk-hidden--visually\" id=\"sk-estimator-id-6\" type=\"checkbox\" ><label for=\"sk-estimator-id-6\" class=\"sk-toggleable__label sk-toggleable__label-arrow\">estimator: LinearSVC</label><div class=\"sk-toggleable__content\"><pre>LinearSVC(random_state=0)</pre></div></div></div><div class=\"sk-serial\"><div class=\"sk-item\"><div class=\"sk-estimator sk-toggleable\"><input class=\"sk-toggleable__control sk-hidden--visually\" id=\"sk-estimator-id-7\" type=\"checkbox\" ><label for=\"sk-estimator-id-7\" class=\"sk-toggleable__label sk-toggleable__label-arrow\">LinearSVC</label><div class=\"sk-toggleable__content\"><pre>LinearSVC(random_state=0)</pre></div></div></div></div></div></div></div></div></div></div></div></div></div></div></div>"
      ],
      "text/plain": [
       "StackingClassifier(classifiers=[BernoulliNB(),\n",
       "                                OneVsOneClassifier(estimator=LinearSVC(random_state=0))],\n",
       "                   meta_classifier=OneVsOneClassifier(estimator=LinearSVC(random_state=0)),\n",
       "                   use_features_in_secondary=True)"
      ]
     },
     "execution_count": 227,
     "metadata": {},
     "output_type": "execute_result"
    }
   ],
   "source": [
    "clf_stack1.fit(all_var_class, tech_y)"
   ]
  },
  {
   "cell_type": "code",
   "execution_count": 228,
   "metadata": {},
   "outputs": [],
   "source": [
    "predict9 = clf_stack1.predict(tech_predict)"
   ]
  },
  {
   "cell_type": "code",
   "execution_count": 230,
   "metadata": {},
   "outputs": [],
   "source": [
    "lr = LogisticRegression()  # defining meta-classifier\n",
    "clf_stack2 = StackingClassifier(classifiers =[BernoulliNB(), OneVsOneClassifier(LinearSVC(random_state=0))], \n",
    "                        meta_classifier = lr, use_probas = False, use_features_in_secondary = True)"
   ]
  },
  {
   "cell_type": "code",
   "execution_count": 231,
   "metadata": {},
   "outputs": [
    {
     "name": "stderr",
     "output_type": "stream",
     "text": [
      "C:\\Users\\rutho\\AppData\\Roaming\\Python\\Python39\\site-packages\\sklearn\\svm\\_base.py:1225: ConvergenceWarning: Liblinear failed to converge, increase the number of iterations.\n",
      "  warnings.warn(\n",
      "C:\\Users\\rutho\\AppData\\Roaming\\Python\\Python39\\site-packages\\sklearn\\svm\\_base.py:1225: ConvergenceWarning: Liblinear failed to converge, increase the number of iterations.\n",
      "  warnings.warn(\n",
      "C:\\Users\\rutho\\AppData\\Roaming\\Python\\Python39\\site-packages\\sklearn\\linear_model\\_logistic.py:444: ConvergenceWarning: lbfgs failed to converge (status=1):\n",
      "STOP: TOTAL NO. of ITERATIONS REACHED LIMIT.\n",
      "\n",
      "Increase the number of iterations (max_iter) or scale the data as shown in:\n",
      "    https://scikit-learn.org/stable/modules/preprocessing.html\n",
      "Please also refer to the documentation for alternative solver options:\n",
      "    https://scikit-learn.org/stable/modules/linear_model.html#logistic-regression\n",
      "  n_iter_i = _check_optimize_result(\n"
     ]
    },
    {
     "data": {
      "text/html": [
       "<style>#sk-container-id-3 {color: black;background-color: white;}#sk-container-id-3 pre{padding: 0;}#sk-container-id-3 div.sk-toggleable {background-color: white;}#sk-container-id-3 label.sk-toggleable__label {cursor: pointer;display: block;width: 100%;margin-bottom: 0;padding: 0.3em;box-sizing: border-box;text-align: center;}#sk-container-id-3 label.sk-toggleable__label-arrow:before {content: \"▸\";float: left;margin-right: 0.25em;color: #696969;}#sk-container-id-3 label.sk-toggleable__label-arrow:hover:before {color: black;}#sk-container-id-3 div.sk-estimator:hover label.sk-toggleable__label-arrow:before {color: black;}#sk-container-id-3 div.sk-toggleable__content {max-height: 0;max-width: 0;overflow: hidden;text-align: left;background-color: #f0f8ff;}#sk-container-id-3 div.sk-toggleable__content pre {margin: 0.2em;color: black;border-radius: 0.25em;background-color: #f0f8ff;}#sk-container-id-3 input.sk-toggleable__control:checked~div.sk-toggleable__content {max-height: 200px;max-width: 100%;overflow: auto;}#sk-container-id-3 input.sk-toggleable__control:checked~label.sk-toggleable__label-arrow:before {content: \"▾\";}#sk-container-id-3 div.sk-estimator input.sk-toggleable__control:checked~label.sk-toggleable__label {background-color: #d4ebff;}#sk-container-id-3 div.sk-label input.sk-toggleable__control:checked~label.sk-toggleable__label {background-color: #d4ebff;}#sk-container-id-3 input.sk-hidden--visually {border: 0;clip: rect(1px 1px 1px 1px);clip: rect(1px, 1px, 1px, 1px);height: 1px;margin: -1px;overflow: hidden;padding: 0;position: absolute;width: 1px;}#sk-container-id-3 div.sk-estimator {font-family: monospace;background-color: #f0f8ff;border: 1px dotted black;border-radius: 0.25em;box-sizing: border-box;margin-bottom: 0.5em;}#sk-container-id-3 div.sk-estimator:hover {background-color: #d4ebff;}#sk-container-id-3 div.sk-parallel-item::after {content: \"\";width: 100%;border-bottom: 1px solid gray;flex-grow: 1;}#sk-container-id-3 div.sk-label:hover label.sk-toggleable__label {background-color: #d4ebff;}#sk-container-id-3 div.sk-serial::before {content: \"\";position: absolute;border-left: 1px solid gray;box-sizing: border-box;top: 0;bottom: 0;left: 50%;z-index: 0;}#sk-container-id-3 div.sk-serial {display: flex;flex-direction: column;align-items: center;background-color: white;padding-right: 0.2em;padding-left: 0.2em;position: relative;}#sk-container-id-3 div.sk-item {position: relative;z-index: 1;}#sk-container-id-3 div.sk-parallel {display: flex;align-items: stretch;justify-content: center;background-color: white;position: relative;}#sk-container-id-3 div.sk-item::before, #sk-container-id-3 div.sk-parallel-item::before {content: \"\";position: absolute;border-left: 1px solid gray;box-sizing: border-box;top: 0;bottom: 0;left: 50%;z-index: -1;}#sk-container-id-3 div.sk-parallel-item {display: flex;flex-direction: column;z-index: 1;position: relative;background-color: white;}#sk-container-id-3 div.sk-parallel-item:first-child::after {align-self: flex-end;width: 50%;}#sk-container-id-3 div.sk-parallel-item:last-child::after {align-self: flex-start;width: 50%;}#sk-container-id-3 div.sk-parallel-item:only-child::after {width: 0;}#sk-container-id-3 div.sk-dashed-wrapped {border: 1px dashed gray;margin: 0 0.4em 0.5em 0.4em;box-sizing: border-box;padding-bottom: 0.4em;background-color: white;}#sk-container-id-3 div.sk-label label {font-family: monospace;font-weight: bold;display: inline-block;line-height: 1.2em;}#sk-container-id-3 div.sk-label-container {text-align: center;}#sk-container-id-3 div.sk-container {/* jupyter's `normalize.less` sets `[hidden] { display: none; }` but bootstrap.min.css set `[hidden] { display: none !important; }` so we also need the `!important` here to be able to override the default hidden behavior on the sphinx rendered scikit-learn.org. See: https://github.com/scikit-learn/scikit-learn/issues/21755 */display: inline-block !important;position: relative;}#sk-container-id-3 div.sk-text-repr-fallback {display: none;}</style><div id=\"sk-container-id-3\" class=\"sk-top-container\"><div class=\"sk-text-repr-fallback\"><pre>StackingClassifier(classifiers=[BernoulliNB(),\n",
       "                                OneVsOneClassifier(estimator=LinearSVC(random_state=0))],\n",
       "                   meta_classifier=LogisticRegression(),\n",
       "                   use_features_in_secondary=True)</pre><b>In a Jupyter environment, please rerun this cell to show the HTML representation or trust the notebook. <br />On GitHub, the HTML representation is unable to render, please try loading this page with nbviewer.org.</b></div><div class=\"sk-container\" hidden><div class=\"sk-item sk-dashed-wrapped\"><div class=\"sk-label-container\"><div class=\"sk-label sk-toggleable\"><input class=\"sk-toggleable__control sk-hidden--visually\" id=\"sk-estimator-id-8\" type=\"checkbox\" ><label for=\"sk-estimator-id-8\" class=\"sk-toggleable__label sk-toggleable__label-arrow\">StackingClassifier</label><div class=\"sk-toggleable__content\"><pre>StackingClassifier(classifiers=[BernoulliNB(),\n",
       "                                OneVsOneClassifier(estimator=LinearSVC(random_state=0))],\n",
       "                   meta_classifier=LogisticRegression(),\n",
       "                   use_features_in_secondary=True)</pre></div></div></div><div class=\"sk-parallel\"><div class=\"sk-parallel-item\"><div class=\"sk-item\"><div class=\"sk-label-container\"><div class=\"sk-label sk-toggleable\"><input class=\"sk-toggleable__control sk-hidden--visually\" id=\"sk-estimator-id-9\" type=\"checkbox\" ><label for=\"sk-estimator-id-9\" class=\"sk-toggleable__label sk-toggleable__label-arrow\">meta_classifier: LogisticRegression</label><div class=\"sk-toggleable__content\"><pre>LogisticRegression()</pre></div></div></div><div class=\"sk-serial\"><div class=\"sk-item\"><div class=\"sk-estimator sk-toggleable\"><input class=\"sk-toggleable__control sk-hidden--visually\" id=\"sk-estimator-id-10\" type=\"checkbox\" ><label for=\"sk-estimator-id-10\" class=\"sk-toggleable__label sk-toggleable__label-arrow\">LogisticRegression</label><div class=\"sk-toggleable__content\"><pre>LogisticRegression()</pre></div></div></div></div></div></div></div></div></div></div>"
      ],
      "text/plain": [
       "StackingClassifier(classifiers=[BernoulliNB(),\n",
       "                                OneVsOneClassifier(estimator=LinearSVC(random_state=0))],\n",
       "                   meta_classifier=LogisticRegression(),\n",
       "                   use_features_in_secondary=True)"
      ]
     },
     "execution_count": 231,
     "metadata": {},
     "output_type": "execute_result"
    }
   ],
   "source": [
    "clf_stack2.fit(all_var_class, tech_y)"
   ]
  },
  {
   "cell_type": "code",
   "execution_count": 232,
   "metadata": {},
   "outputs": [],
   "source": [
    "predict10 = clf_stack2.predict(tech_predict)"
   ]
  },
  {
   "cell_type": "code",
   "execution_count": 233,
   "metadata": {},
   "outputs": [],
   "source": [
    "dtree_model = DecisionTreeClassifier(max_depth = 3).fit(all_var_class, tech_y)"
   ]
  },
  {
   "cell_type": "code",
   "execution_count": 234,
   "metadata": {},
   "outputs": [],
   "source": [
    "predict12 = dtree_model.predict(tech_predict)"
   ]
  },
  {
   "cell_type": "code",
   "execution_count": 243,
   "metadata": {},
   "outputs": [],
   "source": [
    "svm_model_linear = SVC(kernel = 'linear', C = 3).fit(all_var_class, tech_y)"
   ]
  },
  {
   "cell_type": "code",
   "execution_count": 244,
   "metadata": {},
   "outputs": [],
   "source": [
    "predict13 = svm_model_linear.predict(tech_predict)"
   ]
  },
  {
   "cell_type": "code",
   "execution_count": 247,
   "metadata": {},
   "outputs": [],
   "source": [
    "knn = KNeighborsClassifier(n_neighbors = 3).fit(all_var_class, tech_y)"
   ]
  },
  {
   "cell_type": "code",
   "execution_count": 248,
   "metadata": {},
   "outputs": [],
   "source": [
    "predict14 = knn.predict(tech_predict)"
   ]
  },
  {
   "cell_type": "code",
   "execution_count": 250,
   "metadata": {},
   "outputs": [
    {
     "data": {
      "text/html": [
       "<style>#sk-container-id-4 {color: black;background-color: white;}#sk-container-id-4 pre{padding: 0;}#sk-container-id-4 div.sk-toggleable {background-color: white;}#sk-container-id-4 label.sk-toggleable__label {cursor: pointer;display: block;width: 100%;margin-bottom: 0;padding: 0.3em;box-sizing: border-box;text-align: center;}#sk-container-id-4 label.sk-toggleable__label-arrow:before {content: \"▸\";float: left;margin-right: 0.25em;color: #696969;}#sk-container-id-4 label.sk-toggleable__label-arrow:hover:before {color: black;}#sk-container-id-4 div.sk-estimator:hover label.sk-toggleable__label-arrow:before {color: black;}#sk-container-id-4 div.sk-toggleable__content {max-height: 0;max-width: 0;overflow: hidden;text-align: left;background-color: #f0f8ff;}#sk-container-id-4 div.sk-toggleable__content pre {margin: 0.2em;color: black;border-radius: 0.25em;background-color: #f0f8ff;}#sk-container-id-4 input.sk-toggleable__control:checked~div.sk-toggleable__content {max-height: 200px;max-width: 100%;overflow: auto;}#sk-container-id-4 input.sk-toggleable__control:checked~label.sk-toggleable__label-arrow:before {content: \"▾\";}#sk-container-id-4 div.sk-estimator input.sk-toggleable__control:checked~label.sk-toggleable__label {background-color: #d4ebff;}#sk-container-id-4 div.sk-label input.sk-toggleable__control:checked~label.sk-toggleable__label {background-color: #d4ebff;}#sk-container-id-4 input.sk-hidden--visually {border: 0;clip: rect(1px 1px 1px 1px);clip: rect(1px, 1px, 1px, 1px);height: 1px;margin: -1px;overflow: hidden;padding: 0;position: absolute;width: 1px;}#sk-container-id-4 div.sk-estimator {font-family: monospace;background-color: #f0f8ff;border: 1px dotted black;border-radius: 0.25em;box-sizing: border-box;margin-bottom: 0.5em;}#sk-container-id-4 div.sk-estimator:hover {background-color: #d4ebff;}#sk-container-id-4 div.sk-parallel-item::after {content: \"\";width: 100%;border-bottom: 1px solid gray;flex-grow: 1;}#sk-container-id-4 div.sk-label:hover label.sk-toggleable__label {background-color: #d4ebff;}#sk-container-id-4 div.sk-serial::before {content: \"\";position: absolute;border-left: 1px solid gray;box-sizing: border-box;top: 0;bottom: 0;left: 50%;z-index: 0;}#sk-container-id-4 div.sk-serial {display: flex;flex-direction: column;align-items: center;background-color: white;padding-right: 0.2em;padding-left: 0.2em;position: relative;}#sk-container-id-4 div.sk-item {position: relative;z-index: 1;}#sk-container-id-4 div.sk-parallel {display: flex;align-items: stretch;justify-content: center;background-color: white;position: relative;}#sk-container-id-4 div.sk-item::before, #sk-container-id-4 div.sk-parallel-item::before {content: \"\";position: absolute;border-left: 1px solid gray;box-sizing: border-box;top: 0;bottom: 0;left: 50%;z-index: -1;}#sk-container-id-4 div.sk-parallel-item {display: flex;flex-direction: column;z-index: 1;position: relative;background-color: white;}#sk-container-id-4 div.sk-parallel-item:first-child::after {align-self: flex-end;width: 50%;}#sk-container-id-4 div.sk-parallel-item:last-child::after {align-self: flex-start;width: 50%;}#sk-container-id-4 div.sk-parallel-item:only-child::after {width: 0;}#sk-container-id-4 div.sk-dashed-wrapped {border: 1px dashed gray;margin: 0 0.4em 0.5em 0.4em;box-sizing: border-box;padding-bottom: 0.4em;background-color: white;}#sk-container-id-4 div.sk-label label {font-family: monospace;font-weight: bold;display: inline-block;line-height: 1.2em;}#sk-container-id-4 div.sk-label-container {text-align: center;}#sk-container-id-4 div.sk-container {/* jupyter's `normalize.less` sets `[hidden] { display: none; }` but bootstrap.min.css set `[hidden] { display: none !important; }` so we also need the `!important` here to be able to override the default hidden behavior on the sphinx rendered scikit-learn.org. See: https://github.com/scikit-learn/scikit-learn/issues/21755 */display: inline-block !important;position: relative;}#sk-container-id-4 div.sk-text-repr-fallback {display: none;}</style><div id=\"sk-container-id-4\" class=\"sk-top-container\"><div class=\"sk-text-repr-fallback\"><pre>MLPClassifier(alpha=1e-05, hidden_layer_sizes=(5, 2), random_state=1,\n",
       "              solver=&#x27;lbfgs&#x27;)</pre><b>In a Jupyter environment, please rerun this cell to show the HTML representation or trust the notebook. <br />On GitHub, the HTML representation is unable to render, please try loading this page with nbviewer.org.</b></div><div class=\"sk-container\" hidden><div class=\"sk-item\"><div class=\"sk-estimator sk-toggleable\"><input class=\"sk-toggleable__control sk-hidden--visually\" id=\"sk-estimator-id-11\" type=\"checkbox\" checked><label for=\"sk-estimator-id-11\" class=\"sk-toggleable__label sk-toggleable__label-arrow\">MLPClassifier</label><div class=\"sk-toggleable__content\"><pre>MLPClassifier(alpha=1e-05, hidden_layer_sizes=(5, 2), random_state=1,\n",
       "              solver=&#x27;lbfgs&#x27;)</pre></div></div></div></div></div>"
      ],
      "text/plain": [
       "MLPClassifier(alpha=1e-05, hidden_layer_sizes=(5, 2), random_state=1,\n",
       "              solver='lbfgs')"
      ]
     },
     "execution_count": 250,
     "metadata": {},
     "output_type": "execute_result"
    }
   ],
   "source": [
    "clf_new = MLPClassifier(solver='lbfgs', alpha=1e-5,\n",
    "                    hidden_layer_sizes=(5, 2), random_state=1)\n",
    "clf_new.fit(all_var_class, tech_y)"
   ]
  },
  {
   "cell_type": "code",
   "execution_count": 251,
   "metadata": {},
   "outputs": [],
   "source": [
    "predict15 = clf_new.predict(tech_predict)"
   ]
  },
  {
   "cell_type": "markdown",
   "metadata": {},
   "source": [
    "<h3>Stacking<h3>"
   ]
  },
  {
   "cell_type": "code",
   "execution_count": 204,
   "metadata": {},
   "outputs": [],
   "source": [
    "lr = LogisticRegression()  # defining meta-classifier\n",
    "final_stack = StackingClassifier(classifiers =[BernoulliNB(), \n",
    "                                              SVC(kernel = 'linear', C = 3),\n",
    "                                              DecisionTreeClassifier(max_depth = 3),\n",
    "                                              DecisionTreeClassifier(max_depth = 2)], \n",
    "                        meta_classifier = lr, use_probas = False, use_features_in_secondary = True)"
   ]
  },
  {
   "cell_type": "code",
   "execution_count": 205,
   "metadata": {},
   "outputs": [
    {
     "name": "stderr",
     "output_type": "stream",
     "text": [
      "C:\\Users\\rutho\\AppData\\Roaming\\Python\\Python39\\site-packages\\sklearn\\linear_model\\_logistic.py:444: ConvergenceWarning: lbfgs failed to converge (status=1):\n",
      "STOP: TOTAL NO. of ITERATIONS REACHED LIMIT.\n",
      "\n",
      "Increase the number of iterations (max_iter) or scale the data as shown in:\n",
      "    https://scikit-learn.org/stable/modules/preprocessing.html\n",
      "Please also refer to the documentation for alternative solver options:\n",
      "    https://scikit-learn.org/stable/modules/linear_model.html#logistic-regression\n",
      "  n_iter_i = _check_optimize_result(\n"
     ]
    },
    {
     "data": {
      "text/html": [
       "<style>#sk-container-id-3 {color: black;background-color: white;}#sk-container-id-3 pre{padding: 0;}#sk-container-id-3 div.sk-toggleable {background-color: white;}#sk-container-id-3 label.sk-toggleable__label {cursor: pointer;display: block;width: 100%;margin-bottom: 0;padding: 0.3em;box-sizing: border-box;text-align: center;}#sk-container-id-3 label.sk-toggleable__label-arrow:before {content: \"▸\";float: left;margin-right: 0.25em;color: #696969;}#sk-container-id-3 label.sk-toggleable__label-arrow:hover:before {color: black;}#sk-container-id-3 div.sk-estimator:hover label.sk-toggleable__label-arrow:before {color: black;}#sk-container-id-3 div.sk-toggleable__content {max-height: 0;max-width: 0;overflow: hidden;text-align: left;background-color: #f0f8ff;}#sk-container-id-3 div.sk-toggleable__content pre {margin: 0.2em;color: black;border-radius: 0.25em;background-color: #f0f8ff;}#sk-container-id-3 input.sk-toggleable__control:checked~div.sk-toggleable__content {max-height: 200px;max-width: 100%;overflow: auto;}#sk-container-id-3 input.sk-toggleable__control:checked~label.sk-toggleable__label-arrow:before {content: \"▾\";}#sk-container-id-3 div.sk-estimator input.sk-toggleable__control:checked~label.sk-toggleable__label {background-color: #d4ebff;}#sk-container-id-3 div.sk-label input.sk-toggleable__control:checked~label.sk-toggleable__label {background-color: #d4ebff;}#sk-container-id-3 input.sk-hidden--visually {border: 0;clip: rect(1px 1px 1px 1px);clip: rect(1px, 1px, 1px, 1px);height: 1px;margin: -1px;overflow: hidden;padding: 0;position: absolute;width: 1px;}#sk-container-id-3 div.sk-estimator {font-family: monospace;background-color: #f0f8ff;border: 1px dotted black;border-radius: 0.25em;box-sizing: border-box;margin-bottom: 0.5em;}#sk-container-id-3 div.sk-estimator:hover {background-color: #d4ebff;}#sk-container-id-3 div.sk-parallel-item::after {content: \"\";width: 100%;border-bottom: 1px solid gray;flex-grow: 1;}#sk-container-id-3 div.sk-label:hover label.sk-toggleable__label {background-color: #d4ebff;}#sk-container-id-3 div.sk-serial::before {content: \"\";position: absolute;border-left: 1px solid gray;box-sizing: border-box;top: 0;bottom: 0;left: 50%;z-index: 0;}#sk-container-id-3 div.sk-serial {display: flex;flex-direction: column;align-items: center;background-color: white;padding-right: 0.2em;padding-left: 0.2em;position: relative;}#sk-container-id-3 div.sk-item {position: relative;z-index: 1;}#sk-container-id-3 div.sk-parallel {display: flex;align-items: stretch;justify-content: center;background-color: white;position: relative;}#sk-container-id-3 div.sk-item::before, #sk-container-id-3 div.sk-parallel-item::before {content: \"\";position: absolute;border-left: 1px solid gray;box-sizing: border-box;top: 0;bottom: 0;left: 50%;z-index: -1;}#sk-container-id-3 div.sk-parallel-item {display: flex;flex-direction: column;z-index: 1;position: relative;background-color: white;}#sk-container-id-3 div.sk-parallel-item:first-child::after {align-self: flex-end;width: 50%;}#sk-container-id-3 div.sk-parallel-item:last-child::after {align-self: flex-start;width: 50%;}#sk-container-id-3 div.sk-parallel-item:only-child::after {width: 0;}#sk-container-id-3 div.sk-dashed-wrapped {border: 1px dashed gray;margin: 0 0.4em 0.5em 0.4em;box-sizing: border-box;padding-bottom: 0.4em;background-color: white;}#sk-container-id-3 div.sk-label label {font-family: monospace;font-weight: bold;display: inline-block;line-height: 1.2em;}#sk-container-id-3 div.sk-label-container {text-align: center;}#sk-container-id-3 div.sk-container {/* jupyter's `normalize.less` sets `[hidden] { display: none; }` but bootstrap.min.css set `[hidden] { display: none !important; }` so we also need the `!important` here to be able to override the default hidden behavior on the sphinx rendered scikit-learn.org. See: https://github.com/scikit-learn/scikit-learn/issues/21755 */display: inline-block !important;position: relative;}#sk-container-id-3 div.sk-text-repr-fallback {display: none;}</style><div id=\"sk-container-id-3\" class=\"sk-top-container\"><div class=\"sk-text-repr-fallback\"><pre>StackingClassifier(classifiers=[BernoulliNB(), SVC(C=3, kernel=&#x27;linear&#x27;),\n",
       "                                DecisionTreeClassifier(max_depth=3),\n",
       "                                DecisionTreeClassifier(max_depth=2)],\n",
       "                   meta_classifier=LogisticRegression(),\n",
       "                   use_features_in_secondary=True)</pre><b>In a Jupyter environment, please rerun this cell to show the HTML representation or trust the notebook. <br />On GitHub, the HTML representation is unable to render, please try loading this page with nbviewer.org.</b></div><div class=\"sk-container\" hidden><div class=\"sk-item sk-dashed-wrapped\"><div class=\"sk-label-container\"><div class=\"sk-label sk-toggleable\"><input class=\"sk-toggleable__control sk-hidden--visually\" id=\"sk-estimator-id-7\" type=\"checkbox\" ><label for=\"sk-estimator-id-7\" class=\"sk-toggleable__label sk-toggleable__label-arrow\">StackingClassifier</label><div class=\"sk-toggleable__content\"><pre>StackingClassifier(classifiers=[BernoulliNB(), SVC(C=3, kernel=&#x27;linear&#x27;),\n",
       "                                DecisionTreeClassifier(max_depth=3),\n",
       "                                DecisionTreeClassifier(max_depth=2)],\n",
       "                   meta_classifier=LogisticRegression(),\n",
       "                   use_features_in_secondary=True)</pre></div></div></div><div class=\"sk-parallel\"><div class=\"sk-parallel-item\"><div class=\"sk-item\"><div class=\"sk-label-container\"><div class=\"sk-label sk-toggleable\"><input class=\"sk-toggleable__control sk-hidden--visually\" id=\"sk-estimator-id-8\" type=\"checkbox\" ><label for=\"sk-estimator-id-8\" class=\"sk-toggleable__label sk-toggleable__label-arrow\">meta_classifier: LogisticRegression</label><div class=\"sk-toggleable__content\"><pre>LogisticRegression()</pre></div></div></div><div class=\"sk-serial\"><div class=\"sk-item\"><div class=\"sk-estimator sk-toggleable\"><input class=\"sk-toggleable__control sk-hidden--visually\" id=\"sk-estimator-id-9\" type=\"checkbox\" ><label for=\"sk-estimator-id-9\" class=\"sk-toggleable__label sk-toggleable__label-arrow\">LogisticRegression</label><div class=\"sk-toggleable__content\"><pre>LogisticRegression()</pre></div></div></div></div></div></div></div></div></div></div>"
      ],
      "text/plain": [
       "StackingClassifier(classifiers=[BernoulliNB(), SVC(C=3, kernel='linear'),\n",
       "                                DecisionTreeClassifier(max_depth=3),\n",
       "                                DecisionTreeClassifier(max_depth=2)],\n",
       "                   meta_classifier=LogisticRegression(),\n",
       "                   use_features_in_secondary=True)"
      ]
     },
     "execution_count": 205,
     "metadata": {},
     "output_type": "execute_result"
    }
   ],
   "source": [
    "final_stack.fit(all_var_class, tech_y)"
   ]
  },
  {
   "cell_type": "code",
   "execution_count": 206,
   "metadata": {},
   "outputs": [],
   "source": [
    "all_pred = final_stack.predict(tech_predict)"
   ]
  },
  {
   "cell_type": "markdown",
   "metadata": {},
   "source": [
    "<h4>Boosting<h4>"
   ]
  },
  {
   "cell_type": "code",
   "execution_count": 201,
   "metadata": {},
   "outputs": [],
   "source": [
    "lr = LogisticRegression()\n",
    "clff = AdaBoostClassifier()"
   ]
  },
  {
   "cell_type": "code",
   "execution_count": 210,
   "metadata": {},
   "outputs": [
    {
     "data": {
      "text/html": [
       "<style>#sk-container-id-4 {color: black;background-color: white;}#sk-container-id-4 pre{padding: 0;}#sk-container-id-4 div.sk-toggleable {background-color: white;}#sk-container-id-4 label.sk-toggleable__label {cursor: pointer;display: block;width: 100%;margin-bottom: 0;padding: 0.3em;box-sizing: border-box;text-align: center;}#sk-container-id-4 label.sk-toggleable__label-arrow:before {content: \"▸\";float: left;margin-right: 0.25em;color: #696969;}#sk-container-id-4 label.sk-toggleable__label-arrow:hover:before {color: black;}#sk-container-id-4 div.sk-estimator:hover label.sk-toggleable__label-arrow:before {color: black;}#sk-container-id-4 div.sk-toggleable__content {max-height: 0;max-width: 0;overflow: hidden;text-align: left;background-color: #f0f8ff;}#sk-container-id-4 div.sk-toggleable__content pre {margin: 0.2em;color: black;border-radius: 0.25em;background-color: #f0f8ff;}#sk-container-id-4 input.sk-toggleable__control:checked~div.sk-toggleable__content {max-height: 200px;max-width: 100%;overflow: auto;}#sk-container-id-4 input.sk-toggleable__control:checked~label.sk-toggleable__label-arrow:before {content: \"▾\";}#sk-container-id-4 div.sk-estimator input.sk-toggleable__control:checked~label.sk-toggleable__label {background-color: #d4ebff;}#sk-container-id-4 div.sk-label input.sk-toggleable__control:checked~label.sk-toggleable__label {background-color: #d4ebff;}#sk-container-id-4 input.sk-hidden--visually {border: 0;clip: rect(1px 1px 1px 1px);clip: rect(1px, 1px, 1px, 1px);height: 1px;margin: -1px;overflow: hidden;padding: 0;position: absolute;width: 1px;}#sk-container-id-4 div.sk-estimator {font-family: monospace;background-color: #f0f8ff;border: 1px dotted black;border-radius: 0.25em;box-sizing: border-box;margin-bottom: 0.5em;}#sk-container-id-4 div.sk-estimator:hover {background-color: #d4ebff;}#sk-container-id-4 div.sk-parallel-item::after {content: \"\";width: 100%;border-bottom: 1px solid gray;flex-grow: 1;}#sk-container-id-4 div.sk-label:hover label.sk-toggleable__label {background-color: #d4ebff;}#sk-container-id-4 div.sk-serial::before {content: \"\";position: absolute;border-left: 1px solid gray;box-sizing: border-box;top: 0;bottom: 0;left: 50%;z-index: 0;}#sk-container-id-4 div.sk-serial {display: flex;flex-direction: column;align-items: center;background-color: white;padding-right: 0.2em;padding-left: 0.2em;position: relative;}#sk-container-id-4 div.sk-item {position: relative;z-index: 1;}#sk-container-id-4 div.sk-parallel {display: flex;align-items: stretch;justify-content: center;background-color: white;position: relative;}#sk-container-id-4 div.sk-item::before, #sk-container-id-4 div.sk-parallel-item::before {content: \"\";position: absolute;border-left: 1px solid gray;box-sizing: border-box;top: 0;bottom: 0;left: 50%;z-index: -1;}#sk-container-id-4 div.sk-parallel-item {display: flex;flex-direction: column;z-index: 1;position: relative;background-color: white;}#sk-container-id-4 div.sk-parallel-item:first-child::after {align-self: flex-end;width: 50%;}#sk-container-id-4 div.sk-parallel-item:last-child::after {align-self: flex-start;width: 50%;}#sk-container-id-4 div.sk-parallel-item:only-child::after {width: 0;}#sk-container-id-4 div.sk-dashed-wrapped {border: 1px dashed gray;margin: 0 0.4em 0.5em 0.4em;box-sizing: border-box;padding-bottom: 0.4em;background-color: white;}#sk-container-id-4 div.sk-label label {font-family: monospace;font-weight: bold;display: inline-block;line-height: 1.2em;}#sk-container-id-4 div.sk-label-container {text-align: center;}#sk-container-id-4 div.sk-container {/* jupyter's `normalize.less` sets `[hidden] { display: none; }` but bootstrap.min.css set `[hidden] { display: none !important; }` so we also need the `!important` here to be able to override the default hidden behavior on the sphinx rendered scikit-learn.org. See: https://github.com/scikit-learn/scikit-learn/issues/21755 */display: inline-block !important;position: relative;}#sk-container-id-4 div.sk-text-repr-fallback {display: none;}</style><div id=\"sk-container-id-4\" class=\"sk-top-container\"><div class=\"sk-text-repr-fallback\"><pre>AdaBoostClassifier()</pre><b>In a Jupyter environment, please rerun this cell to show the HTML representation or trust the notebook. <br />On GitHub, the HTML representation is unable to render, please try loading this page with nbviewer.org.</b></div><div class=\"sk-container\" hidden><div class=\"sk-item\"><div class=\"sk-estimator sk-toggleable\"><input class=\"sk-toggleable__control sk-hidden--visually\" id=\"sk-estimator-id-10\" type=\"checkbox\" checked><label for=\"sk-estimator-id-10\" class=\"sk-toggleable__label sk-toggleable__label-arrow\">AdaBoostClassifier</label><div class=\"sk-toggleable__content\"><pre>AdaBoostClassifier()</pre></div></div></div></div></div>"
      ],
      "text/plain": [
       "AdaBoostClassifier()"
      ]
     },
     "execution_count": 210,
     "metadata": {},
     "output_type": "execute_result"
    }
   ],
   "source": [
    "clff.fit(all_var_class, tech_y)"
   ]
  },
  {
   "cell_type": "code",
   "execution_count": 211,
   "metadata": {},
   "outputs": [],
   "source": [
    "predict16 = clff.predict(tech_predict)"
   ]
  },
  {
   "cell_type": "code",
   "execution_count": 215,
   "metadata": {},
   "outputs": [
    {
     "data": {
      "text/html": [
       "<style>#sk-container-id-5 {color: black;background-color: white;}#sk-container-id-5 pre{padding: 0;}#sk-container-id-5 div.sk-toggleable {background-color: white;}#sk-container-id-5 label.sk-toggleable__label {cursor: pointer;display: block;width: 100%;margin-bottom: 0;padding: 0.3em;box-sizing: border-box;text-align: center;}#sk-container-id-5 label.sk-toggleable__label-arrow:before {content: \"▸\";float: left;margin-right: 0.25em;color: #696969;}#sk-container-id-5 label.sk-toggleable__label-arrow:hover:before {color: black;}#sk-container-id-5 div.sk-estimator:hover label.sk-toggleable__label-arrow:before {color: black;}#sk-container-id-5 div.sk-toggleable__content {max-height: 0;max-width: 0;overflow: hidden;text-align: left;background-color: #f0f8ff;}#sk-container-id-5 div.sk-toggleable__content pre {margin: 0.2em;color: black;border-radius: 0.25em;background-color: #f0f8ff;}#sk-container-id-5 input.sk-toggleable__control:checked~div.sk-toggleable__content {max-height: 200px;max-width: 100%;overflow: auto;}#sk-container-id-5 input.sk-toggleable__control:checked~label.sk-toggleable__label-arrow:before {content: \"▾\";}#sk-container-id-5 div.sk-estimator input.sk-toggleable__control:checked~label.sk-toggleable__label {background-color: #d4ebff;}#sk-container-id-5 div.sk-label input.sk-toggleable__control:checked~label.sk-toggleable__label {background-color: #d4ebff;}#sk-container-id-5 input.sk-hidden--visually {border: 0;clip: rect(1px 1px 1px 1px);clip: rect(1px, 1px, 1px, 1px);height: 1px;margin: -1px;overflow: hidden;padding: 0;position: absolute;width: 1px;}#sk-container-id-5 div.sk-estimator {font-family: monospace;background-color: #f0f8ff;border: 1px dotted black;border-radius: 0.25em;box-sizing: border-box;margin-bottom: 0.5em;}#sk-container-id-5 div.sk-estimator:hover {background-color: #d4ebff;}#sk-container-id-5 div.sk-parallel-item::after {content: \"\";width: 100%;border-bottom: 1px solid gray;flex-grow: 1;}#sk-container-id-5 div.sk-label:hover label.sk-toggleable__label {background-color: #d4ebff;}#sk-container-id-5 div.sk-serial::before {content: \"\";position: absolute;border-left: 1px solid gray;box-sizing: border-box;top: 0;bottom: 0;left: 50%;z-index: 0;}#sk-container-id-5 div.sk-serial {display: flex;flex-direction: column;align-items: center;background-color: white;padding-right: 0.2em;padding-left: 0.2em;position: relative;}#sk-container-id-5 div.sk-item {position: relative;z-index: 1;}#sk-container-id-5 div.sk-parallel {display: flex;align-items: stretch;justify-content: center;background-color: white;position: relative;}#sk-container-id-5 div.sk-item::before, #sk-container-id-5 div.sk-parallel-item::before {content: \"\";position: absolute;border-left: 1px solid gray;box-sizing: border-box;top: 0;bottom: 0;left: 50%;z-index: -1;}#sk-container-id-5 div.sk-parallel-item {display: flex;flex-direction: column;z-index: 1;position: relative;background-color: white;}#sk-container-id-5 div.sk-parallel-item:first-child::after {align-self: flex-end;width: 50%;}#sk-container-id-5 div.sk-parallel-item:last-child::after {align-self: flex-start;width: 50%;}#sk-container-id-5 div.sk-parallel-item:only-child::after {width: 0;}#sk-container-id-5 div.sk-dashed-wrapped {border: 1px dashed gray;margin: 0 0.4em 0.5em 0.4em;box-sizing: border-box;padding-bottom: 0.4em;background-color: white;}#sk-container-id-5 div.sk-label label {font-family: monospace;font-weight: bold;display: inline-block;line-height: 1.2em;}#sk-container-id-5 div.sk-label-container {text-align: center;}#sk-container-id-5 div.sk-container {/* jupyter's `normalize.less` sets `[hidden] { display: none; }` but bootstrap.min.css set `[hidden] { display: none !important; }` so we also need the `!important` here to be able to override the default hidden behavior on the sphinx rendered scikit-learn.org. See: https://github.com/scikit-learn/scikit-learn/issues/21755 */display: inline-block !important;position: relative;}#sk-container-id-5 div.sk-text-repr-fallback {display: none;}</style><div id=\"sk-container-id-5\" class=\"sk-top-container\"><div class=\"sk-text-repr-fallback\"><pre>XGBClassifier(base_score=0.5, booster=&#x27;gbtree&#x27;, callbacks=None,\n",
       "              colsample_bylevel=1, colsample_bynode=1, colsample_bytree=1,\n",
       "              early_stopping_rounds=None, enable_categorical=False,\n",
       "              eval_metric=None, gamma=0, gpu_id=-1, grow_policy=&#x27;depthwise&#x27;,\n",
       "              importance_type=None, interaction_constraints=&#x27;&#x27;,\n",
       "              learning_rate=0.300000012, max_bin=256, max_cat_to_onehot=4,\n",
       "              max_delta_step=0, max_depth=6, max_leaves=0, min_child_weight=1,\n",
       "              missing=nan, monotone_constraints=&#x27;()&#x27;, n_estimators=100,\n",
       "              n_jobs=0, num_parallel_tree=1, objective=&#x27;multi:softprob&#x27;,\n",
       "              predictor=&#x27;auto&#x27;, random_state=42, reg_alpha=0, ...)</pre><b>In a Jupyter environment, please rerun this cell to show the HTML representation or trust the notebook. <br />On GitHub, the HTML representation is unable to render, please try loading this page with nbviewer.org.</b></div><div class=\"sk-container\" hidden><div class=\"sk-item\"><div class=\"sk-estimator sk-toggleable\"><input class=\"sk-toggleable__control sk-hidden--visually\" id=\"sk-estimator-id-11\" type=\"checkbox\" checked><label for=\"sk-estimator-id-11\" class=\"sk-toggleable__label sk-toggleable__label-arrow\">XGBClassifier</label><div class=\"sk-toggleable__content\"><pre>XGBClassifier(base_score=0.5, booster=&#x27;gbtree&#x27;, callbacks=None,\n",
       "              colsample_bylevel=1, colsample_bynode=1, colsample_bytree=1,\n",
       "              early_stopping_rounds=None, enable_categorical=False,\n",
       "              eval_metric=None, gamma=0, gpu_id=-1, grow_policy=&#x27;depthwise&#x27;,\n",
       "              importance_type=None, interaction_constraints=&#x27;&#x27;,\n",
       "              learning_rate=0.300000012, max_bin=256, max_cat_to_onehot=4,\n",
       "              max_delta_step=0, max_depth=6, max_leaves=0, min_child_weight=1,\n",
       "              missing=nan, monotone_constraints=&#x27;()&#x27;, n_estimators=100,\n",
       "              n_jobs=0, num_parallel_tree=1, objective=&#x27;multi:softprob&#x27;,\n",
       "              predictor=&#x27;auto&#x27;, random_state=42, reg_alpha=0, ...)</pre></div></div></div></div></div>"
      ],
      "text/plain": [
       "XGBClassifier(base_score=0.5, booster='gbtree', callbacks=None,\n",
       "              colsample_bylevel=1, colsample_bynode=1, colsample_bytree=1,\n",
       "              early_stopping_rounds=None, enable_categorical=False,\n",
       "              eval_metric=None, gamma=0, gpu_id=-1, grow_policy='depthwise',\n",
       "              importance_type=None, interaction_constraints='',\n",
       "              learning_rate=0.300000012, max_bin=256, max_cat_to_onehot=4,\n",
       "              max_delta_step=0, max_depth=6, max_leaves=0, min_child_weight=1,\n",
       "              missing=nan, monotone_constraints='()', n_estimators=100,\n",
       "              n_jobs=0, num_parallel_tree=1, objective='multi:softprob',\n",
       "              predictor='auto', random_state=42, reg_alpha=0, ...)"
      ]
     },
     "execution_count": 215,
     "metadata": {},
     "output_type": "execute_result"
    }
   ],
   "source": [
    "xgb_model = xgb.XGBClassifier(objective=\"multi:softprob\", random_state=42)\n",
    "xgb_model.fit(all_var_class, tech_y)"
   ]
  },
  {
   "cell_type": "code",
   "execution_count": 216,
   "metadata": {},
   "outputs": [],
   "source": [
    "xgboost_pred = xgb_model.predict(tech_predict)"
   ]
  },
  {
   "cell_type": "code",
   "execution_count": 231,
   "metadata": {},
   "outputs": [],
   "source": [
    "est1 = BernoulliNB() \n",
    "est2 = DecisionTreeClassifier(max_depth = 3)\n",
    "est3 = OneVsOneClassifier(LinearSVC(random_state=0))\n",
    "est4 = SVC(kernel = 'linear', C = 3)\n",
    "est5 = GaussianNB()\n",
    "est6 =  DecisionTreeClassifier(max_depth = 2)"
   ]
  },
  {
   "cell_type": "code",
   "execution_count": 212,
   "metadata": {},
   "outputs": [],
   "source": [
    "eclf1 = VotingClassifier(estimators= [('bnb', est1), ('occ', est2), ('ooc', est3), \n",
    "                                     ('orc', est4), ('gnb', est5), ],  voting='hard')"
   ]
  },
  {
   "cell_type": "code",
   "execution_count": 213,
   "metadata": {
    "tags": []
   },
   "outputs": [
    {
     "name": "stderr",
     "output_type": "stream",
     "text": [
      "C:\\Users\\rutho\\AppData\\Roaming\\Python\\Python39\\site-packages\\sklearn\\svm\\_base.py:1225: ConvergenceWarning: Liblinear failed to converge, increase the number of iterations.\n",
      "  warnings.warn(\n",
      "C:\\Users\\rutho\\AppData\\Roaming\\Python\\Python39\\site-packages\\sklearn\\svm\\_base.py:1225: ConvergenceWarning: Liblinear failed to converge, increase the number of iterations.\n",
      "  warnings.warn(\n",
      "C:\\Users\\rutho\\AppData\\Roaming\\Python\\Python39\\site-packages\\sklearn\\svm\\_base.py:1225: ConvergenceWarning: Liblinear failed to converge, increase the number of iterations.\n",
      "  warnings.warn(\n",
      "C:\\Users\\rutho\\AppData\\Roaming\\Python\\Python39\\site-packages\\sklearn\\svm\\_base.py:1225: ConvergenceWarning: Liblinear failed to converge, increase the number of iterations.\n",
      "  warnings.warn(\n",
      "C:\\Users\\rutho\\AppData\\Roaming\\Python\\Python39\\site-packages\\sklearn\\svm\\_base.py:1225: ConvergenceWarning: Liblinear failed to converge, increase the number of iterations.\n",
      "  warnings.warn(\n",
      "C:\\Users\\rutho\\AppData\\Roaming\\Python\\Python39\\site-packages\\sklearn\\svm\\_base.py:1225: ConvergenceWarning: Liblinear failed to converge, increase the number of iterations.\n",
      "  warnings.warn(\n",
      "C:\\Users\\rutho\\AppData\\Roaming\\Python\\Python39\\site-packages\\sklearn\\svm\\_base.py:1225: ConvergenceWarning: Liblinear failed to converge, increase the number of iterations.\n",
      "  warnings.warn(\n"
     ]
    }
   ],
   "source": [
    "eclf1 = eclf1.fit(all_var_class, tech_y)"
   ]
  },
  {
   "cell_type": "code",
   "execution_count": 214,
   "metadata": {},
   "outputs": [],
   "source": [
    "vooting_pred = eclf1.predict(tech_predict)"
   ]
  },
  {
   "cell_type": "code",
   "execution_count": 232,
   "metadata": {},
   "outputs": [],
   "source": [
    "lr = LogisticRegression()  # defining meta-classifier\n",
    "final_stack_last = StackingClassifier(classifiers =[BernoulliNB(), \n",
    "                                              SVC(kernel = 'linear', C = 3),\n",
    "                                              DecisionTreeClassifier(max_depth = 3),\n",
    "                                              xgb.XGBClassifier(objective=\"multi:softprob\", random_state=42),\n",
    "                                              AdaBoostClassifier()\n",
    "                                              ], \n",
    "                        meta_classifier = lr, use_probas = False, use_features_in_secondary = True)"
   ]
  },
  {
   "cell_type": "code",
   "execution_count": 219,
   "metadata": {},
   "outputs": [
    {
     "data": {
      "text/html": [
       "<style>#sk-container-id-1 {color: black;background-color: white;}#sk-container-id-1 pre{padding: 0;}#sk-container-id-1 div.sk-toggleable {background-color: white;}#sk-container-id-1 label.sk-toggleable__label {cursor: pointer;display: block;width: 100%;margin-bottom: 0;padding: 0.3em;box-sizing: border-box;text-align: center;}#sk-container-id-1 label.sk-toggleable__label-arrow:before {content: \"▸\";float: left;margin-right: 0.25em;color: #696969;}#sk-container-id-1 label.sk-toggleable__label-arrow:hover:before {color: black;}#sk-container-id-1 div.sk-estimator:hover label.sk-toggleable__label-arrow:before {color: black;}#sk-container-id-1 div.sk-toggleable__content {max-height: 0;max-width: 0;overflow: hidden;text-align: left;background-color: #f0f8ff;}#sk-container-id-1 div.sk-toggleable__content pre {margin: 0.2em;color: black;border-radius: 0.25em;background-color: #f0f8ff;}#sk-container-id-1 input.sk-toggleable__control:checked~div.sk-toggleable__content {max-height: 200px;max-width: 100%;overflow: auto;}#sk-container-id-1 input.sk-toggleable__control:checked~label.sk-toggleable__label-arrow:before {content: \"▾\";}#sk-container-id-1 div.sk-estimator input.sk-toggleable__control:checked~label.sk-toggleable__label {background-color: #d4ebff;}#sk-container-id-1 div.sk-label input.sk-toggleable__control:checked~label.sk-toggleable__label {background-color: #d4ebff;}#sk-container-id-1 input.sk-hidden--visually {border: 0;clip: rect(1px 1px 1px 1px);clip: rect(1px, 1px, 1px, 1px);height: 1px;margin: -1px;overflow: hidden;padding: 0;position: absolute;width: 1px;}#sk-container-id-1 div.sk-estimator {font-family: monospace;background-color: #f0f8ff;border: 1px dotted black;border-radius: 0.25em;box-sizing: border-box;margin-bottom: 0.5em;}#sk-container-id-1 div.sk-estimator:hover {background-color: #d4ebff;}#sk-container-id-1 div.sk-parallel-item::after {content: \"\";width: 100%;border-bottom: 1px solid gray;flex-grow: 1;}#sk-container-id-1 div.sk-label:hover label.sk-toggleable__label {background-color: #d4ebff;}#sk-container-id-1 div.sk-serial::before {content: \"\";position: absolute;border-left: 1px solid gray;box-sizing: border-box;top: 0;bottom: 0;left: 50%;z-index: 0;}#sk-container-id-1 div.sk-serial {display: flex;flex-direction: column;align-items: center;background-color: white;padding-right: 0.2em;padding-left: 0.2em;position: relative;}#sk-container-id-1 div.sk-item {position: relative;z-index: 1;}#sk-container-id-1 div.sk-parallel {display: flex;align-items: stretch;justify-content: center;background-color: white;position: relative;}#sk-container-id-1 div.sk-item::before, #sk-container-id-1 div.sk-parallel-item::before {content: \"\";position: absolute;border-left: 1px solid gray;box-sizing: border-box;top: 0;bottom: 0;left: 50%;z-index: -1;}#sk-container-id-1 div.sk-parallel-item {display: flex;flex-direction: column;z-index: 1;position: relative;background-color: white;}#sk-container-id-1 div.sk-parallel-item:first-child::after {align-self: flex-end;width: 50%;}#sk-container-id-1 div.sk-parallel-item:last-child::after {align-self: flex-start;width: 50%;}#sk-container-id-1 div.sk-parallel-item:only-child::after {width: 0;}#sk-container-id-1 div.sk-dashed-wrapped {border: 1px dashed gray;margin: 0 0.4em 0.5em 0.4em;box-sizing: border-box;padding-bottom: 0.4em;background-color: white;}#sk-container-id-1 div.sk-label label {font-family: monospace;font-weight: bold;display: inline-block;line-height: 1.2em;}#sk-container-id-1 div.sk-label-container {text-align: center;}#sk-container-id-1 div.sk-container {/* jupyter's `normalize.less` sets `[hidden] { display: none; }` but bootstrap.min.css set `[hidden] { display: none !important; }` so we also need the `!important` here to be able to override the default hidden behavior on the sphinx rendered scikit-learn.org. See: https://github.com/scikit-learn/scikit-learn/issues/21755 */display: inline-block !important;position: relative;}#sk-container-id-1 div.sk-text-repr-fallback {display: none;}</style><div id=\"sk-container-id-1\" class=\"sk-top-container\"><div class=\"sk-text-repr-fallback\"><pre>StackingClassifier(classifiers=[BernoulliNB(), SVC(C=3, kernel=&#x27;linear&#x27;),\n",
       "                                DecisionTreeClassifier(max_depth=3),\n",
       "                                XGBClassifier(base_score=None, booster=None,\n",
       "                                              callbacks=None,\n",
       "                                              colsample_bylevel=None,\n",
       "                                              colsample_bynode=None,\n",
       "                                              colsample_bytree=None,\n",
       "                                              early_stopping_rounds=None,\n",
       "                                              enable_categorical=False,\n",
       "                                              eval_metric=None, gamma=None,\n",
       "                                              gpu_id=None, grow_policy=None,\n",
       "                                              importanc...\n",
       "                                              max_cat_to_onehot=None,\n",
       "                                              max_delta_step=None,\n",
       "                                              max_depth=None, max_leaves=None,\n",
       "                                              min_child_weight=None,\n",
       "                                              missing=nan,\n",
       "                                              monotone_constraints=None,\n",
       "                                              n_estimators=100, n_jobs=None,\n",
       "                                              num_parallel_tree=None,\n",
       "                                              objective=&#x27;multi:softprob&#x27;,\n",
       "                                              predictor=None, random_state=42,\n",
       "                                              reg_alpha=None, ...),\n",
       "                                AdaBoostClassifier()],\n",
       "                   meta_classifier=LogisticRegression(),\n",
       "                   use_features_in_secondary=True)</pre><b>In a Jupyter environment, please rerun this cell to show the HTML representation or trust the notebook. <br />On GitHub, the HTML representation is unable to render, please try loading this page with nbviewer.org.</b></div><div class=\"sk-container\" hidden><div class=\"sk-item sk-dashed-wrapped\"><div class=\"sk-label-container\"><div class=\"sk-label sk-toggleable\"><input class=\"sk-toggleable__control sk-hidden--visually\" id=\"sk-estimator-id-1\" type=\"checkbox\" ><label for=\"sk-estimator-id-1\" class=\"sk-toggleable__label sk-toggleable__label-arrow\">StackingClassifier</label><div class=\"sk-toggleable__content\"><pre>StackingClassifier(classifiers=[BernoulliNB(), SVC(C=3, kernel=&#x27;linear&#x27;),\n",
       "                                DecisionTreeClassifier(max_depth=3),\n",
       "                                XGBClassifier(base_score=None, booster=None,\n",
       "                                              callbacks=None,\n",
       "                                              colsample_bylevel=None,\n",
       "                                              colsample_bynode=None,\n",
       "                                              colsample_bytree=None,\n",
       "                                              early_stopping_rounds=None,\n",
       "                                              enable_categorical=False,\n",
       "                                              eval_metric=None, gamma=None,\n",
       "                                              gpu_id=None, grow_policy=None,\n",
       "                                              importanc...\n",
       "                                              max_cat_to_onehot=None,\n",
       "                                              max_delta_step=None,\n",
       "                                              max_depth=None, max_leaves=None,\n",
       "                                              min_child_weight=None,\n",
       "                                              missing=nan,\n",
       "                                              monotone_constraints=None,\n",
       "                                              n_estimators=100, n_jobs=None,\n",
       "                                              num_parallel_tree=None,\n",
       "                                              objective=&#x27;multi:softprob&#x27;,\n",
       "                                              predictor=None, random_state=42,\n",
       "                                              reg_alpha=None, ...),\n",
       "                                AdaBoostClassifier()],\n",
       "                   meta_classifier=LogisticRegression(),\n",
       "                   use_features_in_secondary=True)</pre></div></div></div><div class=\"sk-parallel\"><div class=\"sk-parallel-item\"><div class=\"sk-item\"><div class=\"sk-label-container\"><div class=\"sk-label sk-toggleable\"><input class=\"sk-toggleable__control sk-hidden--visually\" id=\"sk-estimator-id-2\" type=\"checkbox\" ><label for=\"sk-estimator-id-2\" class=\"sk-toggleable__label sk-toggleable__label-arrow\">meta_classifier: LogisticRegression</label><div class=\"sk-toggleable__content\"><pre>LogisticRegression()</pre></div></div></div><div class=\"sk-serial\"><div class=\"sk-item\"><div class=\"sk-estimator sk-toggleable\"><input class=\"sk-toggleable__control sk-hidden--visually\" id=\"sk-estimator-id-3\" type=\"checkbox\" ><label for=\"sk-estimator-id-3\" class=\"sk-toggleable__label sk-toggleable__label-arrow\">LogisticRegression</label><div class=\"sk-toggleable__content\"><pre>LogisticRegression()</pre></div></div></div></div></div></div></div></div></div></div>"
      ],
      "text/plain": [
       "StackingClassifier(classifiers=[BernoulliNB(), SVC(C=3, kernel='linear'),\n",
       "                                DecisionTreeClassifier(max_depth=3),\n",
       "                                XGBClassifier(base_score=None, booster=None,\n",
       "                                              callbacks=None,\n",
       "                                              colsample_bylevel=None,\n",
       "                                              colsample_bynode=None,\n",
       "                                              colsample_bytree=None,\n",
       "                                              early_stopping_rounds=None,\n",
       "                                              enable_categorical=False,\n",
       "                                              eval_metric=None, gamma=None,\n",
       "                                              gpu_id=None, grow_policy=None,\n",
       "                                              importanc...\n",
       "                                              max_cat_to_onehot=None,\n",
       "                                              max_delta_step=None,\n",
       "                                              max_depth=None, max_leaves=None,\n",
       "                                              min_child_weight=None,\n",
       "                                              missing=nan,\n",
       "                                              monotone_constraints=None,\n",
       "                                              n_estimators=100, n_jobs=None,\n",
       "                                              num_parallel_tree=None,\n",
       "                                              objective='multi:softprob',\n",
       "                                              predictor=None, random_state=42,\n",
       "                                              reg_alpha=None, ...),\n",
       "                                AdaBoostClassifier()],\n",
       "                   meta_classifier=LogisticRegression(),\n",
       "                   use_features_in_secondary=True)"
      ]
     },
     "execution_count": 219,
     "metadata": {},
     "output_type": "execute_result"
    }
   ],
   "source": [
    "final_stack_last.fit(all_var_class, tech_y)"
   ]
  },
  {
   "cell_type": "code",
   "execution_count": 221,
   "metadata": {},
   "outputs": [],
   "source": [
    "last_stack = final_stack_last.predict(tech_predict)"
   ]
  },
  {
   "cell_type": "code",
   "execution_count": 223,
   "metadata": {},
   "outputs": [],
   "source": [
    "lr = LogisticRegression(multi_class='multinomial', random_state=1)  # defining meta-classifier\n",
    "final_stack_last1 = StackingClassifier(classifiers =[BernoulliNB(), \n",
    "                                              SVC(kernel = 'linear', C = 3),\n",
    "                                              DecisionTreeClassifier(max_depth = 3),\n",
    "                                              xgb.XGBClassifier(objective=\"multi:softprob\", random_state=42),\n",
    "                                              AdaBoostClassifier()\n",
    "                                              ], \n",
    "                        meta_classifier = lr, use_probas = False, use_features_in_secondary = True)"
   ]
  },
  {
   "cell_type": "code",
   "execution_count": 224,
   "metadata": {},
   "outputs": [
    {
     "data": {
      "text/html": [
       "<style>#sk-container-id-2 {color: black;background-color: white;}#sk-container-id-2 pre{padding: 0;}#sk-container-id-2 div.sk-toggleable {background-color: white;}#sk-container-id-2 label.sk-toggleable__label {cursor: pointer;display: block;width: 100%;margin-bottom: 0;padding: 0.3em;box-sizing: border-box;text-align: center;}#sk-container-id-2 label.sk-toggleable__label-arrow:before {content: \"▸\";float: left;margin-right: 0.25em;color: #696969;}#sk-container-id-2 label.sk-toggleable__label-arrow:hover:before {color: black;}#sk-container-id-2 div.sk-estimator:hover label.sk-toggleable__label-arrow:before {color: black;}#sk-container-id-2 div.sk-toggleable__content {max-height: 0;max-width: 0;overflow: hidden;text-align: left;background-color: #f0f8ff;}#sk-container-id-2 div.sk-toggleable__content pre {margin: 0.2em;color: black;border-radius: 0.25em;background-color: #f0f8ff;}#sk-container-id-2 input.sk-toggleable__control:checked~div.sk-toggleable__content {max-height: 200px;max-width: 100%;overflow: auto;}#sk-container-id-2 input.sk-toggleable__control:checked~label.sk-toggleable__label-arrow:before {content: \"▾\";}#sk-container-id-2 div.sk-estimator input.sk-toggleable__control:checked~label.sk-toggleable__label {background-color: #d4ebff;}#sk-container-id-2 div.sk-label input.sk-toggleable__control:checked~label.sk-toggleable__label {background-color: #d4ebff;}#sk-container-id-2 input.sk-hidden--visually {border: 0;clip: rect(1px 1px 1px 1px);clip: rect(1px, 1px, 1px, 1px);height: 1px;margin: -1px;overflow: hidden;padding: 0;position: absolute;width: 1px;}#sk-container-id-2 div.sk-estimator {font-family: monospace;background-color: #f0f8ff;border: 1px dotted black;border-radius: 0.25em;box-sizing: border-box;margin-bottom: 0.5em;}#sk-container-id-2 div.sk-estimator:hover {background-color: #d4ebff;}#sk-container-id-2 div.sk-parallel-item::after {content: \"\";width: 100%;border-bottom: 1px solid gray;flex-grow: 1;}#sk-container-id-2 div.sk-label:hover label.sk-toggleable__label {background-color: #d4ebff;}#sk-container-id-2 div.sk-serial::before {content: \"\";position: absolute;border-left: 1px solid gray;box-sizing: border-box;top: 0;bottom: 0;left: 50%;z-index: 0;}#sk-container-id-2 div.sk-serial {display: flex;flex-direction: column;align-items: center;background-color: white;padding-right: 0.2em;padding-left: 0.2em;position: relative;}#sk-container-id-2 div.sk-item {position: relative;z-index: 1;}#sk-container-id-2 div.sk-parallel {display: flex;align-items: stretch;justify-content: center;background-color: white;position: relative;}#sk-container-id-2 div.sk-item::before, #sk-container-id-2 div.sk-parallel-item::before {content: \"\";position: absolute;border-left: 1px solid gray;box-sizing: border-box;top: 0;bottom: 0;left: 50%;z-index: -1;}#sk-container-id-2 div.sk-parallel-item {display: flex;flex-direction: column;z-index: 1;position: relative;background-color: white;}#sk-container-id-2 div.sk-parallel-item:first-child::after {align-self: flex-end;width: 50%;}#sk-container-id-2 div.sk-parallel-item:last-child::after {align-self: flex-start;width: 50%;}#sk-container-id-2 div.sk-parallel-item:only-child::after {width: 0;}#sk-container-id-2 div.sk-dashed-wrapped {border: 1px dashed gray;margin: 0 0.4em 0.5em 0.4em;box-sizing: border-box;padding-bottom: 0.4em;background-color: white;}#sk-container-id-2 div.sk-label label {font-family: monospace;font-weight: bold;display: inline-block;line-height: 1.2em;}#sk-container-id-2 div.sk-label-container {text-align: center;}#sk-container-id-2 div.sk-container {/* jupyter's `normalize.less` sets `[hidden] { display: none; }` but bootstrap.min.css set `[hidden] { display: none !important; }` so we also need the `!important` here to be able to override the default hidden behavior on the sphinx rendered scikit-learn.org. See: https://github.com/scikit-learn/scikit-learn/issues/21755 */display: inline-block !important;position: relative;}#sk-container-id-2 div.sk-text-repr-fallback {display: none;}</style><div id=\"sk-container-id-2\" class=\"sk-top-container\"><div class=\"sk-text-repr-fallback\"><pre>StackingClassifier(classifiers=[BernoulliNB(), SVC(C=3, kernel=&#x27;linear&#x27;),\n",
       "                                DecisionTreeClassifier(max_depth=3),\n",
       "                                XGBClassifier(base_score=None, booster=None,\n",
       "                                              callbacks=None,\n",
       "                                              colsample_bylevel=None,\n",
       "                                              colsample_bynode=None,\n",
       "                                              colsample_bytree=None,\n",
       "                                              early_stopping_rounds=None,\n",
       "                                              enable_categorical=False,\n",
       "                                              eval_metric=None, gamma=None,\n",
       "                                              gpu_id=None, grow_policy=None,\n",
       "                                              importanc...\n",
       "                                              max_depth=None, max_leaves=None,\n",
       "                                              min_child_weight=None,\n",
       "                                              missing=nan,\n",
       "                                              monotone_constraints=None,\n",
       "                                              n_estimators=100, n_jobs=None,\n",
       "                                              num_parallel_tree=None,\n",
       "                                              objective=&#x27;multi:softprob&#x27;,\n",
       "                                              predictor=None, random_state=42,\n",
       "                                              reg_alpha=None, ...),\n",
       "                                AdaBoostClassifier()],\n",
       "                   meta_classifier=LogisticRegression(multi_class=&#x27;multinomial&#x27;,\n",
       "                                                      random_state=1),\n",
       "                   use_features_in_secondary=True)</pre><b>In a Jupyter environment, please rerun this cell to show the HTML representation or trust the notebook. <br />On GitHub, the HTML representation is unable to render, please try loading this page with nbviewer.org.</b></div><div class=\"sk-container\" hidden><div class=\"sk-item sk-dashed-wrapped\"><div class=\"sk-label-container\"><div class=\"sk-label sk-toggleable\"><input class=\"sk-toggleable__control sk-hidden--visually\" id=\"sk-estimator-id-4\" type=\"checkbox\" ><label for=\"sk-estimator-id-4\" class=\"sk-toggleable__label sk-toggleable__label-arrow\">StackingClassifier</label><div class=\"sk-toggleable__content\"><pre>StackingClassifier(classifiers=[BernoulliNB(), SVC(C=3, kernel=&#x27;linear&#x27;),\n",
       "                                DecisionTreeClassifier(max_depth=3),\n",
       "                                XGBClassifier(base_score=None, booster=None,\n",
       "                                              callbacks=None,\n",
       "                                              colsample_bylevel=None,\n",
       "                                              colsample_bynode=None,\n",
       "                                              colsample_bytree=None,\n",
       "                                              early_stopping_rounds=None,\n",
       "                                              enable_categorical=False,\n",
       "                                              eval_metric=None, gamma=None,\n",
       "                                              gpu_id=None, grow_policy=None,\n",
       "                                              importanc...\n",
       "                                              max_depth=None, max_leaves=None,\n",
       "                                              min_child_weight=None,\n",
       "                                              missing=nan,\n",
       "                                              monotone_constraints=None,\n",
       "                                              n_estimators=100, n_jobs=None,\n",
       "                                              num_parallel_tree=None,\n",
       "                                              objective=&#x27;multi:softprob&#x27;,\n",
       "                                              predictor=None, random_state=42,\n",
       "                                              reg_alpha=None, ...),\n",
       "                                AdaBoostClassifier()],\n",
       "                   meta_classifier=LogisticRegression(multi_class=&#x27;multinomial&#x27;,\n",
       "                                                      random_state=1),\n",
       "                   use_features_in_secondary=True)</pre></div></div></div><div class=\"sk-parallel\"><div class=\"sk-parallel-item\"><div class=\"sk-item\"><div class=\"sk-label-container\"><div class=\"sk-label sk-toggleable\"><input class=\"sk-toggleable__control sk-hidden--visually\" id=\"sk-estimator-id-5\" type=\"checkbox\" ><label for=\"sk-estimator-id-5\" class=\"sk-toggleable__label sk-toggleable__label-arrow\">meta_classifier: LogisticRegression</label><div class=\"sk-toggleable__content\"><pre>LogisticRegression(multi_class=&#x27;multinomial&#x27;, random_state=1)</pre></div></div></div><div class=\"sk-serial\"><div class=\"sk-item\"><div class=\"sk-estimator sk-toggleable\"><input class=\"sk-toggleable__control sk-hidden--visually\" id=\"sk-estimator-id-6\" type=\"checkbox\" ><label for=\"sk-estimator-id-6\" class=\"sk-toggleable__label sk-toggleable__label-arrow\">LogisticRegression</label><div class=\"sk-toggleable__content\"><pre>LogisticRegression(multi_class=&#x27;multinomial&#x27;, random_state=1)</pre></div></div></div></div></div></div></div></div></div></div>"
      ],
      "text/plain": [
       "StackingClassifier(classifiers=[BernoulliNB(), SVC(C=3, kernel='linear'),\n",
       "                                DecisionTreeClassifier(max_depth=3),\n",
       "                                XGBClassifier(base_score=None, booster=None,\n",
       "                                              callbacks=None,\n",
       "                                              colsample_bylevel=None,\n",
       "                                              colsample_bynode=None,\n",
       "                                              colsample_bytree=None,\n",
       "                                              early_stopping_rounds=None,\n",
       "                                              enable_categorical=False,\n",
       "                                              eval_metric=None, gamma=None,\n",
       "                                              gpu_id=None, grow_policy=None,\n",
       "                                              importanc...\n",
       "                                              max_depth=None, max_leaves=None,\n",
       "                                              min_child_weight=None,\n",
       "                                              missing=nan,\n",
       "                                              monotone_constraints=None,\n",
       "                                              n_estimators=100, n_jobs=None,\n",
       "                                              num_parallel_tree=None,\n",
       "                                              objective='multi:softprob',\n",
       "                                              predictor=None, random_state=42,\n",
       "                                              reg_alpha=None, ...),\n",
       "                                AdaBoostClassifier()],\n",
       "                   meta_classifier=LogisticRegression(multi_class='multinomial',\n",
       "                                                      random_state=1),\n",
       "                   use_features_in_secondary=True)"
      ]
     },
     "execution_count": 224,
     "metadata": {},
     "output_type": "execute_result"
    }
   ],
   "source": [
    "final_stack_last1.fit(all_var_class, tech_y)"
   ]
  },
  {
   "cell_type": "code",
   "execution_count": 225,
   "metadata": {},
   "outputs": [],
   "source": [
    "last_stack1 = final_stack_last1.predict(tech_predict)"
   ]
  },
  {
   "cell_type": "code",
   "execution_count": 227,
   "metadata": {},
   "outputs": [],
   "source": [
    "lr = LogisticRegression(multi_class='multinomial', random_state=1)  # defining meta-classifier\n",
    "final_stack_last2 = StackingClassifier(classifiers =[\n",
    "                                              xgb.XGBClassifier(objective=\"multi:softprob\", random_state=42),\n",
    "                                              AdaBoostClassifier()\n",
    "                                              ], \n",
    "                        meta_classifier = lr, use_probas = False, use_features_in_secondary = True)"
   ]
  },
  {
   "cell_type": "code",
   "execution_count": 228,
   "metadata": {},
   "outputs": [
    {
     "name": "stderr",
     "output_type": "stream",
     "text": [
      "C:\\Users\\rutho\\AppData\\Roaming\\Python\\Python39\\site-packages\\sklearn\\linear_model\\_logistic.py:444: ConvergenceWarning: lbfgs failed to converge (status=1):\n",
      "STOP: TOTAL NO. of ITERATIONS REACHED LIMIT.\n",
      "\n",
      "Increase the number of iterations (max_iter) or scale the data as shown in:\n",
      "    https://scikit-learn.org/stable/modules/preprocessing.html\n",
      "Please also refer to the documentation for alternative solver options:\n",
      "    https://scikit-learn.org/stable/modules/linear_model.html#logistic-regression\n",
      "  n_iter_i = _check_optimize_result(\n"
     ]
    },
    {
     "data": {
      "text/html": [
       "<style>#sk-container-id-3 {color: black;background-color: white;}#sk-container-id-3 pre{padding: 0;}#sk-container-id-3 div.sk-toggleable {background-color: white;}#sk-container-id-3 label.sk-toggleable__label {cursor: pointer;display: block;width: 100%;margin-bottom: 0;padding: 0.3em;box-sizing: border-box;text-align: center;}#sk-container-id-3 label.sk-toggleable__label-arrow:before {content: \"▸\";float: left;margin-right: 0.25em;color: #696969;}#sk-container-id-3 label.sk-toggleable__label-arrow:hover:before {color: black;}#sk-container-id-3 div.sk-estimator:hover label.sk-toggleable__label-arrow:before {color: black;}#sk-container-id-3 div.sk-toggleable__content {max-height: 0;max-width: 0;overflow: hidden;text-align: left;background-color: #f0f8ff;}#sk-container-id-3 div.sk-toggleable__content pre {margin: 0.2em;color: black;border-radius: 0.25em;background-color: #f0f8ff;}#sk-container-id-3 input.sk-toggleable__control:checked~div.sk-toggleable__content {max-height: 200px;max-width: 100%;overflow: auto;}#sk-container-id-3 input.sk-toggleable__control:checked~label.sk-toggleable__label-arrow:before {content: \"▾\";}#sk-container-id-3 div.sk-estimator input.sk-toggleable__control:checked~label.sk-toggleable__label {background-color: #d4ebff;}#sk-container-id-3 div.sk-label input.sk-toggleable__control:checked~label.sk-toggleable__label {background-color: #d4ebff;}#sk-container-id-3 input.sk-hidden--visually {border: 0;clip: rect(1px 1px 1px 1px);clip: rect(1px, 1px, 1px, 1px);height: 1px;margin: -1px;overflow: hidden;padding: 0;position: absolute;width: 1px;}#sk-container-id-3 div.sk-estimator {font-family: monospace;background-color: #f0f8ff;border: 1px dotted black;border-radius: 0.25em;box-sizing: border-box;margin-bottom: 0.5em;}#sk-container-id-3 div.sk-estimator:hover {background-color: #d4ebff;}#sk-container-id-3 div.sk-parallel-item::after {content: \"\";width: 100%;border-bottom: 1px solid gray;flex-grow: 1;}#sk-container-id-3 div.sk-label:hover label.sk-toggleable__label {background-color: #d4ebff;}#sk-container-id-3 div.sk-serial::before {content: \"\";position: absolute;border-left: 1px solid gray;box-sizing: border-box;top: 0;bottom: 0;left: 50%;z-index: 0;}#sk-container-id-3 div.sk-serial {display: flex;flex-direction: column;align-items: center;background-color: white;padding-right: 0.2em;padding-left: 0.2em;position: relative;}#sk-container-id-3 div.sk-item {position: relative;z-index: 1;}#sk-container-id-3 div.sk-parallel {display: flex;align-items: stretch;justify-content: center;background-color: white;position: relative;}#sk-container-id-3 div.sk-item::before, #sk-container-id-3 div.sk-parallel-item::before {content: \"\";position: absolute;border-left: 1px solid gray;box-sizing: border-box;top: 0;bottom: 0;left: 50%;z-index: -1;}#sk-container-id-3 div.sk-parallel-item {display: flex;flex-direction: column;z-index: 1;position: relative;background-color: white;}#sk-container-id-3 div.sk-parallel-item:first-child::after {align-self: flex-end;width: 50%;}#sk-container-id-3 div.sk-parallel-item:last-child::after {align-self: flex-start;width: 50%;}#sk-container-id-3 div.sk-parallel-item:only-child::after {width: 0;}#sk-container-id-3 div.sk-dashed-wrapped {border: 1px dashed gray;margin: 0 0.4em 0.5em 0.4em;box-sizing: border-box;padding-bottom: 0.4em;background-color: white;}#sk-container-id-3 div.sk-label label {font-family: monospace;font-weight: bold;display: inline-block;line-height: 1.2em;}#sk-container-id-3 div.sk-label-container {text-align: center;}#sk-container-id-3 div.sk-container {/* jupyter's `normalize.less` sets `[hidden] { display: none; }` but bootstrap.min.css set `[hidden] { display: none !important; }` so we also need the `!important` here to be able to override the default hidden behavior on the sphinx rendered scikit-learn.org. See: https://github.com/scikit-learn/scikit-learn/issues/21755 */display: inline-block !important;position: relative;}#sk-container-id-3 div.sk-text-repr-fallback {display: none;}</style><div id=\"sk-container-id-3\" class=\"sk-top-container\"><div class=\"sk-text-repr-fallback\"><pre>StackingClassifier(classifiers=[XGBClassifier(base_score=None, booster=None,\n",
       "                                              callbacks=None,\n",
       "                                              colsample_bylevel=None,\n",
       "                                              colsample_bynode=None,\n",
       "                                              colsample_bytree=None,\n",
       "                                              early_stopping_rounds=None,\n",
       "                                              enable_categorical=False,\n",
       "                                              eval_metric=None, gamma=None,\n",
       "                                              gpu_id=None, grow_policy=None,\n",
       "                                              importance_type=None,\n",
       "                                              interaction_constraints=None,\n",
       "                                              learning_rate=None, max_bin=None,\n",
       "                                              ma...\n",
       "                                              max_depth=None, max_leaves=None,\n",
       "                                              min_child_weight=None,\n",
       "                                              missing=nan,\n",
       "                                              monotone_constraints=None,\n",
       "                                              n_estimators=100, n_jobs=None,\n",
       "                                              num_parallel_tree=None,\n",
       "                                              objective=&#x27;multi:softprob&#x27;,\n",
       "                                              predictor=None, random_state=42,\n",
       "                                              reg_alpha=None, ...),\n",
       "                                AdaBoostClassifier()],\n",
       "                   meta_classifier=LogisticRegression(multi_class=&#x27;multinomial&#x27;,\n",
       "                                                      random_state=1),\n",
       "                   use_features_in_secondary=True)</pre><b>In a Jupyter environment, please rerun this cell to show the HTML representation or trust the notebook. <br />On GitHub, the HTML representation is unable to render, please try loading this page with nbviewer.org.</b></div><div class=\"sk-container\" hidden><div class=\"sk-item sk-dashed-wrapped\"><div class=\"sk-label-container\"><div class=\"sk-label sk-toggleable\"><input class=\"sk-toggleable__control sk-hidden--visually\" id=\"sk-estimator-id-7\" type=\"checkbox\" ><label for=\"sk-estimator-id-7\" class=\"sk-toggleable__label sk-toggleable__label-arrow\">StackingClassifier</label><div class=\"sk-toggleable__content\"><pre>StackingClassifier(classifiers=[XGBClassifier(base_score=None, booster=None,\n",
       "                                              callbacks=None,\n",
       "                                              colsample_bylevel=None,\n",
       "                                              colsample_bynode=None,\n",
       "                                              colsample_bytree=None,\n",
       "                                              early_stopping_rounds=None,\n",
       "                                              enable_categorical=False,\n",
       "                                              eval_metric=None, gamma=None,\n",
       "                                              gpu_id=None, grow_policy=None,\n",
       "                                              importance_type=None,\n",
       "                                              interaction_constraints=None,\n",
       "                                              learning_rate=None, max_bin=None,\n",
       "                                              ma...\n",
       "                                              max_depth=None, max_leaves=None,\n",
       "                                              min_child_weight=None,\n",
       "                                              missing=nan,\n",
       "                                              monotone_constraints=None,\n",
       "                                              n_estimators=100, n_jobs=None,\n",
       "                                              num_parallel_tree=None,\n",
       "                                              objective=&#x27;multi:softprob&#x27;,\n",
       "                                              predictor=None, random_state=42,\n",
       "                                              reg_alpha=None, ...),\n",
       "                                AdaBoostClassifier()],\n",
       "                   meta_classifier=LogisticRegression(multi_class=&#x27;multinomial&#x27;,\n",
       "                                                      random_state=1),\n",
       "                   use_features_in_secondary=True)</pre></div></div></div><div class=\"sk-parallel\"><div class=\"sk-parallel-item\"><div class=\"sk-item\"><div class=\"sk-label-container\"><div class=\"sk-label sk-toggleable\"><input class=\"sk-toggleable__control sk-hidden--visually\" id=\"sk-estimator-id-8\" type=\"checkbox\" ><label for=\"sk-estimator-id-8\" class=\"sk-toggleable__label sk-toggleable__label-arrow\">meta_classifier: LogisticRegression</label><div class=\"sk-toggleable__content\"><pre>LogisticRegression(multi_class=&#x27;multinomial&#x27;, random_state=1)</pre></div></div></div><div class=\"sk-serial\"><div class=\"sk-item\"><div class=\"sk-estimator sk-toggleable\"><input class=\"sk-toggleable__control sk-hidden--visually\" id=\"sk-estimator-id-9\" type=\"checkbox\" ><label for=\"sk-estimator-id-9\" class=\"sk-toggleable__label sk-toggleable__label-arrow\">LogisticRegression</label><div class=\"sk-toggleable__content\"><pre>LogisticRegression(multi_class=&#x27;multinomial&#x27;, random_state=1)</pre></div></div></div></div></div></div></div></div></div></div>"
      ],
      "text/plain": [
       "StackingClassifier(classifiers=[XGBClassifier(base_score=None, booster=None,\n",
       "                                              callbacks=None,\n",
       "                                              colsample_bylevel=None,\n",
       "                                              colsample_bynode=None,\n",
       "                                              colsample_bytree=None,\n",
       "                                              early_stopping_rounds=None,\n",
       "                                              enable_categorical=False,\n",
       "                                              eval_metric=None, gamma=None,\n",
       "                                              gpu_id=None, grow_policy=None,\n",
       "                                              importance_type=None,\n",
       "                                              interaction_constraints=None,\n",
       "                                              learning_rate=None, max_bin=None,\n",
       "                                              ma...\n",
       "                                              max_depth=None, max_leaves=None,\n",
       "                                              min_child_weight=None,\n",
       "                                              missing=nan,\n",
       "                                              monotone_constraints=None,\n",
       "                                              n_estimators=100, n_jobs=None,\n",
       "                                              num_parallel_tree=None,\n",
       "                                              objective='multi:softprob',\n",
       "                                              predictor=None, random_state=42,\n",
       "                                              reg_alpha=None, ...),\n",
       "                                AdaBoostClassifier()],\n",
       "                   meta_classifier=LogisticRegression(multi_class='multinomial',\n",
       "                                                      random_state=1),\n",
       "                   use_features_in_secondary=True)"
      ]
     },
     "execution_count": 228,
     "metadata": {},
     "output_type": "execute_result"
    }
   ],
   "source": [
    "final_stack_last2.fit(all_var_class, tech_y)"
   ]
  },
  {
   "cell_type": "code",
   "execution_count": 229,
   "metadata": {},
   "outputs": [],
   "source": [
    "last_stack2 = final_stack_last2.predict(tech_predict)"
   ]
  },
  {
   "cell_type": "code",
   "execution_count": 1193,
   "metadata": {},
   "outputs": [
    {
     "data": {
      "text/plain": [
       "Counter({1: 11184, 2: 3408, 0: 258})"
      ]
     },
     "execution_count": 1193,
     "metadata": {},
     "output_type": "execute_result"
    }
   ],
   "source": [
    "Counter(predict1)"
   ]
  },
  {
   "cell_type": "code",
   "execution_count": 1217,
   "metadata": {},
   "outputs": [
    {
     "data": {
      "text/plain": [
       "Counter({1: 8374, 0: 909, 2: 5567})"
      ]
     },
     "execution_count": 1217,
     "metadata": {},
     "output_type": "execute_result"
    }
   ],
   "source": [
    "Counter(predict2)"
   ]
  },
  {
   "cell_type": "code",
   "execution_count": 1218,
   "metadata": {},
   "outputs": [
    {
     "data": {
      "text/plain": [
       "Counter({1: 11173, 2: 3534, 0: 143})"
      ]
     },
     "execution_count": 1218,
     "metadata": {},
     "output_type": "execute_result"
    }
   ],
   "source": [
    "Counter(predict3)"
   ]
  },
  {
   "cell_type": "code",
   "execution_count": 1226,
   "metadata": {},
   "outputs": [
    {
     "data": {
      "text/plain": [
       "Counter({2: 7648, 1: 7195, 0: 7})"
      ]
     },
     "execution_count": 1226,
     "metadata": {},
     "output_type": "execute_result"
    }
   ],
   "source": [
    "Counter(predict4)"
   ]
  },
  {
   "cell_type": "code",
   "execution_count": 1233,
   "metadata": {},
   "outputs": [
    {
     "data": {
      "text/plain": [
       "Counter({2: 4299, 0: 9771, 1: 780})"
      ]
     },
     "execution_count": 1233,
     "metadata": {},
     "output_type": "execute_result"
    }
   ],
   "source": [
    "Counter(predict7)"
   ]
  },
  {
   "cell_type": "code",
   "execution_count": 238,
   "metadata": {},
   "outputs": [
    {
     "data": {
      "text/plain": [
       "Counter({2: 6064, 1: 8374, 0: 412})"
      ]
     },
     "execution_count": 238,
     "metadata": {},
     "output_type": "execute_result"
    }
   ],
   "source": [
    "Counter(predict8)#stack of everything"
   ]
  },
  {
   "cell_type": "code",
   "execution_count": 215,
   "metadata": {},
   "outputs": [
    {
     "data": {
      "text/plain": [
       "Counter({1: 10759, 2: 3792, 0: 299})"
      ]
     },
     "execution_count": 215,
     "metadata": {},
     "output_type": "execute_result"
    }
   ],
   "source": [
    "Counter(vooting_pred)#vooting of everything"
   ]
  },
  {
   "cell_type": "code",
   "execution_count": 229,
   "metadata": {},
   "outputs": [
    {
     "data": {
      "text/plain": [
       "Counter({1: 8379, 0: 904, 2: 5567})"
      ]
     },
     "execution_count": 229,
     "metadata": {},
     "output_type": "execute_result"
    }
   ],
   "source": [
    "Counter(predict9)#stack of pred2 and pred7"
   ]
  },
  {
   "cell_type": "code",
   "execution_count": 233,
   "metadata": {},
   "outputs": [
    {
     "data": {
      "text/plain": [
       "Counter({2: 6317, 1: 8061, 0: 472})"
      ]
     },
     "execution_count": 233,
     "metadata": {},
     "output_type": "execute_result"
    }
   ],
   "source": [
    "Counter(predict10)#stack of pred2 and pred7"
   ]
  },
  {
   "cell_type": "code",
   "execution_count": 245,
   "metadata": {},
   "outputs": [
    {
     "data": {
      "text/plain": [
       "Counter({2: 13559, 0: 1291})"
      ]
     },
     "execution_count": 245,
     "metadata": {},
     "output_type": "execute_result"
    }
   ],
   "source": [
    "Counter(predict11)#2"
   ]
  },
  {
   "cell_type": "code",
   "execution_count": 235,
   "metadata": {},
   "outputs": [
    {
     "data": {
      "text/plain": [
       "Counter({2: 1672, 0: 8901, 1: 4277})"
      ]
     },
     "execution_count": 235,
     "metadata": {},
     "output_type": "execute_result"
    }
   ],
   "source": [
    "Counter(predict12)#3"
   ]
  },
  {
   "cell_type": "code",
   "execution_count": 246,
   "metadata": {},
   "outputs": [
    {
     "data": {
      "text/plain": [
       "Counter({1: 10818, 0: 3713, 2: 319})"
      ]
     },
     "execution_count": 246,
     "metadata": {},
     "output_type": "execute_result"
    }
   ],
   "source": [
    "Counter(predict13)"
   ]
  },
  {
   "cell_type": "code",
   "execution_count": 249,
   "metadata": {},
   "outputs": [
    {
     "data": {
      "text/plain": [
       "Counter({1: 8234, 2: 6554, 0: 62})"
      ]
     },
     "execution_count": 249,
     "metadata": {},
     "output_type": "execute_result"
    }
   ],
   "source": [
    "Counter(predict14)"
   ]
  },
  {
   "cell_type": "code",
   "execution_count": 252,
   "metadata": {},
   "outputs": [
    {
     "data": {
      "text/plain": [
       "Counter({1: 7553, 0: 850, 2: 6447})"
      ]
     },
     "execution_count": 252,
     "metadata": {},
     "output_type": "execute_result"
    }
   ],
   "source": [
    "Counter(predict15)"
   ]
  },
  {
   "cell_type": "code",
   "execution_count": 212,
   "metadata": {},
   "outputs": [
    {
     "data": {
      "text/plain": [
       "Counter({2: 278, 1: 9479, 0: 5093})"
      ]
     },
     "execution_count": 212,
     "metadata": {},
     "output_type": "execute_result"
    }
   ],
   "source": [
    "Counter(predict16)#boosting"
   ]
  },
  {
   "cell_type": "code",
   "execution_count": 217,
   "metadata": {},
   "outputs": [
    {
     "data": {
      "text/plain": [
       "Counter({2: 1631, 0: 13185, 1: 34})"
      ]
     },
     "execution_count": 217,
     "metadata": {},
     "output_type": "execute_result"
    }
   ],
   "source": [
    "Counter(xgboost_pred)#xgboost"
   ]
  },
  {
   "cell_type": "code",
   "execution_count": 199,
   "metadata": {},
   "outputs": [
    {
     "data": {
      "text/plain": [
       "Counter({2: 6318, 1: 8060, 0: 472})"
      ]
     },
     "execution_count": 199,
     "metadata": {},
     "output_type": "execute_result"
    }
   ],
   "source": [
    "Counter(all_pred)#stacking1"
   ]
  },
  {
   "cell_type": "code",
   "execution_count": 203,
   "metadata": {},
   "outputs": [
    {
     "data": {
      "text/plain": [
       "Counter({2: 6064, 1: 8373, 0: 413})"
      ]
     },
     "execution_count": 203,
     "metadata": {},
     "output_type": "execute_result"
    }
   ],
   "source": [
    "Counter(all_pred)#stacking2"
   ]
  },
  {
   "cell_type": "code",
   "execution_count": 207,
   "metadata": {},
   "outputs": [
    {
     "data": {
      "text/plain": [
       "Counter({2: 6283, 1: 8073, 0: 494})"
      ]
     },
     "execution_count": 207,
     "metadata": {},
     "output_type": "execute_result"
    }
   ],
   "source": [
    "Counter(all_pred)#stacking3"
   ]
  },
  {
   "cell_type": "code",
   "execution_count": 222,
   "metadata": {},
   "outputs": [
    {
     "data": {
      "text/plain": [
       "Counter({2: 6064, 1: 8374, 0: 412})"
      ]
     },
     "execution_count": 222,
     "metadata": {},
     "output_type": "execute_result"
    }
   ],
   "source": [
    "Counter(last_stack)"
   ]
  },
  {
   "cell_type": "code",
   "execution_count": 226,
   "metadata": {},
   "outputs": [
    {
     "data": {
      "text/plain": [
       "Counter({2: 6064, 1: 8373, 0: 413})"
      ]
     },
     "execution_count": 226,
     "metadata": {},
     "output_type": "execute_result"
    }
   ],
   "source": [
    "Counter(last_stack1)"
   ]
  },
  {
   "cell_type": "code",
   "execution_count": 230,
   "metadata": {},
   "outputs": [
    {
     "data": {
      "text/plain": [
       "Counter({2: 6237, 1: 8142, 0: 471})"
      ]
     },
     "execution_count": 230,
     "metadata": {},
     "output_type": "execute_result"
    }
   ],
   "source": [
    "Counter(last_stack2)"
   ]
  },
  {
   "cell_type": "code",
   "execution_count": 255,
   "metadata": {},
   "outputs": [],
   "source": [
    "numbers4 = []\n",
    "for number in populations:\n",
    "    if 0 <= number <= 2000:numbers4.append(number)"
   ]
  },
  {
   "cell_type": "code",
   "execution_count": 259,
   "metadata": {},
   "outputs": [],
   "source": [
    "quality_good_var = [0, 1, 2]\n",
    "\n",
    "waterpiont_good_var = [0]\n",
    "\n",
    "source_good_var = [0, 1, 2]\n",
    "\n",
    "sor_qual_good_var1 = [0, 1]\n",
    "\n",
    "sor_qual_good_var2 = [0]\n",
    "\n",
    "basin_good_var = [0, 1]\n",
    "\n",
    "water_qual_good_var1 = [0, 1, 2, 3]\n",
    "\n",
    "water_qual_good_var2 = []\n",
    "for i in Counter(numbers4): water_qual_good_var2.append(i)\n",
    "\n",
    "reg_qual_good_var = [0, 1, 2, 3, 4, 5, 6]"
   ]
  },
  {
   "cell_type": "code",
   "execution_count": 261,
   "metadata": {
    "tags": []
   },
   "outputs": [],
   "source": [
    "a = [quality_good_var, waterpiont_good_var, source_good_var, sor_qual_good_var1, \n",
    "     sor_qual_good_var2, basin_good_var, water_qual_good_var1, water_qual_good_var2, \n",
    "     reg_qual_good_var ]\n",
    "all_good_var1 = [list(x) for x in numpy.array(numpy.meshgrid(*a)).T.reshape(-1,len(a))]"
   ]
  },
  {
   "cell_type": "code",
   "execution_count": 262,
   "metadata": {
    "tags": []
   },
   "outputs": [
    {
     "data": {
      "text/plain": [
       "577584"
      ]
     },
     "execution_count": 262,
     "metadata": {},
     "output_type": "execute_result"
    }
   ],
   "source": [
    "len(all_good_var1)"
   ]
  },
  {
   "cell_type": "code",
   "execution_count": 264,
   "metadata": {},
   "outputs": [],
   "source": [
    "quality_inter_var = [3, 4]\n",
    "\n",
    "waterpiont_inter_var = [1, 2]\n",
    "\n",
    "source_inter_var = [3, 4]\n",
    "\n",
    "sor_qual_inter_var1 = [2]\n",
    "\n",
    "sor_qual_inter_var2 = [1]\n",
    "\n",
    "basin_inter_var = [2, 3, 4]\n",
    "\n",
    "water_qual_inter_var1 = [4]\n",
    "\n",
    "water_qual_inter_var2 = [-1]\n",
    "\n",
    "reg_qual_inter_var = [7, 8, 9, 10, 11, 12]"
   ]
  },
  {
   "cell_type": "code",
   "execution_count": 276,
   "metadata": {
    "tags": []
   },
   "outputs": [],
   "source": [
    "a = [quality_inter_var, waterpiont_inter_var, source_inter_var, sor_qual_inter_var1, \n",
    "     sor_qual_inter_var2, basin_inter_var, water_qual_inter_var1, water_qual_inter_var2, \n",
    "     reg_qual_inter_var ]\n",
    "all_inter_var1 = [list(x) for x in numpy.array(numpy.meshgrid(*a)).T.reshape(-1,len(a))]"
   ]
  },
  {
   "cell_type": "code",
   "execution_count": 277,
   "metadata": {},
   "outputs": [
    {
     "data": {
      "text/plain": [
       "144"
      ]
     },
     "execution_count": 277,
     "metadata": {},
     "output_type": "execute_result"
    }
   ],
   "source": [
    "len(all_inter_var1)"
   ]
  },
  {
   "cell_type": "code",
   "execution_count": 268,
   "metadata": {},
   "outputs": [],
   "source": [
    "numbers5 = []\n",
    "for number in populations:\n",
    "    if  2001 <= number :numbers5.append(number)"
   ]
  },
  {
   "cell_type": "code",
   "execution_count": 271,
   "metadata": {},
   "outputs": [],
   "source": [
    "quality_bad_var = [5, 6]\n",
    "\n",
    "waterpiont_bad_var = [3]\n",
    "\n",
    "source_bad_var = [5, 6, 7]\n",
    "\n",
    "sor_qual_bad_var1 = [3, 4, 5]\n",
    "\n",
    "sor_qual_bad_var2 = [2]\n",
    "\n",
    "basin_bad_var = [5, 6, 7, 8]\n",
    "\n",
    "water_qual_bad_var1 = [5, 6]\n",
    "\n",
    "water_qual_bad_var2 = []\n",
    "for i in Counter(numbers5): water_qual_bad_var2.append(i)\n",
    "\n",
    "reg_qual_bad_var = [13, 14, 15, 16, 17, 18, 19, 20]"
   ]
  },
  {
   "cell_type": "code",
   "execution_count": 278,
   "metadata": {
    "tags": []
   },
   "outputs": [],
   "source": [
    "a = [quality_bad_var, waterpiont_bad_var, source_bad_var, sor_qual_bad_var1, \n",
    "     sor_qual_bad_var2, basin_bad_var, water_qual_bad_var1, water_qual_bad_var2, \n",
    "     reg_qual_bad_var ]\n",
    "all_bad_var1 = [list(x) for x in numpy.array(numpy.meshgrid(*a)).T.reshape(-1,len(a))]"
   ]
  },
  {
   "cell_type": "code",
   "execution_count": 279,
   "metadata": {},
   "outputs": [
    {
     "data": {
      "text/plain": [
       "73728"
      ]
     },
     "execution_count": 279,
     "metadata": {},
     "output_type": "execute_result"
    }
   ],
   "source": [
    "len(all_bad_var1)"
   ]
  },
  {
   "cell_type": "code",
   "execution_count": 280,
   "metadata": {},
   "outputs": [],
   "source": [
    "all_var_class1 = all_good_var1 + all_inter_var1 + all_bad_var1"
   ]
  },
  {
   "cell_type": "code",
   "execution_count": 281,
   "metadata": {},
   "outputs": [
    {
     "data": {
      "text/plain": [
       "651456"
      ]
     },
     "execution_count": 281,
     "metadata": {},
     "output_type": "execute_result"
    }
   ],
   "source": [
    "len(all_var_class1)"
   ]
  },
  {
   "cell_type": "code",
   "execution_count": 282,
   "metadata": {},
   "outputs": [],
   "source": [
    "water_y = []\n",
    "for i in range(577584):\n",
    "    water_y.append(0)\n",
    "for i in range(144):\n",
    "    water_y.append(1)\n",
    "for i in range(73728):\n",
    "    water_y.append(2)"
   ]
  },
  {
   "cell_type": "code",
   "execution_count": 283,
   "metadata": {},
   "outputs": [
    {
     "data": {
      "text/plain": [
       "651456"
      ]
     },
     "execution_count": 283,
     "metadata": {},
     "output_type": "execute_result"
    }
   ],
   "source": [
    "len(water_y)"
   ]
  },
  {
   "cell_type": "code",
   "execution_count": 284,
   "metadata": {
    "scrolled": true
   },
   "outputs": [
    {
     "data": {
      "text/plain": [
       "14850"
      ]
     },
     "execution_count": 284,
     "metadata": {},
     "output_type": "execute_result"
    }
   ],
   "source": [
    "qual_water = []\n",
    "for water in amount_per_group:\n",
    "    if water == 'Soft' :\n",
    "        qual_water.append(0)\n",
    "    elif water == 'Milky':\n",
    "        qual_water.append(1)\n",
    "    elif  water =='Fluoride':\n",
    "        qual_water.append(2)\n",
    "    elif water == 'Salty' :\n",
    "        qual_water.append(3)\n",
    "    elif water == 'Coloured':\n",
    "        qual_water.append(4)\n",
    "    elif water == 'Salty Abandoned':\n",
    "        qual_water.append(5)\n",
    "    elif water == 'Fluoride Abandoned':\n",
    "        qual_water.append(6)\n",
    "    elif water == 'Unkown':\n",
    "        qual_water.append(7)\n",
    "len(qual_water)"
   ]
  },
  {
   "cell_type": "code",
   "execution_count": 285,
   "metadata": {},
   "outputs": [
    {
     "data": {
      "text/plain": [
       "14850"
      ]
     },
     "execution_count": 285,
     "metadata": {},
     "output_type": "execute_result"
    }
   ],
   "source": [
    "quan_water = []\n",
    "for water in quantity_group2:\n",
    "    if water == 'enough' :\n",
    "        quan_water.append(0)\n",
    "    elif water == 'insufficient':\n",
    "            quan_water.append(1)\n",
    "    elif water == 'seasonal':\n",
    "        quan_water.append(2)\n",
    "    elif water == 'dry' :\n",
    "        quan_water.append(3)\n",
    "    elif water == 'unknown':\n",
    "            quan_water.append(4)\n",
    "len(quan_water)"
   ]
  },
  {
   "cell_type": "code",
   "execution_count": 286,
   "metadata": {
    "scrolled": true
   },
   "outputs": [
    {
     "data": {
      "text/plain": [
       "14850"
      ]
     },
     "execution_count": 286,
     "metadata": {},
     "output_type": "execute_result"
    }
   ],
   "source": [
    "sour_water = []\n",
    "for source in sources2:\n",
    "    if source == 'shallow well' :\n",
    "        sour_water.append(0)\n",
    "    elif source == 'spring':\n",
    "        sour_water.append(1)\n",
    "    elif source == 'machine dbh':\n",
    "        sour_water.append(2)\n",
    "    elif source == 'river' :\n",
    "        sour_water.append(3)\n",
    "    elif source == 'rainwater harvesting':\n",
    "         sour_water.append(5)\n",
    "    elif source == 'hand dtw':\n",
    "        sour_water.append(4)\n",
    "    elif source == 'lake' or 'dam':\n",
    "        sour_water.append(6)\n",
    "len(sour_water)"
   ]
  },
  {
   "cell_type": "code",
   "execution_count": 287,
   "metadata": {
    "scrolled": true
   },
   "outputs": [
    {
     "data": {
      "text/plain": [
       "14850"
      ]
     },
     "execution_count": 287,
     "metadata": {},
     "output_type": "execute_result"
    }
   ],
   "source": [
    "sour_qual1 = []\n",
    "for source in source_type:\n",
    "    if source == 'shallow well' :\n",
    "        sour_qual1.append(0)\n",
    "    elif source == 'spring':\n",
    "        sour_qual1.append(1)\n",
    "    elif source == 'borehole':\n",
    "        sour_qual1.append(2)\n",
    "    elif source == 'river/lake' :\n",
    "        sour_qual1.append(3)\n",
    "    elif source == 'rainwater harvesting':\n",
    "         sour_qual1.append(4)\n",
    "    elif source == 'other':\n",
    "        sour_qual1.append(6)\n",
    "    elif source == 'dam':\n",
    "        sour_qual1.append(5)\n",
    "len(sour_qual1)"
   ]
  },
  {
   "cell_type": "code",
   "execution_count": 288,
   "metadata": {},
   "outputs": [
    {
     "data": {
      "text/plain": [
       "14850"
      ]
     },
     "execution_count": 288,
     "metadata": {},
     "output_type": "execute_result"
    }
   ],
   "source": [
    "sour_qual2 = []\n",
    "for source in source_class:\n",
    "    if source == 'groundwater' :\n",
    "        sour_qual2.append(1)\n",
    "    elif source == 'surface':\n",
    "        sour_qual2.append(2)\n",
    "    elif source == 'unknown':\n",
    "        sour_qual2.append(3)\n",
    "len(sour_qual2)"
   ]
  },
  {
   "cell_type": "code",
   "execution_count": 289,
   "metadata": {
    "scrolled": true
   },
   "outputs": [
    {
     "data": {
      "text/plain": [
       "14850"
      ]
     },
     "execution_count": 289,
     "metadata": {},
     "output_type": "execute_result"
    }
   ],
   "source": [
    "bas = []\n",
    "for basin in basins:\n",
    "    if basin == 'Lake Tanganyika' :\n",
    "        bas.append(0)\n",
    "    elif basin == 'Lake Nyasa':\n",
    "        bas.append(1)\n",
    "    elif basin == 'Lake Victoria':\n",
    "        bas.append(5)\n",
    "    elif basin == 'Ruvuma / Southern Coast':\n",
    "        bas.append(6)\n",
    "    elif basin == 'Rufiji':\n",
    "        bas.append(7)\n",
    "    elif basin == 'Lake Rukwa':\n",
    "        bas.append(2)\n",
    "    elif basin == 'Pangani':\n",
    "        bas.append(3)\n",
    "    elif basin == 'Wami / Ruvu':\n",
    "        bas.append(4)\n",
    "    elif basin == 'Internal':\n",
    "        bas.append(8)\n",
    "len(bas)"
   ]
  },
  {
   "cell_type": "code",
   "execution_count": 295,
   "metadata": {},
   "outputs": [
    {
     "data": {
      "text/plain": [
       "14850"
      ]
     },
     "execution_count": 295,
     "metadata": {},
     "output_type": "execute_result"
    }
   ],
   "source": [
    "war_qual1 = []\n",
    "for payments in payment_type:\n",
    "    if payments  == 'pay per bucket': \n",
    "        war_qual1.append(0)\n",
    "    elif payments  == 'pay monthly': \n",
    "        war_qual1.append(1)\n",
    "    elif payments  == 'pay annually': \n",
    "        war_qual1.append(2)\n",
    "    elif payments  == 'pay when scheme fails': \n",
    "        war_qual1.append(3)\n",
    "    elif payments == 'unknown' :\n",
    "        war_qual1.append(7)\n",
    "    elif payments == 'other' :\n",
    "        war_qual1.append(5)\n",
    "    elif  payments  == 'never pay': \n",
    "        war_qual1.append(6)\n",
    "len(war_qual1)"
   ]
  },
  {
   "cell_type": "code",
   "execution_count": 291,
   "metadata": {
    "tags": []
   },
   "outputs": [
    {
     "data": {
      "text/plain": [
       "14850"
      ]
     },
     "execution_count": 291,
     "metadata": {},
     "output_type": "execute_result"
    }
   ],
   "source": [
    "reg_qual= []\n",
    "for region in regions:\n",
    "    if  region == 'Shinyanga':\n",
    "        reg_qual.append(13)\n",
    "    elif region == 'Iringa':\n",
    "        reg_qual.append(14)\n",
    "    elif region == 'Mbeya':\n",
    "        reg_qual.append(0)\n",
    "    elif region == 'Kilimanjaro':\n",
    "        reg_qual.append(7)\n",
    "    elif region == 'Morogoro':\n",
    "        reg_qual.append(15)\n",
    "    elif region == 'Kagera':\n",
    "        reg_qual.append(16)\n",
    "    elif region == 'Mwanza':\n",
    "        reg_qual.append(17)\n",
    "    elif region == 'Arusha':\n",
    "        reg_qual.append(1)\n",
    "    elif region == 'Kigoma':\n",
    "        reg_qual.append(2)\n",
    "    elif region == 'Pwani':\n",
    "        reg_qual.append(3)\n",
    "    elif region == 'Ruvuma':\n",
    "        reg_qual.append(8)\n",
    "    elif region == 'Tanga':\n",
    "        reg_qual.append(18)\n",
    "    elif region == 'Dodoma':\n",
    "        reg_qual.append(9)\n",
    "    elif region == 'Tabora':\n",
    "        reg_qual.append(4)\n",
    "    elif region == 'Mara':\n",
    "        reg_qual.append(5)\n",
    "    elif region == 'Singida':\n",
    "        reg_qual.append(10)\n",
    "    elif region == 'Rukwa':\n",
    "        reg_qual.append(11)\n",
    "    elif region == 'Mtwara':\n",
    "        reg_qual.append(19)\n",
    "    elif region == 'Manyara':\n",
    "        reg_qual.append(12)\n",
    "    elif region == 'Lindi':\n",
    "        reg_qual.append(6)\n",
    "    elif region == 'Dar es Salaam':\n",
    "        reg_qual.append(20)\n",
    "len(reg_qual)"
   ]
  },
  {
   "cell_type": "code",
   "execution_count": 296,
   "metadata": {
    "tags": []
   },
   "outputs": [],
   "source": [
    "water_predict = []\n",
    "for i in range(14850):\n",
    "    water_predict.append([qual_water[i], quan_water[i], sour_water[i], sour_qual1[i],\n",
    "                         sour_qual2[i], bas[i], war_qual1[i], \n",
    "                         populations[i], reg_qual[i]])"
   ]
  },
  {
   "cell_type": "code",
   "execution_count": 297,
   "metadata": {},
   "outputs": [
    {
     "data": {
      "text/plain": [
       "14850"
      ]
     },
     "execution_count": 297,
     "metadata": {},
     "output_type": "execute_result"
    }
   ],
   "source": [
    "len(water_predict)"
   ]
  },
  {
   "cell_type": "code",
   "execution_count": 299,
   "metadata": {},
   "outputs": [],
   "source": [
    "dtree_model1 = DecisionTreeClassifier(max_depth = 3)"
   ]
  },
  {
   "cell_type": "code",
   "execution_count": 300,
   "metadata": {},
   "outputs": [
    {
     "data": {
      "text/html": [
       "<style>#sk-container-id-4 {color: black;background-color: white;}#sk-container-id-4 pre{padding: 0;}#sk-container-id-4 div.sk-toggleable {background-color: white;}#sk-container-id-4 label.sk-toggleable__label {cursor: pointer;display: block;width: 100%;margin-bottom: 0;padding: 0.3em;box-sizing: border-box;text-align: center;}#sk-container-id-4 label.sk-toggleable__label-arrow:before {content: \"▸\";float: left;margin-right: 0.25em;color: #696969;}#sk-container-id-4 label.sk-toggleable__label-arrow:hover:before {color: black;}#sk-container-id-4 div.sk-estimator:hover label.sk-toggleable__label-arrow:before {color: black;}#sk-container-id-4 div.sk-toggleable__content {max-height: 0;max-width: 0;overflow: hidden;text-align: left;background-color: #f0f8ff;}#sk-container-id-4 div.sk-toggleable__content pre {margin: 0.2em;color: black;border-radius: 0.25em;background-color: #f0f8ff;}#sk-container-id-4 input.sk-toggleable__control:checked~div.sk-toggleable__content {max-height: 200px;max-width: 100%;overflow: auto;}#sk-container-id-4 input.sk-toggleable__control:checked~label.sk-toggleable__label-arrow:before {content: \"▾\";}#sk-container-id-4 div.sk-estimator input.sk-toggleable__control:checked~label.sk-toggleable__label {background-color: #d4ebff;}#sk-container-id-4 div.sk-label input.sk-toggleable__control:checked~label.sk-toggleable__label {background-color: #d4ebff;}#sk-container-id-4 input.sk-hidden--visually {border: 0;clip: rect(1px 1px 1px 1px);clip: rect(1px, 1px, 1px, 1px);height: 1px;margin: -1px;overflow: hidden;padding: 0;position: absolute;width: 1px;}#sk-container-id-4 div.sk-estimator {font-family: monospace;background-color: #f0f8ff;border: 1px dotted black;border-radius: 0.25em;box-sizing: border-box;margin-bottom: 0.5em;}#sk-container-id-4 div.sk-estimator:hover {background-color: #d4ebff;}#sk-container-id-4 div.sk-parallel-item::after {content: \"\";width: 100%;border-bottom: 1px solid gray;flex-grow: 1;}#sk-container-id-4 div.sk-label:hover label.sk-toggleable__label {background-color: #d4ebff;}#sk-container-id-4 div.sk-serial::before {content: \"\";position: absolute;border-left: 1px solid gray;box-sizing: border-box;top: 0;bottom: 0;left: 50%;z-index: 0;}#sk-container-id-4 div.sk-serial {display: flex;flex-direction: column;align-items: center;background-color: white;padding-right: 0.2em;padding-left: 0.2em;position: relative;}#sk-container-id-4 div.sk-item {position: relative;z-index: 1;}#sk-container-id-4 div.sk-parallel {display: flex;align-items: stretch;justify-content: center;background-color: white;position: relative;}#sk-container-id-4 div.sk-item::before, #sk-container-id-4 div.sk-parallel-item::before {content: \"\";position: absolute;border-left: 1px solid gray;box-sizing: border-box;top: 0;bottom: 0;left: 50%;z-index: -1;}#sk-container-id-4 div.sk-parallel-item {display: flex;flex-direction: column;z-index: 1;position: relative;background-color: white;}#sk-container-id-4 div.sk-parallel-item:first-child::after {align-self: flex-end;width: 50%;}#sk-container-id-4 div.sk-parallel-item:last-child::after {align-self: flex-start;width: 50%;}#sk-container-id-4 div.sk-parallel-item:only-child::after {width: 0;}#sk-container-id-4 div.sk-dashed-wrapped {border: 1px dashed gray;margin: 0 0.4em 0.5em 0.4em;box-sizing: border-box;padding-bottom: 0.4em;background-color: white;}#sk-container-id-4 div.sk-label label {font-family: monospace;font-weight: bold;display: inline-block;line-height: 1.2em;}#sk-container-id-4 div.sk-label-container {text-align: center;}#sk-container-id-4 div.sk-container {/* jupyter's `normalize.less` sets `[hidden] { display: none; }` but bootstrap.min.css set `[hidden] { display: none !important; }` so we also need the `!important` here to be able to override the default hidden behavior on the sphinx rendered scikit-learn.org. See: https://github.com/scikit-learn/scikit-learn/issues/21755 */display: inline-block !important;position: relative;}#sk-container-id-4 div.sk-text-repr-fallback {display: none;}</style><div id=\"sk-container-id-4\" class=\"sk-top-container\"><div class=\"sk-text-repr-fallback\"><pre>DecisionTreeClassifier(max_depth=3)</pre><b>In a Jupyter environment, please rerun this cell to show the HTML representation or trust the notebook. <br />On GitHub, the HTML representation is unable to render, please try loading this page with nbviewer.org.</b></div><div class=\"sk-container\" hidden><div class=\"sk-item\"><div class=\"sk-estimator sk-toggleable\"><input class=\"sk-toggleable__control sk-hidden--visually\" id=\"sk-estimator-id-10\" type=\"checkbox\" checked><label for=\"sk-estimator-id-10\" class=\"sk-toggleable__label sk-toggleable__label-arrow\">DecisionTreeClassifier</label><div class=\"sk-toggleable__content\"><pre>DecisionTreeClassifier(max_depth=3)</pre></div></div></div></div></div>"
      ],
      "text/plain": [
       "DecisionTreeClassifier(max_depth=3)"
      ]
     },
     "execution_count": 300,
     "metadata": {},
     "output_type": "execute_result"
    }
   ],
   "source": [
    "dtree_model1.fit(all_var_class1, water_y)"
   ]
  },
  {
   "cell_type": "code",
   "execution_count": 301,
   "metadata": {},
   "outputs": [],
   "source": [
    "water_predict = dtree_model1.predict(water_predict)"
   ]
  },
  {
   "cell_type": "code",
   "execution_count": 302,
   "metadata": {},
   "outputs": [
    {
     "data": {
      "text/plain": [
       "Counter({2: 4756, 1: 3860, 0: 6234})"
      ]
     },
     "execution_count": 302,
     "metadata": {},
     "output_type": "execute_result"
    }
   ],
   "source": [
    "Counter(water_predict)"
   ]
  },
  {
   "cell_type": "code",
   "execution_count": 236,
   "metadata": {},
   "outputs": [],
   "source": [
    "classification = []\n",
    "for i in predict12:\n",
    "    if i == 0: classification.append('Good')\n",
    "    elif i == 1: classification.append('Intermediate')\n",
    "    elif i == 2: classification.append('Bad')"
   ]
  },
  {
   "cell_type": "code",
   "execution_count": 237,
   "metadata": {},
   "outputs": [],
   "source": [
    "technical_class_pred = technical_class\n",
    "technical_class_pred['Final_Classification'] = classification"
   ]
  },
  {
   "cell_type": "code",
   "execution_count": 326,
   "metadata": {},
   "outputs": [
    {
     "data": {
      "text/html": [
       "<div>\n",
       "<style scoped>\n",
       "    .dataframe tbody tr th:only-of-type {\n",
       "        vertical-align: middle;\n",
       "    }\n",
       "\n",
       "    .dataframe tbody tr th {\n",
       "        vertical-align: top;\n",
       "    }\n",
       "\n",
       "    .dataframe thead th {\n",
       "        text-align: right;\n",
       "    }\n",
       "</style>\n",
       "<table border=\"1\" class=\"dataframe\">\n",
       "  <thead>\n",
       "    <tr style=\"text-align: right;\">\n",
       "      <th></th>\n",
       "      <th>Location_of_Well</th>\n",
       "      <th>Type</th>\n",
       "      <th>___________Zone___________</th>\n",
       "      <th>Static_Head</th>\n",
       "      <th>Altitude</th>\n",
       "      <th>Waterpiont</th>\n",
       "      <th>Density</th>\n",
       "      <th>Extraction</th>\n",
       "      <th>Management</th>\n",
       "      <th>Construction</th>\n",
       "      <th>Permit</th>\n",
       "      <th>Final_Classification</th>\n",
       "    </tr>\n",
       "  </thead>\n",
       "  <tbody>\n",
       "    <tr>\n",
       "      <th>0</th>\n",
       "      <td>Manyara</td>\n",
       "      <td>state</td>\n",
       "      <td>Northern Zone</td>\n",
       "      <td>Bad</td>\n",
       "      <td>Bad</td>\n",
       "      <td>Unkown</td>\n",
       "      <td>Good</td>\n",
       "      <td>Unkown</td>\n",
       "      <td>Bad</td>\n",
       "      <td>Good</td>\n",
       "      <td>Good</td>\n",
       "      <td>Bad</td>\n",
       "    </tr>\n",
       "    <tr>\n",
       "      <th>1</th>\n",
       "      <td>Olmotonyi Ward</td>\n",
       "      <td>village</td>\n",
       "      <td>Northern Zone</td>\n",
       "      <td>Bad</td>\n",
       "      <td>Bad</td>\n",
       "      <td>Good</td>\n",
       "      <td>Intermediate</td>\n",
       "      <td>Good</td>\n",
       "      <td>Good</td>\n",
       "      <td>Intermediate</td>\n",
       "      <td>Good</td>\n",
       "      <td>Good</td>\n",
       "    </tr>\n",
       "    <tr>\n",
       "      <th>2</th>\n",
       "      <td>Puma</td>\n",
       "      <td>twon</td>\n",
       "      <td>Central Zone</td>\n",
       "      <td>Bad</td>\n",
       "      <td>Bad</td>\n",
       "      <td>Unkown</td>\n",
       "      <td>Good</td>\n",
       "      <td>Unkown</td>\n",
       "      <td>Good</td>\n",
       "      <td>Good</td>\n",
       "      <td>Unkown</td>\n",
       "      <td>Bad</td>\n",
       "    </tr>\n",
       "    <tr>\n",
       "      <th>3</th>\n",
       "      <td>Mkutano</td>\n",
       "      <td>village</td>\n",
       "      <td>Coastal Zone</td>\n",
       "      <td>Bad</td>\n",
       "      <td>Intermediate</td>\n",
       "      <td>Unkown</td>\n",
       "      <td>Good</td>\n",
       "      <td>Unkown</td>\n",
       "      <td>Good</td>\n",
       "      <td>Bad</td>\n",
       "      <td>Good</td>\n",
       "      <td>Bad</td>\n",
       "    </tr>\n",
       "    <tr>\n",
       "      <th>4</th>\n",
       "      <td>Lusonga</td>\n",
       "      <td>village</td>\n",
       "      <td>Southern Highlands Zone</td>\n",
       "      <td>Bad</td>\n",
       "      <td>Intermediate</td>\n",
       "      <td>Good</td>\n",
       "      <td>Good</td>\n",
       "      <td>Good</td>\n",
       "      <td>Good</td>\n",
       "      <td>Intermediate</td>\n",
       "      <td>Good</td>\n",
       "      <td>Good</td>\n",
       "    </tr>\n",
       "    <tr>\n",
       "      <th>...</th>\n",
       "      <td>...</td>\n",
       "      <td>...</td>\n",
       "      <td>...</td>\n",
       "      <td>...</td>\n",
       "      <td>...</td>\n",
       "      <td>...</td>\n",
       "      <td>...</td>\n",
       "      <td>...</td>\n",
       "      <td>...</td>\n",
       "      <td>...</td>\n",
       "      <td>...</td>\n",
       "      <td>...</td>\n",
       "    </tr>\n",
       "    <tr>\n",
       "      <th>14845</th>\n",
       "      <td>Yombo</td>\n",
       "      <td>village</td>\n",
       "      <td>Coastal Zone</td>\n",
       "      <td>Bad</td>\n",
       "      <td>Intermediate</td>\n",
       "      <td>Good</td>\n",
       "      <td>Good</td>\n",
       "      <td>Good</td>\n",
       "      <td>Good</td>\n",
       "      <td>Bad</td>\n",
       "      <td>Good</td>\n",
       "      <td>Good</td>\n",
       "    </tr>\n",
       "    <tr>\n",
       "      <th>14846</th>\n",
       "      <td>Elerai</td>\n",
       "      <td>village</td>\n",
       "      <td>Northern Zone</td>\n",
       "      <td>Bad</td>\n",
       "      <td>Good</td>\n",
       "      <td>Good</td>\n",
       "      <td>Intermediate</td>\n",
       "      <td>Intermediate</td>\n",
       "      <td>Good</td>\n",
       "      <td>Intermediate</td>\n",
       "      <td>Bad</td>\n",
       "      <td>Intermediate</td>\n",
       "    </tr>\n",
       "    <tr>\n",
       "      <th>14847</th>\n",
       "      <td>Ughandi B</td>\n",
       "      <td>village</td>\n",
       "      <td>Central Zone</td>\n",
       "      <td>Bad</td>\n",
       "      <td>Intermediate</td>\n",
       "      <td>Good</td>\n",
       "      <td>Good</td>\n",
       "      <td>Good</td>\n",
       "      <td>Good</td>\n",
       "      <td>Good</td>\n",
       "      <td>Unkown</td>\n",
       "      <td>Good</td>\n",
       "    </tr>\n",
       "    <tr>\n",
       "      <th>14848</th>\n",
       "      <td>Magazini</td>\n",
       "      <td>village</td>\n",
       "      <td>Southern Highlands Zone</td>\n",
       "      <td>Bad</td>\n",
       "      <td>Intermediate</td>\n",
       "      <td>Good</td>\n",
       "      <td>Good</td>\n",
       "      <td>Good</td>\n",
       "      <td>Good</td>\n",
       "      <td>Good</td>\n",
       "      <td>Good</td>\n",
       "      <td>Good</td>\n",
       "    </tr>\n",
       "    <tr>\n",
       "      <th>14849</th>\n",
       "      <td>Mbuyula</td>\n",
       "      <td>village</td>\n",
       "      <td>Southern Highlands Zone</td>\n",
       "      <td>Bad</td>\n",
       "      <td>Intermediate</td>\n",
       "      <td>Good</td>\n",
       "      <td>Good</td>\n",
       "      <td>Good</td>\n",
       "      <td>Good</td>\n",
       "      <td>Good</td>\n",
       "      <td>Good</td>\n",
       "      <td>Good</td>\n",
       "    </tr>\n",
       "  </tbody>\n",
       "</table>\n",
       "<p>14850 rows × 12 columns</p>\n",
       "</div>"
      ],
      "text/plain": [
       "      Location_of_Well      Type ___________Zone___________ Static_Head  \\\n",
       "0              Manyara     state              Northern Zone         Bad   \n",
       "1       Olmotonyi Ward   village              Northern Zone         Bad   \n",
       "2                 Puma      twon               Central Zone         Bad   \n",
       "3              Mkutano   village               Coastal Zone         Bad   \n",
       "4              Lusonga   village    Southern Highlands Zone         Bad   \n",
       "...                ...       ...                        ...         ...   \n",
       "14845            Yombo   village               Coastal Zone         Bad   \n",
       "14846           Elerai   village              Northern Zone         Bad   \n",
       "14847        Ughandi B   village               Central Zone         Bad   \n",
       "14848         Magazini   village    Southern Highlands Zone         Bad   \n",
       "14849          Mbuyula   village    Southern Highlands Zone         Bad   \n",
       "\n",
       "           Altitude Waterpiont       Density    Extraction Management  \\\n",
       "0               Bad     Unkown          Good        Unkown        Bad   \n",
       "1               Bad       Good  Intermediate          Good       Good   \n",
       "2               Bad     Unkown          Good        Unkown       Good   \n",
       "3      Intermediate     Unkown          Good        Unkown       Good   \n",
       "4      Intermediate       Good          Good          Good       Good   \n",
       "...             ...        ...           ...           ...        ...   \n",
       "14845  Intermediate       Good          Good          Good       Good   \n",
       "14846          Good       Good  Intermediate  Intermediate       Good   \n",
       "14847  Intermediate       Good          Good          Good       Good   \n",
       "14848  Intermediate       Good          Good          Good       Good   \n",
       "14849  Intermediate       Good          Good          Good       Good   \n",
       "\n",
       "       Construction  Permit Final_Classification  \n",
       "0              Good    Good                  Bad  \n",
       "1      Intermediate    Good                 Good  \n",
       "2              Good  Unkown                  Bad  \n",
       "3               Bad    Good                  Bad  \n",
       "4      Intermediate    Good                 Good  \n",
       "...             ...     ...                  ...  \n",
       "14845           Bad    Good                 Good  \n",
       "14846  Intermediate     Bad         Intermediate  \n",
       "14847          Good  Unkown                 Good  \n",
       "14848          Good    Good                 Good  \n",
       "14849          Good    Good                 Good  \n",
       "\n",
       "[14850 rows x 12 columns]"
      ]
     },
     "execution_count": 326,
     "metadata": {},
     "output_type": "execute_result"
    }
   ],
   "source": [
    "technical_class_pred#[600:610]#[11500:12000]"
   ]
  },
  {
   "cell_type": "code",
   "execution_count": 303,
   "metadata": {},
   "outputs": [],
   "source": [
    "classification1 = []\n",
    "for i in water_predict:\n",
    "    if i == 0: classification1.append('Good')\n",
    "    elif i == 1: classification1.append('Intermediate')\n",
    "    elif i == 2: classification1.append('Bad')"
   ]
  },
  {
   "cell_type": "code",
   "execution_count": 349,
   "metadata": {},
   "outputs": [],
   "source": [
    "water_class_pred = water_class\n",
    "water_class_pred['Final_Classification'] = classification1"
   ]
  },
  {
   "cell_type": "code",
   "execution_count": 350,
   "metadata": {},
   "outputs": [
    {
     "data": {
      "text/html": [
       "<div>\n",
       "<style scoped>\n",
       "    .dataframe tbody tr th:only-of-type {\n",
       "        vertical-align: middle;\n",
       "    }\n",
       "\n",
       "    .dataframe tbody tr th {\n",
       "        vertical-align: top;\n",
       "    }\n",
       "\n",
       "    .dataframe thead th {\n",
       "        text-align: right;\n",
       "    }\n",
       "</style>\n",
       "<table border=\"1\" class=\"dataframe\">\n",
       "  <thead>\n",
       "    <tr style=\"text-align: right;\">\n",
       "      <th></th>\n",
       "      <th>Location_of_Well</th>\n",
       "      <th>Type</th>\n",
       "      <th>___________Zone___________</th>\n",
       "      <th>Quality_Water</th>\n",
       "      <th>Quantity_Water</th>\n",
       "      <th>Source</th>\n",
       "      <th>Source_Quality1</th>\n",
       "      <th>Source_Quality2</th>\n",
       "      <th>Basin</th>\n",
       "      <th>Water_Quality1</th>\n",
       "      <th>Water_Quality2</th>\n",
       "      <th>Region_Quality</th>\n",
       "      <th>Final_Classification</th>\n",
       "    </tr>\n",
       "  </thead>\n",
       "  <tbody>\n",
       "    <tr>\n",
       "      <th>0</th>\n",
       "      <td>Manyara</td>\n",
       "      <td>state</td>\n",
       "      <td>Northern Zone</td>\n",
       "      <td>Good</td>\n",
       "      <td>Intermediate</td>\n",
       "      <td>Bad</td>\n",
       "      <td>Bad</td>\n",
       "      <td>Bad</td>\n",
       "      <td>Bad</td>\n",
       "      <td>Bad</td>\n",
       "      <td>Good</td>\n",
       "      <td>Intermediate</td>\n",
       "      <td>Bad</td>\n",
       "    </tr>\n",
       "    <tr>\n",
       "      <th>1</th>\n",
       "      <td>Olmotonyi Ward</td>\n",
       "      <td>village</td>\n",
       "      <td>Northern Zone</td>\n",
       "      <td>Good</td>\n",
       "      <td>Intermediate</td>\n",
       "      <td>Good</td>\n",
       "      <td>Good</td>\n",
       "      <td>Intermediate</td>\n",
       "      <td>Intermediate</td>\n",
       "      <td>Bad</td>\n",
       "      <td>Good</td>\n",
       "      <td>Good</td>\n",
       "      <td>Intermediate</td>\n",
       "    </tr>\n",
       "    <tr>\n",
       "      <th>2</th>\n",
       "      <td>Puma</td>\n",
       "      <td>twon</td>\n",
       "      <td>Central Zone</td>\n",
       "      <td>Good</td>\n",
       "      <td>Intermediate</td>\n",
       "      <td>Bad</td>\n",
       "      <td>Bad</td>\n",
       "      <td>Bad</td>\n",
       "      <td>Bad</td>\n",
       "      <td>Bad</td>\n",
       "      <td>Good</td>\n",
       "      <td>Intermediate</td>\n",
       "      <td>Bad</td>\n",
       "    </tr>\n",
       "    <tr>\n",
       "      <th>3</th>\n",
       "      <td>Mkutano</td>\n",
       "      <td>village</td>\n",
       "      <td>Coastal Zone</td>\n",
       "      <td>Good</td>\n",
       "      <td>Bad</td>\n",
       "      <td>Good</td>\n",
       "      <td>Good</td>\n",
       "      <td>Intermediate</td>\n",
       "      <td>Bad</td>\n",
       "      <td>Unkown</td>\n",
       "      <td>Good</td>\n",
       "      <td>Good</td>\n",
       "      <td>Bad</td>\n",
       "    </tr>\n",
       "    <tr>\n",
       "      <th>4</th>\n",
       "      <td>Lusonga</td>\n",
       "      <td>village</td>\n",
       "      <td>Southern Highlands Zone</td>\n",
       "      <td>Good</td>\n",
       "      <td>Good</td>\n",
       "      <td>Good</td>\n",
       "      <td>Good</td>\n",
       "      <td>Intermediate</td>\n",
       "      <td>Bad</td>\n",
       "      <td>Good</td>\n",
       "      <td>Good</td>\n",
       "      <td>Intermediate</td>\n",
       "      <td>Good</td>\n",
       "    </tr>\n",
       "    <tr>\n",
       "      <th>...</th>\n",
       "      <td>...</td>\n",
       "      <td>...</td>\n",
       "      <td>...</td>\n",
       "      <td>...</td>\n",
       "      <td>...</td>\n",
       "      <td>...</td>\n",
       "      <td>...</td>\n",
       "      <td>...</td>\n",
       "      <td>...</td>\n",
       "      <td>...</td>\n",
       "      <td>...</td>\n",
       "      <td>...</td>\n",
       "      <td>...</td>\n",
       "    </tr>\n",
       "    <tr>\n",
       "      <th>14845</th>\n",
       "      <td>Yombo</td>\n",
       "      <td>village</td>\n",
       "      <td>Coastal Zone</td>\n",
       "      <td>Bad</td>\n",
       "      <td>Good</td>\n",
       "      <td>Intermediate</td>\n",
       "      <td>Bad</td>\n",
       "      <td>Bad</td>\n",
       "      <td>Intermediate</td>\n",
       "      <td>Bad</td>\n",
       "      <td>Good</td>\n",
       "      <td>Good</td>\n",
       "      <td>Intermediate</td>\n",
       "    </tr>\n",
       "    <tr>\n",
       "      <th>14846</th>\n",
       "      <td>Elerai</td>\n",
       "      <td>village</td>\n",
       "      <td>Northern Zone</td>\n",
       "      <td>Bad</td>\n",
       "      <td>Intermediate</td>\n",
       "      <td>Good</td>\n",
       "      <td>Good</td>\n",
       "      <td>Intermediate</td>\n",
       "      <td>Intermediate</td>\n",
       "      <td>Good</td>\n",
       "      <td>Bad</td>\n",
       "      <td>Bad</td>\n",
       "      <td>Good</td>\n",
       "    </tr>\n",
       "    <tr>\n",
       "      <th>14847</th>\n",
       "      <td>Ughandi B</td>\n",
       "      <td>village</td>\n",
       "      <td>Central Zone</td>\n",
       "      <td>Bad</td>\n",
       "      <td>Intermediate</td>\n",
       "      <td>Bad</td>\n",
       "      <td>Bad</td>\n",
       "      <td>Bad</td>\n",
       "      <td>Bad</td>\n",
       "      <td>Bad</td>\n",
       "      <td>Good</td>\n",
       "      <td>Intermediate</td>\n",
       "      <td>Bad</td>\n",
       "    </tr>\n",
       "    <tr>\n",
       "      <th>14848</th>\n",
       "      <td>Magazini</td>\n",
       "      <td>village</td>\n",
       "      <td>Southern Highlands Zone</td>\n",
       "      <td>Bad</td>\n",
       "      <td>Intermediate</td>\n",
       "      <td>Intermediate</td>\n",
       "      <td>Bad</td>\n",
       "      <td>Bad</td>\n",
       "      <td>Good</td>\n",
       "      <td>Bad</td>\n",
       "      <td>Good</td>\n",
       "      <td>Intermediate</td>\n",
       "      <td>Intermediate</td>\n",
       "    </tr>\n",
       "    <tr>\n",
       "      <th>14849</th>\n",
       "      <td>Mbuyula</td>\n",
       "      <td>village</td>\n",
       "      <td>Southern Highlands Zone</td>\n",
       "      <td>Bad</td>\n",
       "      <td>Bad</td>\n",
       "      <td>Good</td>\n",
       "      <td>Good</td>\n",
       "      <td>Intermediate</td>\n",
       "      <td>Good</td>\n",
       "      <td>Bad</td>\n",
       "      <td>Good</td>\n",
       "      <td>Intermediate</td>\n",
       "      <td>Intermediate</td>\n",
       "    </tr>\n",
       "  </tbody>\n",
       "</table>\n",
       "<p>14850 rows × 13 columns</p>\n",
       "</div>"
      ],
      "text/plain": [
       "      Location_of_Well      Type ___________Zone___________ Quality_Water  \\\n",
       "0              Manyara     state              Northern Zone          Good   \n",
       "1       Olmotonyi Ward   village              Northern Zone          Good   \n",
       "2                 Puma      twon               Central Zone          Good   \n",
       "3              Mkutano   village               Coastal Zone          Good   \n",
       "4              Lusonga   village    Southern Highlands Zone          Good   \n",
       "...                ...       ...                        ...           ...   \n",
       "14845            Yombo   village               Coastal Zone           Bad   \n",
       "14846           Elerai   village              Northern Zone           Bad   \n",
       "14847        Ughandi B   village               Central Zone           Bad   \n",
       "14848         Magazini   village    Southern Highlands Zone           Bad   \n",
       "14849          Mbuyula   village    Southern Highlands Zone           Bad   \n",
       "\n",
       "      Quantity_Water        Source Source_Quality1 Source_Quality2  \\\n",
       "0       Intermediate           Bad             Bad             Bad   \n",
       "1       Intermediate          Good            Good    Intermediate   \n",
       "2       Intermediate           Bad             Bad             Bad   \n",
       "3                Bad          Good            Good    Intermediate   \n",
       "4               Good          Good            Good    Intermediate   \n",
       "...              ...           ...             ...             ...   \n",
       "14845           Good  Intermediate             Bad             Bad   \n",
       "14846   Intermediate          Good            Good    Intermediate   \n",
       "14847   Intermediate           Bad             Bad             Bad   \n",
       "14848   Intermediate  Intermediate             Bad             Bad   \n",
       "14849            Bad          Good            Good    Intermediate   \n",
       "\n",
       "              Basin Water_Quality1 Water_Quality2 Region_Quality  \\\n",
       "0               Bad            Bad           Good   Intermediate   \n",
       "1      Intermediate            Bad           Good           Good   \n",
       "2               Bad            Bad           Good   Intermediate   \n",
       "3               Bad         Unkown           Good           Good   \n",
       "4               Bad           Good           Good   Intermediate   \n",
       "...             ...            ...            ...            ...   \n",
       "14845  Intermediate            Bad           Good           Good   \n",
       "14846  Intermediate           Good            Bad            Bad   \n",
       "14847           Bad            Bad           Good   Intermediate   \n",
       "14848          Good            Bad           Good   Intermediate   \n",
       "14849          Good            Bad           Good   Intermediate   \n",
       "\n",
       "      Final_Classification  \n",
       "0                      Bad  \n",
       "1             Intermediate  \n",
       "2                      Bad  \n",
       "3                      Bad  \n",
       "4                     Good  \n",
       "...                    ...  \n",
       "14845         Intermediate  \n",
       "14846                 Good  \n",
       "14847                  Bad  \n",
       "14848         Intermediate  \n",
       "14849         Intermediate  \n",
       "\n",
       "[14850 rows x 13 columns]"
      ]
     },
     "execution_count": 350,
     "metadata": {},
     "output_type": "execute_result"
    }
   ],
   "source": [
    "water_class_pred#[600:610]#[11500:12000]"
   ]
  },
  {
   "cell_type": "code",
   "execution_count": 330,
   "metadata": {},
   "outputs": [],
   "source": [
    "counter = []\n",
    "for i in range(14850):\n",
    "    count = 0\n",
    "    if category_class[i] == 'Good': count+=1\n",
    "    if category_class1[i] == 'Good': count+=1\n",
    "    if category_class2[i] == 'Good': count+=1\n",
    "    if category_class3[i] == 'Good': count+=1\n",
    "    if category_class4[i] == 'Good': count+=1\n",
    "    if category_class5[i] == 'Good': count+=1\n",
    "    if category_class6[i] == 'Good': count+=1\n",
    "    if category_class7[i] == 'Good': count+=1\n",
    "    if category_class8[i] == 'Good': count+=1\n",
    "    if category_class9[i] == 'Good': count+=1\n",
    "    if category_class10[i] == 'Good': count+=1\n",
    "    if category_class11[i] == 'Good': count+=1\n",
    "    if category_class12[i] == 'Good': count+=1\n",
    "    if category_class13[i] == 'Good': count+=1\n",
    "    if category_class14[i] == 'Good': count+=1\n",
    "    if category_class15[i] == 'Good': count+=1\n",
    "    if category_class16[i] == 'Good': count+=1\n",
    "    if category_class17[i] == 'Good': count+=1\n",
    "    counter.append(count)"
   ]
  },
  {
   "cell_type": "code",
   "execution_count": 332,
   "metadata": {
    "tags": []
   },
   "outputs": [
    {
     "data": {
      "text/plain": [
       "Counter({5: 283,\n",
       "         9: 3406,\n",
       "         8: 3140,\n",
       "         11: 1810,\n",
       "         10: 2705,\n",
       "         7: 1828,\n",
       "         6: 828,\n",
       "         12: 639,\n",
       "         13: 123,\n",
       "         4: 71,\n",
       "         14: 3,\n",
       "         3: 12,\n",
       "         2: 2})"
      ]
     },
     "execution_count": 332,
     "metadata": {},
     "output_type": "execute_result"
    }
   ],
   "source": [
    "Counter(counter)"
   ]
  },
  {
   "cell_type": "code",
   "execution_count": 333,
   "metadata": {},
   "outputs": [],
   "source": [
    "high_index = []\n",
    "for i,x in enumerate(counter):\n",
    "    if x == 14 or x == 13: high_index.append(i)"
   ]
  },
  {
   "cell_type": "code",
   "execution_count": 335,
   "metadata": {},
   "outputs": [],
   "source": [
    "final_class = []\n",
    "for i in range(14850):\n",
    "    if i in high_index: final_class.append('High Functional')\n",
    "    elif classification[i] == 'Good' and classification1[i] == 'Good': final_class.append('Functional')\n",
    "    elif classification[i]=='Bad' and classification1[i]=='Bad': final_class.append('Non-Functional')\n",
    "    elif (classification[i]=='Good' and classification1[i]=='Intermediate') or (classification[i]=='Intermediate' and classification1[i]=='Good'): \n",
    "        final_class.append('High Low-Functional')\n",
    "    elif classification[i]=='Intermediate' and classification1[i]=='Intermediate': \n",
    "        final_class.append('High Intermediate Low-Functional')\n",
    "    elif (classification[i]=='Good' and classification1[i]=='Bad') or (classification[i]=='Bad' and classification1[i]=='Good'): \n",
    "        final_class.append('Low Intermediate Low-Functional')\n",
    "    elif (classification[i]=='Intermediate' and classification1[i]=='Bad') or (classification[i]=='Bad' and classification1[i]=='Intermediate'): \n",
    "        final_class.append('Low Low-Functional')"
   ]
  },
  {
   "cell_type": "code",
   "execution_count": 336,
   "metadata": {},
   "outputs": [
    {
     "data": {
      "text/plain": [
       "14850"
      ]
     },
     "execution_count": 336,
     "metadata": {},
     "output_type": "execute_result"
    }
   ],
   "source": [
    "len(final_class)"
   ]
  },
  {
   "cell_type": "code",
   "execution_count": 337,
   "metadata": {},
   "outputs": [
    {
     "data": {
      "text/plain": [
       "Counter({'Non-Functional': 910,\n",
       "         'High Low-Functional': 3760,\n",
       "         'Functional': 4494,\n",
       "         'Low Low-Functional': 2438,\n",
       "         'Low Intermediate Low-Functional': 2169,\n",
       "         'High Intermediate Low-Functional': 953,\n",
       "         'High Functional': 126})"
      ]
     },
     "execution_count": 337,
     "metadata": {},
     "output_type": "execute_result"
    }
   ],
   "source": [
    "Counter(final_class)"
   ]
  },
  {
   "cell_type": "code",
   "execution_count": 343,
   "metadata": {
    "collapsed": true,
    "jupyter": {
     "outputs_hidden": true
    },
    "tags": []
   },
   "outputs": [
    {
     "data": {
      "text/plain": [
       "Counter({'Manyara': 64,\n",
       "         'Olmotonyi Ward': 11,\n",
       "         'Puma': 6,\n",
       "         'Mkutano': 2,\n",
       "         'Lusonga': 4,\n",
       "         'Shombolo,  Sambasha': 2,\n",
       "         'Mtandika': 1,\n",
       "         'Huruma': 2,\n",
       "         'Nanyonda': 1,\n",
       "         'Donyomuruak,  Olkolili': 5,\n",
       "         'Uduru': 6,\n",
       "         'Ruvu Remit': 2,\n",
       "         'Itunduru': 1,\n",
       "         'Kiliwi': 3,\n",
       "         'Wenda': 19,\n",
       "         'Namatuh': 2,\n",
       "         'Pwani': 32,\n",
       "         'Rangwi': 1,\n",
       "         'Musasa': 7,\n",
       "         'Liponde': 1,\n",
       "         'Coastal Zone': 211,\n",
       "         'Njombe': 75,\n",
       "         'Mganza': 3,\n",
       "         'Muhintiri': 10,\n",
       "         'Simiyu': 64,\n",
       "         'Ikuna': 6,\n",
       "         'Magazini': 5,\n",
       "         'Dodoma': 65,\n",
       "         'unkown': 458,\n",
       "         'Kiperesa': 1,\n",
       "         'Bashay': 3,\n",
       "         'Tabora': 79,\n",
       "         'Ibushi': 3,\n",
       "         'Karatu': 8,\n",
       "         'Ujindile': 11,\n",
       "         'Itowo': 4,\n",
       "         'Mavovo': 1,\n",
       "         'Chomvu': 5,\n",
       "         'Msufini': 1,\n",
       "         'Idugumbi': 4,\n",
       "         'Mtwara': 86,\n",
       "         'Bwembwera': 3,\n",
       "         'Kazuni': 5,\n",
       "         'Mwanza': 114,\n",
       "         'Sanga': 1,\n",
       "         'Darajani': 5,\n",
       "         'Ugowola': 1,\n",
       "         'Ishinde': 1,\n",
       "         'Isebe': 4,\n",
       "         'Dodoma senta': 3,\n",
       "         'Ilolo': 10,\n",
       "         'Lwandai': 4,\n",
       "         'Mtengashari': 2,\n",
       "         'Nhobola': 5,\n",
       "         'Mtitimila': 1,\n",
       "         'Nyamanga': 3,\n",
       "         'Lekura': 4,\n",
       "         'Litola': 5,\n",
       "         'Arusha': 257,\n",
       "         'Masanwa': 7,\n",
       "         'Kanazi': 10,\n",
       "         'Tatwe': 1,\n",
       "         'Mungaa': 4,\n",
       "         'Mapogoro': 10,\n",
       "         'Kidugalo': 6,\n",
       "         'Mahorosha': 2,\n",
       "         'Foo': 4,\n",
       "         'Mugera': 4,\n",
       "         'Mchengamoto': 3,\n",
       "         'Songwe': 193,\n",
       "         'Hidet': 1,\n",
       "         'Legeza Mwendo': 4,\n",
       "         'Malampaka': 2,\n",
       "         'Kigombe': 8,\n",
       "         'Nshara': 5,\n",
       "         'Nkhome': 5,\n",
       "         'Mwanga': 12,\n",
       "         'Oyogo': 5,\n",
       "         'Galambo': 4,\n",
       "         'Bunazi': 3,\n",
       "         'Lukare': 6,\n",
       "         'Momella Gate': 1,\n",
       "         'Kisumo': 2,\n",
       "         'Katale': 7,\n",
       "         'Rofati': 2,\n",
       "         'Tundu': 2,\n",
       "         'Njia Panda': 7,\n",
       "         'Mwendapole B': 1,\n",
       "         'Mtitu': 3,\n",
       "         'Mwinkantsi': 8,\n",
       "         'Kanoge': 5,\n",
       "         'Lumuma': 4,\n",
       "         'Makusi': 1,\n",
       "         'Makeve': 5,\n",
       "         'Bwage': 21,\n",
       "         'Nyabushozi': 6,\n",
       "         'Sitalike': 1,\n",
       "         'Isagehe': 4,\n",
       "         'Rwagati': 6,\n",
       "         'Kibuko': 2,\n",
       "         'Kisima Mkika': 1,\n",
       "         'Mponda': 2,\n",
       "         'Munyegera': 5,\n",
       "         'Mtii': 8,\n",
       "         'Lwangwa': 9,\n",
       "         'Haydom': 7,\n",
       "         'Sakina Ward': 2,\n",
       "         'Mbeya': 27,\n",
       "         'Pito': 4,\n",
       "         'Nakawale': 15,\n",
       "         'Minyinga': 5,\n",
       "         'Kyaitoke': 6,\n",
       "         'Ukenyenge': 4,\n",
       "         'Tandai': 1,\n",
       "         'Makami Chini': 4,\n",
       "         'Kangeme': 3,\n",
       "         'Chalinze': 39,\n",
       "         'Kingole': 2,\n",
       "         'Kisinga': 8,\n",
       "         'Kindi': 3,\n",
       "         'Itulike': 3,\n",
       "         'Masumuni': 5,\n",
       "         'Ukwama': 10,\n",
       "         'Manyamanyama': 2,\n",
       "         'Dasina': 4,\n",
       "         'Msumbiji': 2,\n",
       "         'Msowero': 9,\n",
       "         'Kwetango': 1,\n",
       "         'Mlilayoyo': 2,\n",
       "         'Ilewelo': 2,\n",
       "         'Nambunga': 1,\n",
       "         'Kitongo Maendeleo': 5,\n",
       "         'Shimbi Mashami': 6,\n",
       "         'Magadini,  Hai Mjini': 1,\n",
       "         'Segala': 1,\n",
       "         'Mendo': 3,\n",
       "         'Nansole': 2,\n",
       "         'Ungindoni': 10,\n",
       "         'Matumbulu': 7,\n",
       "         'Kigoma': 26,\n",
       "         'Nyamahanga': 6,\n",
       "         'Luhekei': 3,\n",
       "         'Mtevule': 2,\n",
       "         'Kitowo': 4,\n",
       "         'Mtumba': 3,\n",
       "         'Bokomnemela': 1,\n",
       "         'Kasanda': 5,\n",
       "         'Matongo': 3,\n",
       "         'Namdwani': 1,\n",
       "         'Muungano': 21,\n",
       "         'Kikombo': 7,\n",
       "         'Mbuguni': 8,\n",
       "         'Ngaganulwa': 3,\n",
       "         'Kilimanjaro': 122,\n",
       "         'Image': 7,\n",
       "         'Mangaka': 9,\n",
       "         'Mwabilanda': 1,\n",
       "         'Ilalambwe': 5,\n",
       "         'Mwabuzo': 6,\n",
       "         'Ovada': 2,\n",
       "         'Makere': 2,\n",
       "         'Pangani': 16,\n",
       "         'Mataya': 5,\n",
       "         \"Bomalang'ombe\": 5,\n",
       "         'Iringa': 24,\n",
       "         'Mabilioni': 1,\n",
       "         'Tosamaganga': 3,\n",
       "         'Lyabukande': 1,\n",
       "         'Mnozi': 1,\n",
       "         'Hambalawei': 3,\n",
       "         'Ngamanga': 7,\n",
       "         'Maghang': 3,\n",
       "         'Lusewa': 15,\n",
       "         'Chikundi': 5,\n",
       "         'Tanangozi': 4,\n",
       "         'Diburuma': 2,\n",
       "         'Mahanje': 6,\n",
       "         'Mkongoi': 2,\n",
       "         'Bugengere': 5,\n",
       "         'Kigonsera': 3,\n",
       "         'Mnero Miembeni': 12,\n",
       "         'Kitukutu': 2,\n",
       "         'ISABA': 2,\n",
       "         'Uwirio,  Ngarenanyuku': 8,\n",
       "         'Lindi': 22,\n",
       "         'Magubike': 11,\n",
       "         'Mkeyeto': 2,\n",
       "         \"Nyang'Oma\": 1,\n",
       "         'Nduoni': 6,\n",
       "         'Segese': 5,\n",
       "         'Vuje': 5,\n",
       "         'Mnemela Kibaon': 2,\n",
       "         'Kilino': 2,\n",
       "         'Tindabuligi': 2,\n",
       "         'Shinyanga': 52,\n",
       "         'Mata Mondo': 1,\n",
       "         'Mkomazi': 2,\n",
       "         'Nyumbigwa': 5,\n",
       "         'Moronga': 21,\n",
       "         'Njiapanda': 1,\n",
       "         'Kifumbe': 5,\n",
       "         'MASURURA': 4,\n",
       "         'Nyashimba': 1,\n",
       "         'Mheza': 3,\n",
       "         'Mtewele': 1,\n",
       "         'Makongolosi': 4,\n",
       "         'Kibiti': 25,\n",
       "         'Singida': 117,\n",
       "         'Malinyi': 5,\n",
       "         'Nalunyu': 2,\n",
       "         'Kalumele': 6,\n",
       "         'Nkwae': 3,\n",
       "         'Kwalubuye': 2,\n",
       "         'Igalula': 3,\n",
       "         'Ulinji': 1,\n",
       "         'Emaliti': 3,\n",
       "         'Kiverenge': 1,\n",
       "         'Lyamko': 3,\n",
       "         'Kamwanga': 1,\n",
       "         'Igosi': 5,\n",
       "         'Kihanga': 10,\n",
       "         'Mbwawa Mkoleni': 1,\n",
       "         'Ngundangali': 3,\n",
       "         'Mabanda': 16,\n",
       "         'Lupande': 3,\n",
       "         'Chimala': 9,\n",
       "         'Kagera': 101,\n",
       "         'Nyandakwa': 1,\n",
       "         'Chandama': 2,\n",
       "         'Lukula': 1,\n",
       "         'Itindi': 2,\n",
       "         'Kanyambogo village': 1,\n",
       "         'Kwasunga Mpirani': 2,\n",
       "         'Mvumi Makulu': 8,\n",
       "         'Nandanga': 3,\n",
       "         'Wangi': 2,\n",
       "         'Olkokola Ward': 3,\n",
       "         'Mandera': 15,\n",
       "         'Songambele': 17,\n",
       "         'Wanging’ombe': 14,\n",
       "         'Mbonile': 2,\n",
       "         'Ifakara Town': 71,\n",
       "         'Itulahumba': 4,\n",
       "         'Kifinge': 2,\n",
       "         'Nandagala (Mnacho)': 2,\n",
       "         'Mkowe': 3,\n",
       "         'Gidewari': 1,\n",
       "         'Namtumbo': 8,\n",
       "         'Sikonge': 13,\n",
       "         'Kituri': 2,\n",
       "         'Sonjo': 10,\n",
       "         'Ihombwe': 9,\n",
       "         'Haneti': 8,\n",
       "         'Mbati': 2,\n",
       "         'Bukama': 7,\n",
       "         'Mfyatula': 1,\n",
       "         'Mwaikisabe': 5,\n",
       "         'Bumva': 3,\n",
       "         'Nyabitaka': 1,\n",
       "         'Maratani': 3,\n",
       "         'Zunzuli': 3,\n",
       "         'Kundikili': 2,\n",
       "         'Msolwa station': 6,\n",
       "         'Rhotia': 8,\n",
       "         'Kiwanga': 8,\n",
       "         'Mwigumbi': 5,\n",
       "         'Mubamba': 4,\n",
       "         'Lufumbu': 2,\n",
       "         'Katela': 5,\n",
       "         'Mloka': 6,\n",
       "         'Heru-Ushingo': 1,\n",
       "         'Kadashi': 3,\n",
       "         'Shirati': 9,\n",
       "         'Kwamkole': 2,\n",
       "         'Utelewe': 1,\n",
       "         'Kibanga': 7,\n",
       "         'Isengwa': 3,\n",
       "         'Shushi': 2,\n",
       "         'Mwaisela B': 1,\n",
       "         'Majengo': 9,\n",
       "         'Soya': 2,\n",
       "         'Mbokoi': 2,\n",
       "         'Ilindi': 4,\n",
       "         'Viwanjastini': 1,\n",
       "         'Kahama': 3,\n",
       "         'Mbuba': 3,\n",
       "         'Manga': 11,\n",
       "         'Tinde': 18,\n",
       "         'Mtipa': 2,\n",
       "         'Nkowe': 5,\n",
       "         'Pwaga': 10,\n",
       "         'Bermi': 3,\n",
       "         'Masekelo': 4,\n",
       "         'Kitunga': 3,\n",
       "         'Kanyenja': 2,\n",
       "         'Katavi': 42,\n",
       "         'Mbambakofi': 3,\n",
       "         'Bukirilo': 4,\n",
       "         'Nhabala': 10,\n",
       "         'Koreri': 3,\n",
       "         'Selema': 2,\n",
       "         'Chiwale': 2,\n",
       "         'Unyangwe': 1,\n",
       "         'Ntokela': 7,\n",
       "         'Chasimba': 7,\n",
       "         'Bushitala village': 2,\n",
       "         'Mokala': 1,\n",
       "         'Mahege': 6,\n",
       "         'Baraa Ward': 5,\n",
       "         'Nyarugusu': 6,\n",
       "         'Ngunja': 4,\n",
       "         'Sangamwalugesha': 2,\n",
       "         'Nahoro': 4,\n",
       "         'Rusumo': 5,\n",
       "         'Mapogolo': 2,\n",
       "         'Mtamba Chini': 8,\n",
       "         'Iwe Lyangula': 1,\n",
       "         'Kabanda': 1,\n",
       "         'Akheri Ward': 6,\n",
       "         \"Mnang'Ana\": 2,\n",
       "         'Minepa': 9,\n",
       "         'Nkunditsi village': 6,\n",
       "         'Morogoro': 76,\n",
       "         'Kwala': 7,\n",
       "         'Ikoga Mpya': 1,\n",
       "         'Ngudu': 3,\n",
       "         'Kijombo': 6,\n",
       "         'Lugala': 2,\n",
       "         'Kifura': 4,\n",
       "         'Kitu': 1,\n",
       "         'Ilembo': 6,\n",
       "         'Ilasee': 2,\n",
       "         'Kazingati': 4,\n",
       "         'Katali': 1,\n",
       "         'Ahakishaka': 7,\n",
       "         'Busogwa': 1,\n",
       "         'Uhambila': 1,\n",
       "         'Solesia': 1,\n",
       "         'Nyumbanitu': 7,\n",
       "         'Tanga': 58,\n",
       "         'Ilenge': 2,\n",
       "         'Mubuhenge': 1,\n",
       "         'Malui': 1,\n",
       "         'Kahangara': 3,\n",
       "         'Ichonde': 3,\n",
       "         'Mpenge': 1,\n",
       "         \"Rung'abure\": 1,\n",
       "         'Ngahokola': 5,\n",
       "         'Shimbi Mashariki': 5,\n",
       "         'Kerenero': 1,\n",
       "         'Kibigiri': 1,\n",
       "         'Kidaganda': 1,\n",
       "         'Ikungi': 3,\n",
       "         'Mamire': 3,\n",
       "         'Mipingi': 1,\n",
       "         'Mikindani Historic Town': 3,\n",
       "         'Lukozi': 17,\n",
       "         'Ilobashi': 1,\n",
       "         'Igagala': 10,\n",
       "         'Lupaso': 8,\n",
       "         'Ntalamila': 1,\n",
       "         'Buzinza': 1,\n",
       "         'Mwime': 6,\n",
       "         'Galigali': 3,\n",
       "         'Kemondo': 4,\n",
       "         'Syenjela': 2,\n",
       "         'Tambalale': 2,\n",
       "         'Iringa Mvumi': 3,\n",
       "         'Congo': 9,\n",
       "         'Mkima': 2,\n",
       "         'Mwabuchuma': 2,\n",
       "         'Wishiteleja': 1,\n",
       "         'Nyamerama': 1,\n",
       "         'Kimambi': 5,\n",
       "         'Masimavalafu': 1,\n",
       "         'Makulula': 1,\n",
       "         'Bangata Ward': 8,\n",
       "         'Bukene': 8,\n",
       "         'Rukwa': 33,\n",
       "         'Lufilyo': 2,\n",
       "         'Lupila': 3,\n",
       "         'Kirueni': 2,\n",
       "         'Kisegese': 4,\n",
       "         'Hombolo Bwawani': 6,\n",
       "         'Laiseri': 3,\n",
       "         'Urisho,  Songoro': 3,\n",
       "         'Kisula': 3,\n",
       "         'Igwachanya': 8,\n",
       "         'Sunya': 4,\n",
       "         'Suma': 3,\n",
       "         'Sokon II Ward': 9,\n",
       "         'Kasala': 2,\n",
       "         'Idaru': 14,\n",
       "         'Maji Coast': 4,\n",
       "         'Nambunju': 2,\n",
       "         'Songa': 4,\n",
       "         'Ifukutwa': 2,\n",
       "         'Makata': 5,\n",
       "         'Itunduma': 13,\n",
       "         'Poli Ward': 3,\n",
       "         'Kwemhafa': 3,\n",
       "         'Kinamapula': 3,\n",
       "         'Kasato': 5,\n",
       "         'Nyashimbi': 4,\n",
       "         'Mfulu': 2,\n",
       "         'Mwasita': 4,\n",
       "         'Luhangano': 2,\n",
       "         'Likwachu': 2,\n",
       "         'Nakachindu': 1,\n",
       "         'Machenche': 2,\n",
       "         'Nguruka': 5,\n",
       "         'Ndobo': 7,\n",
       "         'Soga': 11,\n",
       "         'Gesarya': 1,\n",
       "         'Endagaw': 2,\n",
       "         'Malemve': 1,\n",
       "         'Chikuyu': 5,\n",
       "         'Kidyama village': 5,\n",
       "         'Nyabitocho': 1,\n",
       "         'Mbawala': 4,\n",
       "         'Migambo': 1,\n",
       "         'Nia Njema B': 3,\n",
       "         'Gonelamafuta': 6,\n",
       "         'Kitwe': 2,\n",
       "         'Ruvu Mferejini': 1,\n",
       "         'Ikuvilo': 1,\n",
       "         'Matema': 11,\n",
       "         'Kikatiti': 13,\n",
       "         'Makonde': 9,\n",
       "         'Kiwira': 16,\n",
       "         'Masemele': 2,\n",
       "         'Buhungukila village': 2,\n",
       "         'Lwazeze': 1,\n",
       "         'Gantamome': 2,\n",
       "         'Nyamilama': 1,\n",
       "         'Maburi': 2,\n",
       "         'Kamala': 3,\n",
       "         'Mukarehe': 3,\n",
       "         'Geita': 13,\n",
       "         'Kibosho': 2,\n",
       "         'Kasulo': 7,\n",
       "         'Mara': 92,\n",
       "         'Mpegele': 13,\n",
       "         'Chipuputa': 1,\n",
       "         'Nyololo': 3,\n",
       "         'Kigendeka': 13,\n",
       "         'Ikwiriri': 11,\n",
       "         'Makanga': 4,\n",
       "         'Imalinyi': 11,\n",
       "         'Ngingama': 4,\n",
       "         'Marawe Kyura': 2,\n",
       "         'Ukuni': 8,\n",
       "         'Bupigu': 2,\n",
       "         'Itobo': 8,\n",
       "         'Nyenjele': 1,\n",
       "         'Kisaki': 3,\n",
       "         'Manantu': 1,\n",
       "         'Mahango Madibila': 2,\n",
       "         'Mtanila': 4,\n",
       "         'Uhemeli': 5,\n",
       "         'BUSIRIME': 1,\n",
       "         'Mbalamaziwa': 5,\n",
       "         'Makurugusi': 1,\n",
       "         'Likonde': 3,\n",
       "         'Kwamare': 3,\n",
       "         'Isanga': 5,\n",
       "         'Vikuge': 8,\n",
       "         'Kyotera': 1,\n",
       "         'Mziha': 1,\n",
       "         'Ikonda': 12,\n",
       "         'Kwa Matumbi': 4,\n",
       "         'Wasa': 2,\n",
       "         'Matola': 6,\n",
       "         'Ibindi Kusini': 2,\n",
       "         'Nduguti': 4,\n",
       "         'Digodigo': 4,\n",
       "         'Ilininda': 6,\n",
       "         'Ruvuma': 38,\n",
       "         'Mawasiliano': 1,\n",
       "         'Matemanga': 11,\n",
       "         'Uhambule': 6,\n",
       "         'Kiwambo': 2,\n",
       "         'Mlingotini': 10,\n",
       "         'Sopa': 3,\n",
       "         'Mikolola': 1,\n",
       "         'Ukange': 16,\n",
       "         'Msimi': 4,\n",
       "         'Mkerezange': 2,\n",
       "         'Mirumba': 6,\n",
       "         'Mwabusalu': 2,\n",
       "         'Mayenzi': 1,\n",
       "         'Igima': 11,\n",
       "         'Majengo Ward': 2,\n",
       "         'Segera': 3,\n",
       "         'Mbwasa': 1,\n",
       "         'Kitanda': 7,\n",
       "         'Miumbu': 8,\n",
       "         'Ilesha': 3,\n",
       "         'Nyarutembo': 2,\n",
       "         'Matyuku': 1,\n",
       "         'Ruvu Darajani': 6,\n",
       "         'Nyamitwebili': 4,\n",
       "         'Kitivo': 2,\n",
       "         'Ijumbi': 2,\n",
       "         'Igomaa': 9,\n",
       "         'Ntendo': 4,\n",
       "         'Ulembwe': 5,\n",
       "         'Gongo': 2,\n",
       "         'Kasange': 3,\n",
       "         'Chitego': 2,\n",
       "         'Kitangili': 3,\n",
       "         'Kitelewa': 4,\n",
       "         'Makangara': 6,\n",
       "         'Makanjaula': 4,\n",
       "         'Usangule': 8,\n",
       "         'Iyogwe': 1,\n",
       "         'Mtamba': 10,\n",
       "         'Kindimba Juu': 2,\n",
       "         'Majengo Mapya': 1,\n",
       "         'Ndaleta': 2,\n",
       "         'Sakasaka': 4,\n",
       "         'Manyoni': 3,\n",
       "         'Rabuor': 1,\n",
       "         'Bubango': 14,\n",
       "         'Ikondo': 12,\n",
       "         'Mangio': 3,\n",
       "         'Chabu': 3,\n",
       "         'Iguguno': 3,\n",
       "         'Mautya': 2,\n",
       "         'Kasozibakaya': 2,\n",
       "         'Ikolo': 2,\n",
       "         'Mnenya': 4,\n",
       "         'Mbunga': 4,\n",
       "         'Muzye': 1,\n",
       "         'Omarini': 3,\n",
       "         'Michese': 4,\n",
       "         'Kasumulu': 12,\n",
       "         'Kiwalala': 7,\n",
       "         'Imalampaka': 2,\n",
       "         'Busagami': 1,\n",
       "         'Ngasinyi': 2,\n",
       "         'Kibiboni': 3,\n",
       "         'Mserekia': 1,\n",
       "         'Ilambambasa': 3,\n",
       "         'Mavanga': 6,\n",
       "         'Kikaro': 5,\n",
       "         'Igongolo': 6,\n",
       "         'Ngara Mjini': 4,\n",
       "         'Mtabili village': 12,\n",
       "         'Kweditilibe': 2,\n",
       "         'Mnane': 3,\n",
       "         'Sagamaganga': 4,\n",
       "         'Ndiyani': 2,\n",
       "         'Mpambaa': 3,\n",
       "         'Kisumba': 6,\n",
       "         'Terrat Ward': 2,\n",
       "         'Lukuyu': 1,\n",
       "         'Lukasi': 6,\n",
       "         'Basanza Village': 4,\n",
       "         'Twendembele': 6,\n",
       "         'Bugomba': 4,\n",
       "         'Kizinga': 3,\n",
       "         'Vugamwa': 2,\n",
       "         'Tindiga': 4,\n",
       "         'Mwamanenge': 3,\n",
       "         'Mzenga B': 9,\n",
       "         'Nyakibimbili': 2,\n",
       "         'Kikarara': 5,\n",
       "         'Majawanga': 4,\n",
       "         'Kashasha': 1,\n",
       "         \"Noondoto,  Eleng'ata Dapash\": 2,\n",
       "         'Lilombwi': 8,\n",
       "         'Namanga': 5,\n",
       "         'Mhero': 1,\n",
       "         'Ndumeti Ward': 2,\n",
       "         'Kaoze': 1,\n",
       "         'Ilonga': 2,\n",
       "         'Chitemo': 2,\n",
       "         'Mlimba B': 5,\n",
       "         'Naluwale': 3,\n",
       "         'Mwamashele': 2,\n",
       "         'Longido': 8,\n",
       "         'Ilela': 3,\n",
       "         'Mpapayu': 1,\n",
       "         'Kikayawa': 9,\n",
       "         'Bwato': 2,\n",
       "         'Itewe': 3,\n",
       "         'Mahenye': 4,\n",
       "         'Wela': 3,\n",
       "         'Malangali': 1,\n",
       "         'Igoji I': 1,\n",
       "         \"Kung'ombe\": 2,\n",
       "         'Uduka': 4,\n",
       "         'Chipapa': 2,\n",
       "         'Nkulabi': 3,\n",
       "         'Lwati': 3,\n",
       "         'Kinyinya': 2,\n",
       "         'Mazinde Ngua': 2,\n",
       "         'Muganza': 4,\n",
       "         'Zinga': 13,\n",
       "         'Mwika': 5,\n",
       "         'Ibindo': 2,\n",
       "         'Mwaburugu': 5,\n",
       "         'Mwabasebi': 1,\n",
       "         'Mpeta': 5,\n",
       "         'Kagunguli': 1,\n",
       "         'Oldean': 8,\n",
       "         'Mundindi': 1,\n",
       "         'Madihan': 6,\n",
       "         'Kisale': 6,\n",
       "         'Mogabiri': 3,\n",
       "         'Kilomeni': 2,\n",
       "         'Kanga': 5,\n",
       "         \"Ng'anzo\": 1,\n",
       "         'Kisemvule': 8,\n",
       "         'Dulisi village': 5,\n",
       "         'Chembeli': 1,\n",
       "         \"Boma Ng'ombe,  Hai Mjini\": 2,\n",
       "         'Mgudeni': 10,\n",
       "         'MAHENJE VILLAGE': 5,\n",
       "         'Nyakitonto': 3,\n",
       "         'Njenga': 6,\n",
       "         'Sanya Juu': 11,\n",
       "         'Ntumagu': 2,\n",
       "         'Mgagao': 3,\n",
       "         'Mawambala': 2,\n",
       "         'Tarakea': 2,\n",
       "         'Vihokoli': 3,\n",
       "         'Naipingo': 3,\n",
       "         'Njugilo Village': 2,\n",
       "         'Usari': 3,\n",
       "         'Vigolegole': 3,\n",
       "         'Kiteo': 1,\n",
       "         'Mkula': 6,\n",
       "         'Luvulun': 3,\n",
       "         'Mti Mmoja,  Sepeko': 1,\n",
       "         'Kyamulaile': 2,\n",
       "         'Kifunda': 2,\n",
       "         'Iponjola': 7,\n",
       "         'Bago': 1,\n",
       "         'Bulamula': 2,\n",
       "         'Kimanganuni': 1,\n",
       "         'Malya': 8,\n",
       "         'Msata': 11,\n",
       "         'Cheleweni': 2,\n",
       "         'Buhekera': 1,\n",
       "         'Iwa': 3,\n",
       "         'Tuvaila': 9,\n",
       "         'Mahande': 3,\n",
       "         'Iborogelo': 7,\n",
       "         'Shilago': 2,\n",
       "         \"Ng'Elamo\": 7,\n",
       "         'Mamsera Kati': 3,\n",
       "         'Mnyusi': 5,\n",
       "         'Mapili': 1,\n",
       "         'Busuhi': 1,\n",
       "         'Weru': 6,\n",
       "         'Kelamfua': 4,\n",
       "         'Welezo': 2,\n",
       "         'Maduma': 4,\n",
       "         'Muhukulu Bara': 2,\n",
       "         'Mbecha': 2,\n",
       "         'Nyamwaga': 1,\n",
       "         'RYAMUGABO': 2,\n",
       "         'Handali': 4,\n",
       "         'Buzegwe': 2,\n",
       "         'Itete': 19,\n",
       "         'Nhelela': 1,\n",
       "         'Nyaronga': 1,\n",
       "         'Gezaulole': 2,\n",
       "         'Nambilanje': 3,\n",
       "         'Gidama': 2,\n",
       "         'Hezya': 6,\n",
       "         'Usevia': 3,\n",
       "         'Buduhe': 2,\n",
       "         'Kalangakero': 23,\n",
       "         'Kitogoro': 2,\n",
       "         'Secheda': 1,\n",
       "         'Mogitu': 2,\n",
       "         'Kilugu': 6,\n",
       "         'Idodi': 8,\n",
       "         'Mumuhamba': 1,\n",
       "         'Mwakizega': 5,\n",
       "         'Ilango': 1,\n",
       "         'Mandewa': 2,\n",
       "         'Mega': 3,\n",
       "         'Baraki': 2,\n",
       "         'Chakwale': 3,\n",
       "         'Ngarambe': 9,\n",
       "         'Mbuganyekundu': 6,\n",
       "         'Sinyanga': 5,\n",
       "         'Kisawasawa': 6,\n",
       "         'Kitaramanka': 1,\n",
       "         'Msente': 1,\n",
       "         'Msolwa ujamaa': 8,\n",
       "         'Gwandumehi': 2,\n",
       "         'Isale': 6,\n",
       "         'Igurubi': 3,\n",
       "         'Kiranyi Ward': 9,\n",
       "         'Mayoka': 3,\n",
       "         'Syukula': 5,\n",
       "         'Urunda': 3,\n",
       "         'Ihangiro Village': 1,\n",
       "         'Mampando': 1,\n",
       "         'Chabutwa': 2,\n",
       "         'Bitaraguru': 2,\n",
       "         'Ngalole': 7,\n",
       "         'Bungu': 9,\n",
       "         'Matale': 9,\n",
       "         'Kimanzichana Magharibi': 1,\n",
       "         'Kikukwe': 2,\n",
       "         'Imalilo': 7,\n",
       "         'Kiromo': 6,\n",
       "         'Kagera Nkanda': 4,\n",
       "         'Songosongo': 4,\n",
       "         'Mhaga': 2,\n",
       "         'Mbekese': 8,\n",
       "         'Ivuga': 1,\n",
       "         'Mwaduu': 1,\n",
       "         'Mbuyuni': 11,\n",
       "         'Chiwindi': 2,\n",
       "         'Luduga': 5,\n",
       "         'Kigandu': 1,\n",
       "         'Lukenge': 2,\n",
       "         'Hayesam': 4,\n",
       "         'Kiwanja': 6,\n",
       "         'Wachawaseme': 2,\n",
       "         'Kwambe': 2,\n",
       "         'Nheli': 2,\n",
       "         'Omurusimbi': 2,\n",
       "         'Nyamililo': 2,\n",
       "         'Misasi': 3,\n",
       "         'Sinyaulime': 1,\n",
       "         'Namilembe': 2,\n",
       "         'Mafuriko': 7,\n",
       "         'Kivuma': 2,\n",
       "         'Mowo': 3,\n",
       "         'Ngulu': 12,\n",
       "         'Nyeregeti': 2,\n",
       "         \"Makang'Wa\": 2,\n",
       "         'Mwanhegele': 4,\n",
       "         'Nangurukuru': 4,\n",
       "         'Bujela': 3,\n",
       "         'Kongolo': 3,\n",
       "         'Kiegeani': 1,\n",
       "         'Samanga': 2,\n",
       "         'Mshewe': 3,\n",
       "         'Nkinga': 8,\n",
       "         'Mibikimitali': 1,\n",
       "         'Lugarawa': 8,\n",
       "         'Nyambale': 2,\n",
       "         'Ulemo': 6,\n",
       "         'Mutara': 6,\n",
       "         'Ulamboni': 4,\n",
       "         'Mawa': 6,\n",
       "         'Pingo': 5,\n",
       "         'Namanyere': 2,\n",
       "         'Ijaka': 3,\n",
       "         'Kateela': 1,\n",
       "         'Kwadilwa': 1,\n",
       "         'Mkongo': 12,\n",
       "         \"Ng'Ambokagango\": 1,\n",
       "         'Mbaga-Manka': 14,\n",
       "         'Mababu': 4,\n",
       "         'Bankolo': 2,\n",
       "         'Mwighanji': 2,\n",
       "         'Lyadebwe': 2,\n",
       "         'Kambi Ya Simba,  Mbulumbulu': 6,\n",
       "         'Bombo': 6,\n",
       "         'Kihorogota': 1,\n",
       "         'Kiswago': 1,\n",
       "         'Njirii': 2,\n",
       "         'Kitagata': 3,\n",
       "         'Igaga A': 1,\n",
       "         'Kitopeni': 3,\n",
       "         'Mvomero': 13,\n",
       "         'Beledi': 1,\n",
       "         'Kadoto': 3,\n",
       "         'Kamagambo': 3,\n",
       "         'Kibaoni': 12,\n",
       "         'Kabanga': 9,\n",
       "         'Mingumbi': 7,\n",
       "         'Ntunduu': 1,\n",
       "         'Mliza': 1,\n",
       "         'Kichangani': 11,\n",
       "         'Kibara B': 1,\n",
       "         'Kapamisya': 3,\n",
       "         'Iyombo': 1,\n",
       "         'Ngomai': 1,\n",
       "         'Kayenze': 1,\n",
       "         'Mtondo Wa Kimwaga': 1,\n",
       "         'Mangida': 1,\n",
       "         'Kikomero': 2,\n",
       "         'Lalambe': 4,\n",
       "         'Nshamba': 3,\n",
       "         'Rubale': 6,\n",
       "         'Kihinda': 4,\n",
       "         'M': 1,\n",
       "         'Itunzi': 2,\n",
       "         'Siginali': 2,\n",
       "         'Kibengu': 3,\n",
       "         'Sale': 1,\n",
       "         'Kijungu': 4,\n",
       "         'Malilita': 2,\n",
       "         'Bushoma': 4,\n",
       "         'Makuyuni': 2,\n",
       "         'Urundini': 3,\n",
       "         'Kihinga': 2,\n",
       "         'Bungulwa': 3,\n",
       "         'Komfungo': 3,\n",
       "         'Mbabala A': 3,\n",
       "         'Chanzuru': 15,\n",
       "         'Mwambaha': 1,\n",
       "         'Mbambi': 2,\n",
       "         'Kasimbu Ward': 2,\n",
       "         'Amka': 2,\n",
       "         'Itipingi': 3,\n",
       "         'Mazingara': 1,\n",
       "         'Gedamar': 2,\n",
       "         'Shighatini': 3,\n",
       "         'Mwakaut': 2,\n",
       "         'Korintho': 16,\n",
       "         'Magoma': 10,\n",
       "         'Iyuli': 2,\n",
       "         'Mwalata': 1,\n",
       "         'Peramiho': 11,\n",
       "         'Nkuusinde': 1,\n",
       "         'Kashishi': 2,\n",
       "         'Kitwai B': 1,\n",
       "         'Nyakanazi': 8,\n",
       "         'Ntobo': 3,\n",
       "         'Gulwe': 1,\n",
       "         'Mwambaga': 3,\n",
       "         'Lusilile': 2,\n",
       "         'Iwela': 1,\n",
       "         'Nyaruyoba': 5,\n",
       "         'Mpengere': 1,\n",
       "         'Mpalalu': 3,\n",
       "         'Lupiro': 6,\n",
       "         'Samunge': 5,\n",
       "         'Msamaka': 1,\n",
       "         'Nkelei': 6,\n",
       "         'Mungumaji': 2,\n",
       "         'Muvwa': 1,\n",
       "         'Seseko': 2,\n",
       "         'Runzenze': 7,\n",
       "         'Isangala': 2,\n",
       "         'Busambara': 1,\n",
       "         'Kung`Ombe': 1,\n",
       "         'Ikovo': 4,\n",
       "         'Madaba': 12,\n",
       "         'Nyagasense': 9,\n",
       "         'Iharara': 2,\n",
       "         'Nyehunge': 3,\n",
       "         'Kituli': 5,\n",
       "         'Amani': 5,\n",
       "         'Mkolango': 6,\n",
       "         'Busawe': 3,\n",
       "         'Chekimaji': 1,\n",
       "         'Wanginyi': 2,\n",
       "         'Olorieni Ward': 10,\n",
       "         'Mponga': 1,\n",
       "         'Ihela': 5,\n",
       "         'Kubiterere': 1,\n",
       "         'Kigwama': 3,\n",
       "         'Rabilo': 3,\n",
       "         'Kidahwe': 9,\n",
       "         'Wino': 19,\n",
       "         'Nyanyemb': 5,\n",
       "         'Maneromango': 3,\n",
       "         'Chapulwa': 10,\n",
       "         'Lusitu': 5,\n",
       "         'Iniho': 6,\n",
       "         'Magali': 3,\n",
       "         'Nyamatoke': 5,\n",
       "         'Handeni': 3,\n",
       "         'Kala': 1,\n",
       "         'Endasak': 7,\n",
       "         'Msambara Village': 8,\n",
       "         'Kambi ya chokaa': 4,\n",
       "         'Mwabayanda': 1,\n",
       "         'Itira': 2,\n",
       "         'Nyabuzume': 2,\n",
       "         'Lupembe': 2,\n",
       "         'Kitefu,  Maji ya Chai': 3,\n",
       "         'Lukwego': 1,\n",
       "         'Itundwi': 1,\n",
       "         'Kisanga': 2,\n",
       "         'Mumiramira': 1,\n",
       "         'Samaria,  Maroroni': 4,\n",
       "         'Endasiwold': 2,\n",
       "         'Mamoyo': 4,\n",
       "         'Katumba Azimio': 4,\n",
       "         'Ifunda': 4,\n",
       "         'Iduo': 5,\n",
       "         'Mengwe Juu': 3,\n",
       "         'Moranga': 2,\n",
       "         'Mtila': 3,\n",
       "         'Mafyeko': 1,\n",
       "         'Katurukila': 3,\n",
       "         'Mabira': 5,\n",
       "         'Jomu': 2,\n",
       "         'Mlevela': 15,\n",
       "         'Mwagala': 4,\n",
       "         'Kanango': 1,\n",
       "         'Nghahelezi': 1,\n",
       "         'Mugumu': 7,\n",
       "         'Kalunde': 1,\n",
       "         'Lusanga': 16,\n",
       "         'Mwau': 1,\n",
       "         'MBOGA': 5,\n",
       "         'Mpanda': 14,\n",
       "         'Mkupete': 2,\n",
       "         'Mbalawala': 5,\n",
       "         'Mkola': 1,\n",
       "         'Smbarai': 6,\n",
       "         'Mpunga': 4,\n",
       "         'Ibingo': 2,\n",
       "         'Nditu': 3,\n",
       "         'Mtera': 4,\n",
       "         'Mpwahia': 1,\n",
       "         'Mwamanongu': 4,\n",
       "         'Sambwa': 1,\n",
       "         'Milamba': 7,\n",
       "         'Komuge': 2,\n",
       "         'Sese': 5,\n",
       "         'Kibogoizi': 2,\n",
       "         'Majeleko': 2,\n",
       "         'Mkundi': 5,\n",
       "         'Nkoma': 3,\n",
       "         'Buhama': 1,\n",
       "         'Ipanda': 1,\n",
       "         'Kagondo Kalugulu': 2,\n",
       "         'Mukabuya': 1,\n",
       "         'Naisinyai': 4,\n",
       "         'Katelele': 4,\n",
       "         'Sasajila': 1,\n",
       "         'Kintinku': 5,\n",
       "         'Itaka': 2,\n",
       "         'Mlali Village': 6,\n",
       "         'Msekwa': 2,\n",
       "         'Ukimo': 1,\n",
       "         'Igurusi': 10,\n",
       "         'Ndembo': 3,\n",
       "         'Mpandagani': 1,\n",
       "         'Ngumbaru': 5,\n",
       "         'Marangu': 13,\n",
       "         'Ilolanguru': 8,\n",
       "         'Batini': 5,\n",
       "         'Kiganza': 4,\n",
       "         'Merera': 2,\n",
       "         'Kivitu': 1,\n",
       "         'Sango': 7,\n",
       "         'Makanya': 7,\n",
       "         'Karumo': 3,\n",
       "         'Kwanyama': 1,\n",
       "         'Tubugwe': 4,\n",
       "         'Kandete': 7,\n",
       "         'Ilemela': 1,\n",
       "         'Mwisi': 1,\n",
       "         'Matyazo': 7,\n",
       "         'Kasangezi': 5,\n",
       "         'Sagila': 1,\n",
       "         'Kasote': 2,\n",
       "         'Bukongo': 3,\n",
       "         'Unyaghumpi': 6,\n",
       "         'Kate': 5,\n",
       "         'Manda Chini': 3,\n",
       "         'Lulanzi': 4,\n",
       "         'Magungu': 3,\n",
       "         'Mombo': 4,\n",
       "         'Isange': 4,\n",
       "         'Mvae': 1,\n",
       "         'Kalangwale': 1,\n",
       "         'Kitaya': 3,\n",
       "         'Bukamila': 2,\n",
       "         'Mkwaya': 3,\n",
       "         'Mdaula': 2,\n",
       "         'Igoma': 12,\n",
       "         'Dawar': 2,\n",
       "         'Mbula': 4,\n",
       "         'Unyambwa': 2,\n",
       "         'Nyabisindu': 2,\n",
       "         'Mwanadilatu': 2,\n",
       "         'Nyamburi': 3,\n",
       "         'Iwemba': 18,\n",
       "         'Chipogoro': 4,\n",
       "         'Mlanda': 2,\n",
       "         'Kinenulo': 8,\n",
       "         'Nachunyu': 1,\n",
       "         'Makongondera': 1,\n",
       "         'Mwalogwabagole': 2,\n",
       "         'Mtapenda': 3,\n",
       "         'Mtinko': 6,\n",
       "         'Kisongo': 3,\n",
       "         'Mbinga Mhalul': 5,\n",
       "         'Mchesi': 2,\n",
       "         'Malomboi': 3,\n",
       "         'Utunge': 2,\n",
       "         'Sunuka': 5,\n",
       "         ...})"
      ]
     },
     "execution_count": 343,
     "metadata": {},
     "output_type": "execute_result"
    }
   ],
   "source": [
    "Counter(place1)"
   ]
  },
  {
   "cell_type": "code",
   "execution_count": 342,
   "metadata": {},
   "outputs": [
    {
     "data": {
      "text/plain": [
       "Counter({' state': 1856,\n",
       "         ' village': 11339,\n",
       "         ' twon': 851,\n",
       "         ' neighbourhood': 134,\n",
       "         ' region': 211,\n",
       "         'unkown': 458,\n",
       "         ' park': 1})"
      ]
     },
     "execution_count": 342,
     "metadata": {},
     "output_type": "execute_result"
    }
   ],
   "source": [
    "Counter(place2)"
   ]
  },
  {
   "cell_type": "code",
   "execution_count": 341,
   "metadata": {},
   "outputs": [
    {
     "data": {
      "text/plain": [
       "Counter({' Northern Zone': 2892,\n",
       "         ' Central Zone': 1533,\n",
       "         ' Coastal Zone': 2726,\n",
       "         ' Southern Highlands Zone': 3352,\n",
       "         ' Lake Zone': 2984,\n",
       "         ' Western Zone': 890,\n",
       "         'unkown': 458,\n",
       "         ' ': 15})"
      ]
     },
     "execution_count": 341,
     "metadata": {},
     "output_type": "execute_result"
    }
   ],
   "source": [
    "Counter(place3)"
   ]
  },
  {
   "cell_type": "code",
   "execution_count": 340,
   "metadata": {
    "tags": []
   },
   "outputs": [
    {
     "data": {
      "text/plain": [
       "Counter({' Southern Highlands Zone': 63,\n",
       "         ' Central Zone': 20,\n",
       "         ' Coastal Zone': 23,\n",
       "         ' Western Zone': 20})"
      ]
     },
     "execution_count": 340,
     "metadata": {},
     "output_type": "execute_result"
    }
   ],
   "source": [
    "coast = []\n",
    "for i in high_index:coast.append(place3[i])\n",
    "Counter(coast)"
   ]
  },
  {
   "cell_type": "code",
   "execution_count": 353,
   "metadata": {
    "tags": []
   },
   "outputs": [],
   "source": [
    "bad = []\n",
    "for i,x in enumerate(final_class):\n",
    "    if x == 'Non-Functional':bad.append(i)"
   ]
  },
  {
   "cell_type": "code",
   "execution_count": null,
   "metadata": {},
   "outputs": [],
   "source": []
  }
 ],
 "metadata": {
  "kernelspec": {
   "display_name": "Python 3 (ipykernel)",
   "language": "python",
   "name": "python3"
  },
  "language_info": {
   "codemirror_mode": {
    "name": "ipython",
    "version": 3
   },
   "file_extension": ".py",
   "mimetype": "text/x-python",
   "name": "python",
   "nbconvert_exporter": "python",
   "pygments_lexer": "ipython3",
   "version": "3.9.7"
  }
 },
 "nbformat": 4,
 "nbformat_minor": 4
}
